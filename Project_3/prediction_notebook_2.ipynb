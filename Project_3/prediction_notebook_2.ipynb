{
 "nbformat": 4,
 "nbformat_minor": 0,
 "metadata": {
  "colab": {
   "provenance": []
  },
  "kernelspec": {
   "name": "",
   "display_name": ""
  },
  "language_info": {
   "name": "python"
  }
 },
 "cells": [
  {
   "cell_type": "markdown",
   "source": [
    "# Second prediction notebook"
   ],
   "metadata": {
    "id": "aaDuZmOTd96U"
   }
  },
  {
   "cell_type": "code",
   "execution_count": null,
   "metadata": {
    "id": "FYbd_hkP6fyZ"
   },
   "outputs": [],
   "source": []
  }
 ]
}
