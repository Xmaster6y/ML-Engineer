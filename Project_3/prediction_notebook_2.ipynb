{
 "cells": [
  {
   "cell_type": "markdown",
   "metadata": {
    "id": "alzuis7Fdzti"
   },
   "source": [
    "# Second prediction notebook\n",
    "\n",
    "Prediction of the CO2 emissions.\n",
    "\n",
    "* [Imports](#imports)\n",
    "* [Data loading](#data-loading)\n",
    "* [Feature seletion](#feature-seletion)\n",
    "    * [Selection](#selection-pipeline)\n",
    "* [Prediction](#prediction)\n",
    "    * [Linear prediction](#linear-prediction)\n",
    "    * [SVR prediction](#svr-prediction)\n",
    "    * [Ensemble prediction](#ensemble-prediction)\n",
    "* [Evaluation](#evaluation)\n",
    "    * [Evaluation](#evaluation)\n",
    "    * [Feature importance](#feature-importance)"
   ]
  },
  {
   "cell_type": "markdown",
   "metadata": {
    "id": "vM-0mqSdfWjK"
   },
   "source": [
    "<a name=\"imports\"></a>\n",
    "## Imports"
   ]
  },
  {
   "cell_type": "code",
   "execution_count": null,
   "metadata": {
    "id": "ruVCLL9TdySa"
   },
   "outputs": [],
   "source": [
    "import os\n",
    "import pandas as pd\n",
    "import numpy as np\n",
    "import matplotlib.pyplot as plt\n",
    "\n",
    "from sklearn.pipeline import Pipeline\n",
    "from sklearn.compose import ColumnTransformer, TransformedTargetRegressor\n",
    "from sklearn.model_selection import train_test_split\n",
    "from sklearn.model_selection import GridSearchCV\n",
    "\n",
    "from sklearn.feature_selection import VarianceThreshold\n",
    "from sklearn.feature_selection import SelectPercentile, chi2\n",
    "from sklearn.preprocessing import StandardScaler, OneHotEncoder, RobustScaler, MinMaxScaler\n",
    "from sklearn.impute import KNNImputer\n",
    "\n",
    "from sklearn.dummy import DummyRegressor\n",
    "\n",
    "from sklearn.decomposition import PCA\n",
    "from sklearn.linear_model import Ridge, ElasticNet, LinearRegression\n",
    "from sklearn.svm import SVR\n",
    "from sklearn.ensemble import RandomForestRegressor\n",
    "from xgboost import XGBRegressor\n",
    "\n",
    "from sklearn.metrics import r2_score, d2_absolute_error_score\n",
    "from sklearn.metrics import explained_variance_score\n",
    "from sklearn.metrics import mean_squared_error, mean_absolute_error"
   ]
  },
  {
   "cell_type": "markdown",
   "metadata": {
    "id": "vzF2vEugfg5w"
   },
   "source": [
    "<a name=\"data-loading\"></a>\n",
    "## Data loading"
   ]
  },
  {
   "cell_type": "code",
   "execution_count": null,
   "metadata": {
    "colab": {
     "base_uri": "https://localhost:8080/"
    },
    "id": "LdxrDq03fgA8",
    "outputId": "8ee18aed-4206-4494-b007-a6bb1dbf59ff"
   },
   "outputs": [],
   "source": [
    "cleaned_dataset_v1_path = 'data_cleaned_v1.csv'\n",
    "if not os.path.exists(cleaned_dataset_v1_path):\n",
    "    !wget \"https://drive.google.com/uc?export=download&id=1EYQuRaqc4yo0QYl35DRoIC6-IDwaX7Wq\" -q --show-progress -O \"$cleaned_dataset_v1_path\"\n",
    "!head -2 $cleaned_dataset_v1_path"
   ]
  },
  {
   "cell_type": "code",
   "execution_count": null,
   "metadata": {
    "colab": {
     "base_uri": "https://localhost:8080/"
    },
    "id": "Z_ew5GQC6v3y",
    "outputId": "a529d8cb-2baf-4655-c5e0-1c002702dc9a"
   },
   "outputs": [],
   "source": [
    "cleaned_dataset_v2_path = 'data_cleaned_v2.csv'\n",
    "if not os.path.exists(cleaned_dataset_v2_path):\n",
    "    !wget \"https://drive.google.com/uc?export=download&id=14_YIQ_v0D8PGwSkzb8KtbQIcAvlUeCLo\" -q --show-progress -O \"$cleaned_dataset_v2_path\"\n",
    "!head -2 $cleaned_dataset_v2_path"
   ]
  },
  {
   "cell_type": "code",
   "execution_count": null,
   "metadata": {
    "colab": {
     "base_uri": "https://localhost:8080/"
    },
    "id": "BfxXmBJpqdvc",
    "outputId": "4bd1a323-f2e9-45a6-da63-25e2a9d78f2d"
   },
   "outputs": [],
   "source": [
    "df_v2 = pd.read_csv(cleaned_dataset_v2_path)\n",
    "df_v2.info()"
   ]
  },
  {
   "cell_type": "code",
   "execution_count": null,
   "metadata": {
    "colab": {
     "base_uri": "https://localhost:8080/"
    },
    "id": "wqbLrPtczsZr",
    "outputId": "8e17b39e-4329-45ae-859e-02c0ae3dd4d9"
   },
   "outputs": [],
   "source": [
    "df_v2.isna().sum()"
   ]
  },
  {
   "cell_type": "markdown",
   "metadata": {
    "id": "v7dOYI6KDKRL"
   },
   "source": [
    "<a name=\"feature-selection\"></a>\n",
    "## Feature selection"
   ]
  },
  {
   "cell_type": "markdown",
   "metadata": {
    "id": "2h8zBHJSDRSP"
   },
   "source": [
    "<a name=\"selection-pipeline\"></a>\n",
    "### Selection"
   ]
  },
  {
   "cell_type": "code",
   "execution_count": null,
   "metadata": {
    "id": "YqrTl68YDNjp"
   },
   "outputs": [],
   "source": [
    "cat_cols = [\n",
    "    \"BuildingType\",\n",
    "    \"PrimaryPropertyType\",\n",
    "    \"NumberofBuildings\",\n",
    "    \"NumberofFloors\",\n",
    "    \"is_ENERGYSTARScore\",\n",
    "    \"is_SteamUse\",\n",
    "    \"is_NaturalGas\",\n",
    "    \"is_PropertyGFAParking\",\n",
    "    ]\n",
    "num_cols = [\n",
    "    \"Latitude\",\n",
    "    \"Longitude\",\n",
    "    \"YearBuilt\",\n",
    "    \"PropertyGFABuilding(s)\",\n",
    "    \"LargestPropertyUseTypeGFA\",\n",
    "    \"ENERGYSTARScore\",\n",
    "    \"ratio_SteamUse\",\n",
    "    \"ratio_NaturalGas\",\n",
    "    ]\n",
    "pred_cols = [\n",
    "    \"SiteEnergyUseWN(kBtu)\",\n",
    "    \"TotalGHGEmissions\"\n",
    "    ]\n",
    "cols = cat_cols + num_cols + pred_cols\n",
    "df_pred_v2 = df_v2[cols]"
   ]
  },
  {
   "cell_type": "code",
   "execution_count": null,
   "metadata": {
    "id": "fqiPRbRGcMKF"
   },
   "outputs": [],
   "source": [
    "X = df_pred_v2[cols[:-2]]\n",
    "Y_E = df_pred_v2[cols[-2]]\n",
    "Y_CO2 = df_pred_v2[cols[-1]]"
   ]
  },
  {
   "cell_type": "code",
   "execution_count": null,
   "metadata": {
    "colab": {
     "base_uri": "https://localhost:8080/"
    },
    "id": "r0al8RfndF9E",
    "outputId": "b10ed71c-ee44-4126-f483-5dc3a476f2c3"
   },
   "outputs": [],
   "source": [
    "X_train, X_test, Y_E_train, Y_E_test, Y_CO2_train, Y_CO2_test = train_test_split(X, Y_E, Y_CO2, test_size=0.3, random_state=6)\n",
    "print(f\"[INFO] X_test shape: {X_test.shape}\")\n",
    "print(f\"[INFO] X_train shape: {X_train.shape}\")"
   ]
  },
  {
   "cell_type": "code",
   "execution_count": null,
   "metadata": {
    "id": "Gtn-cNpdwjCX"
   },
   "outputs": [],
   "source": [
    "num_tr = Pipeline([\n",
    "    (\"imputer\", KNNImputer()),\n",
    "    (\"scaler\", StandardScaler())\n",
    "    ])\n",
    "cat_tr = Pipeline([\n",
    "    (\"encoder\", OneHotEncoder(handle_unknown=\"ignore\", sparse_output=False)),\n",
    "    ('pca', PCA()),\n",
    "    ])\n",
    "prep_v2 = ColumnTransformer([\n",
    "    (\"num\", num_tr, num_cols),\n",
    "    (\"cat\", cat_tr, cat_cols),\n",
    "    ])"
   ]
  },
  {
   "cell_type": "code",
   "execution_count": null,
   "metadata": {
    "colab": {
     "base_uri": "https://localhost:8080/"
    },
    "id": "kN_YTf0pJJ6Q",
    "outputId": "1ae9da85-7113-4c41-9b67-7cfdace9731c"
   },
   "outputs": [],
   "source": [
    "Y_CO2_train.describe()"
   ]
  },
  {
   "cell_type": "code",
   "execution_count": null,
   "metadata": {
    "colab": {
     "base_uri": "https://localhost:8080/"
    },
    "id": "UVhHyCpiJcpu",
    "outputId": "af343e2f-7940-401c-e088-c2860529efd4"
   },
   "outputs": [],
   "source": [
    "Y_CO2_test.describe()"
   ]
  },
  {
   "cell_type": "markdown",
   "metadata": {
    "id": "OLKZlIQ05GSL"
   },
   "source": [
    "## Baseline"
   ]
  },
  {
   "cell_type": "markdown",
   "metadata": {
    "id": "9HxlT90e5PVV"
   },
   "source": [
    "### Dummy regressor"
   ]
  },
  {
   "cell_type": "code",
   "execution_count": null,
   "metadata": {
    "colab": {
     "base_uri": "https://localhost:8080/"
    },
    "id": "PhP6Ss7N8Klg",
    "outputId": "e19961bf-d377-490e-d703-33b67264c48a"
   },
   "outputs": [],
   "source": [
    "dummy_E = DummyRegressor(strategy=\"mean\", quantile=0.7)\n",
    "dummy_E.fit(X_train, Y_CO2_train)\n",
    "print(f\"Train score:{dummy_E.score(X_train, Y_CO2_train)}\")\n",
    "print(f\"Test score:{dummy_E.score(X_test, Y_CO2_test)}\")"
   ]
  },
  {
   "cell_type": "code",
   "execution_count": null,
   "metadata": {
    "colab": {
     "base_uri": "https://localhost:8080/"
    },
    "id": "_pKN5S3TAHTN",
    "outputId": "b671f62e-2f41-4374-d357-2f08b84d86f9"
   },
   "outputs": [],
   "source": [
    "param_grid = {\n",
    "    \"quantile\": np.linspace(0, 1, 10),\n",
    "}\n",
    "s_dummy_E = GridSearchCV(dummy_E, param_grid, n_jobs=-1, return_train_score=True)\n",
    "s_dummy_E.fit(X_train, Y_CO2_train)\n",
    "print(\"Best parameter (CV score=%0.3f):\" % s_dummy_E.best_score_)\n",
    "print(s_dummy_E.best_params_)\n",
    "res = pd.DataFrame(s_dummy_E.cv_results_)\n",
    "print(res[[\"mean_train_score\",\"std_train_score\"]])\n",
    "print(f\"Test score:{s_dummy_E.best_estimator_.score(X_test, Y_CO2_test)}\")"
   ]
  },
  {
   "cell_type": "markdown",
   "metadata": {
    "id": "0h_obTo55SI-"
   },
   "source": [
    "### Small linear regression"
   ]
  },
  {
   "cell_type": "code",
   "execution_count": null,
   "metadata": {
    "colab": {
     "base_uri": "https://localhost:8080/"
    },
    "id": "W3I53HME8LGV",
    "outputId": "9ef79b4c-ed7a-413a-a839-cb024c39dcf9"
   },
   "outputs": [],
   "source": [
    "X_train.columns\n",
    "small_cols = [\n",
    "              'PropertyGFABuilding(s)'\n",
    "              ]\n",
    "small_lr_E = LinearRegression()\n",
    "small_lr_E.fit(X_train[small_cols], Y_CO2_train)\n",
    "print(f\"Train score:{small_lr_E.score(X_train[small_cols], Y_CO2_train)}\")\n",
    "print(f\"Test score:{small_lr_E.score(X_test[small_cols], Y_CO2_test)}\")"
   ]
  },
  {
   "cell_type": "code",
   "execution_count": null,
   "metadata": {
    "colab": {
     "base_uri": "https://localhost:8080/"
    },
    "id": "cUId5JzhBp9n",
    "outputId": "59b90810-e435-4011-c351-8b5d4ffe95ae"
   },
   "outputs": [],
   "source": [
    "X_train.columns\n",
    "small_cols = ['YearBuilt',\n",
    "              'PropertyGFABuilding(s)'\n",
    "              ]\n",
    "small_lr_E = LinearRegression()\n",
    "small_lr_E.fit(X_train[small_cols], Y_CO2_train)\n",
    "print(f\"Train score:{small_lr_E.score(X_train[small_cols], Y_CO2_train)}\")\n",
    "print(f\"Test score:{small_lr_E.score(X_test[small_cols], Y_CO2_test)}\")"
   ]
  },
  {
   "cell_type": "markdown",
   "metadata": {
    "id": "aCTjTxV6G12w"
   },
   "source": [
    "<a name=\"prediction\"></a>\n",
    "## Prediction"
   ]
  },
  {
   "cell_type": "markdown",
   "metadata": {
    "id": "Qv-PWVC-HAcC"
   },
   "source": [
    "<a name=\"linear-prediction\"></a>\n",
    "### Linear prediction"
   ]
  },
  {
   "cell_type": "code",
   "execution_count": null,
   "metadata": {
    "colab": {
     "base_uri": "https://localhost:8080/",
     "height": 262
    },
    "id": "NkjoNzzvhT_n",
    "outputId": "614f380e-59c6-4065-db32-bfaf85138f40"
   },
   "outputs": [],
   "source": [
    "lin_pipe_v2 = Pipeline([\n",
    "    ('prep', prep_v2),\n",
    "    ('scaler', StandardScaler()),\n",
    "    ('lr_en', ElasticNet()),\n",
    "    ])\n",
    "lin_pipe_v2"
   ]
  },
  {
   "cell_type": "code",
   "execution_count": null,
   "metadata": {
    "colab": {
     "base_uri": "https://localhost:8080/"
    },
    "id": "CNol2aruilX9",
    "outputId": "9d8fb50e-a928-4589-ffd2-e7e94fc49371"
   },
   "outputs": [],
   "source": [
    "param_grid = {\n",
    "    \"prep__cat__pca__n_components\": [5, 17, 35, 50, 60, None],\n",
    "    \"prep__num__scaler\": [StandardScaler(), RobustScaler(), MinMaxScaler()],\n",
    "    \"lr_en__alpha\": np.logspace(-4, 4, 5),\n",
    "    \"lr_en__l1_ratio\": np.logspace(-4, 0, 5),\n",
    "}\n",
    "s_lin_E = GridSearchCV(lin_pipe_v2, param_grid, n_jobs=-1, return_train_score=True)\n",
    "s_lin_E.fit(X_train, Y_CO2_train)\n",
    "print(\"Best parameter (CV score=%0.3f):\" % s_lin_E.best_score_)\n",
    "print(s_lin_E.best_params_)\n",
    "res = pd.DataFrame(s_lin_E.cv_results_)\n",
    "print(res[[\"mean_train_score\",\"std_train_score\",\"mean_test_score\",\"std_test_score\"]])\n",
    "print(f\"Test score:{s_lin_E.best_estimator_.score(X_test, Y_CO2_test)}\")"
   ]
  },
  {
   "cell_type": "code",
   "execution_count": null,
   "metadata": {
    "colab": {
     "base_uri": "https://localhost:8080/",
     "height": 666
    },
    "id": "UiyfC-AXoMbr",
    "outputId": "ad138b88-5d95-479e-b66d-e52c49fac023"
   },
   "outputs": [],
   "source": [
    "encoder = OneHotEncoder(handle_unknown=\"ignore\", sparse_output=False)\n",
    "pca = PCA(n_components=50)\n",
    "pca.fit(encoder.fit_transform(X_train[cat_cols]))\n",
    "\n",
    "fig, (ax0, ax1) = plt.subplots(nrows=2, sharex=True, figsize=(6, 6))\n",
    "ax0.plot(\n",
    "    np.arange(1, pca.n_components_ + 1), pca.explained_variance_ratio_, \"+\", linewidth=2\n",
    ")\n",
    "ax0.set_ylabel(\"PCA explained variance ratio\")\n",
    "\n",
    "ax0.axvline(\n",
    "    50,\n",
    "    linestyle=\":\",\n",
    "    label=\"n_components chosen\",\n",
    ")\n",
    "ax0.legend(prop=dict(size=12))\n",
    "\n",
    "# For each number of components, find the best classifier results\n",
    "results = pd.DataFrame(s_lin_E.cv_results_)\n",
    "components_col = \"param_prep__cat__pca__n_components\"\n",
    "best_clfs = results.groupby(components_col).apply(\n",
    "    lambda g: g.nlargest(1, \"mean_test_score\")\n",
    ")\n",
    "\n",
    "best_clfs.plot(\n",
    "    x=components_col, y=\"mean_test_score\", yerr=\"std_test_score\", legend=False, ax=ax1\n",
    ")\n",
    "ax1.set_ylabel(\"Accuracy (val)\")\n",
    "ax1.set_xlabel(\"n_components\")\n",
    "\n",
    "plt.xlim(-1, 70)\n",
    "\n",
    "plt.tight_layout()\n",
    "plt.show()"
   ]
  },
  {
   "cell_type": "code",
   "execution_count": null,
   "metadata": {
    "id": "fPXZhREK70Ec"
   },
   "outputs": [],
   "source": [
    "num_tr = Pipeline([\n",
    "    (\"imputer\", KNNImputer()),\n",
    "    (\"scaler\", StandardScaler())\n",
    "    ])\n",
    "cat_tr = Pipeline([\n",
    "    (\"encoder\", OneHotEncoder(handle_unknown=\"ignore\", sparse_output=False)),\n",
    "    ('pca', PCA(n_components=50)),\n",
    "    ])\n",
    "prep_v2 = ColumnTransformer([\n",
    "    (\"num\", num_tr, num_cols),\n",
    "    (\"cat\", cat_tr, cat_cols),\n",
    "    ])"
   ]
  },
  {
   "cell_type": "code",
   "execution_count": null,
   "metadata": {
    "colab": {
     "base_uri": "https://localhost:8080/",
     "height": 328
    },
    "id": "vKRwB5In7ZY8",
    "outputId": "dce67124-03bd-48ed-acd5-a7896fcd3d41"
   },
   "outputs": [],
   "source": [
    "lr_tr = TransformedTargetRegressor(regressor=ElasticNet(),\n",
    "                                func=np.log, \n",
    "                                inverse_func=np.exp)\n",
    "\n",
    "lin_tr_pipe_v2 = Pipeline([\n",
    "    ('prep', prep_v2),\n",
    "    ('scaler', StandardScaler()),\n",
    "    ('lr_en', lr_tr),\n",
    "    ])\n",
    "lin_tr_pipe_v2"
   ]
  },
  {
   "cell_type": "code",
   "execution_count": null,
   "metadata": {
    "colab": {
     "base_uri": "https://localhost:8080/"
    },
    "id": "_908-n6W7cus",
    "outputId": "498b2336-414b-4c4e-fcf5-dc84eb8b24cc"
   },
   "outputs": [],
   "source": [
    "param_grid = {\n",
    "    \"lr_en__regressor__alpha\": np.logspace(-6, 6, 6),\n",
    "    \"lr_en__regressor__l1_ratio\": np.logspace(-6, 0, 6),\n",
    "}\n",
    "s_lin_tr_E = GridSearchCV(lin_tr_pipe_v2, param_grid, n_jobs=-1, return_train_score=True)\n",
    "s_lin_tr_E.fit(X_train, Y_CO2_train)\n",
    "print(\"Best parameter (CV score=%0.3f):\" % s_lin_tr_E.best_score_)\n",
    "print(s_lin_tr_E.best_params_)\n",
    "res = pd.DataFrame(s_lin_tr_E.cv_results_)\n",
    "print(res[[\"mean_train_score\",\"std_train_score\",\"mean_test_score\",\"std_test_score\"]])\n",
    "print(f\"Test score:{s_lin_tr_E.best_estimator_.score(X_test, Y_CO2_test)}\")"
   ]
  },
  {
   "cell_type": "code",
   "execution_count": null,
   "metadata": {
    "colab": {
     "base_uri": "https://localhost:8080/",
     "height": 328
    },
    "id": "5PGQgNlHUFBb",
    "outputId": "7d7a5657-cee9-4ab2-b964-f74b8da54046"
   },
   "outputs": [],
   "source": [
    "lr = TransformedTargetRegressor(regressor=ElasticNet(),\n",
    "                                func=np.sqrt, \n",
    "                                inverse_func=np.square)\n",
    "\n",
    "lin_tr_pipe_v2 = Pipeline([\n",
    "    ('prep', prep_v2),\n",
    "    ('scaler', StandardScaler()),\n",
    "    ('lr_en', lr_tr),\n",
    "    ])\n",
    "lin_tr_pipe_v2"
   ]
  },
  {
   "cell_type": "code",
   "execution_count": null,
   "metadata": {
    "colab": {
     "base_uri": "https://localhost:8080/"
    },
    "id": "9tfr0RneTBBY",
    "outputId": "e913a840-94e4-4f8d-b4a7-b816205d8357"
   },
   "outputs": [],
   "source": [
    "param_grid = {\n",
    "    \"lr_en__regressor__alpha\": np.logspace(-6, 6, 6),\n",
    "    \"lr_en__regressor__l1_ratio\": np.logspace(-6, 0, 6),\n",
    "}\n",
    "s_lin_tr_E = GridSearchCV(lin_tr_pipe_v2, param_grid, n_jobs=-1, return_train_score=True)\n",
    "s_lin_tr_E.fit(X_train, Y_CO2_train)\n",
    "print(\"Best parameter (CV score=%0.3f):\" % s_lin_tr_E.best_score_)\n",
    "print(s_lin_tr_E.best_params_)\n",
    "res = pd.DataFrame(s_lin_tr_E.cv_results_)\n",
    "print(res[[\"mean_train_score\",\"std_train_score\",\"mean_test_score\",\"std_test_score\"]])\n",
    "print(f\"Test score:{s_lin_tr_E.best_estimator_.score(X_test, Y_CO2_test)}\")"
   ]
  },
  {
   "cell_type": "markdown",
   "metadata": {
    "id": "fJWy4sY9teWU"
   },
   "source": [
    "<a name=\"svr-prediction\"></a>\n",
    "### SVR prediction"
   ]
  },
  {
   "cell_type": "code",
   "execution_count": null,
   "metadata": {
    "colab": {
     "base_uri": "https://localhost:8080/",
     "height": 262
    },
    "id": "C2X0EhdRLHhB",
    "outputId": "2da141fe-c108-45b4-fe9d-0458abd5a488"
   },
   "outputs": [],
   "source": [
    "svr = regressor=SVR()\n",
    "\n",
    "svr_pipe_v2 = Pipeline([\n",
    "    ('prep', prep_v2),\n",
    "    ('scaler', MinMaxScaler()),\n",
    "    ('svr', svr),\n",
    "    ])\n",
    "svr_pipe_v2"
   ]
  },
  {
   "cell_type": "code",
   "execution_count": null,
   "metadata": {
    "colab": {
     "base_uri": "https://localhost:8080/"
    },
    "id": "UOHDEFBdLJcn",
    "outputId": "68575976-c77e-4232-948d-7e2dddab1190"
   },
   "outputs": [],
   "source": [
    "param_grid = {\n",
    "    \"svr__C\": np.logspace(-4, 4, 5),\n",
    "    \"svr__epsilon\": np.logspace(-4, 4, 5),\n",
    "}\n",
    "s_svr_E = GridSearchCV(svr_pipe_v2, param_grid, n_jobs=-1, return_train_score=True)\n",
    "s_svr_E.fit(X_train, Y_CO2_train)\n",
    "print(\"Best parameter (CV score=%0.3f):\" % s_svr_E.best_score_)\n",
    "print(s_svr_E.best_params_)\n",
    "res = pd.DataFrame(s_svr_E.cv_results_)\n",
    "print(res[[\"mean_train_score\",\"std_train_score\",\"mean_test_score\",\"std_test_score\"]])\n",
    "print(f\"Test score:{s_svr_E.best_estimator_.score(X_test, Y_CO2_test)}\")"
   ]
  },
  {
   "cell_type": "code",
   "execution_count": null,
   "metadata": {
    "colab": {
     "base_uri": "https://localhost:8080/",
     "height": 328
    },
    "id": "vM62LjN0zmYZ",
    "outputId": "0d3be640-5f78-422b-c560-70dbb646645e"
   },
   "outputs": [],
   "source": [
    "svr_tr = TransformedTargetRegressor(regressor=SVR(),\n",
    "                                func=np.sqrt, \n",
    "                                inverse_func=np.square)\n",
    "\n",
    "svr_tr_pipe_v2 = Pipeline([\n",
    "    ('prep', prep_v2),\n",
    "    ('scaler', MinMaxScaler()),\n",
    "    ('svr', svr_tr),\n",
    "    ])\n",
    "svr_tr_pipe_v2"
   ]
  },
  {
   "cell_type": "code",
   "execution_count": null,
   "metadata": {
    "colab": {
     "base_uri": "https://localhost:8080/"
    },
    "id": "GERPCP2nz0Hc",
    "outputId": "6a052a26-de41-4626-a5f8-0038eec9c0d3"
   },
   "outputs": [],
   "source": [
    "param_grid = {\n",
    "    \"svr__regressor__C\": np.logspace(-4, 4, 5),\n",
    "    \"svr__regressor__epsilon\": np.logspace(-4, 4, 5),\n",
    "}\n",
    "s_svr_tr_E = GridSearchCV(svr_tr_pipe_v2, param_grid, n_jobs=-1, return_train_score=True)\n",
    "s_svr_tr_E.fit(X_train, Y_CO2_train)\n",
    "print(\"Best parameter (CV score=%0.3f):\" % s_svr_tr_E.best_score_)\n",
    "print(s_svr_tr_E.best_params_)\n",
    "res = pd.DataFrame(s_svr_tr_E.cv_results_)\n",
    "print(res[[\"mean_train_score\",\"std_train_score\",\"mean_test_score\",\"std_test_score\"]])\n",
    "print(f\"Test score:{s_svr_tr_E.best_estimator_.score(X_test, Y_CO2_test)}\")"
   ]
  },
  {
   "cell_type": "markdown",
   "metadata": {
    "id": "N1wVVjFStQIQ"
   },
   "source": [
    "<a name=\"ensemble-prediction\"></a>\n",
    "### Ensemble prediction"
   ]
  },
  {
   "cell_type": "code",
   "execution_count": null,
   "metadata": {
    "colab": {
     "base_uri": "https://localhost:8080/",
     "height": 262
    },
    "id": "-BKLTXQFxzIH",
    "outputId": "fa27c0ee-4d81-4911-d81a-511832011dfa"
   },
   "outputs": [],
   "source": [
    "rf_pipe_v2 = Pipeline([\n",
    "    ('prep', prep_v2),\n",
    "    ('scaler', StandardScaler()),\n",
    "    ('rf', RandomForestRegressor()),\n",
    "    ])\n",
    "rf_pipe_v2"
   ]
  },
  {
   "cell_type": "code",
   "execution_count": null,
   "metadata": {
    "colab": {
     "base_uri": "https://localhost:8080/"
    },
    "id": "yzTKcNm9x01N",
    "outputId": "87209669-18d7-43be-aeab-df106de3431b"
   },
   "outputs": [],
   "source": [
    "param_grid = {\n",
    "    \"rf__n_estimators\": [70, 100],\n",
    "    \"rf__max_depth\": [3, 5, 7],\n",
    "    \"rf__min_samples_leaf\": [3, 7],\n",
    "}\n",
    "s_rf_E = GridSearchCV(rf_pipe_v2, param_grid, n_jobs=-1, cv=5, return_train_score=True)\n",
    "s_rf_E.fit(X_train, Y_CO2_train)\n",
    "print(\"Best parameter (CV score=%0.3f):\" % s_rf_E.best_score_)\n",
    "print(s_rf_E.best_params_)\n",
    "res = pd.DataFrame(s_rf_E.cv_results_)\n",
    "print(res[[\"mean_train_score\",\"std_train_score\",\"mean_test_score\",\"std_test_score\"]])\n",
    "print(f\"Test score:{s_rf_E.best_estimator_.score(X_test, Y_CO2_test)}\")"
   ]
  },
  {
   "cell_type": "code",
   "execution_count": null,
   "metadata": {
    "colab": {
     "base_uri": "https://localhost:8080/",
     "height": 328
    },
    "id": "GoAfWBaRtXnp",
    "outputId": "0d14a827-1619-4293-be65-0ac1d251b9b0"
   },
   "outputs": [],
   "source": [
    "rf_tr = TransformedTargetRegressor(regressor=RandomForestRegressor(),\n",
    "                                func=np.sqrt, \n",
    "                                inverse_func=np.square)\n",
    "\n",
    "rf_tr_pipe_v2 = Pipeline([\n",
    "    ('prep', prep_v2),\n",
    "    ('scaler', StandardScaler()),\n",
    "    ('rf', rf_tr),\n",
    "    ])\n",
    "rf_tr_pipe_v2"
   ]
  },
  {
   "cell_type": "code",
   "execution_count": null,
   "metadata": {
    "colab": {
     "base_uri": "https://localhost:8080/"
    },
    "id": "GLLQN7jp0xED",
    "outputId": "9f439995-f96f-468c-a8ad-192fbfb20449"
   },
   "outputs": [],
   "source": [
    "param_grid = {\n",
    "    \"rf__regressor__n_estimators\": [70, 100, 150],\n",
    "    \"rf__regressor__max_depth\": [3, 5, 7],\n",
    "    \"rf__regressor__min_samples_leaf\": [2, 3],\n",
    "}\n",
    "s_rf_tr_E = GridSearchCV(rf_tr_pipe_v2, param_grid, n_jobs=-1, return_train_score=True)\n",
    "s_rf_tr_E.fit(X_train, Y_CO2_train)\n",
    "print(\"Best parameter (CV score=%0.3f):\" % s_rf_tr_E.best_score_)\n",
    "print(s_rf_tr_E.best_params_)\n",
    "res = pd.DataFrame(s_rf_tr_E.cv_results_)\n",
    "print(res[[\"mean_train_score\",\"std_train_score\",\"mean_test_score\",\"std_test_score\"]])\n",
    "print(f\"Test score:{s_rf_tr_E.best_estimator_.score(X_test, Y_CO2_test)}\")"
   ]
  },
  {
   "cell_type": "markdown",
   "metadata": {
    "id": "Wf-mn25o8xvZ"
   },
   "source": [
    "### XGBoost"
   ]
  },
  {
   "cell_type": "code",
   "execution_count": null,
   "metadata": {
    "colab": {
     "base_uri": "https://localhost:8080/",
     "height": 262
    },
    "id": "V3OFYoQBHK-z",
    "outputId": "e9181662-1d90-47c8-da60-a901c37222ac"
   },
   "outputs": [],
   "source": [
    "xgb = XGBRegressor()\n",
    "\n",
    "xgb_pipe_v2 = Pipeline([\n",
    "    ('prep', prep_v2),\n",
    "    ('scaler', StandardScaler()),\n",
    "    ('reg', xgb),\n",
    "    ])\n",
    "xgb_pipe_v2"
   ]
  },
  {
   "cell_type": "code",
   "execution_count": null,
   "metadata": {
    "colab": {
     "base_uri": "https://localhost:8080/"
    },
    "id": "BZ2E2EFNHMp8",
    "outputId": "130165ca-8860-4263-8ad2-ab4181bbc94e"
   },
   "outputs": [],
   "source": [
    "param_grid = {\n",
    "    \"reg__n_estimators\": [150, 200],\n",
    "    \"reg__max_depth\": [3, 5],\n",
    "    \"reg__gamma\": np.logspace(-4, -1, 4),\n",
    "}\n",
    "s_xgb_E = GridSearchCV(xgb_pipe_v2, param_grid, n_jobs=-1, cv=5, return_train_score=True)\n",
    "s_xgb_E.fit(X_train, Y_CO2_train)\n",
    "print(\"Best parameter (CV score=%0.3f):\" % s_xgb_E.best_score_)\n",
    "print(s_xgb_E.best_params_)\n",
    "res = pd.DataFrame(s_xgb_E.cv_results_)\n",
    "print(res[[\"mean_train_score\",\"std_train_score\",\"mean_test_score\",\"std_test_score\"]])\n",
    "print(f\"Test score:{s_xgb_E.best_estimator_.score(X_test, Y_CO2_test)}\")"
   ]
  },
  {
   "cell_type": "code",
   "execution_count": null,
   "metadata": {
    "colab": {
     "base_uri": "https://localhost:8080/",
     "height": 262
    },
    "id": "TdVWB5PT80wa",
    "outputId": "be7ae8c9-e07e-408e-df60-d8ca06cef9fc"
   },
   "outputs": [],
   "source": [
    "xgb_tr = TransformedTargetRegressor(regressor=XGBRegressor(),\n",
    "                                func=np.sqrt, \n",
    "                                inverse_func=np.square)\n",
    "\n",
    "xgb_tr_pipe_v2 = Pipeline([\n",
    "    ('prep', prep_v2),\n",
    "    ('scaler', StandardScaler()),\n",
    "    ('reg', xgb_tr),\n",
    "    ])\n",
    "xgb_pipe_v2"
   ]
  },
  {
   "cell_type": "code",
   "execution_count": null,
   "metadata": {
    "colab": {
     "base_uri": "https://localhost:8080/"
    },
    "id": "YE3_QXy3W2vN",
    "outputId": "97ae47a0-e4c2-4f39-886f-87ce39828e9f"
   },
   "outputs": [],
   "source": [
    "param_grid = {\n",
    "    \"reg__regressor__n_estimators\": [150, 200],\n",
    "    \"reg__regressor__max_depth\": [3, 5],\n",
    "    \"reg__regressor__gamma\": np.logspace(-4, -1, 4),\n",
    "}\n",
    "s_xgb_tr_E = GridSearchCV(xgb_tr_pipe_v2, param_grid, n_jobs=-1, cv=5, return_train_score=True)\n",
    "s_xgb_tr_E.fit(X_train, Y_CO2_train)\n",
    "print(\"Best parameter (CV score=%0.3f):\" % s_xgb_tr_E.best_score_)\n",
    "print(s_xgb_tr_E.best_params_)\n",
    "res = pd.DataFrame(s_xgb_tr_E.cv_results_)\n",
    "print(res[[\"mean_train_score\",\"std_train_score\",\"mean_test_score\",\"std_test_score\"]])\n",
    "print(f\"Test score:{s_xgb_tr_E.best_estimator_.score(X_test, Y_CO2_test)}\")"
   ]
  },
  {
   "cell_type": "markdown",
   "metadata": {
    "id": "F4gVJSYuG1QR"
   },
   "source": [
    "<a name=\"evaluation\"></a>\n",
    "## Evaluation"
   ]
  },
  {
   "cell_type": "markdown",
   "metadata": {
    "id": "4Yv3ELtVHDDO"
   },
   "source": [
    "<a name=\"evaluation\"></a>\n",
    "### Evaluation"
   ]
  },
  {
   "cell_type": "code",
   "execution_count": null,
   "metadata": {
    "id": "-hxIkDbFFx5e"
   },
   "outputs": [],
   "source": [
    "metrics = {\n",
    "    \"r2\": r2_score,\n",
    "    \"d2\": d2_absolute_error_score,\n",
    "    \"exp_va\": explained_variance_score,\n",
    "    \"mse\": mean_squared_error,\n",
    "    \"rmse\": lambda *arg,**kwarg: mean_squared_error(*arg,**kwarg)**0.5,\n",
    "    \"mae\": mean_absolute_error\n",
    "    }\n",
    "models = [\"lin\", \"lin_tr\", \"svr\", \"svr_tr\", \"rf\", \"rf_tr\", \"xgb\", \"xgb_tr\"]\n",
    "\n",
    "E_res = []\n",
    "for model in models:\n",
    "    E_res.append([eval(f\"m(Y_CO2_test, s_{model}_E.best_estimator_.predict(X_test))\") for m in metrics.values()])"
   ]
  },
  {
   "cell_type": "code",
   "execution_count": null,
   "metadata": {
    "colab": {
     "base_uri": "https://localhost:8080/",
     "height": 300
    },
    "id": "_HajgZfu95nH",
    "outputId": "7d5b786f-5f52-4498-e9d4-0ec3b4cc73da"
   },
   "outputs": [],
   "source": [
    "pd.DataFrame(E_res, columns=metrics.keys(), index=models)"
   ]
  },
  {
   "cell_type": "markdown",
   "metadata": {
    "id": "urEfuo2UL665"
   },
   "source": [
    "<a name=\"feature-importance\"></a>\n",
    "### Feature Importance"
   ]
  },
  {
   "cell_type": "code",
   "execution_count": null,
   "metadata": {
    "id": "HY8ln0UYJCfT"
   },
   "outputs": [],
   "source": [
    "forest = s_rf_E.best_estimator_[\"rf\"]\n",
    "importances = forest.feature_importances_\n",
    "std = np.std([tree.feature_importances_ for tree in forest.estimators_], axis=0)"
   ]
  },
  {
   "cell_type": "code",
   "execution_count": null,
   "metadata": {
    "colab": {
     "base_uri": "https://localhost:8080/",
     "height": 487
    },
    "id": "3bBFyqzsOdq-",
    "outputId": "46e2ada5-89e0-4b85-a7c6-a04d57043a1d"
   },
   "outputs": [],
   "source": [
    "forest_importances = pd.Series(importances, index=num_cols+[f\"pca {i}\" for i in range(len(num_cols),len(importances))])\n",
    "\n",
    "fig, ax = plt.subplots()\n",
    "forest_importances.plot.bar(yerr=std, ax=ax)\n",
    "ax.set_title(\"Feature importances using MDI\")\n",
    "ax.set_ylabel(\"Mean decrease in impurity\")\n",
    "fig.tight_layout()"
   ]
  }
 ],
 "metadata": {
  "colab": {
   "provenance": []
  },
  "kernelspec": {
   "display_name": "",
   "name": ""
  },
  "language_info": {
   "name": "python"
  }
 },
 "nbformat": 4,
 "nbformat_minor": 0
}
