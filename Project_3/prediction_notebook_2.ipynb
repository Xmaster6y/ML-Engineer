{
 "nbformat": 4,
 "nbformat_minor": 0,
 "metadata": {
  "colab": {
   "provenance": []
  },
  "kernelspec": {
   "name": "",
   "display_name": ""
  },
  "language_info": {
   "name": "python"
  }
 },
 "cells": [
  {
   "cell_type": "markdown",
   "source": [
    "# Second prediction notebook\n",
    "\n",
    "Prediction of the CO2 emissions.\n",
    "\n",
    "* [Imports](#imports)\n",
    "* [Data loading](#data-loading)\n",
    "* [Feature seletion](#feature-seletion)\n",
    "    * [Selection](#selection-pipeline)\n",
    "* [Baseline](#baseline)\n",
    "    * [Dummy regressor](#dummy-regressor)\n",
    "    * [Small linear regression](#small-linear-regression)\n",
    "* [Prediction](#prediction)\n",
    "    * [Preprocessing](#preprocessing)\n",
    "    * [Linear prediction](#linear-prediction)\n",
    "    * [SVR prediction](#svr-prediction)\n",
    "    * [Ensemble prediction](#ensemble-prediction)\n",
    "    * [XGBoost prediction](#xgboost-prediction)\n",
    "* [Evaluation](#evaluation)\n",
    "    * [Evaluation](#evaluation)\n",
    "    * [Residual plot](#residual-plot)"
   ],
   "metadata": {
    "id": "alzuis7Fdzti"
   }
  },
  {
   "cell_type": "markdown",
   "source": [
    "<a name=\"imports\"></a>\n",
    "## Imports"
   ],
   "metadata": {
    "id": "vM-0mqSdfWjK"
   }
  },
  {
   "cell_type": "code",
   "source": [
    "!pip install shap"
   ],
   "metadata": {
    "id": "SAU6PiVo_J_z"
   },
   "execution_count": null,
   "outputs": []
  },
  {
   "cell_type": "code",
   "source": [
    "import os\n",
    "import pandas as pd\n",
    "import numpy as np\n",
    "import matplotlib.pyplot as plt\n",
    "from time import time\n",
    "\n",
    "from sklearn.pipeline import Pipeline\n",
    "from sklearn.compose import ColumnTransformer, TransformedTargetRegressor\n",
    "from sklearn.model_selection import train_test_split\n",
    "from sklearn.model_selection import GridSearchCV, KFold\n",
    "\n",
    "from sklearn.feature_selection import VarianceThreshold\n",
    "from sklearn.feature_selection import SelectPercentile, chi2\n",
    "from sklearn.preprocessing import StandardScaler, OneHotEncoder, RobustScaler, MinMaxScaler\n",
    "from sklearn.impute import KNNImputer\n",
    "\n",
    "from sklearn.dummy import DummyRegressor\n",
    "\n",
    "from sklearn.decomposition import PCA\n",
    "from sklearn.linear_model import Ridge, ElasticNet, LinearRegression\n",
    "from sklearn.svm import SVR\n",
    "from sklearn.ensemble import RandomForestRegressor\n",
    "from xgboost import XGBRegressor\n",
    "\n",
    "from sklearn.metrics import r2_score, d2_absolute_error_score\n",
    "from sklearn.metrics import explained_variance_score\n",
    "from sklearn.metrics import mean_squared_error, mean_absolute_error\n",
    "\n",
    "import shap\n",
    "# print the JS visualization code to the notebook\n",
    "shap.initjs()"
   ],
   "metadata": {
    "id": "ruVCLL9TdySa"
   },
   "execution_count": null,
   "outputs": []
  },
  {
   "cell_type": "markdown",
   "source": [
    "<a name=\"data-loading\"></a>\n",
    "## Data loading"
   ],
   "metadata": {
    "id": "vzF2vEugfg5w"
   }
  },
  {
   "cell_type": "code",
   "source": [
    "cleaned_dataset_v1_path = 'data_cleaned_v1.csv'\n",
    "if not os.path.exists(cleaned_dataset_v1_path):\n",
    "    !wget \"https://drive.google.com/uc?export=download&id=1EYQuRaqc4yo0QYl35DRoIC6-IDwaX7Wq\" -q --show-progress -O \"$cleaned_dataset_v1_path\"\n",
    "!head -2 $cleaned_dataset_v1_path"
   ],
   "metadata": {
    "id": "LdxrDq03fgA8"
   },
   "execution_count": null,
   "outputs": []
  },
  {
   "cell_type": "code",
   "source": [
    "cleaned_dataset_v2_path = 'data_cleaned_v2.csv'\n",
    "if not os.path.exists(cleaned_dataset_v2_path):\n",
    "    !wget \"https://drive.google.com/uc?export=download&id=14_YIQ_v0D8PGwSkzb8KtbQIcAvlUeCLo\" -q --show-progress -O \"$cleaned_dataset_v2_path\"\n",
    "!head -2 $cleaned_dataset_v2_path"
   ],
   "metadata": {
    "id": "Z_ew5GQC6v3y"
   },
   "execution_count": null,
   "outputs": []
  },
  {
   "cell_type": "code",
   "source": [
    "cleaned_dataset_v3_path = 'data_cleaned_v3.csv'\n",
    "if not os.path.exists(cleaned_dataset_v3_path):\n",
    "    !wget \"https://drive.google.com/uc?export=download&id=1IUo4LplvDDytlWM58RgXZveljzNVkhzb\" -q --show-progress -O \"$cleaned_dataset_v3_path\"\n",
    "!head -2 $cleaned_dataset_v3_path"
   ],
   "metadata": {
    "id": "Q4O_I2QfiL6f"
   },
   "execution_count": null,
   "outputs": []
  },
  {
   "cell_type": "code",
   "source": [
    "df_v3 = pd.read_csv(cleaned_dataset_v3_path)\n",
    "df_v3.info()"
   ],
   "metadata": {
    "id": "BfxXmBJpqdvc"
   },
   "execution_count": null,
   "outputs": []
  },
  {
   "cell_type": "code",
   "source": [
    "df_v3.isna().sum()"
   ],
   "metadata": {
    "id": "wqbLrPtczsZr"
   },
   "execution_count": null,
   "outputs": []
  },
  {
   "cell_type": "markdown",
   "source": [
    "<a name=\"feature-selection\"></a>\n",
    "## Feature selection"
   ],
   "metadata": {
    "id": "v7dOYI6KDKRL"
   }
  },
  {
   "cell_type": "markdown",
   "source": [
    "<a name=\"selection-pipeline\"></a>\n",
    "### Selection"
   ],
   "metadata": {
    "id": "2h8zBHJSDRSP"
   }
  },
  {
   "cell_type": "code",
   "source": [
    "cat_cols = [\n",
    "    \"BuildingType\",\n",
    "    \"PrimaryPropertyType\",\n",
    "    \"is_ENERGYSTARScore\",\n",
    "    \"is_PropertyGFAParking\",\n",
    "    ]\n",
    "num_cols = [\n",
    "    \"Latitude\",\n",
    "    \"Longitude\",\n",
    "    \"NumberofBuildings\",\n",
    "    \"NumberofFloors\",\n",
    "    \"YearBuilt\",\n",
    "    \"PropertyGFABuilding(s)\",\n",
    "    \"LargestPropertyUseTypeGFA\",\n",
    "    \"ENERGYSTARScore\",\n",
    "    \"ratio_SteamUse\",\n",
    "    \"ratio_NaturalGas\",\n",
    "    ]\n",
    "emb_cols = [f\"PCA - {i}\" for i in range(1,31)]\n",
    "pred_cols = [\n",
    "    \"TotalGHGEmissions\",\n",
    "    \"mean_TotalGHGEmissions\"\n",
    "    ]\n",
    "cols = cat_cols + num_cols + emb_cols + pred_cols\n",
    "df_pred_v3 = df_v3[cols]"
   ],
   "metadata": {
    "id": "YqrTl68YDNjp"
   },
   "execution_count": null,
   "outputs": []
  },
  {
   "cell_type": "code",
   "source": [
    "Y_CO2 = df_pred_v3[cols[-2]]\n",
    "Y_CO2_mean = df_pred_v3[cols[-1]]\n",
    "X = df_pred_v3.loc[Y_CO2 < 1.5e4, cols[:-2]]"
   ],
   "metadata": {
    "id": "fqiPRbRGcMKF"
   },
   "execution_count": null,
   "outputs": []
  },
  {
   "cell_type": "code",
   "source": [
    "Y_CO2[Y_CO2 > 1.5e4]"
   ],
   "metadata": {
    "id": "P3ndEiMypVv1"
   },
   "execution_count": null,
   "outputs": []
  },
  {
   "cell_type": "code",
   "source": [
    "Y_CO2_mean = Y_CO2_mean[Y_CO2 < 1.5e4]\n",
    "Y_CO2 = Y_CO2[Y_CO2 < 1.5e4]"
   ],
   "metadata": {
    "id": "5aIEHgprQi_z"
   },
   "execution_count": null,
   "outputs": []
  },
  {
   "cell_type": "code",
   "source": [
    "X_train, X_test, Y_CO2_train, Y_CO2_test, Y_CO2_mean_train, Y_CO2_mean_test = train_test_split(X, Y_CO2, Y_CO2_mean, test_size=0.3, random_state=42)\n",
    "print(f\"[INFO] X_test shape: {X_test.shape}\")\n",
    "print(f\"[INFO] X_train shape: {X_train.shape}\")"
   ],
   "metadata": {
    "id": "r0al8RfndF9E"
   },
   "execution_count": null,
   "outputs": []
  },
  {
   "cell_type": "code",
   "source": [
    "num_tr = Pipeline([\n",
    "    (\"imputer\", KNNImputer()),\n",
    "    (\"scaler\", StandardScaler())\n",
    "    ])\n",
    "cat_tr = Pipeline([\n",
    "    (\"encoder\", OneHotEncoder(handle_unknown=\"ignore\", sparse_output=False)),\n",
    "    ('pca', PCA()),\n",
    "    (\"scaler\", StandardScaler())\n",
    "    ])\n",
    "emb_tr = Pipeline([\n",
    "    (\"selec\", VarianceThreshold()),\n",
    "    (\"scaler\", StandardScaler()),\n",
    "    ])\n",
    "prep_v3 = ColumnTransformer([\n",
    "    (\"num\", num_tr, num_cols),\n",
    "    (\"cat\", cat_tr, cat_cols),\n",
    "    (\"emb\", emb_tr, emb_cols),\n",
    "    ])"
   ],
   "metadata": {
    "id": "Gtn-cNpdwjCX"
   },
   "execution_count": null,
   "outputs": []
  },
  {
   "cell_type": "code",
   "source": [
    "Y_CO2_train.describe()"
   ],
   "metadata": {
    "id": "kN_YTf0pJJ6Q"
   },
   "execution_count": null,
   "outputs": []
  },
  {
   "cell_type": "code",
   "source": [
    "Y_CO2_test.describe()"
   ],
   "metadata": {
    "id": "UVhHyCpiJcpu"
   },
   "execution_count": null,
   "outputs": []
  },
  {
   "cell_type": "markdown",
   "source": [
    "<a name=\"baseline\"></a>\n",
    "## Baseline"
   ],
   "metadata": {
    "id": "OLKZlIQ05GSL"
   }
  },
  {
   "cell_type": "markdown",
   "source": [
    "<a name=\"dummy-regressor\"></a>\n",
    "### Dummy regressor"
   ],
   "metadata": {
    "id": "9HxlT90e5PVV"
   }
  },
  {
   "cell_type": "code",
   "source": [
    "dummy_E = DummyRegressor(strategy=\"mean\")\n",
    "dummy_E.fit(X_train, Y_CO2_train)\n",
    "print(f\"Train score:{dummy_E.score(X_train, Y_CO2_train)}\")\n",
    "print(f\"Test score:{dummy_E.score(X_test, Y_CO2_test)}\")"
   ],
   "metadata": {
    "id": "PhP6Ss7N8Klg"
   },
   "execution_count": null,
   "outputs": []
  },
  {
   "cell_type": "code",
   "source": [
    "dummy_E = DummyRegressor(strategy=\"quantile\")\n",
    "param_grid = {\n",
    "    \"quantile\": np.linspace(0, 1, 11),\n",
    "}\n",
    "s_dummy_E = GridSearchCV(dummy_E, param_grid, n_jobs=-1, return_train_score=True)\n",
    "s_dummy_E.fit(X_train, Y_CO2_train)\n",
    "print(\"Best parameter (CV score=%0.3f):\" % s_dummy_E.best_score_)\n",
    "print(s_dummy_E.best_params_)\n",
    "res = pd.DataFrame(s_dummy_E.cv_results_)\n",
    "print(res[[\"mean_train_score\",\"std_train_score\"]])\n",
    "print(f\"Train score:{s_dummy_E.best_estimator_.score(X_train, Y_CO2_train)}\")\n",
    "print(f\"Test score:{s_dummy_E.best_estimator_.score(X_test, Y_CO2_test)}\")"
   ],
   "metadata": {
    "id": "_pKN5S3TAHTN"
   },
   "execution_count": null,
   "outputs": []
  },
  {
   "cell_type": "markdown",
   "source": [
    "<a name=\"small-linear-regression\"></a>\n",
    "### Small linear regression"
   ],
   "metadata": {
    "id": "0h_obTo55SI-"
   }
  },
  {
   "cell_type": "code",
   "source": [
    "X_train.columns\n",
    "small_cols = [\n",
    "              'PropertyGFABuilding(s)'\n",
    "              ]\n",
    "small_lr_E = LinearRegression()\n",
    "small_lr_E.fit(X_train[small_cols], Y_CO2_train)\n",
    "print(f\"Train score:{small_lr_E.score(X_train[small_cols], Y_CO2_train)}\")\n",
    "print(f\"Test score:{small_lr_E.score(X_test[small_cols], Y_CO2_test)}\")"
   ],
   "metadata": {
    "id": "W3I53HME8LGV"
   },
   "execution_count": null,
   "outputs": []
  },
  {
   "cell_type": "code",
   "source": [
    "X_train.columns\n",
    "small_cols = ['YearBuilt',\n",
    "              'PropertyGFABuilding(s)'\n",
    "              ]\n",
    "small_lr_E = LinearRegression()\n",
    "small_lr_E.fit(X_train[small_cols], Y_CO2_train)\n",
    "print(f\"Train score:{small_lr_E.score(X_train[small_cols], Y_CO2_train)}\")\n",
    "print(f\"Test score:{small_lr_E.score(X_test[small_cols], Y_CO2_test)}\")"
   ],
   "metadata": {
    "id": "cUId5JzhBp9n"
   },
   "execution_count": null,
   "outputs": []
  },
  {
   "cell_type": "code",
   "source": [
    "X_train.columns\n",
    "small_cols = ['YearBuilt',\n",
    "              'PropertyGFABuilding(s)',\n",
    "    \"NumberofBuildings\",\n",
    "    \"NumberofFloors\",\n",
    "    \"YearBuilt\",\n",
    "              ]\n",
    "small_lr_E = LinearRegression()\n",
    "small_lr_E.fit(X_train[small_cols], Y_CO2_train)\n",
    "print(f\"Train score:{small_lr_E.score(X_train[small_cols], Y_CO2_train)}\")\n",
    "print(f\"Test score:{small_lr_E.score(X_test[small_cols], Y_CO2_test)}\")"
   ],
   "metadata": {
    "id": "wIsouorcii4I"
   },
   "execution_count": null,
   "outputs": []
  },
  {
   "cell_type": "code",
   "source": [
    "X_train.columns\n",
    "small_cols = ['PropertyGFABuilding(s)'] + emb_cols\n",
    "small_lr_E = LinearRegression()\n",
    "small_lr_E.fit(X_train[small_cols], Y_CO2_train)\n",
    "print(f\"Train score:{small_lr_E.score(X_train[small_cols], Y_CO2_train)}\")\n",
    "print(f\"Test score:{small_lr_E.score(X_test[small_cols], Y_CO2_test)}\")"
   ],
   "metadata": {
    "id": "8FiL2q0Ai1vm"
   },
   "execution_count": null,
   "outputs": []
  },
  {
   "cell_type": "code",
   "source": [
    "X_train.columns\n",
    "small_cols = emb_cols\n",
    "small_lr_E = LinearRegression()\n",
    "small_lr_E.fit(X_train[small_cols], Y_CO2_train)\n",
    "print(f\"Train score:{small_lr_E.score(X_train[small_cols], Y_CO2_train)}\")\n",
    "print(f\"Test score:{small_lr_E.score(X_test[small_cols], Y_CO2_test)}\")"
   ],
   "metadata": {
    "id": "N0EkJRR7T-aj"
   },
   "execution_count": null,
   "outputs": []
  },
  {
   "cell_type": "code",
   "source": [
    "X_train.columns\n",
    "small_cols = ['PropertyGFABuilding(s)'] + emb_cols\n",
    "small_lr_E = LinearRegression()\n",
    "small_lr_E.fit(X_train[small_cols], Y_CO2_mean_train)\n",
    "print(f\"Train score:{small_lr_E.score(X_train[small_cols], Y_CO2_mean_train)}\")\n",
    "print(f\"Test score:{small_lr_E.score(X_test[small_cols], Y_CO2_mean_test)}\")"
   ],
   "metadata": {
    "id": "e4qQ5J_sAShE"
   },
   "execution_count": null,
   "outputs": []
  },
  {
   "cell_type": "markdown",
   "source": [
    "<a name=\"prediction\"></a>\n",
    "## Prediction"
   ],
   "metadata": {
    "id": "aCTjTxV6G12w"
   }
  },
  {
   "cell_type": "markdown",
   "source": [
    "<a name=\"preprocessing\"></a>\n",
    "### Preprocessing"
   ],
   "metadata": {
    "id": "Qv-PWVC-HAcC"
   }
  },
  {
   "cell_type": "code",
   "source": [
    "lin_pipe_v3 = Pipeline([\n",
    "    ('prep', prep_v3),\n",
    "    ('scaler', StandardScaler()),\n",
    "    ('lr_en', ElasticNet()),\n",
    "    ])\n",
    "lin_pipe_v3"
   ],
   "metadata": {
    "id": "NkjoNzzvhT_n"
   },
   "execution_count": null,
   "outputs": []
  },
  {
   "cell_type": "code",
   "source": [
    "param_grid = {\n",
    "    \"prep__emb__selec__threshold\": [0.01],\n",
    "    \"prep__cat__pca__n_components\": [9],\n",
    "    \"prep__num__scaler\": [\"passthrough\", MinMaxScaler(), RobustScaler()],\n",
    "    \"prep__emb__scaler\": [\"passthrough\", MinMaxScaler(), RobustScaler()],\n",
    "    \"prep__cat__scaler\": [\"passthrough\", MinMaxScaler(), RobustScaler()],\n",
    "    \"lr_en__alpha\": np.logspace(-1, 1, 3),\n",
    "    \"lr_en__l1_ratio\": np.logspace(-2, -1, 2),\n",
    "}\n",
    "s_lin_E = GridSearchCV(lin_pipe_v3, param_grid, n_jobs=-1, return_train_score=True)\n",
    "s_lin_E.fit(X_train, Y_CO2_train)\n",
    "print(\"Best parameter (CV score=%0.3f):\" % s_lin_E.best_score_)\n",
    "print(s_lin_E.best_params_)\n",
    "res = pd.DataFrame(s_lin_E.cv_results_)\n",
    "print(res[[\"mean_train_score\",\"std_train_score\",\"mean_test_score\",\"std_test_score\"]])\n",
    "print(f\"Train score:{s_lin_E.best_estimator_.score(X_train, Y_CO2_train)}\")\n",
    "print(f\"Test score:{s_lin_E.best_estimator_.score(X_test, Y_CO2_test)}\")"
   ],
   "metadata": {
    "id": "CNol2aruilX9"
   },
   "execution_count": null,
   "outputs": []
  },
  {
   "cell_type": "code",
   "source": [
    "param_grid = {\n",
    "    \"prep__emb__selec__threshold\": [0, 1e-3, 1e-2, 0.05, 0.1],\n",
    "    \"prep__cat__pca__n_components\": [9],\n",
    "    \"prep__num__scaler\": [RobustScaler()],\n",
    "    \"prep__emb__scaler\": [RobustScaler()],\n",
    "    \"prep__cat__scaler\": [\"passthrough\"],\n",
    "    \"lr_en__alpha\": [1.0],\n",
    "    \"lr_en__l1_ratio\": [0.1],\n",
    "}\n",
    "s_lin_E = GridSearchCV(lin_pipe_v3, param_grid, n_jobs=-1, return_train_score=True)\n",
    "s_lin_E.fit(X_train, Y_CO2_train)\n",
    "print(\"Best parameter (CV score=%0.3f):\" % s_lin_E.best_score_)\n",
    "print(s_lin_E.best_params_)\n",
    "res = pd.DataFrame(s_lin_E.cv_results_)\n",
    "print(res[[\"mean_train_score\",\"std_train_score\",\"mean_test_score\",\"std_test_score\"]])\n",
    "print(f\"Train score:{s_lin_E.best_estimator_.score(X_train, Y_CO2_train)}\")\n",
    "print(f\"Test score:{s_lin_E.best_estimator_.score(X_test, Y_CO2_test)}\")"
   ],
   "metadata": {
    "id": "EMAB3q0qwPNa"
   },
   "execution_count": null,
   "outputs": []
  },
  {
   "cell_type": "code",
   "source": [
    "param_grid = {\n",
    "    \"prep__emb__selec__threshold\": [0.],\n",
    "    \"prep__cat__pca__n_components\": list(range(1,19)),\n",
    "    \"prep__num__scaler\": [RobustScaler()],\n",
    "    \"prep__emb__scaler\": [RobustScaler()],\n",
    "    \"prep__cat__scaler\": [\"passthrough\"],\n",
    "    \"lr_en__alpha\": [1.0],\n",
    "    \"lr_en__l1_ratio\": [0.1],\n",
    "}\n",
    "s_lin_E = GridSearchCV(lin_pipe_v3, param_grid, n_jobs=-1, return_train_score=True)\n",
    "s_lin_E.fit(X_train, Y_CO2_train)\n",
    "print(\"Best parameter (CV score=%0.3f):\" % s_lin_E.best_score_)\n",
    "print(s_lin_E.best_params_)\n",
    "res = pd.DataFrame(s_lin_E.cv_results_)\n",
    "print(res[[\"mean_train_score\",\"std_train_score\",\"mean_test_score\",\"std_test_score\"]])\n",
    "print(f\"Train score:{s_lin_E.best_estimator_.score(X_train, Y_CO2_train)}\")\n",
    "print(f\"Test score:{s_lin_E.best_estimator_.score(X_test, Y_CO2_test)}\")"
   ],
   "metadata": {
    "id": "sQIh04f7jKY7"
   },
   "execution_count": null,
   "outputs": []
  },
  {
   "cell_type": "code",
   "source": [
    "encoder = OneHotEncoder(handle_unknown=\"ignore\", sparse_output=False)\n",
    "pca = PCA(n_components=18)\n",
    "pca.fit(encoder.fit_transform(X_train[cat_cols]))\n",
    "\n",
    "fig, (ax0, ax1) = plt.subplots(ncols=2, sharex=True, figsize=(10, 4))\n",
    "ax0.plot(\n",
    "    np.arange(1, pca.n_components_ + 1), pca.explained_variance_ratio_, \"+\", linewidth=2\n",
    ")\n",
    "ax0.set_ylabel(\"PCA explained variance ratio\")\n",
    "\n",
    "ax0.axvline(\n",
    "    1,\n",
    "    linestyle=\":\",\n",
    "    label=\"n_components chosen\",\n",
    ")\n",
    "ax0.legend(prop=dict(size=12))\n",
    "\n",
    "# For each number of components, find the best classifier results\n",
    "results = pd.DataFrame(s_lin_E.cv_results_)\n",
    "components_col = \"param_prep__cat__pca__n_components\"\n",
    "best_clfs = results.groupby(components_col).apply(\n",
    "    lambda g: g.nlargest(1, \"mean_test_score\")\n",
    ")\n",
    "\n",
    "best_clfs.plot(\n",
    "    x=components_col, y=\"mean_test_score\", yerr=\"std_test_score\", legend=False, ax=ax1\n",
    ")\n",
    "ax1.set_ylabel(\"Accuracy (val)\")\n",
    "ax1.set_xlabel(\"n_components\")\n",
    "\n",
    "plt.xlim(-1, 20)\n",
    "plt.ylim(-0.01, 0.7)\n",
    "\n",
    "plt.tight_layout()\n",
    "plt.show()"
   ],
   "metadata": {
    "id": "UiyfC-AXoMbr"
   },
   "execution_count": null,
   "outputs": []
  },
  {
   "cell_type": "code",
   "source": [
    "num_tr = Pipeline([\n",
    "    (\"imputer\", KNNImputer()),\n",
    "    (\"scaler\", RobustScaler())\n",
    "    ])\n",
    "cat_tr = Pipeline([\n",
    "    (\"encoder\", OneHotEncoder(handle_unknown=\"ignore\", sparse_output=False)),\n",
    "    ('pca', PCA(n_components=1)),\n",
    "    (\"scaler\", \"passthrough\")\n",
    "    ])\n",
    "emb_tr = Pipeline([\n",
    "    (\"selec\", VarianceThreshold()),\n",
    "    (\"scaler\", RobustScaler())\n",
    "    ])\n",
    "prep_v3 = ColumnTransformer([\n",
    "    (\"num\", num_tr, num_cols),\n",
    "    (\"cat\", cat_tr, cat_cols),\n",
    "    (\"emb\", emb_tr, emb_cols),\n",
    "    ])\n",
    "prep_v3"
   ],
   "metadata": {
    "id": "fPXZhREK70Ec"
   },
   "execution_count": null,
   "outputs": []
  },
  {
   "cell_type": "markdown",
   "source": [
    "<a name=\"linear-prediction\"></a>\n",
    "### Linear prediction"
   ],
   "metadata": {
    "id": "W6QljxFn5lZB"
   }
  },
  {
   "cell_type": "code",
   "source": [
    "lin_pipe_v3 = Pipeline([\n",
    "    ('prep', prep_v3),\n",
    "    ('scaler', StandardScaler()),\n",
    "    ('lr_en', ElasticNet()),\n",
    "    ])\n",
    "lin_pipe_v3"
   ],
   "metadata": {
    "id": "e8aRzEd38Qgf"
   },
   "execution_count": null,
   "outputs": []
  },
  {
   "cell_type": "code",
   "source": [
    "param_grid = {\n",
    "    \"lr_en__alpha\": np.logspace(-1, 1, 5),\n",
    "    \"lr_en__l1_ratio\": list(np.logspace(-3, 0, 4)),\n",
    "}\n",
    "s_lin_E = GridSearchCV(lin_pipe_v3, param_grid, n_jobs=-1, return_train_score=True)\n",
    "s_lin_E.fit(X_train, Y_CO2_train)\n",
    "print(\"Best parameter (CV score=%0.3f):\" % s_lin_E.best_score_)\n",
    "print(s_lin_E.best_params_)\n",
    "res = pd.DataFrame(s_lin_E.cv_results_)\n",
    "print(res[[\"mean_train_score\",\"std_train_score\",\"mean_test_score\",\"std_test_score\"]])\n",
    "print(f\"Train score:{s_lin_E.best_estimator_.score(X_train, Y_CO2_train)}\")\n",
    "print(f\"Test score:{s_lin_E.best_estimator_.score(X_test, Y_CO2_test)}\")"
   ],
   "metadata": {
    "id": "HsmHKGIx8gn9"
   },
   "execution_count": null,
   "outputs": []
  },
  {
   "cell_type": "code",
   "source": [
    "lin_pipe_v3 = Pipeline([\n",
    "    ('prep', prep_v3),\n",
    "    ('scaler', StandardScaler()),\n",
    "    ('lr_en', ElasticNet()),\n",
    "    ])\n",
    "lin_pipe_v3"
   ],
   "metadata": {
    "id": "EVPJo9-XZ8kp"
   },
   "execution_count": null,
   "outputs": []
  },
  {
   "cell_type": "code",
   "source": [
    "param_grid = {\n",
    "    \"lr_en__alpha\": np.logspace(-1, 1, 5),\n",
    "    \"lr_en__l1_ratio\": list(np.logspace(-3, 0, 4)),\n",
    "}\n",
    "s_lin_E = GridSearchCV(lin_pipe_v3, param_grid, n_jobs=-1, return_train_score=True)\n",
    "s_lin_E.fit(X_train, Y_CO2_mean_train)\n",
    "print(\"Best parameter (CV score=%0.3f):\" % s_lin_E.best_score_)\n",
    "print(s_lin_E.best_params_)\n",
    "res = pd.DataFrame(s_lin_E.cv_results_)\n",
    "print(res[[\"mean_train_score\",\"std_train_score\",\"mean_test_score\",\"std_test_score\"]])\n",
    "print(f\"Train score:{s_lin_E.best_estimator_.score(X_train, Y_CO2_mean_train)}\")\n",
    "print(f\"Test score:{s_lin_E.best_estimator_.score(X_test, Y_CO2_mean_test)}\")"
   ],
   "metadata": {
    "id": "kdIUZSPbZ-yX"
   },
   "execution_count": null,
   "outputs": []
  },
  {
   "cell_type": "code",
   "source": [
    "lin_ri_pipe_v3 = Pipeline([\n",
    "    ('prep', prep_v3),\n",
    "    ('scaler', StandardScaler()),\n",
    "    ('lr_en', Ridge()),\n",
    "    ])\n",
    "lin_ri_pipe_v3"
   ],
   "metadata": {
    "id": "XrZWnnMT9QfQ"
   },
   "execution_count": null,
   "outputs": []
  },
  {
   "cell_type": "code",
   "source": [
    "param_grid = {\n",
    "    \"lr_en__alpha\": np.logspace(-3, 3, 9),\n",
    "}\n",
    "s_lin_ri_E = GridSearchCV(lin_ri_pipe_v3, param_grid, n_jobs=-1, return_train_score=True)\n",
    "s_lin_ri_E.fit(X_train, Y_CO2_mean_train)\n",
    "print(\"Best parameter (CV score=%0.3f):\" % s_lin_ri_E.best_score_)\n",
    "print(s_lin_ri_E.best_params_)\n",
    "res = pd.DataFrame(s_lin_ri_E.cv_results_)\n",
    "print(res[[\"mean_train_score\",\"std_train_score\",\"mean_test_score\",\"std_test_score\"]])\n",
    "print(f\"Train score:{s_lin_ri_E.best_estimator_.score(X_train, Y_CO2_mean_train)}\")\n",
    "print(f\"Test score:{s_lin_ri_E.best_estimator_.score(X_test, Y_CO2_mean_test)}\")"
   ],
   "metadata": {
    "id": "sddISJ399Uox"
   },
   "execution_count": null,
   "outputs": []
  },
  {
   "cell_type": "code",
   "source": [
    "param_grid = {\n",
    "    \"lr_en__alpha\": np.logspace(-2, 2, 9),\n",
    "}\n",
    "s_lin_ri_E = GridSearchCV(lin_ri_pipe_v3, param_grid, n_jobs=-1, return_train_score=True, cv=5)\n",
    "s_lin_ri_E.fit(X_train, Y_CO2_train)\n",
    "print(\"Best parameter (CV score=%0.3f):\" % s_lin_ri_E.best_score_)\n",
    "print(s_lin_ri_E.best_params_)\n",
    "res = pd.DataFrame(s_lin_ri_E.cv_results_)\n",
    "print(res[[\"mean_train_score\",\"std_train_score\",\"mean_test_score\",\"std_test_score\"]])\n",
    "print(f\"Train score:{s_lin_ri_E.best_estimator_.score(X_train, Y_CO2_train)}\")\n",
    "print(f\"Test score:{s_lin_ri_E.best_estimator_.score(X_test, Y_CO2_test)}\")"
   ],
   "metadata": {
    "id": "ZHc7V0269q28"
   },
   "execution_count": null,
   "outputs": []
  },
  {
   "cell_type": "code",
   "source": [
    "lr_tr = TransformedTargetRegressor(regressor=ElasticNet(),\n",
    "                                func=np.log, \n",
    "                                inverse_func=np.exp)\n",
    "\n",
    "lin_tr_pipe_v3 = Pipeline([\n",
    "    ('prep', prep_v3),\n",
    "    ('scaler', StandardScaler()),\n",
    "    ('lr_en', lr_tr),\n",
    "    ])\n",
    "lin_tr_pipe_v3"
   ],
   "metadata": {
    "id": "vKRwB5In7ZY8"
   },
   "execution_count": null,
   "outputs": []
  },
  {
   "cell_type": "code",
   "source": [
    "param_grid = {\n",
    "    \"lr_en__regressor__alpha\": np.logspace(-1, 1, 5),\n",
    "    \"lr_en__regressor__l1_ratio\": list(np.logspace(-2, 0, 6)),\n",
    "}\n",
    "s_lin_tr_E = GridSearchCV(lin_tr_pipe_v3, param_grid, n_jobs=-1, return_train_score=True)\n",
    "s_lin_tr_E.fit(X_train, Y_CO2_train)\n",
    "print(\"Best parameter (CV score=%0.3f):\" % s_lin_tr_E.best_score_)\n",
    "print(s_lin_tr_E.best_params_)\n",
    "res = pd.DataFrame(s_lin_tr_E.cv_results_)\n",
    "print(res[[\"mean_train_score\",\"std_train_score\",\"mean_test_score\",\"std_test_score\"]])\n",
    "print(f\"Test score:{s_lin_tr_E.best_estimator_.score(X_test, Y_CO2_test)}\")"
   ],
   "metadata": {
    "id": "_908-n6W7cus"
   },
   "execution_count": null,
   "outputs": []
  },
  {
   "cell_type": "code",
   "source": [
    "lr = TransformedTargetRegressor(regressor=ElasticNet(),\n",
    "                                func=np.sqrt, \n",
    "                                inverse_func=np.square)\n",
    "\n",
    "lin_tr_pipe_v3 = Pipeline([\n",
    "    ('prep', prep_v3),\n",
    "    ('scaler', StandardScaler()),\n",
    "    ('lr_en', lr_tr),\n",
    "    ])\n",
    "lin_tr_pipe_v3"
   ],
   "metadata": {
    "id": "5PGQgNlHUFBb"
   },
   "execution_count": null,
   "outputs": []
  },
  {
   "cell_type": "code",
   "source": [
    "param_grid = {\n",
    "    \"lr_en__regressor__alpha\": np.logspace(-1, 1, 5),\n",
    "    \"lr_en__regressor__l1_ratio\": list(np.logspace(-4, 0, 6)),\n",
    "}\n",
    "s_lin_tr_E = GridSearchCV(lin_tr_pipe_v3, param_grid, n_jobs=-1, return_train_score=True)\n",
    "s_lin_tr_E.fit(X_train, Y_CO2_train)\n",
    "print(\"Best parameter (CV score=%0.3f):\" % s_lin_tr_E.best_score_)\n",
    "print(s_lin_tr_E.best_params_)\n",
    "res = pd.DataFrame(s_lin_tr_E.cv_results_)\n",
    "print(res[[\"mean_train_score\",\"std_train_score\",\"mean_test_score\",\"std_test_score\"]])\n",
    "print(f\"Test score:{s_lin_tr_E.best_estimator_.score(X_test, Y_CO2_test)}\")"
   ],
   "metadata": {
    "id": "9tfr0RneTBBY"
   },
   "execution_count": null,
   "outputs": []
  },
  {
   "cell_type": "code",
   "source": [
    "lr = TransformedTargetRegressor(regressor=Ridge(),\n",
    "                                func=np.sqrt, \n",
    "                                inverse_func=np.square)\n",
    "\n",
    "lin_tr_pipe_v3 = Pipeline([\n",
    "    ('prep', prep_v3),\n",
    "    ('scaler', StandardScaler()),\n",
    "    ('lr_en', lr_tr),\n",
    "    ])\n",
    "lin_tr_pipe_v3"
   ],
   "metadata": {
    "id": "uczQcOXdYFuF"
   },
   "execution_count": null,
   "outputs": []
  },
  {
   "cell_type": "code",
   "source": [
    "param_grid = {\n",
    "    \"lr_en__regressor__alpha\": np.logspace(-3, 3, 9),\n",
    "}\n",
    "s_lin_tr_E = GridSearchCV(lin_tr_pipe_v3, param_grid, n_jobs=-1, return_train_score=True)\n",
    "s_lin_tr_E.fit(X_train, Y_CO2_train)\n",
    "print(\"Best parameter (CV score=%0.3f):\" % s_lin_tr_E.best_score_)\n",
    "print(s_lin_tr_E.best_params_)\n",
    "res = pd.DataFrame(s_lin_tr_E.cv_results_)\n",
    "print(res[[\"mean_train_score\",\"std_train_score\",\"mean_test_score\",\"std_test_score\"]])\n",
    "print(f\"Test score:{s_lin_tr_E.best_estimator_.score(X_test, Y_CO2_test)}\")"
   ],
   "metadata": {
    "id": "yXAAOomgYM95"
   },
   "execution_count": null,
   "outputs": []
  },
  {
   "cell_type": "code",
   "source": [
    "feature_names = s_lin_E.best_estimator_['prep'].get_feature_names_out()\n",
    "coefs = pd.DataFrame(\n",
    "    s_lin_E.best_estimator_['lr_en'].coef_,\n",
    "    columns=[\"Coefficients\"],\n",
    "    index=feature_names,\n",
    ")\n",
    "\n",
    "coefs\n",
    "coefs.plot.barh(figsize=(9, 15))\n",
    "plt.title(\"Elastic net best parameters\")\n",
    "plt.axvline(x=0, color=\".5\")\n",
    "plt.xlabel(\"Raw coefficient values\")\n",
    "plt.subplots_adjust(left=0.3)"
   ],
   "metadata": {
    "id": "WwpiPgO87ocJ"
   },
   "execution_count": null,
   "outputs": []
  },
  {
   "cell_type": "markdown",
   "source": [
    "<a name=\"svr-prediction\"></a>\n",
    "### SVR prediction"
   ],
   "metadata": {
    "id": "fJWy4sY9teWU"
   }
  },
  {
   "cell_type": "code",
   "source": [
    "svr = regressor=SVR()\n",
    "\n",
    "svr_pipe_v3 = Pipeline([\n",
    "    ('prep', prep_v3),\n",
    "    ('scaler', MinMaxScaler()),\n",
    "    ('svr', svr),\n",
    "    ])\n",
    "svr_pipe_v3"
   ],
   "metadata": {
    "id": "C2X0EhdRLHhB"
   },
   "execution_count": null,
   "outputs": []
  },
  {
   "cell_type": "code",
   "source": [
    "param_grid = {\n",
    "    \"svr__C\": np.logspace(-4, 4, 5),\n",
    "    \"svr__epsilon\": np.logspace(-4, 4, 5),\n",
    "}\n",
    "s_svr_E = GridSearchCV(svr_pipe_v3, param_grid, n_jobs=-1, return_train_score=True)\n",
    "s_svr_E.fit(X_train, Y_CO2_train)\n",
    "print(\"Best parameter (CV score=%0.3f):\" % s_svr_E.best_score_)\n",
    "print(s_svr_E.best_params_)\n",
    "res = pd.DataFrame(s_svr_E.cv_results_)\n",
    "print(res[[\"mean_train_score\",\"std_train_score\",\"mean_test_score\",\"std_test_score\"]])\n",
    "print(f\"Train score:{s_svr_E.best_estimator_.score(X_train, Y_CO2_train)}\")\n",
    "print(f\"Test score:{s_svr_E.best_estimator_.score(X_test, Y_CO2_test)}\")"
   ],
   "metadata": {
    "id": "UOHDEFBdLJcn"
   },
   "execution_count": null,
   "outputs": []
  },
  {
   "cell_type": "code",
   "source": [
    "svr_tr = TransformedTargetRegressor(regressor=SVR(),\n",
    "                                func=np.sqrt, \n",
    "                                inverse_func=np.square)\n",
    "\n",
    "svr_tr_pipe_v3 = Pipeline([\n",
    "    ('prep', prep_v3),\n",
    "    ('scaler', MinMaxScaler()),\n",
    "    ('svr', svr_tr),\n",
    "    ])\n",
    "svr_tr_pipe_v3"
   ],
   "metadata": {
    "id": "vM62LjN0zmYZ"
   },
   "execution_count": null,
   "outputs": []
  },
  {
   "cell_type": "code",
   "source": [
    "param_grid = {\n",
    "    \"svr__regressor__C\": np.logspace(-4, 4, 5),\n",
    "    \"svr__regressor__epsilon\": np.logspace(-4, 4, 5),\n",
    "}\n",
    "s_svr_tr_E = GridSearchCV(svr_tr_pipe_v3, param_grid, n_jobs=-1, return_train_score=True)\n",
    "s_svr_tr_E.fit(X_train, Y_CO2_train)\n",
    "print(\"Best parameter (CV score=%0.3f):\" % s_svr_tr_E.best_score_)\n",
    "print(s_svr_tr_E.best_params_)\n",
    "res = pd.DataFrame(s_svr_tr_E.cv_results_)\n",
    "print(res[[\"mean_train_score\",\"std_train_score\",\"mean_test_score\",\"std_test_score\"]])\n",
    "print(f\"Train score:{s_svr_tr_E.best_estimator_.score(X_train, Y_CO2_train)}\")\n",
    "print(f\"Test score:{s_svr_tr_E.best_estimator_.score(X_test, Y_CO2_test)}\")"
   ],
   "metadata": {
    "id": "GERPCP2nz0Hc"
   },
   "execution_count": null,
   "outputs": []
  },
  {
   "cell_type": "code",
   "source": [
    "svr_tr = TransformedTargetRegressor(regressor=SVR(),\n",
    "                                func=np.log, \n",
    "                                inverse_func=np.exp)\n",
    "\n",
    "svr_tr_pipe_v3 = Pipeline([\n",
    "    ('prep', prep_v3),\n",
    "    ('scaler', MinMaxScaler()),\n",
    "    ('svr', svr_tr),\n",
    "    ])\n",
    "svr_tr_pipe_v3"
   ],
   "metadata": {
    "id": "hqajgKiaDMwW"
   },
   "execution_count": null,
   "outputs": []
  },
  {
   "cell_type": "code",
   "source": [
    "param_grid = {\n",
    "    \"svr__regressor__C\": np.logspace(-4, 4, 5),\n",
    "    \"svr__regressor__epsilon\": np.logspace(-4, 4, 5),\n",
    "}\n",
    "s_svr_tr_E = GridSearchCV(svr_tr_pipe_v3, param_grid, n_jobs=-1, return_train_score=True)\n",
    "s_svr_tr_E.fit(X_train, Y_CO2_train)\n",
    "print(\"Best parameter (CV score=%0.3f):\" % s_svr_tr_E.best_score_)\n",
    "print(s_svr_tr_E.best_params_)\n",
    "res = pd.DataFrame(s_svr_tr_E.cv_results_)\n",
    "print(res[[\"mean_train_score\",\"std_train_score\",\"mean_test_score\",\"std_test_score\"]])\n",
    "print(f\"Train score:{s_svr_tr_E.best_estimator_.score(X_train, Y_CO2_train)}\")\n",
    "print(f\"Test score:{s_svr_tr_E.best_estimator_.score(X_test, Y_CO2_test)}\")"
   ],
   "metadata": {
    "id": "ZmHezm-nDRhk"
   },
   "execution_count": null,
   "outputs": []
  },
  {
   "cell_type": "markdown",
   "source": [
    "<a name=\"ensemble-prediction\"></a>\n",
    "### Ensemble prediction"
   ],
   "metadata": {
    "id": "N1wVVjFStQIQ"
   }
  },
  {
   "cell_type": "code",
   "source": [
    "rf_pipe_v3 = Pipeline([\n",
    "    ('prep', prep_v3),\n",
    "    ('scaler', StandardScaler()),\n",
    "    ('rf', RandomForestRegressor()),\n",
    "    ])\n",
    "rf_pipe_v3"
   ],
   "metadata": {
    "id": "-BKLTXQFxzIH"
   },
   "execution_count": null,
   "outputs": []
  },
  {
   "cell_type": "code",
   "source": [
    "param_grid = {\n",
    "    \"rf__n_estimators\": [150, 200, 250],\n",
    "    \"rf__max_depth\": [10, 15, 25, 50],\n",
    "    \"rf__min_samples_leaf\": [3, 5, 7],\n",
    "}\n",
    "s_rf_E = GridSearchCV(rf_pipe_v3, param_grid, n_jobs=-1, cv=5, return_train_score=True)\n",
    "s_rf_E.fit(X_train, Y_CO2_train)\n",
    "print(\"Best parameter (CV score=%0.3f):\" % s_rf_E.best_score_)\n",
    "print(s_rf_E.best_params_)\n",
    "res = pd.DataFrame(s_rf_E.cv_results_)\n",
    "print(res[[\"mean_train_score\",\"std_train_score\",\"mean_test_score\",\"std_test_score\"]])\n",
    "print(f\"Train score:{s_rf_E.best_estimator_.score(X_train, Y_CO2_train)}\")\n",
    "print(f\"Test score:{s_rf_E.best_estimator_.score(X_test, Y_CO2_test)}\")"
   ],
   "metadata": {
    "id": "yzTKcNm9x01N"
   },
   "execution_count": null,
   "outputs": []
  },
  {
   "cell_type": "code",
   "source": [
    "rf_tr = TransformedTargetRegressor(regressor=RandomForestRegressor(),\n",
    "                                func=np.sqrt, \n",
    "                                inverse_func=np.square)\n",
    "\n",
    "rf_tr_pipe_v3 = Pipeline([\n",
    "    ('prep', prep_v3),\n",
    "    ('scaler', StandardScaler()),\n",
    "    ('rf', rf_tr),\n",
    "    ])\n",
    "rf_tr_pipe_v3"
   ],
   "metadata": {
    "id": "GoAfWBaRtXnp"
   },
   "execution_count": null,
   "outputs": []
  },
  {
   "cell_type": "code",
   "source": [
    "param_grid = {\n",
    "    \"rf__regressor__n_estimators\": [150, 200, 250],\n",
    "    \"rf__regressor__max_depth\": [10, 15, 25, 50],\n",
    "    \"rf__regressor__min_samples_leaf\": [3, 5, 7],\n",
    "}\n",
    "s_rf_tr_E = GridSearchCV(rf_tr_pipe_v3, param_grid, n_jobs=-1, return_train_score=True)\n",
    "s_rf_tr_E.fit(X_train, Y_CO2_train)\n",
    "print(\"Best parameter (CV score=%0.3f):\" % s_rf_tr_E.best_score_)\n",
    "print(s_rf_tr_E.best_params_)\n",
    "res = pd.DataFrame(s_rf_tr_E.cv_results_)\n",
    "print(res[[\"mean_train_score\",\"std_train_score\",\"mean_test_score\",\"std_test_score\"]])\n",
    "print(f\"Train score:{s_rf_tr_E.best_estimator_.score(X_train, Y_CO2_train)}\")\n",
    "print(f\"Test score:{s_rf_tr_E.best_estimator_.score(X_test, Y_CO2_test)}\")"
   ],
   "metadata": {
    "id": "GLLQN7jp0xED"
   },
   "execution_count": null,
   "outputs": []
  },
  {
   "cell_type": "markdown",
   "source": [
    "<a name=\"xgboost-prediction\"></a>\n",
    "### XGBoost prediction"
   ],
   "metadata": {
    "id": "Wf-mn25o8xvZ"
   }
  },
  {
   "cell_type": "code",
   "source": [
    "xgb = XGBRegressor()\n",
    "\n",
    "xgb_pipe_v3 = Pipeline([\n",
    "    ('prep', prep_v3),\n",
    "    ('scaler', StandardScaler()),\n",
    "    ('reg', xgb),\n",
    "    ])\n",
    "xgb_pipe_v3"
   ],
   "metadata": {
    "id": "V3OFYoQBHK-z"
   },
   "execution_count": null,
   "outputs": []
  },
  {
   "cell_type": "code",
   "source": [
    "param_grid = {\n",
    "    \"reg__n_estimators\": [150, 200, 300],\n",
    "    \"reg__max_depth\": [5, 15, 25],\n",
    "    \"reg__min_child_weight\": [3, 5, 7],\n",
    "    \"reg__gamma\": np.logspace(-1, 1, 3),\n",
    "    \"reg__subsample\": [0.3, 0.5, 0.7],\n",
    "}\n",
    "s_xgb_E = GridSearchCV(xgb_pipe_v3, param_grid, n_jobs=-1, cv=5, return_train_score=True)\n",
    "s_xgb_E.fit(X_train, Y_CO2_train)\n",
    "print(\"Best parameter (CV score=%0.3f):\" % s_xgb_E.best_score_)\n",
    "print(s_xgb_E.best_params_)\n",
    "res = pd.DataFrame(s_xgb_E.cv_results_)\n",
    "print(res[[\"mean_train_score\",\"std_train_score\",\"mean_test_score\",\"std_test_score\"]])\n",
    "print(f\"Train score:{s_xgb_E.best_estimator_.score(X_train, Y_CO2_train)}\")\n",
    "print(f\"Test score:{s_xgb_E.best_estimator_.score(X_test, Y_CO2_test)}\")"
   ],
   "metadata": {
    "id": "BZ2E2EFNHMp8"
   },
   "execution_count": null,
   "outputs": []
  },
  {
   "cell_type": "code",
   "source": [
    "xgb_tr = TransformedTargetRegressor(regressor=XGBRegressor(),\n",
    "                                func=np.sqrt, \n",
    "                                inverse_func=np.square)\n",
    "\n",
    "xgb_tr_pipe_v3 = Pipeline([\n",
    "    ('prep', prep_v3),\n",
    "    ('scaler', StandardScaler()),\n",
    "    ('reg', xgb_tr),\n",
    "    ])\n",
    "xgb_tr_pipe_v3"
   ],
   "metadata": {
    "id": "TdVWB5PT80wa"
   },
   "execution_count": null,
   "outputs": []
  },
  {
   "cell_type": "code",
   "source": [
    "param_grid = {\n",
    "    \"reg__regressor__n_estimators\": [150, 200, 300],\n",
    "    \"reg__regressor__max_depth\": [5, 15, 25],\n",
    "    \"reg__regressor__min_child_weight\": [3, 5, 7],\n",
    "    \"reg__regressor__gamma\": np.logspace(-2, 1, 3),\n",
    "    \"reg__regressor__subsample\": [0.3, 0.5, 0.7],\n",
    "}\n",
    "s_xgb_tr_E = GridSearchCV(xgb_tr_pipe_v3, param_grid, n_jobs=-1, cv=5, return_train_score=True)\n",
    "s_xgb_tr_E.fit(X_train, Y_CO2_train)\n",
    "print(\"Best parameter (CV score=%0.3f):\" % s_xgb_tr_E.best_score_)\n",
    "print(s_xgb_tr_E.best_params_)\n",
    "res = pd.DataFrame(s_xgb_tr_E.cv_results_)\n",
    "print(res[[\"mean_train_score\",\"std_train_score\",\"mean_test_score\",\"std_test_score\"]])\n",
    "print(f\"Train score:{s_xgb_tr_E.best_estimator_.score(X_train, Y_CO2_train)}\")\n",
    "print(f\"Test score:{s_xgb_tr_E.best_estimator_.score(X_test, Y_CO2_test)}\")"
   ],
   "metadata": {
    "id": "YE3_QXy3W2vN"
   },
   "execution_count": null,
   "outputs": []
  },
  {
   "cell_type": "markdown",
   "source": [
    "<a name=\"evaluation\"></a>\n",
    "## Evaluation"
   ],
   "metadata": {
    "id": "F4gVJSYuG1QR"
   }
  },
  {
   "cell_type": "markdown",
   "source": [
    "<a name=\"evaluation\"></a>\n",
    "### Evaluation"
   ],
   "metadata": {
    "id": "4Yv3ELtVHDDO"
   }
  },
  {
   "cell_type": "code",
   "source": [
    "metrics = {\n",
    "    \"r2\": r2_score,\n",
    "    \"d2\": d2_absolute_error_score,\n",
    "    \"exp_va\": explained_variance_score,\n",
    "    \"mse\": mean_squared_error,\n",
    "    \"rmse\": lambda *arg,**kwarg: mean_squared_error(*arg,**kwarg)**0.5,\n",
    "    \"mae\": mean_absolute_error\n",
    "    }\n",
    "models = [\"lin\", \"lin_tr\", \"svr\", \"svr_tr\", \"rf\", \"rf_tr\", \"xgb\", \"xgb_tr\"]\n",
    "\n",
    "E_res = []\n",
    "for model in models:\n",
    "    E_res.append([eval(f\"m(Y_CO2_test, s_{model}_E.best_estimator_.predict(X_test))\") for m in metrics.values()])"
   ],
   "metadata": {
    "id": "-hxIkDbFFx5e"
   },
   "execution_count": null,
   "outputs": []
  },
  {
   "cell_type": "code",
   "source": [
    "pd.DataFrame(E_res, columns=metrics.keys(), index=models)"
   ],
   "metadata": {
    "id": "_HajgZfu95nH"
   },
   "execution_count": null,
   "outputs": []
  },
  {
   "cell_type": "code",
   "source": [
    "def make_best_model():\n",
    "    num_tr = Pipeline([\n",
    "        (\"imputer\", KNNImputer()),\n",
    "        (\"scaler\", RobustScaler())\n",
    "        ])\n",
    "    cat_tr = Pipeline([\n",
    "        (\"encoder\", OneHotEncoder(handle_unknown=\"ignore\", sparse_output=False)),\n",
    "        ('pca', PCA(n_components=1)),\n",
    "        (\"scaler\", \"passthrough\")\n",
    "        ])\n",
    "    emb_tr = Pipeline([\n",
    "        (\"selec\", VarianceThreshold()),\n",
    "        (\"scaler\", RobustScaler())\n",
    "        ])\n",
    "    prep_v3 = ColumnTransformer([\n",
    "        (\"num\", num_tr, num_cols),\n",
    "        (\"cat\", cat_tr, cat_cols),\n",
    "        (\"emb\", emb_tr, emb_cols),\n",
    "        ])\n",
    "    svr_tr = TransformedTargetRegressor(regressor=SVR(C=100, epsilon=0.01),\n",
    "                                    func=np.sqrt, \n",
    "                                    inverse_func=np.square)\n",
    "\n",
    "    svr_tr_pipe_v3 = Pipeline([\n",
    "        ('prep', prep_v3),\n",
    "        ('scaler', MinMaxScaler()),\n",
    "        ('svr', svr_tr),\n",
    "        ])\n",
    "    return svr_tr_pipe_v3\n",
    "\n",
    "def make_best_model_2():\n",
    "    num_tr = Pipeline([\n",
    "        (\"imputer\", KNNImputer()),\n",
    "        (\"scaler\", RobustScaler())\n",
    "        ])\n",
    "    cat_tr = Pipeline([\n",
    "        (\"encoder\", OneHotEncoder(handle_unknown=\"ignore\", sparse_output=False)),\n",
    "        ('pca', PCA(n_components=1)),\n",
    "        (\"scaler\", \"passthrough\")\n",
    "        ])\n",
    "    emb_tr = Pipeline([\n",
    "        (\"selec\", VarianceThreshold()),\n",
    "        (\"scaler\", RobustScaler())\n",
    "        ])\n",
    "    prep_v3 = ColumnTransformer([\n",
    "        (\"num\", num_tr, num_cols),\n",
    "        (\"cat\", cat_tr, cat_cols),\n",
    "        (\"emb\", emb_tr, emb_cols),\n",
    "        ])\n",
    "    best_param = {'gamma': 0.01, 'max_depth': 15, 'min_child_weight': 7, 'n_estimators': 300, 'subsample': 0.5}\n",
    "    xgb_tr = TransformedTargetRegressor(regressor=XGBRegressor(**best_param),\n",
    "                                    func=np.sqrt, \n",
    "                                    inverse_func=np.square)\n",
    "\n",
    "    xgb_tr_pipe_v3 = Pipeline([\n",
    "        ('prep', prep_v3),\n",
    "        ('scaler', StandardScaler()),\n",
    "        ('reg', xgb_tr),\n",
    "        ])\n",
    "    \n",
    "    return xgb_tr_pipe_v3"
   ],
   "metadata": {
    "id": "uKUstDSlgwUU"
   },
   "execution_count": null,
   "outputs": []
  },
  {
   "cell_type": "code",
   "source": [
    "train_scores = []\n",
    "test_scores = []\n",
    "fit_times = []\n",
    "train_mae = []\n",
    "test_mae = []\n",
    "kf = KFold(n_splits=5, shuffle=True)\n",
    "X = X.reset_index(drop=True)\n",
    "Y_CO2 = Y_CO2.reset_index(drop=True)\n",
    "for train, test in kf.split(Y_CO2):\n",
    "    model = make_best_model()\n",
    "    t0 = time()\n",
    "    model.fit(X.loc[train],Y_CO2.loc[train])\n",
    "    fit_times.append(time()-t0)\n",
    "    train_scores.append(model.score(X.loc[train],Y_CO2.loc[train]))\n",
    "    test_scores.append(model.score(X.loc[test],Y_CO2.loc[test]))\n",
    "    train_mae.append(mean_absolute_error(model.predict(X.loc[train]),Y_CO2.loc[train]))\n",
    "    test_mae.append(mean_absolute_error(model.predict(X.loc[test]),Y_CO2.loc[test]))\n"
   ],
   "metadata": {
    "id": "sHj80GPitm7Y"
   },
   "execution_count": null,
   "outputs": []
  },
  {
   "cell_type": "code",
   "source": [
    "print(f\"[INFO] Train score: {np.mean(train_scores):.3f} +- {np.std(train_scores):.3f}\")\n",
    "print(f\"[INFO] Test score: {np.mean(test_scores):.3f} +- {np.std(test_scores):.3f}\")\n",
    "print(f\"[INFO] Train mae: {np.mean(train_mae):.3f} +- {np.std(train_mae):.3f}\")\n",
    "print(f\"[INFO] Test mae: {np.mean(test_mae):.3f} +- {np.std(test_mae):.3f}\")\n",
    "print(f\"[INFO] Fit time: {np.mean(fit_times):.3f} +- {np.std(fit_times):.3f}\")"
   ],
   "metadata": {
    "id": "BG8Tu0uNykNi"
   },
   "execution_count": null,
   "outputs": []
  },
  {
   "cell_type": "code",
   "source": [
    "train_scores = []\n",
    "test_scores = []\n",
    "fit_times = []\n",
    "train_mae = []\n",
    "test_mae = []\n",
    "kf = KFold(n_splits=5, shuffle=True)\n",
    "X = X.reset_index(drop=True)\n",
    "Y_CO2 = Y_CO2.reset_index(drop=True)\n",
    "for train, test in kf.split(Y_CO2):\n",
    "    model = make_best_model_2()\n",
    "    t0 = time()\n",
    "    model.fit(X.loc[train],Y_CO2.loc[train])\n",
    "    fit_times.append(time()-t0)\n",
    "    train_scores.append(model.score(X.loc[train],Y_CO2.loc[train]))\n",
    "    test_scores.append(model.score(X.loc[test],Y_CO2.loc[test]))\n",
    "    train_mae.append(mean_absolute_error(model.predict(X.loc[train]),Y_CO2.loc[train]))\n",
    "    test_mae.append(mean_absolute_error(model.predict(X.loc[test]),Y_CO2.loc[test]))"
   ],
   "metadata": {
    "id": "6DJWX03v8oro"
   },
   "execution_count": null,
   "outputs": []
  },
  {
   "cell_type": "code",
   "source": [
    "print(f\"[INFO] Train score: {np.mean(train_scores):.3f} +- {np.std(train_scores):.3f}\")\n",
    "print(f\"[INFO] Test score: {np.mean(test_scores):.3f} +- {np.std(test_scores):.3f}\")\n",
    "print(f\"[INFO] Train mae: {np.mean(train_mae):.3f} +- {np.std(train_mae):.3f}\")\n",
    "print(f\"[INFO] Test mae: {np.mean(test_mae):.3f} +- {np.std(test_mae):.3f}\")\n",
    "print(f\"[INFO] Fit time: {np.mean(fit_times):.3f} +- {np.std(fit_times):.3f}\")"
   ],
   "metadata": {
    "id": "oLwkE2vI8r_N"
   },
   "execution_count": null,
   "outputs": []
  },
  {
   "cell_type": "markdown",
   "source": [
    "<a name=\"residual-plot\"></a>\n",
    "### Residual plot"
   ],
   "metadata": {
    "id": "q61G7TcTgw3I"
   }
  },
  {
   "cell_type": "code",
   "source": [
    "X_train, X_test, Y_CO2_train, Y_CO2_test = train_test_split(X, Y_CO2, test_size=0.3, random_state=42)\n",
    "print(f\"[INFO] X_test shape: {X_test.shape}\")\n",
    "print(f\"[INFO] X_train shape: {X_train.shape}\")"
   ],
   "metadata": {
    "id": "rscFNxFHvAlw"
   },
   "execution_count": null,
   "outputs": []
  },
  {
   "cell_type": "code",
   "source": [
    "model = make_best_model()\n",
    "model.fit(X_train, Y_CO2_train)\n",
    "\n",
    "pred_train = model.predict(X_train)\n",
    "res_train = Y_CO2_train - pred_train\n",
    "\n",
    "pred_test = model.predict(X_test)\n",
    "res_test = Y_CO2_test - pred_test"
   ],
   "metadata": {
    "id": "pv6kEWHovKES"
   },
   "execution_count": null,
   "outputs": []
  },
  {
   "cell_type": "code",
   "source": [
    "plt.scatter(pred_train, res_train, label=\"Train residuals\")\n",
    "plt.scatter(pred_test, res_test, label=\"Test residuals\")\n",
    "plt.legend()\n",
    "plt.xlabel(\"Predicted\")\n",
    "plt.xscale(\"log\")\n",
    "plt.ylabel(\"Residuals\")\n",
    "plt.title(\"Residuals - CO2 (SVR)\")\n",
    "plt.show()"
   ],
   "metadata": {
    "id": "fIfoq7Eawfgq"
   },
   "execution_count": null,
   "outputs": []
  }
 ]
}
