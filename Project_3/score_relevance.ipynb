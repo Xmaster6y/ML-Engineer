{
 "cells": [
  {
   "cell_type": "markdown",
   "metadata": {
    "id": "alzuis7Fdzti"
   },
   "source": [
    "# Energy score relevance notebook\n",
    "\n",
    "Evaluation of the relevance of Energy star score.\n",
    "\n",
    "* [Imports](#imports)\n",
    "* [Data loading](#data-loading)\n",
    "* [Evaluation](#evaluation)\n"
   ]
  },
  {
   "cell_type": "markdown",
   "metadata": {
    "id": "vM-0mqSdfWjK"
   },
   "source": [
    "<a name=\"imports\"></a>\n",
    "## Imports"
   ]
  },
  {
   "cell_type": "code",
   "execution_count": null,
   "metadata": {
    "id": "ruVCLL9TdySa"
   },
   "outputs": [],
   "source": [
    "import os\n",
    "import pandas as pd"
   ]
  },
  {
   "cell_type": "markdown",
   "metadata": {
    "id": "vzF2vEugfg5w"
   },
   "source": [
    "<a name=\"data-loading\"></a>\n",
    "## Data loading"
   ]
  },
  {
   "cell_type": "code",
   "execution_count": null,
   "metadata": {
    "id": "LdxrDq03fgA8"
   },
   "outputs": [],
   "source": [
    "cleaned_dataset_v1_path = 'data_cleaned_v1.csv'\n",
    "if not os.path.exists(cleaned_dataset_v1_path):\n",
    "    !wget \"https://drive.google.com/uc?export=download&id=1EYQuRaqc4yo0QYl35DRoIC6-IDwaX7Wq\" -q --show-progress -O \"$cleaned_dataset_v1_path\"\n",
    "!head -2 $cleaned_dataset_v1_path"
   ]
  },
  {
   "cell_type": "code",
   "execution_count": null,
   "metadata": {
    "id": "RMebLaj0DAuf"
   },
   "outputs": [],
   "source": [
    "cleaned_dataset_v2_path = 'data_cleaned_v2.csv'\n",
    "if not os.path.exists(cleaned_dataset_v2_path):\n",
    "    !wget \"https://drive.google.com/uc?export=download&id=14_YIQ_v0D8PGwSkzb8KtbQIcAvlUeCLo\" -q --show-progress -O \"$cleaned_dataset_v2_path\"\n",
    "!head -2 $cleaned_dataset_v2_path"
   ]
  },
  {
   "cell_type": "code",
   "execution_count": null,
   "metadata": {
    "id": "9xfpWV-mNzHF"
   },
   "outputs": [],
   "source": [
    "df_v2 = pd.read_csv(cleaned_dataset_v2_path)\n",
    "df_v2.info()"
   ]
  },
  {
   "cell_type": "markdown",
   "metadata": {
    "id": "F4gVJSYuG1QR"
   },
   "source": [
    "<a name=\"evaluation\"></a>\n",
    "## Evaluation"
   ]
  }
 ],
 "metadata": {
  "colab": {
   "provenance": []
  },
  "kernelspec": {
   "display_name": "",
   "language": "python",
   "name": ""
  },
  "language_info": {
   "name": "python",
   "version": "3.10.3"
  },
  "vscode": {
   "interpreter": {
    "hash": "fc30c5240ee9e8664b7cd07dbc21a343b243edf6c1e4868a1236334633e0019f"
   }
  }
 },
 "nbformat": 4,
 "nbformat_minor": 0
}
