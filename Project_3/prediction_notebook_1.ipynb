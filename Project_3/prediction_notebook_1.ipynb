{
 "nbformat": 4,
 "nbformat_minor": 0,
 "metadata": {
  "colab": {
   "provenance": []
  },
  "kernelspec": {
   "name": "",
   "display_name": ""
  },
  "language_info": {
   "name": "python"
  }
 },
 "cells": [
  {
   "cell_type": "markdown",
   "source": [
    "# First prediction notebook\n",
    "\n",
    "Prediction of the CO2 emissions.\n",
    "\n",
    "* [Imports](#imports)\n",
    "* [Data loading](#data-loading)\n",
    "* [Feature seletion](#feature-seletion)\n",
    "    * [Selection v1](#selection-pipeline-v1)\n",
    "* [Prediction](#prediction)\n",
    "    * [Linear prediction v1](#linear-prediction-v1)\n",
    "    * [SVR prediction v1](#svr-prediction-v1)\n",
    "    * [Ensemble prediction v1](#ensemble-prediction-v1)\n",
    "* [Evaluation](#evaluation)\n",
    "    * [Evaluation v1](#evaluation-v1)\n"
   ],
   "metadata": {
    "id": "alzuis7Fdzti"
   }
  },
  {
   "cell_type": "markdown",
   "source": [
    "<a name=\"imports\"></a>\n",
    "## Imports"
   ],
   "metadata": {
    "id": "vM-0mqSdfWjK"
   }
  },
  {
   "cell_type": "code",
   "source": [
    "import os\n",
    "import pandas as pd\n",
    "import numpy as np\n",
    "import matplotlib.pyplot as plt\n",
    "\n",
    "from sklearn.pipeline import Pipeline\n",
    "from sklearn.compose import ColumnTransformer\n",
    "from sklearn.model_selection import train_test_split\n",
    "from sklearn.model_selection import GridSearchCV\n",
    "\n",
    "from sklearn.feature_selection import VarianceThreshold\n",
    "from sklearn.feature_selection import SelectPercentile, chi2\n",
    "from sklearn.preprocessing import StandardScaler, OneHotEncoder\n",
    "\n",
    "from sklearn.decomposition import PCA\n",
    "from sklearn.linear_model import Ridge\n",
    "from sklearn.svm import SVR\n",
    "from sklearn.ensemble import RandomForestRegressor\n",
    "\n",
    "from sklearn.metrics import r2_score, d2_absolute_error_score\n",
    "from sklearn.metrics import explained_variance_score\n",
    "from sklearn.metrics import mean_squared_error, mean_absolute_error"
   ],
   "metadata": {
    "id": "ruVCLL9TdySa"
   },
   "execution_count": null,
   "outputs": []
  },
  {
   "cell_type": "markdown",
   "source": [
    "<a name=\"data-loading\"></a>\n",
    "## Data loading"
   ],
   "metadata": {
    "id": "vzF2vEugfg5w"
   }
  },
  {
   "cell_type": "code",
   "source": [
    "cleaned_dataset_v1_path = 'data_cleaned_v1.csv'\n",
    "if not os.path.exists(cleaned_dataset_v1_path):\n",
    "    !wget \"https://drive.google.com/uc?export=download&id=1EYQuRaqc4yo0QYl35DRoIC6-IDwaX7Wq\" -q --show-progress -O \"$cleaned_dataset_v1_path\"\n",
    "!head -2 $cleaned_dataset_v1_path"
   ],
   "metadata": {
    "id": "LdxrDq03fgA8"
   },
   "execution_count": null,
   "outputs": []
  },
  {
   "cell_type": "code",
   "source": [
    "df_v1 = pd.read_csv(cleaned_dataset_v1_path)\n",
    "df_v1.info()"
   ],
   "metadata": {
    "id": "BfxXmBJpqdvc"
   },
   "execution_count": null,
   "outputs": []
  },
  {
   "cell_type": "markdown",
   "source": [
    "<a name=\"feature-selection\"></a>\n",
    "## Feature selection"
   ],
   "metadata": {
    "id": "v7dOYI6KDKRL"
   }
  },
  {
   "cell_type": "markdown",
   "source": [
    "<a name=\"selection-pipeline-v1\"></a>\n",
    "### Selection v1"
   ],
   "metadata": {
    "id": "2h8zBHJSDRSP"
   }
  },
  {
   "cell_type": "code",
   "source": [
    "cat_cols = [\n",
    "    \"PrimaryPropertyType\",\n",
    "    \"YearBuilt\",\n",
    "    \"NumberofBuildings\",\n",
    "    \"NumberofFloors\",\n",
    "    \"ENERGYSTARScore_isna\",\n",
    "    ]\n",
    "num_cols = [\n",
    "    \"Latitude\",\n",
    "    \"Longitude\",\n",
    "    \"PropertyGFAParking\",\n",
    "    \"PropertyGFABuilding(s)\",\n",
    "    ]\n",
    "pred_cols = [\n",
    "    \"SiteEnergyUseWN(kBtu)\",\n",
    "    \"TotalGHGEmissions\"\n",
    "    ]\n",
    "cols = cat_cols + num_cols + pred_cols\n",
    "df_pred_v1 = df_v1[cols]"
   ],
   "metadata": {
    "id": "YqrTl68YDNjp"
   },
   "execution_count": null,
   "outputs": []
  },
  {
   "cell_type": "code",
   "source": [
    "X = df_pred_v1[cols[:-2]]\n",
    "Y_E = df_pred_v1[cols[-2]]\n",
    "Y_CO2 = df_pred_v1[cols[-1]]"
   ],
   "metadata": {
    "id": "fqiPRbRGcMKF"
   },
   "execution_count": null,
   "outputs": []
  },
  {
   "cell_type": "code",
   "source": [
    "X_train, X_test, Y_E_train, Y_E_test, Y_CO2_train, Y_CO2_test = train_test_split(X, Y_E, Y_CO2, test_size=0.1, random_state=6)\n",
    "print(f\"[INFO] X_test shape: {X_test.shape}\")\n",
    "print(f\"[INFO] X_train shape: {X_train.shape}\")"
   ],
   "metadata": {
    "id": "r0al8RfndF9E"
   },
   "execution_count": null,
   "outputs": []
  },
  {
   "cell_type": "code",
   "source": [
    "num_tr = Pipeline([(\"scaler\", StandardScaler())])\n",
    "cat_tr = Pipeline([\n",
    "    (\"encoder\", OneHotEncoder(handle_unknown=\"ignore\", sparse_output=False)),\n",
    "    ])\n",
    "prep_v1 = ColumnTransformer([\n",
    "    (\"num\", num_tr, num_cols),\n",
    "    (\"cat\", cat_tr, cat_cols),\n",
    "    ])"
   ],
   "metadata": {
    "id": "Gtn-cNpdwjCX"
   },
   "execution_count": null,
   "outputs": []
  },
  {
   "cell_type": "markdown",
   "source": [
    "<a name=\"prediction\"></a>\n",
    "## Prediction"
   ],
   "metadata": {
    "id": "aCTjTxV6G12w"
   }
  },
  {
   "cell_type": "markdown",
   "source": [
    "<a name=\"linear-prediction-v1\"></a>\n",
    "### Linear prediction v1"
   ],
   "metadata": {
    "id": "Qv-PWVC-HAcC"
   }
  },
  {
   "cell_type": "code",
   "source": [
    "lin_pipe_v1 = Pipeline([\n",
    "    ('prep', prep_v1),\n",
    "    ('lr_ri', Ridge()),\n",
    "    ])\n",
    "lin_pipe_v1"
   ],
   "metadata": {
    "id": "NkjoNzzvhT_n"
   },
   "execution_count": null,
   "outputs": []
  },
  {
   "cell_type": "code",
   "source": [
    "param_grid = {\n",
    "    \"lr_ri__alpha\": np.logspace(-4, 4, 10),\n",
    "}\n",
    "s_lin_E = GridSearchCV(lin_pipe_v1, param_grid)\n",
    "s_lin_E.fit(X_train, Y_E_train)\n",
    "print(\"Best parameter (CV score=%0.3f):\" % s_lin_E.best_score_)\n",
    "print(s_lin_E.best_params_)"
   ],
   "metadata": {
    "id": "CNol2aruilX9"
   },
   "execution_count": null,
   "outputs": []
  },
  {
   "cell_type": "code",
   "source": [
    "s_lin_CO2 = GridSearchCV(lin_pipe_v1, param_grid)\n",
    "s_lin_CO2.fit(X_train, Y_CO2_train)\n",
    "print(\"Best parameter (CV score=%0.3f):\" % s_lin_CO2.best_score_)\n",
    "print(s_lin_CO2.best_params_)"
   ],
   "metadata": {
    "id": "rAryEEypstgn"
   },
   "execution_count": null,
   "outputs": []
  },
  {
   "cell_type": "markdown",
   "source": [
    "<a name=\"svr-prediction-v1\"></a>\n",
    "### SVR prediction v1"
   ],
   "metadata": {
    "id": "fJWy4sY9teWU"
   }
  },
  {
   "cell_type": "code",
   "source": [
    "svr_pipe_v1 = Pipeline([\n",
    "    ('prep', prep_v1),\n",
    "    ('pca', PCA()),\n",
    "    ('svr', SVR()),\n",
    "    ])\n",
    "svr_pipe_v1"
   ],
   "metadata": {
    "id": "vM62LjN0zmYZ"
   },
   "execution_count": null,
   "outputs": []
  },
  {
   "cell_type": "code",
   "source": [
    "param_grid = {\n",
    "    \"pca__n_components\": [3, 5, 7, 11, 17, 33, 50],\n",
    "    \"svr__C\": np.logspace(-3, 3, 3),\n",
    "    \"svr__epsilon\": np.logspace(-4, 1, 3),\n",
    "}\n",
    "s_svr_E = GridSearchCV(svr_pipe_v1, param_grid)\n",
    "s_svr_E.fit(X_train, Y_E_train)\n",
    "print(\"Best parameter (CV score=%0.3f):\" % s_svr_E.best_score_)\n",
    "print(s_svr_E.best_params_)"
   ],
   "metadata": {
    "id": "GERPCP2nz0Hc"
   },
   "execution_count": null,
   "outputs": []
  },
  {
   "cell_type": "code",
   "source": [
    "s_svr_CO2 = GridSearchCV(svr_pipe_v1, param_grid)\n",
    "s_svr_CO2.fit(X_train, Y_CO2_train)\n",
    "print(\"Best parameter (CV score=%0.3f):\" % s_svr_CO2.best_score_)\n",
    "print(s_svr_CO2.best_params_)"
   ],
   "metadata": {
    "id": "oKg9ykoqz1uP"
   },
   "execution_count": null,
   "outputs": []
  },
  {
   "cell_type": "code",
   "source": [
    "# Plot the PCA spectrum\n",
    "pca = svr_pipe_v1['pca']\n",
    "\n",
    "pca.fit(prep_v1.fit_transform(X_train))\n",
    "\n",
    "fig, (ax0, ax1) = plt.subplots(nrows=2, sharex=True, figsize=(6, 6))\n",
    "ax0.plot(\n",
    "    np.arange(1, pca.n_components_ + 1), pca.explained_variance_ratio_, \"+\", linewidth=2\n",
    ")\n",
    "ax0.set_ylabel(\"PCA explained variance ratio\")\n",
    "\n",
    "ax0.axvline(\n",
    "    s_svr_CO2.best_estimator_.named_steps[\"pca\"].n_components,\n",
    "    linestyle=\":\",\n",
    "    label=\"n_components chosen\",\n",
    ")\n",
    "ax0.legend(prop=dict(size=12))\n",
    "\n",
    "# For each number of components, find the best classifier results\n",
    "results = pd.DataFrame(s_svr_CO2.cv_results_)\n",
    "components_col = \"param_pca__n_components\"\n",
    "best_clfs = results.groupby(components_col).apply(\n",
    "    lambda g: g.nlargest(1, \"mean_test_score\")\n",
    ")\n",
    "\n",
    "best_clfs.plot(\n",
    "    x=components_col, y=\"mean_test_score\", yerr=\"std_test_score\", legend=False, ax=ax1\n",
    ")\n",
    "ax1.set_ylabel(\"Accuracy (val)\")\n",
    "ax1.set_xlabel(\"n_components\")\n",
    "\n",
    "plt.xlim(-1, 70)\n",
    "\n",
    "plt.tight_layout()\n",
    "plt.show()"
   ],
   "metadata": {
    "id": "UiyfC-AXoMbr"
   },
   "execution_count": null,
   "outputs": []
  },
  {
   "cell_type": "markdown",
   "source": [
    "<a name=\"ensemble-prediction-v1\"></a>\n",
    "### Ensemble prediction v1"
   ],
   "metadata": {
    "id": "N1wVVjFStQIQ"
   }
  },
  {
   "cell_type": "code",
   "source": [
    "rf_pipe_v1 = Pipeline([\n",
    "    ('prep', prep_v1),\n",
    "    ('rf', RandomForestRegressor()),\n",
    "    ])\n",
    "rf_pipe_v1"
   ],
   "metadata": {
    "id": "GoAfWBaRtXnp"
   },
   "execution_count": null,
   "outputs": []
  },
  {
   "cell_type": "code",
   "source": [
    "param_grid = {\n",
    "    \"rf__n_estimators\": [10, 20, 40, 70],\n",
    "    \"rf__max_depth\": [10, 20, 40, 70],\n",
    "}\n",
    "s_rf_E = GridSearchCV(rf_pipe_v1, param_grid)\n",
    "s_rf_E.fit(X_train, Y_E_train)\n",
    "print(\"Best parameter (CV score=%0.3f):\" % s_rf_E.best_score_)\n",
    "print(s_rf_E.best_params_)"
   ],
   "metadata": {
    "id": "GLLQN7jp0xED"
   },
   "execution_count": null,
   "outputs": []
  },
  {
   "cell_type": "code",
   "source": [
    "s_rf_CO2 = GridSearchCV(rf_pipe_v1, param_grid)\n",
    "s_rf_CO2.fit(X_train, Y_CO2_train)\n",
    "print(\"Best parameter (CV score=%0.3f):\" % s_rf_CO2.best_score_)\n",
    "print(s_rf_CO2.best_params_)"
   ],
   "metadata": {
    "id": "L8iB-fcO0y1z"
   },
   "execution_count": null,
   "outputs": []
  },
  {
   "cell_type": "markdown",
   "source": [
    "<a name=\"evaluation\"></a>\n",
    "## Evaluation"
   ],
   "metadata": {
    "id": "F4gVJSYuG1QR"
   }
  },
  {
   "cell_type": "markdown",
   "source": [
    "<a name=\"evaluation-v1\"></a>\n",
    "### Evaluation v1"
   ],
   "metadata": {
    "id": "4Yv3ELtVHDDO"
   }
  },
  {
   "cell_type": "code",
   "source": [
    "metrics = {\n",
    "    \"r2\": r2_score,\n",
    "    \"d2\": d2_absolute_error_score,\n",
    "    \"exp_va\": explained_variance_score,\n",
    "    \"mse\": mean_squared_error,\n",
    "    \"rmse\": lambda *arg,**kwarg: mean_squared_error(*arg,**kwarg)**0.5,\n",
    "    \"mae\": mean_absolute_error\n",
    "    }\n",
    "models = [\"lin\", \"svr\", \"rf\"]\n",
    "\n",
    "E_res = []\n",
    "for model in models:\n",
    "    E_res.append([eval(f\"m(Y_E_test, s_{model}_E.best_estimator_.predict(X_test))\") for m in metrics.values()])\n",
    "CO2_res = []\n",
    "for model in models:\n",
    "    CO2_res.append([eval(f\"m(Y_CO2_test, s_{model}_CO2.best_estimator_.predict(X_test))\") for m in metrics.values()])"
   ],
   "metadata": {
    "id": "-hxIkDbFFx5e"
   },
   "execution_count": null,
   "outputs": []
  },
  {
   "cell_type": "code",
   "source": [
    "pd.DataFrame(E_res, columns=metrics.keys(), index=models)"
   ],
   "metadata": {
    "id": "_HajgZfu95nH"
   },
   "execution_count": null,
   "outputs": []
  },
  {
   "cell_type": "code",
   "source": [
    "pd.DataFrame(CO2_res, columns=metrics.keys(), index=models)"
   ],
   "metadata": {
    "id": "uOcmROH0-uUM"
   },
   "execution_count": null,
   "outputs": []
  }
 ]
}
