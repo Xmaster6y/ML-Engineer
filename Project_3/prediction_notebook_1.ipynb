{
 "nbformat": 4,
 "nbformat_minor": 0,
 "metadata": {
  "colab": {
   "provenance": []
  },
  "kernelspec": {
   "name": "",
   "display_name": ""
  },
  "language_info": {
   "name": "python"
  }
 },
 "cells": [
  {
   "cell_type": "markdown",
   "source": [
    "# First prediction notebook"
   ],
   "metadata": {
    "id": "alzuis7Fdzti"
   }
  },
  {
   "cell_type": "code",
   "source": [],
   "metadata": {
    "id": "ruVCLL9TdySa"
   },
   "execution_count": null,
   "outputs": []
  }
 ]
}
