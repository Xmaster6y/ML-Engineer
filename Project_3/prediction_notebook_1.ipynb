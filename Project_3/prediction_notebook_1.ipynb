{
 "nbformat": 4,
 "nbformat_minor": 0,
 "metadata": {
  "colab": {
   "provenance": []
  },
  "kernelspec": {
   "name": "",
   "display_name": ""
  },
  "language_info": {
   "name": "python"
  }
 },
 "cells": [
  {
   "cell_type": "markdown",
   "source": [
    "# First prediction notebook\n",
    "\n",
    "Prediction of the Energy consumption.\n",
    "\n",
    "* [Imports](#imports)\n",
    "* [Data loading](#data-loading)\n",
    "* [Feature seletion](#feature-seletion)\n",
    "    * [Selection](#selection-pipeline)\n",
    "* [Baseline](#baseline)\n",
    "    * [Dummy regressor](#dummy-regressor)\n",
    "    * [Small linear regression](#small-linear-regression)\n",
    "* [Prediction](#prediction)\n",
    "    * [Preprocessing](#preprocessing)\n",
    "    * [Linear prediction](#linear-prediction)\n",
    "    * [SVR prediction](#svr-prediction)\n",
    "    * [Ensemble prediction](#ensemble-prediction)\n",
    "    * [XGBoost prediction](#xgboost-prediction)\n",
    "* [Evaluation](#evaluation)\n",
    "    * [Evaluation](#evaluation)\n",
    "    * [Residual plot](#residual-plot)\n",
    "* [Energy score](#energy-score)\n",
    "    * [First linear regressions](#first-linear-regressions)\n",
    "    * [Quantitative results](#quantitative-results)\n",
    "    * [Feature importance](#feature-importance)"
   ],
   "metadata": {
    "id": "alzuis7Fdzti"
   }
  },
  {
   "cell_type": "markdown",
   "source": [
    "<a name=\"imports\"></a>\n",
    "## Imports"
   ],
   "metadata": {
    "id": "vM-0mqSdfWjK"
   }
  },
  {
   "cell_type": "code",
   "source": [
    "!pip install shap"
   ],
   "metadata": {
    "id": "SAU6PiVo_J_z"
   },
   "execution_count": null,
   "outputs": []
  },
  {
   "cell_type": "code",
   "source": [
    "import os\n",
    "import pandas as pd\n",
    "import numpy as np\n",
    "import matplotlib.pyplot as plt\n",
    "import seaborn as sns\n",
    "from time import time\n",
    "from copy import deepcopy\n",
    "\n",
    "from sklearn.pipeline import Pipeline\n",
    "from sklearn.compose import ColumnTransformer, TransformedTargetRegressor\n",
    "from sklearn.model_selection import train_test_split\n",
    "from sklearn.model_selection import GridSearchCV, KFold\n",
    "\n",
    "from sklearn.feature_selection import VarianceThreshold\n",
    "from sklearn.feature_selection import SelectPercentile, chi2\n",
    "from sklearn.preprocessing import StandardScaler, OneHotEncoder, RobustScaler, MinMaxScaler\n",
    "from sklearn.impute import KNNImputer\n",
    "\n",
    "from sklearn.dummy import DummyRegressor\n",
    "\n",
    "from sklearn.decomposition import PCA\n",
    "from sklearn.linear_model import Ridge, ElasticNet, LinearRegression\n",
    "from sklearn.svm import SVR\n",
    "from sklearn.ensemble import RandomForestRegressor\n",
    "from xgboost import XGBRegressor\n",
    "\n",
    "from sklearn.metrics import r2_score, d2_absolute_error_score\n",
    "from sklearn.metrics import explained_variance_score\n",
    "from sklearn.metrics import mean_squared_error, mean_absolute_error\n",
    "from sklearn.inspection import permutation_importance\n",
    "\n",
    "import shap\n",
    "# print the JS visualization code to the notebook\n",
    "shap.initjs()"
   ],
   "metadata": {
    "id": "ruVCLL9TdySa"
   },
   "execution_count": null,
   "outputs": []
  },
  {
   "cell_type": "markdown",
   "source": [
    "<a name=\"data-loading\"></a>\n",
    "## Data loading"
   ],
   "metadata": {
    "id": "vzF2vEugfg5w"
   }
  },
  {
   "cell_type": "code",
   "source": [
    "cleaned_dataset_v1_path = 'data_cleaned_v1.csv'\n",
    "if not os.path.exists(cleaned_dataset_v1_path):\n",
    "    !wget \"https://drive.google.com/uc?export=download&id=1EYQuRaqc4yo0QYl35DRoIC6-IDwaX7Wq\" -q --show-progress -O \"$cleaned_dataset_v1_path\"\n",
    "!head -2 $cleaned_dataset_v1_path"
   ],
   "metadata": {
    "id": "LdxrDq03fgA8"
   },
   "execution_count": null,
   "outputs": []
  },
  {
   "cell_type": "code",
   "source": [
    "cleaned_dataset_v2_path = 'data_cleaned_v2.csv'\n",
    "if not os.path.exists(cleaned_dataset_v2_path):\n",
    "    !wget \"https://drive.google.com/uc?export=download&id=14_YIQ_v0D8PGwSkzb8KtbQIcAvlUeCLo\" -q --show-progress -O \"$cleaned_dataset_v2_path\"\n",
    "!head -2 $cleaned_dataset_v2_path"
   ],
   "metadata": {
    "id": "Z_ew5GQC6v3y"
   },
   "execution_count": null,
   "outputs": []
  },
  {
   "cell_type": "code",
   "source": [
    "cleaned_dataset_v3_path = 'data_cleaned_v3.csv'\n",
    "if not os.path.exists(cleaned_dataset_v3_path):\n",
    "    !wget \"https://drive.google.com/uc?export=download&id=1IUo4LplvDDytlWM58RgXZveljzNVkhzb\" -q --show-progress -O \"$cleaned_dataset_v3_path\"\n",
    "!head -2 $cleaned_dataset_v3_path"
   ],
   "metadata": {
    "id": "Q4O_I2QfiL6f"
   },
   "execution_count": null,
   "outputs": []
  },
  {
   "cell_type": "code",
   "source": [
    "df_v3 = pd.read_csv(cleaned_dataset_v3_path)\n",
    "df_v3.info()"
   ],
   "metadata": {
    "id": "BfxXmBJpqdvc"
   },
   "execution_count": null,
   "outputs": []
  },
  {
   "cell_type": "code",
   "source": [
    "df_v3.isna().sum()"
   ],
   "metadata": {
    "id": "wqbLrPtczsZr"
   },
   "execution_count": null,
   "outputs": []
  },
  {
   "cell_type": "markdown",
   "source": [
    "<a name=\"feature-selection\"></a>\n",
    "## Feature selection"
   ],
   "metadata": {
    "id": "v7dOYI6KDKRL"
   }
  },
  {
   "cell_type": "markdown",
   "source": [
    "<a name=\"selection-pipeline\"></a>\n",
    "### Selection"
   ],
   "metadata": {
    "id": "2h8zBHJSDRSP"
   }
  },
  {
   "cell_type": "code",
   "source": [
    "cat_cols = [\n",
    "    \"BuildingType\",\n",
    "    \"PrimaryPropertyType\",\n",
    "    \"is_ENERGYSTARScore\",\n",
    "    \"is_PropertyGFAParking\",\n",
    "    ]\n",
    "num_cols = [\n",
    "    \"Latitude\",\n",
    "    \"Longitude\",\n",
    "    \"NumberofBuildings\",\n",
    "    \"NumberofFloors\",\n",
    "    \"YearBuilt\",\n",
    "    \"PropertyGFABuilding(s)\",\n",
    "    \"LargestPropertyUseTypeGFA\",\n",
    "    \"ENERGYSTARScore\",\n",
    "    \"ratio_SteamUse\",\n",
    "    \"ratio_NaturalGas\",\n",
    "    ]\n",
    "emb_cols = [f\"PCA - {i}\" for i in range(1,31)]\n",
    "pred_cols = [\n",
    "    \"SiteEnergyUseWN(kBtu)\",\n",
    "    \"mean_SiteEnergyUseWN(kBtu)\"\n",
    "    ]\n",
    "cols = cat_cols + num_cols + emb_cols + pred_cols\n",
    "df_pred_v3 = df_v3[cols]"
   ],
   "metadata": {
    "id": "YqrTl68YDNjp"
   },
   "execution_count": null,
   "outputs": []
  },
  {
   "cell_type": "code",
   "source": [
    "Y_E = df_pred_v3[cols[-2]]\n",
    "Y_E_mean = df_pred_v3[cols[-1]]\n",
    "X = df_pred_v3.loc[Y_E < 3e8, cols[:-2]]"
   ],
   "metadata": {
    "id": "fqiPRbRGcMKF"
   },
   "execution_count": null,
   "outputs": []
  },
  {
   "cell_type": "code",
   "source": [
    "Y_E[Y_E > 3e8]"
   ],
   "metadata": {
    "id": "E2elBwD0pu3J"
   },
   "execution_count": null,
   "outputs": []
  },
  {
   "cell_type": "code",
   "source": [
    "Y_E_mean = Y_E_mean[Y_E < 3e8]\n",
    "Y_E = Y_E[Y_E < 3e8]"
   ],
   "metadata": {
    "id": "5aIEHgprQi_z"
   },
   "execution_count": null,
   "outputs": []
  },
  {
   "cell_type": "code",
   "source": [
    "X_train, X_test, Y_E_train, Y_E_test, Y_E_mean_train, Y_E_mean_test = train_test_split(X, Y_E, Y_E_mean, test_size=0.3, random_state=18)\n",
    "print(f\"[INFO] X_test shape: {X_test.shape}\")\n",
    "print(f\"[INFO] X_train shape: {X_train.shape}\")"
   ],
   "metadata": {
    "id": "r0al8RfndF9E"
   },
   "execution_count": null,
   "outputs": []
  },
  {
   "cell_type": "code",
   "source": [
    "num_tr = Pipeline([\n",
    "    (\"imputer\", KNNImputer()),\n",
    "    (\"scaler\", StandardScaler())\n",
    "    ])\n",
    "cat_tr = Pipeline([\n",
    "    (\"encoder\", OneHotEncoder(handle_unknown=\"ignore\", sparse_output=False)),\n",
    "    ('pca', PCA()),\n",
    "    (\"scaler\", StandardScaler())\n",
    "    ])\n",
    "emb_tr = Pipeline([\n",
    "    (\"selec\", VarianceThreshold()),\n",
    "    (\"scaler\", StandardScaler()),\n",
    "    ])\n",
    "prep_v3 = ColumnTransformer([\n",
    "    (\"num\", num_tr, num_cols),\n",
    "    (\"cat\", cat_tr, cat_cols),\n",
    "    (\"emb\", emb_tr, emb_cols),\n",
    "    ])"
   ],
   "metadata": {
    "id": "Gtn-cNpdwjCX"
   },
   "execution_count": null,
   "outputs": []
  },
  {
   "cell_type": "code",
   "source": [
    "Y_E_train.describe()"
   ],
   "metadata": {
    "id": "kN_YTf0pJJ6Q"
   },
   "execution_count": null,
   "outputs": []
  },
  {
   "cell_type": "code",
   "source": [
    "Y_E_test.describe()"
   ],
   "metadata": {
    "id": "UVhHyCpiJcpu"
   },
   "execution_count": null,
   "outputs": []
  },
  {
   "cell_type": "markdown",
   "source": [
    "<a name=\"baseline\"></a>\n",
    "## Baseline"
   ],
   "metadata": {
    "id": "OLKZlIQ05GSL"
   }
  },
  {
   "cell_type": "markdown",
   "source": [
    "<a name=\"dummy-regressor\"></a>\n",
    "### Dummy regressor"
   ],
   "metadata": {
    "id": "9HxlT90e5PVV"
   }
  },
  {
   "cell_type": "code",
   "source": [
    "dummy_E = DummyRegressor(strategy=\"mean\")\n",
    "dummy_E.fit(X_train, Y_E_train)\n",
    "print(f\"Train score:{dummy_E.score(X_train, Y_E_train)}\")\n",
    "print(f\"Test score:{dummy_E.score(X_test, Y_E_test)}\")"
   ],
   "metadata": {
    "id": "PhP6Ss7N8Klg"
   },
   "execution_count": null,
   "outputs": []
  },
  {
   "cell_type": "code",
   "source": [
    "dummy_E = DummyRegressor(strategy=\"quantile\")\n",
    "param_grid = {\n",
    "    \"quantile\": np.linspace(0, 1, 11),\n",
    "}\n",
    "s_dummy_E = GridSearchCV(dummy_E, param_grid, n_jobs=-1, return_train_score=True)\n",
    "s_dummy_E.fit(X_train, Y_E_train)\n",
    "print(\"Best parameter (CV score=%0.3f):\" % s_dummy_E.best_score_)\n",
    "print(s_dummy_E.best_params_)\n",
    "res = pd.DataFrame(s_dummy_E.cv_results_)\n",
    "print(res[[\"mean_train_score\",\"std_train_score\"]])\n",
    "print(f\"Train score:{s_dummy_E.best_estimator_.score(X_train, Y_E_train)}\")\n",
    "print(f\"Test score:{s_dummy_E.best_estimator_.score(X_test, Y_E_test)}\")"
   ],
   "metadata": {
    "id": "_pKN5S3TAHTN"
   },
   "execution_count": null,
   "outputs": []
  },
  {
   "cell_type": "markdown",
   "source": [
    "<a name=\"small-linear-regression\"></a>\n",
    "### Small linear regression"
   ],
   "metadata": {
    "id": "0h_obTo55SI-"
   }
  },
  {
   "cell_type": "code",
   "source": [
    "X_train.columns\n",
    "small_cols = [\n",
    "              'PropertyGFABuilding(s)'\n",
    "              ]\n",
    "small_lr_E = LinearRegression()\n",
    "small_lr_E.fit(X_train[small_cols], Y_E_train)\n",
    "print(f\"Train score:{small_lr_E.score(X_train[small_cols], Y_E_train)}\")\n",
    "print(f\"Test score:{small_lr_E.score(X_test[small_cols], Y_E_test)}\")"
   ],
   "metadata": {
    "id": "W3I53HME8LGV"
   },
   "execution_count": null,
   "outputs": []
  },
  {
   "cell_type": "code",
   "source": [
    "X_train.columns\n",
    "small_cols = ['YearBuilt',\n",
    "              'PropertyGFABuilding(s)'\n",
    "              ]\n",
    "small_lr_E = LinearRegression()\n",
    "small_lr_E.fit(X_train[small_cols], Y_E_train)\n",
    "print(f\"Train score:{small_lr_E.score(X_train[small_cols], Y_E_train)}\")\n",
    "print(f\"Test score:{small_lr_E.score(X_test[small_cols], Y_E_test)}\")"
   ],
   "metadata": {
    "id": "cUId5JzhBp9n"
   },
   "execution_count": null,
   "outputs": []
  },
  {
   "cell_type": "code",
   "source": [
    "X_train.columns\n",
    "small_cols = ['YearBuilt',\n",
    "              'PropertyGFABuilding(s)',\n",
    "    \"NumberofBuildings\",\n",
    "    \"NumberofFloors\",\n",
    "    \"YearBuilt\",\n",
    "              ]\n",
    "small_lr_E = LinearRegression()\n",
    "small_lr_E.fit(X_train[small_cols], Y_E_train)\n",
    "print(f\"Train score:{small_lr_E.score(X_train[small_cols], Y_E_train)}\")\n",
    "print(f\"Test score:{small_lr_E.score(X_test[small_cols], Y_E_test)}\")"
   ],
   "metadata": {
    "id": "wIsouorcii4I"
   },
   "execution_count": null,
   "outputs": []
  },
  {
   "cell_type": "code",
   "source": [
    "X_train.columns\n",
    "small_cols = ['PropertyGFABuilding(s)'] + emb_cols\n",
    "small_lr_E = LinearRegression()\n",
    "small_lr_E.fit(X_train[small_cols], Y_E_train)\n",
    "print(f\"Train score:{small_lr_E.score(X_train[small_cols], Y_E_train)}\")\n",
    "print(f\"Test score:{small_lr_E.score(X_test[small_cols], Y_E_test)}\")"
   ],
   "metadata": {
    "id": "8FiL2q0Ai1vm"
   },
   "execution_count": null,
   "outputs": []
  },
  {
   "cell_type": "code",
   "source": [
    "X_train.columns\n",
    "small_cols = emb_cols\n",
    "small_lr_E = LinearRegression()\n",
    "small_lr_E.fit(X_train[small_cols], Y_E_train)\n",
    "print(f\"Train score:{small_lr_E.score(X_train[small_cols], Y_E_train)}\")\n",
    "print(f\"Test score:{small_lr_E.score(X_test[small_cols], Y_E_test)}\")"
   ],
   "metadata": {
    "id": "N0EkJRR7T-aj"
   },
   "execution_count": null,
   "outputs": []
  },
  {
   "cell_type": "code",
   "source": [
    "X_train.columns\n",
    "small_cols = ['PropertyGFABuilding(s)'] + emb_cols\n",
    "small_lr_E = LinearRegression()\n",
    "small_lr_E.fit(X_train[small_cols], Y_E_mean_train)\n",
    "print(f\"Train score:{small_lr_E.score(X_train[small_cols], Y_E_mean_train)}\")\n",
    "print(f\"Test score:{small_lr_E.score(X_test[small_cols], Y_E_mean_test)}\")"
   ],
   "metadata": {
    "id": "e4qQ5J_sAShE"
   },
   "execution_count": null,
   "outputs": []
  },
  {
   "cell_type": "markdown",
   "source": [
    "<a name=\"prediction\"></a>\n",
    "## Prediction"
   ],
   "metadata": {
    "id": "aCTjTxV6G12w"
   }
  },
  {
   "cell_type": "markdown",
   "source": [
    "<a name=\"preprocessing\"></a>\n",
    "### Preprocessing"
   ],
   "metadata": {
    "id": "Qv-PWVC-HAcC"
   }
  },
  {
   "cell_type": "code",
   "source": [
    "lin_pipe_v3 = Pipeline([\n",
    "    ('prep', prep_v3),\n",
    "    ('scaler', StandardScaler()),\n",
    "    ('lr_en', ElasticNet()),\n",
    "    ])\n",
    "lin_pipe_v3"
   ],
   "metadata": {
    "id": "NkjoNzzvhT_n"
   },
   "execution_count": null,
   "outputs": []
  },
  {
   "cell_type": "code",
   "source": [
    "param_grid = {\n",
    "    \"prep__emb__selec__threshold\": [0.01],\n",
    "    \"prep__cat__pca__n_components\": [9],\n",
    "    \"prep__num__scaler\": [\"passthrough\", MinMaxScaler(), RobustScaler()],\n",
    "    \"prep__emb__scaler\": [\"passthrough\", MinMaxScaler(), RobustScaler()],\n",
    "    \"prep__cat__scaler\": [\"passthrough\", MinMaxScaler(), RobustScaler()],\n",
    "    \"lr_en__alpha\": np.logspace(-1, 1, 3),\n",
    "    \"lr_en__l1_ratio\": np.logspace(-2, -1, 2),\n",
    "}\n",
    "s_lin_E = GridSearchCV(lin_pipe_v3, param_grid, n_jobs=-1, return_train_score=True)\n",
    "s_lin_E.fit(X_train, Y_E_train)\n",
    "print(\"Best parameter (CV score=%0.3f):\" % s_lin_E.best_score_)\n",
    "print(s_lin_E.best_params_)\n",
    "res = pd.DataFrame(s_lin_E.cv_results_)\n",
    "print(res[[\"mean_train_score\",\"std_train_score\",\"mean_test_score\",\"std_test_score\"]])\n",
    "print(f\"Train score:{s_lin_E.best_estimator_.score(X_train, Y_E_train)}\")\n",
    "print(f\"Test score:{s_lin_E.best_estimator_.score(X_test, Y_E_test)}\")"
   ],
   "metadata": {
    "id": "CNol2aruilX9"
   },
   "execution_count": null,
   "outputs": []
  },
  {
   "cell_type": "code",
   "source": [
    "param_grid = {\n",
    "    \"prep__emb__selec__threshold\": [0, 1e-3, 1e-2, 0.05, 0.1],\n",
    "    \"prep__cat__pca__n_components\": [9],\n",
    "    \"prep__num__scaler\": [RobustScaler()],\n",
    "    \"prep__emb__scaler\": [RobustScaler()],\n",
    "    \"prep__cat__scaler\": [\"passthrough\"],\n",
    "    \"lr_en__alpha\": [1.0],\n",
    "    \"lr_en__l1_ratio\": [0.1],\n",
    "}\n",
    "s_lin_E = GridSearchCV(lin_pipe_v3, param_grid, n_jobs=-1, return_train_score=True)\n",
    "s_lin_E.fit(X_train, Y_E_train)\n",
    "print(\"Best parameter (CV score=%0.3f):\" % s_lin_E.best_score_)\n",
    "print(s_lin_E.best_params_)\n",
    "res = pd.DataFrame(s_lin_E.cv_results_)\n",
    "print(res[[\"mean_train_score\",\"std_train_score\",\"mean_test_score\",\"std_test_score\"]])\n",
    "print(f\"Train score:{s_lin_E.best_estimator_.score(X_train, Y_E_train)}\")\n",
    "print(f\"Test score:{s_lin_E.best_estimator_.score(X_test, Y_E_test)}\")"
   ],
   "metadata": {
    "id": "EMAB3q0qwPNa"
   },
   "execution_count": null,
   "outputs": []
  },
  {
   "cell_type": "code",
   "source": [
    "param_grid = {\n",
    "    \"prep__emb__selec__threshold\": [0.],\n",
    "    \"prep__cat__pca__n_components\": list(range(1,19)),\n",
    "    \"prep__num__scaler\": [RobustScaler()],\n",
    "    \"prep__emb__scaler\": [RobustScaler()],\n",
    "    \"prep__cat__scaler\": [\"passthrough\"],\n",
    "    \"lr_en__alpha\": [1.0],\n",
    "    \"lr_en__l1_ratio\": [0.1],\n",
    "}\n",
    "s_lin_E = GridSearchCV(lin_pipe_v3, param_grid, n_jobs=-1, return_train_score=True)\n",
    "s_lin_E.fit(X_train, Y_E_train)\n",
    "print(\"Best parameter (CV score=%0.3f):\" % s_lin_E.best_score_)\n",
    "print(s_lin_E.best_params_)\n",
    "res = pd.DataFrame(s_lin_E.cv_results_)\n",
    "print(res[[\"mean_train_score\",\"std_train_score\",\"mean_test_score\",\"std_test_score\"]])\n",
    "print(f\"Train score:{s_lin_E.best_estimator_.score(X_train, Y_E_train)}\")\n",
    "print(f\"Test score:{s_lin_E.best_estimator_.score(X_test, Y_E_test)}\")"
   ],
   "metadata": {
    "id": "sQIh04f7jKY7"
   },
   "execution_count": null,
   "outputs": []
  },
  {
   "cell_type": "code",
   "source": [
    "encoder = OneHotEncoder(handle_unknown=\"ignore\", sparse_output=False)\n",
    "pca = PCA(n_components=18)\n",
    "pca.fit(encoder.fit_transform(X_train[cat_cols]))\n",
    "\n",
    "fig, (ax0, ax1) = plt.subplots(ncols=2, sharex=True, figsize=(10, 4))\n",
    "ax0.plot(\n",
    "    np.arange(1, pca.n_components_ + 1), pca.explained_variance_ratio_, \"+\", linewidth=2\n",
    ")\n",
    "ax0.set_ylabel(\"PCA explained variance ratio\")\n",
    "\n",
    "ax0.axvline(\n",
    "    1,\n",
    "    linestyle=\":\",\n",
    "    label=\"n_components chosen\",\n",
    ")\n",
    "ax0.legend(prop=dict(size=12))\n",
    "\n",
    "# For each number of components, find the best classifier results\n",
    "results = pd.DataFrame(s_lin_E.cv_results_)\n",
    "components_col = \"param_prep__cat__pca__n_components\"\n",
    "best_clfs = results.groupby(components_col).apply(\n",
    "    lambda g: g.nlargest(1, \"mean_test_score\")\n",
    ")\n",
    "\n",
    "best_clfs.plot(\n",
    "    x=components_col, y=\"mean_test_score\", yerr=\"std_test_score\", legend=False, ax=ax1\n",
    ")\n",
    "ax1.set_ylabel(\"Accuracy (val)\")\n",
    "ax1.set_xlabel(\"n_components\")\n",
    "\n",
    "plt.xlim(-1, 20)\n",
    "plt.ylim(-0.01, 0.7)\n",
    "\n",
    "plt.tight_layout()\n",
    "plt.show()"
   ],
   "metadata": {
    "id": "UiyfC-AXoMbr"
   },
   "execution_count": null,
   "outputs": []
  },
  {
   "cell_type": "code",
   "source": [
    "num_tr = Pipeline([\n",
    "    (\"imputer\", KNNImputer()),\n",
    "    (\"scaler\", RobustScaler())\n",
    "    ])\n",
    "cat_tr = Pipeline([\n",
    "    (\"encoder\", OneHotEncoder(handle_unknown=\"ignore\", sparse_output=False)),\n",
    "    ('pca', PCA(n_components=1)),\n",
    "    (\"scaler\", \"passthrough\")\n",
    "    ])\n",
    "emb_tr = Pipeline([\n",
    "    (\"selec\", VarianceThreshold()),\n",
    "    (\"scaler\", RobustScaler())\n",
    "    ])\n",
    "prep_v3 = ColumnTransformer([\n",
    "    (\"num\", num_tr, num_cols),\n",
    "    (\"cat\", cat_tr, cat_cols),\n",
    "    (\"emb\", emb_tr, emb_cols),\n",
    "    ])\n",
    "prep_v3"
   ],
   "metadata": {
    "id": "fPXZhREK70Ec"
   },
   "execution_count": null,
   "outputs": []
  },
  {
   "cell_type": "markdown",
   "source": [
    "<a name=\"linear-prediction\"></a>\n",
    "### Linear prediction"
   ],
   "metadata": {
    "id": "W6QljxFn5lZB"
   }
  },
  {
   "cell_type": "code",
   "source": [
    "lin_pipe_v3 = Pipeline([\n",
    "    ('prep', prep_v3),\n",
    "    ('scaler', StandardScaler()),\n",
    "    ('lr_en', ElasticNet()),\n",
    "    ])\n",
    "lin_pipe_v3"
   ],
   "metadata": {
    "id": "e8aRzEd38Qgf"
   },
   "execution_count": null,
   "outputs": []
  },
  {
   "cell_type": "code",
   "source": [
    "param_grid = {\n",
    "    \"lr_en__alpha\": np.logspace(-1, 1, 5),\n",
    "    \"lr_en__l1_ratio\": list(np.logspace(-3, 0, 4)),\n",
    "}\n",
    "s_lin_E = GridSearchCV(lin_pipe_v3, param_grid, n_jobs=-1, return_train_score=True)\n",
    "s_lin_E.fit(X_train, Y_E_train)\n",
    "print(\"Best parameter (CV score=%0.3f):\" % s_lin_E.best_score_)\n",
    "print(s_lin_E.best_params_)\n",
    "res = pd.DataFrame(s_lin_E.cv_results_)\n",
    "print(res[[\"mean_train_score\",\"std_train_score\",\"mean_test_score\",\"std_test_score\"]])\n",
    "print(f\"Train score:{s_lin_E.best_estimator_.score(X_train, Y_E_train)}\")\n",
    "print(f\"Test score:{s_lin_E.best_estimator_.score(X_test, Y_E_test)}\")"
   ],
   "metadata": {
    "id": "HsmHKGIx8gn9"
   },
   "execution_count": null,
   "outputs": []
  },
  {
   "cell_type": "code",
   "source": [
    "lin_pipe_v3 = Pipeline([\n",
    "    ('prep', prep_v3),\n",
    "    ('scaler', StandardScaler()),\n",
    "    ('lr_en', ElasticNet()),\n",
    "    ])\n",
    "lin_pipe_v3"
   ],
   "metadata": {
    "id": "EVPJo9-XZ8kp"
   },
   "execution_count": null,
   "outputs": []
  },
  {
   "cell_type": "code",
   "source": [
    "param_grid = {\n",
    "    \"lr_en__alpha\": np.logspace(-1, 1, 5),\n",
    "    \"lr_en__l1_ratio\": list(np.logspace(-3, 0, 4)),\n",
    "}\n",
    "s_lin_E = GridSearchCV(lin_pipe_v3, param_grid, n_jobs=-1, return_train_score=True)\n",
    "s_lin_E.fit(X_train, Y_E_mean_train)\n",
    "print(\"Best parameter (CV score=%0.3f):\" % s_lin_E.best_score_)\n",
    "print(s_lin_E.best_params_)\n",
    "res = pd.DataFrame(s_lin_E.cv_results_)\n",
    "print(res[[\"mean_train_score\",\"std_train_score\",\"mean_test_score\",\"std_test_score\"]])\n",
    "print(f\"Train score:{s_lin_E.best_estimator_.score(X_train, Y_E_mean_train)}\")\n",
    "print(f\"Test score:{s_lin_E.best_estimator_.score(X_test, Y_E_mean_test)}\")"
   ],
   "metadata": {
    "id": "kdIUZSPbZ-yX"
   },
   "execution_count": null,
   "outputs": []
  },
  {
   "cell_type": "code",
   "source": [
    "lin_ri_pipe_v3 = Pipeline([\n",
    "    ('prep', prep_v3),\n",
    "    ('scaler', StandardScaler()),\n",
    "    ('lr_en', Ridge()),\n",
    "    ])\n",
    "lin_ri_pipe_v3"
   ],
   "metadata": {
    "id": "XrZWnnMT9QfQ"
   },
   "execution_count": null,
   "outputs": []
  },
  {
   "cell_type": "code",
   "source": [
    "param_grid = {\n",
    "    \"lr_en__alpha\": np.logspace(-3, 3, 9),\n",
    "}\n",
    "s_lin_ri_E = GridSearchCV(lin_ri_pipe_v3, param_grid, n_jobs=-1, return_train_score=True)\n",
    "s_lin_ri_E.fit(X_train, Y_E_mean_train)\n",
    "print(\"Best parameter (CV score=%0.3f):\" % s_lin_ri_E.best_score_)\n",
    "print(s_lin_ri_E.best_params_)\n",
    "res = pd.DataFrame(s_lin_ri_E.cv_results_)\n",
    "print(res[[\"mean_train_score\",\"std_train_score\",\"mean_test_score\",\"std_test_score\"]])\n",
    "print(f\"Train score:{s_lin_ri_E.best_estimator_.score(X_train, Y_E_mean_train)}\")\n",
    "print(f\"Test score:{s_lin_ri_E.best_estimator_.score(X_test, Y_E_mean_test)}\")"
   ],
   "metadata": {
    "id": "sddISJ399Uox"
   },
   "execution_count": null,
   "outputs": []
  },
  {
   "cell_type": "code",
   "source": [
    "param_grid = {\n",
    "    \"lr_en__alpha\": np.logspace(-2, 2, 9),\n",
    "}\n",
    "s_lin_ri_E = GridSearchCV(lin_ri_pipe_v3, param_grid, n_jobs=-1, return_train_score=True, cv=5)\n",
    "s_lin_ri_E.fit(X_train, Y_E_train)\n",
    "print(\"Best parameter (CV score=%0.3f):\" % s_lin_ri_E.best_score_)\n",
    "print(s_lin_ri_E.best_params_)\n",
    "res = pd.DataFrame(s_lin_ri_E.cv_results_)\n",
    "print(res[[\"mean_train_score\",\"std_train_score\",\"mean_test_score\",\"std_test_score\"]])\n",
    "print(f\"Train score:{s_lin_ri_E.best_estimator_.score(X_train, Y_E_train)}\")\n",
    "print(f\"Test score:{s_lin_ri_E.best_estimator_.score(X_test, Y_E_test)}\")"
   ],
   "metadata": {
    "id": "ZHc7V0269q28"
   },
   "execution_count": null,
   "outputs": []
  },
  {
   "cell_type": "code",
   "source": [
    "lr_tr = TransformedTargetRegressor(regressor=ElasticNet(),\n",
    "                                func=np.log, \n",
    "                                inverse_func=np.exp)\n",
    "\n",
    "lin_tr_pipe_v3 = Pipeline([\n",
    "    ('prep', prep_v3),\n",
    "    ('scaler', StandardScaler()),\n",
    "    ('lr_en', lr_tr),\n",
    "    ])\n",
    "lin_tr_pipe_v3"
   ],
   "metadata": {
    "id": "vKRwB5In7ZY8"
   },
   "execution_count": null,
   "outputs": []
  },
  {
   "cell_type": "code",
   "source": [
    "param_grid = {\n",
    "    \"lr_en__regressor__alpha\": np.logspace(-1, 1, 5),\n",
    "    \"lr_en__regressor__l1_ratio\": list(np.logspace(-2, 0, 6)),\n",
    "}\n",
    "s_lin_tr_E = GridSearchCV(lin_tr_pipe_v3, param_grid, n_jobs=-1, return_train_score=True)\n",
    "s_lin_tr_E.fit(X_train, Y_E_train)\n",
    "print(\"Best parameter (CV score=%0.3f):\" % s_lin_tr_E.best_score_)\n",
    "print(s_lin_tr_E.best_params_)\n",
    "res = pd.DataFrame(s_lin_tr_E.cv_results_)\n",
    "print(res[[\"mean_train_score\",\"std_train_score\",\"mean_test_score\",\"std_test_score\"]])\n",
    "print(f\"Test score:{s_lin_tr_E.best_estimator_.score(X_test, Y_E_test)}\")"
   ],
   "metadata": {
    "id": "_908-n6W7cus"
   },
   "execution_count": null,
   "outputs": []
  },
  {
   "cell_type": "code",
   "source": [
    "lr = TransformedTargetRegressor(regressor=ElasticNet(),\n",
    "                                func=np.sqrt, \n",
    "                                inverse_func=np.square)\n",
    "\n",
    "lin_tr_pipe_v3 = Pipeline([\n",
    "    ('prep', prep_v3),\n",
    "    ('scaler', StandardScaler()),\n",
    "    ('lr_en', lr_tr),\n",
    "    ])\n",
    "lin_tr_pipe_v3"
   ],
   "metadata": {
    "id": "5PGQgNlHUFBb"
   },
   "execution_count": null,
   "outputs": []
  },
  {
   "cell_type": "code",
   "source": [
    "param_grid = {\n",
    "    \"lr_en__regressor__alpha\": np.logspace(-1, 1, 5),\n",
    "    \"lr_en__regressor__l1_ratio\": list(np.logspace(-4, 0, 6)),\n",
    "}\n",
    "s_lin_tr_E = GridSearchCV(lin_tr_pipe_v3, param_grid, n_jobs=-1, return_train_score=True)\n",
    "s_lin_tr_E.fit(X_train, Y_E_train)\n",
    "print(\"Best parameter (CV score=%0.3f):\" % s_lin_tr_E.best_score_)\n",
    "print(s_lin_tr_E.best_params_)\n",
    "res = pd.DataFrame(s_lin_tr_E.cv_results_)\n",
    "print(res[[\"mean_train_score\",\"std_train_score\",\"mean_test_score\",\"std_test_score\"]])\n",
    "print(f\"Test score:{s_lin_tr_E.best_estimator_.score(X_test, Y_E_test)}\")"
   ],
   "metadata": {
    "id": "9tfr0RneTBBY"
   },
   "execution_count": null,
   "outputs": []
  },
  {
   "cell_type": "code",
   "source": [
    "lr = TransformedTargetRegressor(regressor=Ridge(),\n",
    "                                func=np.sqrt, \n",
    "                                inverse_func=np.square)\n",
    "\n",
    "lin_tr_pipe_v3 = Pipeline([\n",
    "    ('prep', prep_v3),\n",
    "    ('scaler', StandardScaler()),\n",
    "    ('lr_en', lr_tr),\n",
    "    ])\n",
    "lin_tr_pipe_v3"
   ],
   "metadata": {
    "id": "uczQcOXdYFuF"
   },
   "execution_count": null,
   "outputs": []
  },
  {
   "cell_type": "code",
   "source": [
    "param_grid = {\n",
    "    \"lr_en__regressor__alpha\": np.logspace(-3, 3, 9),\n",
    "}\n",
    "s_lin_tr_E = GridSearchCV(lin_tr_pipe_v3, param_grid, n_jobs=-1, return_train_score=True)\n",
    "s_lin_tr_E.fit(X_train, Y_E_train)\n",
    "print(\"Best parameter (CV score=%0.3f):\" % s_lin_tr_E.best_score_)\n",
    "print(s_lin_tr_E.best_params_)\n",
    "res = pd.DataFrame(s_lin_tr_E.cv_results_)\n",
    "print(res[[\"mean_train_score\",\"std_train_score\",\"mean_test_score\",\"std_test_score\"]])\n",
    "print(f\"Test score:{s_lin_tr_E.best_estimator_.score(X_test, Y_E_test)}\")"
   ],
   "metadata": {
    "id": "yXAAOomgYM95"
   },
   "execution_count": null,
   "outputs": []
  },
  {
   "cell_type": "code",
   "source": [
    "feature_names = s_lin_E.best_estimator_['prep'].get_feature_names_out()\n",
    "coefs = pd.DataFrame(\n",
    "    s_lin_E.best_estimator_['lr_en'].coef_,\n",
    "    columns=[\"Coefficients\"],\n",
    "    index=feature_names,\n",
    ")\n",
    "\n",
    "coefs\n",
    "coefs.plot.barh(figsize=(9, 15))\n",
    "plt.title(\"Elastic net best parameters\")\n",
    "plt.axvline(x=0, color=\".5\")\n",
    "plt.xlabel(\"Raw coefficient values\")\n",
    "plt.subplots_adjust(left=0.3)"
   ],
   "metadata": {
    "id": "WwpiPgO87ocJ"
   },
   "execution_count": null,
   "outputs": []
  },
  {
   "cell_type": "markdown",
   "source": [
    "<a name=\"svr-prediction\"></a>\n",
    "### SVR prediction"
   ],
   "metadata": {
    "id": "fJWy4sY9teWU"
   }
  },
  {
   "cell_type": "code",
   "source": [
    "svr = regressor=SVR()\n",
    "\n",
    "svr_pipe_v3 = Pipeline([\n",
    "    ('prep', prep_v3),\n",
    "    ('scaler', MinMaxScaler()),\n",
    "    ('svr', svr),\n",
    "    ])\n",
    "svr_pipe_v3"
   ],
   "metadata": {
    "id": "C2X0EhdRLHhB"
   },
   "execution_count": null,
   "outputs": []
  },
  {
   "cell_type": "code",
   "source": [
    "param_grid = {\n",
    "    \"svr__C\": np.logspace(-4, 4, 5),\n",
    "    \"svr__epsilon\": np.logspace(-4, 4, 5),\n",
    "}\n",
    "s_svr_E = GridSearchCV(svr_pipe_v3, param_grid, n_jobs=-1, return_train_score=True)\n",
    "s_svr_E.fit(X_train, Y_E_train)\n",
    "print(\"Best parameter (CV score=%0.3f):\" % s_svr_E.best_score_)\n",
    "print(s_svr_E.best_params_)\n",
    "res = pd.DataFrame(s_svr_E.cv_results_)\n",
    "print(res[[\"mean_train_score\",\"std_train_score\",\"mean_test_score\",\"std_test_score\"]])\n",
    "print(f\"Test score:{s_svr_E.best_estimator_.score(X_test, Y_E_test)}\")"
   ],
   "metadata": {
    "id": "UOHDEFBdLJcn"
   },
   "execution_count": null,
   "outputs": []
  },
  {
   "cell_type": "code",
   "source": [
    "svr_tr = TransformedTargetRegressor(regressor=SVR(),\n",
    "                                func=np.sqrt, \n",
    "                                inverse_func=np.square)\n",
    "\n",
    "svr_tr_pipe_v3 = Pipeline([\n",
    "    ('prep', prep_v3),\n",
    "    ('scaler', MinMaxScaler()),\n",
    "    ('svr', svr_tr),\n",
    "    ])\n",
    "svr_tr_pipe_v3"
   ],
   "metadata": {
    "id": "vM62LjN0zmYZ"
   },
   "execution_count": null,
   "outputs": []
  },
  {
   "cell_type": "code",
   "source": [
    "param_grid = {\n",
    "    \"svr__regressor__C\": np.logspace(-4, 4, 5),\n",
    "    \"svr__regressor__epsilon\": np.logspace(-4, 4, 5),\n",
    "}\n",
    "s_svr_tr_E = GridSearchCV(svr_tr_pipe_v3, param_grid, n_jobs=-1, return_train_score=True)\n",
    "s_svr_tr_E.fit(X_train, Y_E_train)\n",
    "print(\"Best parameter (CV score=%0.3f):\" % s_svr_tr_E.best_score_)\n",
    "print(s_svr_tr_E.best_params_)\n",
    "res = pd.DataFrame(s_svr_tr_E.cv_results_)\n",
    "print(res[[\"mean_train_score\",\"std_train_score\",\"mean_test_score\",\"std_test_score\"]])\n",
    "print(f\"Train score:{s_svr_tr_E.best_estimator_.score(X_train, Y_E_train)}\")\n",
    "print(f\"Test score:{s_svr_tr_E.best_estimator_.score(X_test, Y_E_test)}\")"
   ],
   "metadata": {
    "id": "GERPCP2nz0Hc"
   },
   "execution_count": null,
   "outputs": []
  },
  {
   "cell_type": "code",
   "source": [
    "svr_tr = TransformedTargetRegressor(regressor=SVR(),\n",
    "                                func=np.log, \n",
    "                                inverse_func=np.exp)\n",
    "\n",
    "svr_tr_pipe_v3 = Pipeline([\n",
    "    ('prep', prep_v3),\n",
    "    ('scaler', MinMaxScaler()),\n",
    "    ('svr', svr_tr),\n",
    "    ])\n",
    "svr_tr_pipe_v3"
   ],
   "metadata": {
    "id": "hqajgKiaDMwW"
   },
   "execution_count": null,
   "outputs": []
  },
  {
   "cell_type": "code",
   "source": [
    "param_grid = {\n",
    "    \"svr__regressor__C\": np.logspace(-4, 4, 5),\n",
    "    \"svr__regressor__epsilon\": np.logspace(-4, 4, 5),\n",
    "}\n",
    "s_svr_tr_E = GridSearchCV(svr_tr_pipe_v3, param_grid, n_jobs=-1, return_train_score=True)\n",
    "s_svr_tr_E.fit(X_train, Y_E_train)\n",
    "print(\"Best parameter (CV score=%0.3f):\" % s_svr_tr_E.best_score_)\n",
    "print(s_svr_tr_E.best_params_)\n",
    "res = pd.DataFrame(s_svr_tr_E.cv_results_)\n",
    "print(res[[\"mean_train_score\",\"std_train_score\",\"mean_test_score\",\"std_test_score\"]])\n",
    "print(f\"Train score:{s_svr_tr_E.best_estimator_.score(X_train, Y_E_train)}\")\n",
    "print(f\"Test score:{s_svr_tr_E.best_estimator_.score(X_test, Y_E_test)}\")"
   ],
   "metadata": {
    "id": "ZmHezm-nDRhk"
   },
   "execution_count": null,
   "outputs": []
  },
  {
   "cell_type": "markdown",
   "source": [
    "<a name=\"ensemble-prediction\"></a>\n",
    "### Ensemble prediction"
   ],
   "metadata": {
    "id": "N1wVVjFStQIQ"
   }
  },
  {
   "cell_type": "code",
   "source": [
    "rf_pipe_v3 = Pipeline([\n",
    "    ('prep', prep_v3),\n",
    "    ('scaler', StandardScaler()),\n",
    "    ('rf', RandomForestRegressor()),\n",
    "    ])\n",
    "rf_pipe_v3"
   ],
   "metadata": {
    "id": "-BKLTXQFxzIH"
   },
   "execution_count": null,
   "outputs": []
  },
  {
   "cell_type": "code",
   "source": [
    "param_grid = {\n",
    "    \"rf__n_estimators\": [200, 250, 300],\n",
    "    \"rf__max_depth\": [10, 15, 25, 50],\n",
    "    \"rf__min_samples_leaf\": [3, 5, 7, 15],\n",
    "}\n",
    "s_rf_E = GridSearchCV(rf_pipe_v3, param_grid, n_jobs=-1, cv=5, return_train_score=True)\n",
    "s_rf_E.fit(X_train, Y_E_train)\n",
    "print(\"Best parameter (CV score=%0.3f):\" % s_rf_E.best_score_)\n",
    "print(s_rf_E.best_params_)\n",
    "res = pd.DataFrame(s_rf_E.cv_results_)\n",
    "print(res[[\"mean_train_score\",\"std_train_score\",\"mean_test_score\",\"std_test_score\"]])\n",
    "print(f\"Train score:{s_rf_E.best_estimator_.score(X_train, Y_E_train)}\")\n",
    "print(f\"Test score:{s_rf_E.best_estimator_.score(X_test, Y_E_test)}\")"
   ],
   "metadata": {
    "id": "yzTKcNm9x01N"
   },
   "execution_count": null,
   "outputs": []
  },
  {
   "cell_type": "code",
   "source": [
    "rf_tr = TransformedTargetRegressor(regressor=RandomForestRegressor(),\n",
    "                                func=np.sqrt, \n",
    "                                inverse_func=np.square)\n",
    "\n",
    "rf_tr_pipe_v3 = Pipeline([\n",
    "    ('prep', prep_v3),\n",
    "    ('scaler', StandardScaler()),\n",
    "    ('rf', rf_tr),\n",
    "    ])\n",
    "rf_tr_pipe_v3"
   ],
   "metadata": {
    "id": "GoAfWBaRtXnp"
   },
   "execution_count": null,
   "outputs": []
  },
  {
   "cell_type": "code",
   "source": [
    "param_grid = {\n",
    "    \"rf__regressor__n_estimators\": [150, 200, 250],\n",
    "    \"rf__regressor__max_depth\": [10, 15, 25, 50],\n",
    "    \"rf__regressor__min_samples_leaf\": [3, 5, 7],\n",
    "}\n",
    "s_rf_tr_E = GridSearchCV(rf_tr_pipe_v3, param_grid, n_jobs=-1, return_train_score=True)\n",
    "s_rf_tr_E.fit(X_train, Y_E_train)\n",
    "print(\"Best parameter (CV score=%0.3f):\" % s_rf_tr_E.best_score_)\n",
    "print(s_rf_tr_E.best_params_)\n",
    "res = pd.DataFrame(s_rf_tr_E.cv_results_)\n",
    "print(res[[\"mean_train_score\",\"std_train_score\",\"mean_test_score\",\"std_test_score\"]])\n",
    "print(f\"Train score:{s_rf_tr_E.best_estimator_.score(X_train, Y_E_train)}\")\n",
    "print(f\"Test score:{s_rf_tr_E.best_estimator_.score(X_test, Y_E_test)}\")"
   ],
   "metadata": {
    "id": "GLLQN7jp0xED"
   },
   "execution_count": null,
   "outputs": []
  },
  {
   "cell_type": "markdown",
   "source": [
    "<a name=\"xgboost-prediction\"></a>\n",
    "### XGBoost prediction"
   ],
   "metadata": {
    "id": "Wf-mn25o8xvZ"
   }
  },
  {
   "cell_type": "code",
   "source": [
    "xgb = XGBRegressor()\n",
    "\n",
    "xgb_pipe_v3 = Pipeline([\n",
    "    ('prep', prep_v3),\n",
    "    ('scaler', StandardScaler()),\n",
    "    ('reg', xgb),\n",
    "    ])\n",
    "xgb_pipe_v3"
   ],
   "metadata": {
    "id": "V3OFYoQBHK-z"
   },
   "execution_count": null,
   "outputs": []
  },
  {
   "cell_type": "code",
   "source": [
    "param_grid = {\n",
    "    \"reg__n_estimators\": [150, 200, 300],\n",
    "    \"reg__max_depth\": [5, 15, 25],\n",
    "    \"reg__min_child_weight\": [3, 5, 7],\n",
    "    \"reg__gamma\": np.logspace(-1, 1, 3),\n",
    "    \"reg__subsample\": [0.3, 0.5, 0.7],\n",
    "}\n",
    "s_xgb_E = GridSearchCV(xgb_pipe_v3, param_grid, n_jobs=-1, cv=5, return_train_score=True)\n",
    "s_xgb_E.fit(X_train, Y_E_train)\n",
    "print(\"Best parameter (CV score=%0.3f):\" % s_xgb_E.best_score_)\n",
    "print(s_xgb_E.best_params_)\n",
    "res = pd.DataFrame(s_xgb_E.cv_results_)\n",
    "print(res[[\"mean_train_score\",\"std_train_score\",\"mean_test_score\",\"std_test_score\"]])\n",
    "print(f\"Train score:{s_xgb_E.best_estimator_.score(X_train, Y_E_train)}\")\n",
    "print(f\"Test score:{s_xgb_E.best_estimator_.score(X_test, Y_E_test)}\")"
   ],
   "metadata": {
    "id": "BZ2E2EFNHMp8"
   },
   "execution_count": null,
   "outputs": []
  },
  {
   "cell_type": "code",
   "source": [
    "xgb_tr = TransformedTargetRegressor(regressor=XGBRegressor(),\n",
    "                                func=np.sqrt, \n",
    "                                inverse_func=np.square)\n",
    "\n",
    "xgb_tr_pipe_v3 = Pipeline([\n",
    "    ('prep', prep_v3),\n",
    "    ('scaler', StandardScaler()),\n",
    "    ('reg', xgb_tr),\n",
    "    ])\n",
    "xgb_tr_pipe_v3"
   ],
   "metadata": {
    "id": "TdVWB5PT80wa"
   },
   "execution_count": null,
   "outputs": []
  },
  {
   "cell_type": "code",
   "source": [
    "param_grid = {\n",
    "    \"reg__regressor__n_estimators\": [150, 200, 300],\n",
    "    \"reg__regressor__max_depth\": [5, 15, 25],\n",
    "    \"reg__regressor__min_child_weight\": [3, 5, 7],\n",
    "    \"reg__regressor__gamma\": np.logspace(-2, 1, 3),\n",
    "    \"reg__regressor__subsample\": [0.3, 0.5, 0.7],\n",
    "}\n",
    "s_xgb_tr_E = GridSearchCV(xgb_tr_pipe_v3, param_grid, n_jobs=-1, cv=5, return_train_score=True)\n",
    "s_xgb_tr_E.fit(X_train, Y_E_train)\n",
    "print(\"Best parameter (CV score=%0.3f):\" % s_xgb_tr_E.best_score_)\n",
    "print(s_xgb_tr_E.best_params_)\n",
    "res = pd.DataFrame(s_xgb_tr_E.cv_results_)\n",
    "print(res[[\"mean_train_score\",\"std_train_score\",\"mean_test_score\",\"std_test_score\"]])\n",
    "print(f\"Train score:{s_xgb_tr_E.best_estimator_.score(X_train, Y_E_train)}\")\n",
    "print(f\"Test score:{s_xgb_tr_E.best_estimator_.score(X_test, Y_E_test)}\")"
   ],
   "metadata": {
    "id": "YE3_QXy3W2vN"
   },
   "execution_count": null,
   "outputs": []
  },
  {
   "cell_type": "markdown",
   "source": [
    "<a name=\"evaluation\"></a>\n",
    "## Evaluation"
   ],
   "metadata": {
    "id": "F4gVJSYuG1QR"
   }
  },
  {
   "cell_type": "markdown",
   "source": [
    "<a name=\"evaluation\"></a>\n",
    "### Evaluation"
   ],
   "metadata": {
    "id": "4Yv3ELtVHDDO"
   }
  },
  {
   "cell_type": "code",
   "source": [
    "metrics = {\n",
    "    \"r2\": r2_score,\n",
    "    \"d2\": d2_absolute_error_score,\n",
    "    \"exp_va\": explained_variance_score,\n",
    "    \"mse\": mean_squared_error,\n",
    "    \"rmse\": lambda *arg,**kwarg: mean_squared_error(*arg,**kwarg)**0.5,\n",
    "    \"mae\": mean_absolute_error\n",
    "    }\n",
    "models = [\"lin\", \"lin_tr\", \"svr\", \"svr_tr\", \"rf\", \"rf_tr\", \"xgb\", \"xgb_tr\"]\n",
    "\n",
    "E_res = []\n",
    "for model in models:\n",
    "    E_res.append([eval(f\"m(Y_E_test, s_{model}_E.best_estimator_.predict(X_test))\") for m in metrics.values()])"
   ],
   "metadata": {
    "id": "-hxIkDbFFx5e"
   },
   "execution_count": null,
   "outputs": []
  },
  {
   "cell_type": "code",
   "source": [
    "pd.DataFrame(E_res, columns=metrics.keys(), index=models)"
   ],
   "metadata": {
    "id": "_HajgZfu95nH"
   },
   "execution_count": null,
   "outputs": []
  },
  {
   "cell_type": "code",
   "source": [
    "def make_best_model():\n",
    "    num_tr = Pipeline([\n",
    "        (\"imputer\", KNNImputer()),\n",
    "        (\"scaler\", RobustScaler())\n",
    "        ])\n",
    "    cat_tr = Pipeline([\n",
    "        (\"encoder\", OneHotEncoder(handle_unknown=\"ignore\", sparse_output=False)),\n",
    "        ('pca', PCA(n_components=1)),\n",
    "        (\"scaler\", \"passthrough\")\n",
    "        ])\n",
    "    emb_tr = Pipeline([\n",
    "        (\"selec\", VarianceThreshold()),\n",
    "        (\"scaler\", RobustScaler())\n",
    "        ])\n",
    "    prep_v3 = ColumnTransformer([\n",
    "        (\"num\", num_tr, num_cols),\n",
    "        (\"cat\", cat_tr, cat_cols),\n",
    "        (\"emb\", emb_tr, emb_cols),\n",
    "        ])\n",
    "    svr_tr = TransformedTargetRegressor(regressor=SVR(C=10000, epsilon=100),\n",
    "                                    func=np.sqrt, \n",
    "                                    inverse_func=np.square)\n",
    "\n",
    "    svr_tr_pipe_v3 = Pipeline([\n",
    "        ('prep', prep_v3),\n",
    "        ('scaler', MinMaxScaler()),\n",
    "        ('svr', svr_tr),\n",
    "        ])\n",
    "    return svr_tr_pipe_v3\n",
    "\n",
    "def make_best_model_2():\n",
    "    num_tr = Pipeline([\n",
    "        (\"imputer\", KNNImputer()),\n",
    "        (\"scaler\", RobustScaler())\n",
    "        ])\n",
    "    cat_tr = Pipeline([\n",
    "        (\"encoder\", OneHotEncoder(handle_unknown=\"ignore\", sparse_output=False)),\n",
    "        ('pca', PCA(n_components=1)),\n",
    "        (\"scaler\", \"passthrough\")\n",
    "        ])\n",
    "    emb_tr = Pipeline([\n",
    "        (\"selec\", VarianceThreshold()),\n",
    "        (\"scaler\", RobustScaler())\n",
    "        ])\n",
    "    prep_v3 = ColumnTransformer([\n",
    "        (\"num\", num_tr, num_cols),\n",
    "        (\"cat\", cat_tr, cat_cols),\n",
    "        (\"emb\", emb_tr, emb_cols),\n",
    "        ])\n",
    "    best_param = {'max_depth': 15, 'min_samples_leaf': 5, 'n_estimators': 150}\n",
    "    rf_tr = TransformedTargetRegressor(regressor=RandomForestRegressor(),\n",
    "                                    func=np.sqrt, \n",
    "                                    inverse_func=np.square)\n",
    "\n",
    "    rf_tr_pipe_v3 = Pipeline([\n",
    "        ('prep', prep_v3),\n",
    "        ('scaler', StandardScaler()),\n",
    "        ('rf', rf_tr),\n",
    "        ])\n",
    "    \n",
    "    \n",
    "    return rf_tr_pipe_v3"
   ],
   "metadata": {
    "id": "Ot0D9kuj09qE"
   },
   "execution_count": null,
   "outputs": []
  },
  {
   "cell_type": "code",
   "source": [
    "train_scores = []\n",
    "test_scores = []\n",
    "fit_times = []\n",
    "train_mae = []\n",
    "test_mae = []\n",
    "kf = KFold(n_splits=5, shuffle=True)\n",
    "X = X.reset_index(drop=True)\n",
    "Y_E = Y_E.reset_index(drop=True)\n",
    "for train, test in kf.split(Y_E):\n",
    "    model = make_best_model()\n",
    "    t0 = time()\n",
    "    model.fit(X.loc[train],Y_E.loc[train])\n",
    "    fit_times.append(time()-t0)\n",
    "    train_scores.append(model.score(X.loc[train],Y_E.loc[train]))\n",
    "    test_scores.append(model.score(X.loc[test],Y_E.loc[test]))\n",
    "    train_mae.append(mean_absolute_error(model.predict(X.loc[train]),Y_E.loc[train]))\n",
    "    test_mae.append(mean_absolute_error(model.predict(X.loc[test]),Y_E.loc[test]))\n"
   ],
   "metadata": {
    "id": "sHj80GPitm7Y"
   },
   "execution_count": null,
   "outputs": []
  },
  {
   "cell_type": "code",
   "source": [
    "print(f\"[INFO] Train score: {np.mean(train_scores):.3f} +- {np.std(train_scores):.3f}\")\n",
    "print(f\"[INFO] Test score: {np.mean(test_scores):.3f} +- {np.std(test_scores):.3f}\")\n",
    "print(f\"[INFO] Train mae: {np.mean(train_mae):.3f} +- {np.std(train_mae):.3f}\")\n",
    "print(f\"[INFO] Test mae: {np.mean(test_mae):.3f} +- {np.std(test_mae):.3f}\")\n",
    "print(f\"[INFO] Fit time: {np.mean(fit_times):.3f} +- {np.std(fit_times):.3f}\")"
   ],
   "metadata": {
    "id": "BG8Tu0uNykNi"
   },
   "execution_count": null,
   "outputs": []
  },
  {
   "cell_type": "code",
   "source": [
    "train_scores = []\n",
    "test_scores = []\n",
    "fit_times = []\n",
    "train_mae = []\n",
    "test_mae = []\n",
    "kf = KFold(n_splits=5, shuffle=True)\n",
    "X = X.reset_index(drop=True)\n",
    "Y_E = Y_E.reset_index(drop=True)\n",
    "for train, test in kf.split(Y_E):\n",
    "    model = make_best_model_2()\n",
    "    t0 = time()\n",
    "    model.fit(X.loc[train],Y_E.loc[train])\n",
    "    fit_times.append(time()-t0)\n",
    "    train_scores.append(model.score(X.loc[train],Y_E.loc[train]))\n",
    "    test_scores.append(model.score(X.loc[test],Y_E.loc[test]))\n",
    "    train_mae.append(mean_absolute_error(model.predict(X.loc[train]),Y_E.loc[train]))\n",
    "    test_mae.append(mean_absolute_error(model.predict(X.loc[test]),Y_E.loc[test]))"
   ],
   "metadata": {
    "id": "MM5db9qW_ztY"
   },
   "execution_count": null,
   "outputs": []
  },
  {
   "cell_type": "code",
   "source": [
    "print(f\"[INFO] Train score: {np.mean(train_scores):.3f} +- {np.std(train_scores):.3f}\")\n",
    "print(f\"[INFO] Test score: {np.mean(test_scores):.3f} +- {np.std(test_scores):.3f}\")\n",
    "print(f\"[INFO] Train mae: {np.mean(train_mae):.3f} +- {np.std(train_mae):.3f}\")\n",
    "print(f\"[INFO] Test mae: {np.mean(test_mae):.3f} +- {np.std(test_mae):.3f}\")\n",
    "print(f\"[INFO] Fit time: {np.mean(fit_times):.3f} +- {np.std(fit_times):.3f}\")"
   ],
   "metadata": {
    "id": "7pJnH36U_2zP"
   },
   "execution_count": null,
   "outputs": []
  },
  {
   "cell_type": "markdown",
   "source": [
    "<a name=\"residual-plot\"></a>\n",
    "### Residual plot"
   ],
   "metadata": {
    "id": "iXh6KgUj09qD"
   }
  },
  {
   "cell_type": "code",
   "source": [
    "X_train, X_test, Y_E_n, Y_E_test = train_test_split(X, Y_E, test_size=0.3, random_state=18)\n",
    "print(f\"[INFO] X_test shape: {X_test.shape}\")\n",
    "print(f\"[INFO] X_train shape: {X_train.shape}\")"
   ],
   "metadata": {
    "id": "rscFNxFHvAlw"
   },
   "execution_count": null,
   "outputs": []
  },
  {
   "cell_type": "code",
   "source": [
    "model = make_best_model()\n",
    "model.fit(X_train, Y_E_train)\n",
    "\n",
    "pred_train = model.predict(X_train)\n",
    "res_train = Y_E_train - pred_train\n",
    "\n",
    "pred_test = model.predict(X_test)\n",
    "res_test = Y_E_test - pred_test"
   ],
   "metadata": {
    "id": "pv6kEWHovKES"
   },
   "execution_count": null,
   "outputs": []
  },
  {
   "cell_type": "code",
   "source": [
    "plt.scatter(pred_train, res_train, label=\"Train residuals\")\n",
    "plt.scatter(pred_test, res_test, label=\"Test residuals\")\n",
    "plt.legend()\n",
    "plt.xlabel(\"Predicted\")\n",
    "plt.xscale(\"log\")\n",
    "plt.ylabel(\"Residuals\")\n",
    "plt.title(\"Residuals - Energy (SVR)\")\n",
    "plt.show()"
   ],
   "metadata": {
    "id": "fIfoq7Eawfgq"
   },
   "execution_count": null,
   "outputs": []
  },
  {
   "cell_type": "markdown",
   "source": [
    "<a name=\"energy-score\"></a>\n",
    "## Energy score"
   ],
   "metadata": {
    "id": "3la6bNgpg3AP"
   }
  },
  {
   "cell_type": "markdown",
   "source": [
    "<a name=\"first-linear-regressions\"></a>\n",
    "### First linear regressions"
   ],
   "metadata": {
    "id": "MUwiYyxfg7zs"
   }
  },
  {
   "cell_type": "code",
   "source": [
    "cat_cols = [\n",
    "    \"BuildingType\",\n",
    "    \"PrimaryPropertyType\",\n",
    "    \"is_PropertyGFAParking\",\n",
    "    ]\n",
    "num_cols = [\n",
    "    \"Latitude\",\n",
    "    \"Longitude\",\n",
    "    \"NumberofBuildings\",\n",
    "    \"NumberofFloors\",\n",
    "    \"YearBuilt\",\n",
    "    \"PropertyGFABuilding(s)\",\n",
    "    \"LargestPropertyUseTypeGFA\",\n",
    "    \"ratio_SteamUse\",\n",
    "    \"ratio_NaturalGas\",\n",
    "    ]\n",
    "emb_cols = [f\"PCA - {i}\" for i in range(1,31)]\n",
    "pred_cols = [\n",
    "    \"SiteEnergyUseWN(kBtu)\",\n",
    "    \"mean_SiteEnergyUseWN(kBtu)\"\n",
    "    ]\n",
    "cols = cat_cols + num_cols + emb_cols"
   ],
   "metadata": {
    "id": "Ls2WbcC9JAl-"
   },
   "execution_count": null,
   "outputs": []
  },
  {
   "cell_type": "code",
   "source": [
    "num_tr = Pipeline([\n",
    "    (\"imputer\", KNNImputer()),\n",
    "    (\"scaler\", RobustScaler())\n",
    "    ])\n",
    "cat_tr = Pipeline([\n",
    "    (\"encoder\", OneHotEncoder(handle_unknown=\"ignore\", sparse_output=False)),\n",
    "    ('pca', PCA(n_components=1)),\n",
    "    (\"scaler\", \"passthrough\")\n",
    "    ])\n",
    "emb_tr = Pipeline([\n",
    "    (\"selec\", VarianceThreshold()),\n",
    "    (\"scaler\", RobustScaler())\n",
    "    ])\n",
    "prep_v3 = ColumnTransformer([\n",
    "    (\"num\", num_tr, num_cols),\n",
    "    (\"cat\", cat_tr, cat_cols),\n",
    "    (\"emb\", emb_tr, emb_cols),\n",
    "    ])"
   ],
   "metadata": {
    "id": "eKAPlatoJHZk"
   },
   "execution_count": null,
   "outputs": []
  },
  {
   "cell_type": "code",
   "source": [
    "lr_pipe = Pipeline([\n",
    "        ('prep', prep_v3),\n",
    "        ('scaler', StandardScaler()),\n",
    "        ('lr', LinearRegression()),\n",
    "        ])\n",
    "lr_pipe.fit(X_train[cols], Y_E_train)\n",
    "print(f\"Train score:{lr_pipe.score(X_train[cols], Y_E_train)}\")\n",
    "print(f\"Test score:{lr_pipe.score(X_test[cols], Y_E_test)}\")"
   ],
   "metadata": {
    "id": "XfceaLkPg7IP"
   },
   "execution_count": null,
   "outputs": []
  },
  {
   "cell_type": "code",
   "source": [
    "cat_cols = [\n",
    "    \"BuildingType\",\n",
    "    \"PrimaryPropertyType\",\n",
    "    \"is_ENERGYSTARScore\",\n",
    "    \"is_PropertyGFAParking\",\n",
    "    ]\n",
    "num_cols = [\n",
    "    \"Latitude\",\n",
    "    \"Longitude\",\n",
    "    \"NumberofBuildings\",\n",
    "    \"NumberofFloors\",\n",
    "    \"YearBuilt\",\n",
    "    \"PropertyGFABuilding(s)\",\n",
    "    \"LargestPropertyUseTypeGFA\",\n",
    "    \"ratio_SteamUse\",\n",
    "    \"ratio_NaturalGas\",\n",
    "    ]\n",
    "emb_cols = [f\"PCA - {i}\" for i in range(1,31)]\n",
    "pred_cols = [\n",
    "    \"SiteEnergyUseWN(kBtu)\",\n",
    "    \"mean_SiteEnergyUseWN(kBtu)\"\n",
    "    ]\n",
    "cols = cat_cols + num_cols + emb_cols"
   ],
   "metadata": {
    "id": "bVuUcO9AKH7V"
   },
   "execution_count": null,
   "outputs": []
  },
  {
   "cell_type": "code",
   "source": [
    "num_tr = Pipeline([\n",
    "    (\"imputer\", KNNImputer()),\n",
    "    (\"scaler\", RobustScaler())\n",
    "    ])\n",
    "cat_tr = Pipeline([\n",
    "    (\"encoder\", OneHotEncoder(handle_unknown=\"ignore\", sparse_output=False)),\n",
    "    ('pca', PCA(n_components=1)),\n",
    "    (\"scaler\", \"passthrough\")\n",
    "    ])\n",
    "emb_tr = Pipeline([\n",
    "    (\"selec\", VarianceThreshold()),\n",
    "    (\"scaler\", RobustScaler())\n",
    "    ])\n",
    "prep_v3 = ColumnTransformer([\n",
    "    (\"num\", num_tr, num_cols),\n",
    "    (\"cat\", cat_tr, cat_cols),\n",
    "    (\"emb\", emb_tr, emb_cols),\n",
    "    ])"
   ],
   "metadata": {
    "id": "gyXR-T8iKMZo"
   },
   "execution_count": null,
   "outputs": []
  },
  {
   "cell_type": "code",
   "source": [
    "lr_pipe = Pipeline([\n",
    "        ('prep', prep_v3),\n",
    "        ('scaler', StandardScaler()),\n",
    "        ('lr', LinearRegression()),\n",
    "        ])\n",
    "lr_pipe.fit(X_train[cols], Y_E_train)\n",
    "print(f\"Train score:{lr_pipe.score(X_train[cols], Y_E_train)}\")\n",
    "print(f\"Test score:{lr_pipe.score(X_test[cols], Y_E_test)}\")"
   ],
   "metadata": {
    "id": "C70ZFMLkhBae"
   },
   "execution_count": null,
   "outputs": []
  },
  {
   "cell_type": "code",
   "source": [
    "cat_cols = [\n",
    "    \"BuildingType\",\n",
    "    \"PrimaryPropertyType\",\n",
    "    \"is_ENERGYSTARScore\",\n",
    "    \"is_PropertyGFAParking\",\n",
    "    ]\n",
    "num_cols = [\n",
    "    \"Latitude\",\n",
    "    \"Longitude\",\n",
    "    \"NumberofBuildings\",\n",
    "    \"NumberofFloors\",\n",
    "    \"YearBuilt\",\n",
    "    \"PropertyGFABuilding(s)\",\n",
    "    \"LargestPropertyUseTypeGFA\",\n",
    "    \"ENERGYSTARScore\",\n",
    "    \"ratio_SteamUse\",\n",
    "    \"ratio_NaturalGas\",\n",
    "    ]\n",
    "emb_cols = [f\"PCA - {i}\" for i in range(1,31)]\n",
    "pred_cols = [\n",
    "    \"SiteEnergyUseWN(kBtu)\",\n",
    "    \"mean_SiteEnergyUseWN(kBtu)\"\n",
    "    ]\n",
    "cols = cat_cols + num_cols + emb_cols"
   ],
   "metadata": {
    "id": "TGwvQCaJKXBV"
   },
   "execution_count": null,
   "outputs": []
  },
  {
   "cell_type": "code",
   "source": [
    "num_tr = Pipeline([\n",
    "    (\"imputer\", KNNImputer()),\n",
    "    (\"scaler\", RobustScaler())\n",
    "    ])\n",
    "cat_tr = Pipeline([\n",
    "    (\"encoder\", OneHotEncoder(handle_unknown=\"ignore\", sparse_output=False)),\n",
    "    ('pca', PCA(n_components=1)),\n",
    "    (\"scaler\", \"passthrough\")\n",
    "    ])\n",
    "emb_tr = Pipeline([\n",
    "    (\"selec\", VarianceThreshold()),\n",
    "    (\"scaler\", RobustScaler())\n",
    "    ])\n",
    "prep_v3 = ColumnTransformer([\n",
    "    (\"num\", num_tr, num_cols),\n",
    "    (\"cat\", cat_tr, cat_cols),\n",
    "    (\"emb\", emb_tr, emb_cols),\n",
    "    ])"
   ],
   "metadata": {
    "id": "hW-rE__BKZOi"
   },
   "execution_count": null,
   "outputs": []
  },
  {
   "cell_type": "code",
   "source": [
    "lr_pipe = Pipeline([\n",
    "        ('prep', prep_v3),\n",
    "        ('scaler', StandardScaler()),\n",
    "        ('lr', LinearRegression()),\n",
    "        ])\n",
    "lr_pipe.fit(X_train[cols], Y_E_train)\n",
    "print(f\"Train score:{lr_pipe.score(X_train[cols], Y_E_train)}\")\n",
    "print(f\"Test score:{lr_pipe.score(X_test[cols], Y_E_test)}\")"
   ],
   "metadata": {
    "id": "dlG1ZxSJ4kP6"
   },
   "execution_count": null,
   "outputs": []
  },
  {
   "cell_type": "markdown",
   "source": [
    "<a name=\"quantitative-results\"></a>\n",
    "### Quantitative results"
   ],
   "metadata": {
    "id": "ZQRmlKhZCZuI"
   }
  },
  {
   "cell_type": "code",
   "source": [
    "imputer = lr_pipe['prep'].transformers_[0][1]['imputer']"
   ],
   "metadata": {
    "id": "ZLO5bashKuHr"
   },
   "execution_count": null,
   "outputs": []
  },
  {
   "cell_type": "code",
   "source": [
    "X_new = imputer.transform(X[num_cols])"
   ],
   "metadata": {
    "id": "af5a_Q5WLg4i"
   },
   "execution_count": null,
   "outputs": []
  },
  {
   "cell_type": "code",
   "source": [
    "ESS = X_new[:,7]"
   ],
   "metadata": {
    "id": "BtB0nlLELTak"
   },
   "execution_count": null,
   "outputs": []
  },
  {
   "cell_type": "code",
   "source": [
    "sns.histplot(x=ESS, hue=X[\"is_ENERGYSTARScore\"])"
   ],
   "metadata": {
    "id": "wf2d5O9BMH33"
   },
   "execution_count": null,
   "outputs": []
  },
  {
   "cell_type": "code",
   "source": [
    "sns.kdeplot(x=ESS, hue=X[\"is_ENERGYSTARScore\"])\n",
    "plt.xlabel('ENERGYSTARScore (KNN)')\n",
    "ymin, ymax = plt.ylim()\n",
    "plt.vlines(ESS[X[\"is_ENERGYSTARScore\"]].mean(), ymin=ymin, ymax=ymax, color=\"orange\", linestyle=\":\")\n",
    "plt.legend(title='is_ENERGYSTARScore',labels=['True', 'False', 'Mean (True)'])"
   ],
   "metadata": {
    "id": "gq8Gi3OONLG3"
   },
   "execution_count": null,
   "outputs": []
  },
  {
   "cell_type": "code",
   "source": [
    "X_2 = deepcopy(X).reset_index()"
   ],
   "metadata": {
    "id": "g6tCNtVBNyRd"
   },
   "execution_count": null,
   "outputs": []
  },
  {
   "cell_type": "code",
   "source": [
    "X_2[\"ENERGYSTARScore\"] = ESS"
   ],
   "metadata": {
    "id": "6KNVL6F9OBVc"
   },
   "execution_count": null,
   "outputs": []
  },
  {
   "cell_type": "code",
   "source": [
    "X_train, X_test, Y_E_train, Y_E_test = train_test_split(X_2, Y_E, test_size=0.3, random_state=18)\n",
    "print(f\"[INFO] X_test shape: {X_test.shape}\")\n",
    "print(f\"[INFO] X_train shape: {X_train.shape}\")"
   ],
   "metadata": {
    "id": "0po5xVbjN_MP"
   },
   "execution_count": null,
   "outputs": []
  },
  {
   "cell_type": "code",
   "source": [
    "X_train.columns\n",
    "small_cols = [\n",
    "              'PropertyGFABuilding(s)'\n",
    "              ] \n",
    "small_lr_E = LinearRegression()\n",
    "small_lr_E.fit(X_train[small_cols], Y_E_train)\n",
    "print(f\"Train score:{small_lr_E.score(X_train[small_cols], Y_E_train)}\")\n",
    "print(f\"Test score:{small_lr_E.score(X_test[small_cols], Y_E_test)}\")"
   ],
   "metadata": {
    "id": "l4SWzA3KNn96"
   },
   "execution_count": null,
   "outputs": []
  },
  {
   "cell_type": "code",
   "source": [
    "X_train.columns\n",
    "small_cols = [\n",
    "              'PropertyGFABuilding(s)',\n",
    "              \"is_ENERGYSTARScore\",\n",
    "              ] \n",
    "small_lr_E = LinearRegression()\n",
    "small_lr_E.fit(X_train[small_cols], Y_E_train)\n",
    "print(f\"Train score:{small_lr_E.score(X_train[small_cols], Y_E_train)}\")\n",
    "print(f\"Test score:{small_lr_E.score(X_test[small_cols], Y_E_test)}\")"
   ],
   "metadata": {
    "id": "vsf7YfxBTDHY"
   },
   "execution_count": null,
   "outputs": []
  },
  {
   "cell_type": "code",
   "source": [
    "X_train.columns\n",
    "small_cols = [\n",
    "              'PropertyGFABuilding(s)',\n",
    "              \"ENERGYSTARScore\",\n",
    "              \"is_ENERGYSTARScore\",\n",
    "              ]\n",
    "small_lr_E = LinearRegression()\n",
    "small_lr_E.fit(X_train[small_cols], Y_E_train)\n",
    "print(f\"Train score:{small_lr_E.score(X_train[small_cols], Y_E_train)}\")\n",
    "print(f\"Test score:{small_lr_E.score(X_test[small_cols], Y_E_test)}\")"
   ],
   "metadata": {
    "id": "OMyU-4cNNrNC"
   },
   "execution_count": null,
   "outputs": []
  },
  {
   "cell_type": "code",
   "source": [
    "feature_names = small_cols\n",
    "coefs = pd.DataFrame(\n",
    "    small_lr_E.coef_,\n",
    "    columns=[\"Coefficients\"],\n",
    "    index=feature_names,\n",
    ")\n",
    "\n",
    "coefs"
   ],
   "metadata": {
    "id": "rhALD6dLOeGe"
   },
   "execution_count": null,
   "outputs": []
  },
  {
   "cell_type": "code",
   "source": [
    "coefs.plot.barh(figsize=(9, 5))\n",
    "plt.title(\"Elastic net best parameters\")\n",
    "plt.axvline(x=0, color=\".5\")\n",
    "plt.xlabel(\"Raw coefficient values\")\n",
    "plt.subplots_adjust(left=0.3)"
   ],
   "metadata": {
    "id": "5Oob-VsINgaA"
   },
   "execution_count": null,
   "outputs": []
  },
  {
   "cell_type": "code",
   "source": [
    "feature_names = small_cols\n",
    "means = X_train[small_cols].mean(axis=0)\n",
    "imps = (means * coefs.T) /Y_E_train.mean()"
   ],
   "metadata": {
    "id": "JIZF76UAO3M6"
   },
   "execution_count": null,
   "outputs": []
  },
  {
   "cell_type": "code",
   "source": [
    "imps.plot.barh(figsize=(9, 5))\n",
    "plt.title(\"LR pseudo importance\")\n",
    "plt.axvline(x=0, color=\".5\")\n",
    "plt.xlabel(\"Normalised values\")\n",
    "plt.ylabel(\"\")\n",
    "plt.subplots_adjust(left=0.3)"
   ],
   "metadata": {
    "id": "JSzzN0miPVPm"
   },
   "execution_count": null,
   "outputs": []
  },
  {
   "cell_type": "code",
   "source": [
    "train_scores = []\n",
    "test_scores = []\n",
    "fit_times = []\n",
    "train_mae = []\n",
    "test_mae = []\n",
    "kf = KFold(n_splits=5, shuffle=True)\n",
    "X = X_2.reset_index(drop=True)\n",
    "Y_E = Y_E.reset_index(drop=True)\n",
    "for train, test in kf.split(Y_E):\n",
    "    model = LinearRegression()\n",
    "    small_cols = [\n",
    "              'PropertyGFABuilding(s)'\n",
    "              ] \n",
    "    t0 = time()\n",
    "    model.fit(X_2.loc[train, small_cols],Y_E.loc[train])\n",
    "    fit_times.append(time()-t0)\n",
    "    train_scores.append(model.score(X_2.loc[train, small_cols],Y_E.loc[train]))\n",
    "    test_scores.append(model.score(X_2.loc[test, small_cols],Y_E.loc[test]))\n",
    "    train_mae.append(mean_absolute_error(model.predict(X_2.loc[train, small_cols]),Y_E.loc[train]))\n",
    "    test_mae.append(mean_absolute_error(model.predict(X_2.loc[test, small_cols]),Y_E.loc[test]))"
   ],
   "metadata": {
    "id": "6HxSVrS688ft"
   },
   "execution_count": null,
   "outputs": []
  },
  {
   "cell_type": "code",
   "source": [
    "print(f\"[INFO] Train score: {np.mean(train_scores):.3f} +- {np.std(train_scores):.3f}\")\n",
    "print(f\"[INFO] Test score: {np.mean(test_scores):.3f} +- {np.std(test_scores):.3f}\")\n",
    "print(f\"[INFO] Train mae: {np.mean(train_mae):.3f} +- {np.std(train_mae):.3f}\")\n",
    "print(f\"[INFO] Test mae: {np.mean(test_mae):.3f} +- {np.std(test_mae):.3f}\")\n",
    "print(f\"[INFO] Fit time: {np.mean(fit_times):.3f} +- {np.std(fit_times):.3f}\")"
   ],
   "metadata": {
    "id": "FJKIOqzX9iti"
   },
   "execution_count": null,
   "outputs": []
  },
  {
   "cell_type": "code",
   "source": [
    "train_scores = []\n",
    "test_scores = []\n",
    "fit_times = []\n",
    "train_mae = []\n",
    "test_mae = []\n",
    "kf = KFold(n_splits=5, shuffle=True)\n",
    "X = X_2.reset_index(drop=True)\n",
    "Y_E = Y_E.reset_index(drop=True)\n",
    "for train, test in kf.split(Y_E):\n",
    "    model = LinearRegression()\n",
    "    small_cols = [\n",
    "              'PropertyGFABuilding(s)',\n",
    "              \"is_ENERGYSTARScore\",\n",
    "              ]\n",
    "    t0 = time()\n",
    "    model.fit(X_2.loc[train, small_cols],Y_E.loc[train])\n",
    "    fit_times.append(time()-t0)\n",
    "    train_scores.append(model.score(X_2.loc[train, small_cols],Y_E.loc[train]))\n",
    "    test_scores.append(model.score(X_2.loc[test, small_cols],Y_E.loc[test]))\n",
    "    train_mae.append(mean_absolute_error(model.predict(X_2.loc[train, small_cols]),Y_E.loc[train]))\n",
    "    test_mae.append(mean_absolute_error(model.predict(X_2.loc[test, small_cols]),Y_E.loc[test]))"
   ],
   "metadata": {
    "id": "ORTsoFC49k4j"
   },
   "execution_count": null,
   "outputs": []
  },
  {
   "cell_type": "code",
   "source": [
    "print(f\"[INFO] Train score: {np.mean(train_scores):.3f} +- {np.std(train_scores):.3f}\")\n",
    "print(f\"[INFO] Test score: {np.mean(test_scores):.3f} +- {np.std(test_scores):.3f}\")\n",
    "print(f\"[INFO] Train mae: {np.mean(train_mae):.3f} +- {np.std(train_mae):.3f}\")\n",
    "print(f\"[INFO] Test mae: {np.mean(test_mae):.3f} +- {np.std(test_mae):.3f}\")\n",
    "print(f\"[INFO] Fit time: {np.mean(fit_times):.3f} +- {np.std(fit_times):.3f}\")"
   ],
   "metadata": {
    "id": "X7X3zHNb9md7"
   },
   "execution_count": null,
   "outputs": []
  },
  {
   "cell_type": "code",
   "source": [
    "train_scores = []\n",
    "test_scores = []\n",
    "fit_times = []\n",
    "train_mae = []\n",
    "test_mae = []\n",
    "kf = KFold(n_splits=5, shuffle=True)\n",
    "X = X_2.reset_index(drop=True)\n",
    "Y_E = Y_E.reset_index(drop=True)\n",
    "for train, test in kf.split(Y_E):\n",
    "    model = LinearRegression()\n",
    "    small_cols = [\n",
    "              'PropertyGFABuilding(s)',\n",
    "              \"ENERGYSTARScore\",\n",
    "              ]\n",
    "    t0 = time()\n",
    "    model.fit(X_2.loc[train, small_cols],Y_E.loc[train])\n",
    "    fit_times.append(time()-t0)\n",
    "    train_scores.append(model.score(X_2.loc[train, small_cols],Y_E.loc[train]))\n",
    "    test_scores.append(model.score(X_2.loc[test, small_cols],Y_E.loc[test]))\n",
    "    train_mae.append(mean_absolute_error(model.predict(X_2.loc[train, small_cols]),Y_E.loc[train]))\n",
    "    test_mae.append(mean_absolute_error(model.predict(X_2.loc[test, small_cols]),Y_E.loc[test]))"
   ],
   "metadata": {
    "id": "GN5gsnDV94h3"
   },
   "execution_count": null,
   "outputs": []
  },
  {
   "cell_type": "code",
   "source": [
    "print(f\"[INFO] Train score: {np.mean(train_scores):.3f} +- {np.std(train_scores):.3f}\")\n",
    "print(f\"[INFO] Test score: {np.mean(test_scores):.3f} +- {np.std(test_scores):.3f}\")\n",
    "print(f\"[INFO] Train mae: {np.mean(train_mae):.3f} +- {np.std(train_mae):.3f}\")\n",
    "print(f\"[INFO] Test mae: {np.mean(test_mae):.3f} +- {np.std(test_mae):.3f}\")\n",
    "print(f\"[INFO] Fit time: {np.mean(fit_times):.3f} +- {np.std(fit_times):.3f}\")"
   ],
   "metadata": {
    "id": "qxAWLrkb96C0"
   },
   "execution_count": null,
   "outputs": []
  },
  {
   "cell_type": "code",
   "source": [
    "train_scores = []\n",
    "test_scores = []\n",
    "fit_times = []\n",
    "train_mae = []\n",
    "test_mae = []\n",
    "kf = KFold(n_splits=5, shuffle=True)\n",
    "X = X_2.reset_index(drop=True)\n",
    "Y_E = Y_E.reset_index(drop=True)\n",
    "for train, test in kf.split(Y_E):\n",
    "    model = LinearRegression()\n",
    "    small_cols = [\n",
    "              'PropertyGFABuilding(s)',\n",
    "              \"ENERGYSTARScore\",\n",
    "              \"is_ENERGYSTARScore\",\n",
    "              ]\n",
    "    t0 = time()\n",
    "    model.fit(X_2.loc[train, small_cols],Y_E.loc[train])\n",
    "    fit_times.append(time()-t0)\n",
    "    train_scores.append(model.score(X_2.loc[train, small_cols],Y_E.loc[train]))\n",
    "    test_scores.append(model.score(X_2.loc[test, small_cols],Y_E.loc[test]))\n",
    "    train_mae.append(mean_absolute_error(model.predict(X_2.loc[train, small_cols]),Y_E.loc[train]))\n",
    "    test_mae.append(mean_absolute_error(model.predict(X_2.loc[test, small_cols]),Y_E.loc[test]))"
   ],
   "metadata": {
    "id": "ka_TO-O99oFY"
   },
   "execution_count": null,
   "outputs": []
  },
  {
   "cell_type": "code",
   "source": [
    "print(f\"[INFO] Train score: {np.mean(train_scores):.3f} +- {np.std(train_scores):.3f}\")\n",
    "print(f\"[INFO] Test score: {np.mean(test_scores):.3f} +- {np.std(test_scores):.3f}\")\n",
    "print(f\"[INFO] Train mae: {np.mean(train_mae):.3f} +- {np.std(train_mae):.3f}\")\n",
    "print(f\"[INFO] Test mae: {np.mean(test_mae):.3f} +- {np.std(test_mae):.3f}\")\n",
    "print(f\"[INFO] Fit time: {np.mean(fit_times):.3f} +- {np.std(fit_times):.3f}\")"
   ],
   "metadata": {
    "id": "6daA32DK9pWo"
   },
   "execution_count": null,
   "outputs": []
  },
  {
   "cell_type": "markdown",
   "source": [
    "<a name=\"feature-importance\"></a>\n",
    "### Feature Importance"
   ],
   "metadata": {
    "id": "urEfuo2UL665"
   }
  },
  {
   "cell_type": "code",
   "source": [
    "model_pipe = make_best_model()\n",
    "model_pipe.fit(X_train, Y_E_train)\n",
    "model = model_pipe[\"svr\"].regressor_\n",
    "feature_names = model_pipe['prep'].get_feature_names_out()\n",
    "X_test_prep = model_pipe[\"scaler\"].transform(model_pipe[\"prep\"].transform(X_test))\n",
    "X_test_prep = pd.DataFrame(X_test_prep, columns=feature_names)\n",
    "\n",
    "explainer = shap.KernelExplainer(model = model.predict, data = X_test_prep.head(50), link = \"identity\")\n",
    "shap_values = explainer.shap_values(X_test_prep.head(50))"
   ],
   "metadata": {
    "id": "xgrnuZUB-L7V"
   },
   "execution_count": null,
   "outputs": []
  },
  {
   "cell_type": "code",
   "source": [
    "shap.summary_plot(shap_values, X_test_prep.head(50))"
   ],
   "metadata": {
    "id": "yK0M8saAGTQX"
   },
   "execution_count": null,
   "outputs": []
  },
  {
   "cell_type": "code",
   "source": [
    "model_pipe = make_best_model_2()\n",
    "model_pipe.fit(X_train, Y_E_train)\n",
    "model = model_pipe[\"rf\"].regressor_\n",
    "feature_names = model_pipe['prep'].get_feature_names_out()\n",
    "X_test_prep = model_pipe[\"scaler\"].transform(model_pipe[\"prep\"].transform(X_test))\n",
    "\n",
    "r = permutation_importance(model, X_test_prep, Y_E_test,\n",
    "                           n_repeats=30,\n",
    "                           random_state=0)\n",
    "for i in r.importances_mean.argsort()[::-1]:\n",
    "    if r.importances_mean[i] - 2 * r.importances_std[i] > 0:\n",
    "        print(f\"{feature_names[i]:<8}\"\n",
    "              f\"{r.importances_mean[i]:.3f}\"\n",
    "              f\" +/- {r.importances_std[i]:.3f}\")"
   ],
   "metadata": {
    "id": "tPRgNxGfcNch"
   },
   "execution_count": null,
   "outputs": []
  },
  {
   "cell_type": "code",
   "source": [
    "model_pipe = make_best_model_2()\n",
    "model_pipe.fit(X_train, Y_E_train)\n",
    "model = model_pipe[\"rf\"].regressor_\n",
    "feature_names = model_pipe['prep'].get_feature_names_out()\n",
    "X_test_prep = model_pipe[\"scaler\"].transform(model_pipe[\"prep\"].transform(X_test))\n",
    "X_test_prep = pd.DataFrame(X_test_prep, columns=feature_names)\n",
    "\n",
    "shap_values = shap.TreeExplainer(model).shap_values(X_test_prep)"
   ],
   "metadata": {
    "id": "s46GHpsk-jin"
   },
   "execution_count": null,
   "outputs": []
  },
  {
   "cell_type": "code",
   "source": [
    "shap.summary_plot(shap_values, X_test_prep, plot_type=\"bar\")"
   ],
   "metadata": {
    "id": "3tKL_91ADCR0"
   },
   "execution_count": null,
   "outputs": []
  },
  {
   "cell_type": "code",
   "source": [
    "shap.summary_plot(shap_values, X_test_prep)"
   ],
   "metadata": {
    "id": "myI7V0rrE0x0"
   },
   "execution_count": null,
   "outputs": []
  }
 ]
}
