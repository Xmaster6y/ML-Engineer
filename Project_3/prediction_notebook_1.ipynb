{
 "nbformat": 4,
 "nbformat_minor": 0,
 "metadata": {
  "colab": {
   "provenance": []
  },
  "kernelspec": {
   "name": "",
   "display_name": ""
  },
  "language_info": {
   "name": "python"
  }
 },
 "cells": [
  {
   "cell_type": "markdown",
   "source": [
    "# First prediction notebook\n",
    "\n",
    "Prediction of the Energy consumption.\n",
    "\n",
    "* [Imports](#imports)\n",
    "* [Data loading](#data-loading)\n",
    "* [Feature seletion](#feature-seletion)\n",
    "    * [Selection](#selection-pipeline)\n",
    "* [Prediction](#prediction)\n",
    "    * [Linear prediction](#linear-prediction)\n",
    "    * [SVR prediction](#svr-prediction)\n",
    "    * [Ensemble prediction](#ensemble-prediction)\n",
    "* [Evaluation](#evaluation)\n",
    "    * [Evaluation](#evaluation)\n",
    "    * [Feature importance](#feature-importance)"
   ],
   "metadata": {
    "id": "alzuis7Fdzti"
   }
  },
  {
   "cell_type": "markdown",
   "source": [
    "<a name=\"imports\"></a>\n",
    "## Imports"
   ],
   "metadata": {
    "id": "vM-0mqSdfWjK"
   }
  },
  {
   "cell_type": "code",
   "source": [
    "import os\n",
    "import pandas as pd\n",
    "import numpy as np\n",
    "import matplotlib.pyplot as plt\n",
    "\n",
    "from sklearn.pipeline import Pipeline\n",
    "from sklearn.compose import ColumnTransformer, TransformedTargetRegressor\n",
    "from sklearn.model_selection import train_test_split\n",
    "from sklearn.model_selection import GridSearchCV\n",
    "\n",
    "from sklearn.feature_selection import VarianceThreshold\n",
    "from sklearn.feature_selection import SelectPercentile, chi2\n",
    "from sklearn.preprocessing import StandardScaler, OneHotEncoder, RobustScaler, MinMaxScaler\n",
    "from sklearn.impute import KNNImputer\n",
    "\n",
    "from sklearn.dummy import DummyRegressor\n",
    "\n",
    "from sklearn.decomposition import PCA\n",
    "from sklearn.linear_model import Ridge, ElasticNet, LinearRegression\n",
    "from sklearn.svm import SVR\n",
    "from sklearn.ensemble import RandomForestRegressor\n",
    "from xgboost import XGBRegressor\n",
    "\n",
    "from sklearn.metrics import r2_score, d2_absolute_error_score\n",
    "from sklearn.metrics import explained_variance_score\n",
    "from sklearn.metrics import mean_squared_error, mean_absolute_error"
   ],
   "metadata": {
    "id": "ruVCLL9TdySa"
   },
   "execution_count": null,
   "outputs": []
  },
  {
   "cell_type": "markdown",
   "source": [
    "<a name=\"data-loading\"></a>\n",
    "## Data loading"
   ],
   "metadata": {
    "id": "vzF2vEugfg5w"
   }
  },
  {
   "cell_type": "code",
   "source": [
    "cleaned_dataset_v1_path = 'data_cleaned_v1.csv'\n",
    "if not os.path.exists(cleaned_dataset_v1_path):\n",
    "    !wget \"https://drive.google.com/uc?export=download&id=1EYQuRaqc4yo0QYl35DRoIC6-IDwaX7Wq\" -q --show-progress -O \"$cleaned_dataset_v1_path\"\n",
    "!head -2 $cleaned_dataset_v1_path"
   ],
   "metadata": {
    "id": "LdxrDq03fgA8"
   },
   "execution_count": null,
   "outputs": []
  },
  {
   "cell_type": "code",
   "source": [
    "cleaned_dataset_v2_path = 'data_cleaned_v2.csv'\n",
    "if not os.path.exists(cleaned_dataset_v2_path):\n",
    "    !wget \"https://drive.google.com/uc?export=download&id=14_YIQ_v0D8PGwSkzb8KtbQIcAvlUeCLo\" -q --show-progress -O \"$cleaned_dataset_v2_path\"\n",
    "!head -2 $cleaned_dataset_v2_path"
   ],
   "metadata": {
    "id": "Z_ew5GQC6v3y"
   },
   "execution_count": null,
   "outputs": []
  },
  {
   "cell_type": "code",
   "source": [
    "df_v2 = pd.read_csv(cleaned_dataset_v2_path)\n",
    "df_v2.info()"
   ],
   "metadata": {
    "id": "BfxXmBJpqdvc"
   },
   "execution_count": null,
   "outputs": []
  },
  {
   "cell_type": "code",
   "source": [
    "df_v2.isna().sum()"
   ],
   "metadata": {
    "id": "wqbLrPtczsZr"
   },
   "execution_count": null,
   "outputs": []
  },
  {
   "cell_type": "markdown",
   "source": [
    "<a name=\"feature-selection\"></a>\n",
    "## Feature selection"
   ],
   "metadata": {
    "id": "v7dOYI6KDKRL"
   }
  },
  {
   "cell_type": "markdown",
   "source": [
    "<a name=\"selection-pipeline\"></a>\n",
    "### Selection"
   ],
   "metadata": {
    "id": "2h8zBHJSDRSP"
   }
  },
  {
   "cell_type": "code",
   "source": [
    "cat_cols = [\n",
    "    \"BuildingType\",\n",
    "    \"PrimaryPropertyType\",\n",
    "    \"NumberofBuildings\",\n",
    "    \"NumberofFloors\",\n",
    "    \"is_ENERGYSTARScore\",\n",
    "    \"is_SteamUse\",\n",
    "    \"is_NaturalGas\",\n",
    "    \"is_PropertyGFAParking\",\n",
    "    ]\n",
    "num_cols = [\n",
    "    \"Latitude\",\n",
    "    \"Longitude\",\n",
    "    \"YearBuilt\",\n",
    "    \"PropertyGFABuilding(s)\",\n",
    "    \"LargestPropertyUseTypeGFA\",\n",
    "    \"ENERGYSTARScore\",\n",
    "    \"ratio_SteamUse\",\n",
    "    \"ratio_NaturalGas\",\n",
    "    ]\n",
    "pred_cols = [\n",
    "    \"SiteEnergyUseWN(kBtu)\",\n",
    "    \"TotalGHGEmissions\"\n",
    "    ]\n",
    "cols = cat_cols + num_cols + pred_cols\n",
    "df_pred_v2 = df_v2[cols]"
   ],
   "metadata": {
    "id": "YqrTl68YDNjp"
   },
   "execution_count": null,
   "outputs": []
  },
  {
   "cell_type": "code",
   "source": [
    "X = df_pred_v2[cols[:-2]]\n",
    "Y_E = df_pred_v2[cols[-2]]\n",
    "Y_CO2 = df_pred_v2[cols[-1]]"
   ],
   "metadata": {
    "id": "fqiPRbRGcMKF"
   },
   "execution_count": null,
   "outputs": []
  },
  {
   "cell_type": "code",
   "source": [
    "X_train, X_test, Y_E_train, Y_E_test, Y_CO2_train, Y_CO2_test = train_test_split(X, Y_E, Y_CO2, test_size=0.3, random_state=6)\n",
    "print(f\"[INFO] X_test shape: {X_test.shape}\")\n",
    "print(f\"[INFO] X_train shape: {X_train.shape}\")"
   ],
   "metadata": {
    "id": "r0al8RfndF9E"
   },
   "execution_count": null,
   "outputs": []
  },
  {
   "cell_type": "code",
   "source": [
    "num_tr = Pipeline([\n",
    "    (\"imputer\", KNNImputer()),\n",
    "    (\"scaler\", StandardScaler())\n",
    "    ])\n",
    "cat_tr = Pipeline([\n",
    "    (\"encoder\", OneHotEncoder(handle_unknown=\"ignore\", sparse_output=False)),\n",
    "    ('pca', PCA()),\n",
    "    ])\n",
    "prep_v2 = ColumnTransformer([\n",
    "    (\"num\", num_tr, num_cols),\n",
    "    (\"cat\", cat_tr, cat_cols),\n",
    "    ])"
   ],
   "metadata": {
    "id": "Gtn-cNpdwjCX"
   },
   "execution_count": null,
   "outputs": []
  },
  {
   "cell_type": "code",
   "source": [
    "Y_E_train.describe()"
   ],
   "metadata": {
    "id": "kN_YTf0pJJ6Q"
   },
   "execution_count": null,
   "outputs": []
  },
  {
   "cell_type": "code",
   "source": [
    "Y_E_test.describe()"
   ],
   "metadata": {
    "id": "UVhHyCpiJcpu"
   },
   "execution_count": null,
   "outputs": []
  },
  {
   "cell_type": "markdown",
   "source": [
    "## Baseline"
   ],
   "metadata": {
    "id": "OLKZlIQ05GSL"
   }
  },
  {
   "cell_type": "markdown",
   "source": [
    "### Dummy regressor"
   ],
   "metadata": {
    "id": "9HxlT90e5PVV"
   }
  },
  {
   "cell_type": "code",
   "source": [
    "dummy_E = DummyRegressor(strategy=\"mean\", quantile=0.7)\n",
    "dummy_E.fit(X_train, Y_E_train)\n",
    "print(f\"Train score:{dummy_E.score(X_train, Y_E_train)}\")\n",
    "print(f\"Test score:{dummy_E.score(X_test, Y_E_test)}\")"
   ],
   "metadata": {
    "id": "PhP6Ss7N8Klg"
   },
   "execution_count": null,
   "outputs": []
  },
  {
   "cell_type": "code",
   "source": [
    "param_grid = {\n",
    "    \"quantile\": np.linspace(0, 1, 10),\n",
    "}\n",
    "s_dummy_E = GridSearchCV(dummy_E, param_grid, n_jobs=-1, return_train_score=True)\n",
    "s_dummy_E.fit(X_train, Y_E_train)\n",
    "print(\"Best parameter (CV score=%0.3f):\" % s_dummy_E.best_score_)\n",
    "print(s_dummy_E.best_params_)\n",
    "res = pd.DataFrame(s_dummy_E.cv_results_)\n",
    "print(res[[\"mean_train_score\",\"std_train_score\"]])\n",
    "print(f\"Test score:{s_dummy_E.best_estimator_.score(X_test, Y_E_test)}\")"
   ],
   "metadata": {
    "id": "_pKN5S3TAHTN"
   },
   "execution_count": null,
   "outputs": []
  },
  {
   "cell_type": "markdown",
   "source": [
    "### Small linear regression"
   ],
   "metadata": {
    "id": "0h_obTo55SI-"
   }
  },
  {
   "cell_type": "code",
   "source": [
    "X_train.columns\n",
    "small_cols = [\n",
    "              'PropertyGFABuilding(s)'\n",
    "              ]\n",
    "small_lr_E = LinearRegression()\n",
    "small_lr_E.fit(X_train[small_cols], Y_E_train)\n",
    "print(f\"Train score:{small_lr_E.score(X_train[small_cols], Y_E_train)}\")\n",
    "print(f\"Test score:{small_lr_E.score(X_test[small_cols], Y_E_test)}\")"
   ],
   "metadata": {
    "id": "W3I53HME8LGV"
   },
   "execution_count": null,
   "outputs": []
  },
  {
   "cell_type": "code",
   "source": [
    "X_train.columns\n",
    "small_cols = ['YearBuilt',\n",
    "              'PropertyGFABuilding(s)'\n",
    "              ]\n",
    "small_lr_E = LinearRegression()\n",
    "small_lr_E.fit(X_train[small_cols], Y_E_train)\n",
    "print(f\"Train score:{small_lr_E.score(X_train[small_cols], Y_E_train)}\")\n",
    "print(f\"Test score:{small_lr_E.score(X_test[small_cols], Y_E_test)}\")"
   ],
   "metadata": {
    "id": "cUId5JzhBp9n"
   },
   "execution_count": null,
   "outputs": []
  },
  {
   "cell_type": "markdown",
   "source": [
    "<a name=\"prediction\"></a>\n",
    "## Prediction"
   ],
   "metadata": {
    "id": "aCTjTxV6G12w"
   }
  },
  {
   "cell_type": "markdown",
   "source": [
    "<a name=\"linear-prediction\"></a>\n",
    "### Linear prediction"
   ],
   "metadata": {
    "id": "Qv-PWVC-HAcC"
   }
  },
  {
   "cell_type": "code",
   "source": [
    "lin_pipe_v2 = Pipeline([\n",
    "    ('prep', prep_v2),\n",
    "    ('scaler', StandardScaler()),\n",
    "    ('lr_en', ElasticNet()),\n",
    "    ])\n",
    "lin_pipe_v2"
   ],
   "metadata": {
    "id": "NkjoNzzvhT_n"
   },
   "execution_count": null,
   "outputs": []
  },
  {
   "cell_type": "code",
   "source": [
    "param_grid = {\n",
    "    \"prep__cat__pca__n_components\": [5, 17, 35, 50, 60, None],\n",
    "    \"prep__num__scaler\": [StandardScaler(), RobustScaler(), MinMaxScaler()],\n",
    "    \"lr_en__alpha\": np.logspace(-4, 4, 5),\n",
    "    \"lr_en__l1_ratio\": np.logspace(-4, 0, 5),\n",
    "}\n",
    "s_lin_E = GridSearchCV(lin_pipe_v2, param_grid, n_jobs=-1, return_train_score=True)\n",
    "s_lin_E.fit(X_train, Y_E_train)\n",
    "print(\"Best parameter (CV score=%0.3f):\" % s_lin_E.best_score_)\n",
    "print(s_lin_E.best_params_)\n",
    "res = pd.DataFrame(s_lin_E.cv_results_)\n",
    "print(res[[\"mean_train_score\",\"std_train_score\",\"mean_test_score\",\"std_test_score\"]])\n",
    "print(f\"Test score:{s_lin_E.best_estimator_.score(X_test, Y_E_test)}\")"
   ],
   "metadata": {
    "id": "CNol2aruilX9"
   },
   "execution_count": null,
   "outputs": []
  },
  {
   "cell_type": "code",
   "source": [
    "encoder = OneHotEncoder(handle_unknown=\"ignore\", sparse_output=False)\n",
    "pca = PCA(n_components=50)\n",
    "pca.fit(encoder.fit_transform(X_train[cat_cols]))\n",
    "\n",
    "fig, (ax0, ax1) = plt.subplots(nrows=2, sharex=True, figsize=(6, 6))\n",
    "ax0.plot(\n",
    "    np.arange(1, pca.n_components_ + 1), pca.explained_variance_ratio_, \"+\", linewidth=2\n",
    ")\n",
    "ax0.set_ylabel(\"PCA explained variance ratio\")\n",
    "\n",
    "ax0.axvline(\n",
    "    50,\n",
    "    linestyle=\":\",\n",
    "    label=\"n_components chosen\",\n",
    ")\n",
    "ax0.legend(prop=dict(size=12))\n",
    "\n",
    "# For each number of components, find the best classifier results\n",
    "results = pd.DataFrame(s_lin_E.cv_results_)\n",
    "components_col = \"param_prep__cat__pca__n_components\"\n",
    "best_clfs = results.groupby(components_col).apply(\n",
    "    lambda g: g.nlargest(1, \"mean_test_score\")\n",
    ")\n",
    "\n",
    "best_clfs.plot(\n",
    "    x=components_col, y=\"mean_test_score\", yerr=\"std_test_score\", legend=False, ax=ax1\n",
    ")\n",
    "ax1.set_ylabel(\"Accuracy (val)\")\n",
    "ax1.set_xlabel(\"n_components\")\n",
    "\n",
    "plt.xlim(-1, 70)\n",
    "\n",
    "plt.tight_layout()\n",
    "plt.show()"
   ],
   "metadata": {
    "id": "UiyfC-AXoMbr"
   },
   "execution_count": null,
   "outputs": []
  },
  {
   "cell_type": "code",
   "source": [
    "num_tr = Pipeline([\n",
    "    (\"imputer\", KNNImputer()),\n",
    "    (\"scaler\", StandardScaler())\n",
    "    ])\n",
    "cat_tr = Pipeline([\n",
    "    (\"encoder\", OneHotEncoder(handle_unknown=\"ignore\", sparse_output=False)),\n",
    "    ('pca', PCA(n_components=50)),\n",
    "    ])\n",
    "prep_v2 = ColumnTransformer([\n",
    "    (\"num\", num_tr, num_cols),\n",
    "    (\"cat\", cat_tr, cat_cols),\n",
    "    ])"
   ],
   "metadata": {
    "id": "fPXZhREK70Ec"
   },
   "execution_count": null,
   "outputs": []
  },
  {
   "cell_type": "code",
   "source": [
    "lr_tr = TransformedTargetRegressor(regressor=ElasticNet(),\n",
    "                                func=np.log, \n",
    "                                inverse_func=np.exp)\n",
    "\n",
    "lin_tr_pipe_v2 = Pipeline([\n",
    "    ('prep', prep_v2),\n",
    "    ('scaler', StandardScaler()),\n",
    "    ('lr_en', lr_tr),\n",
    "    ])\n",
    "lin_tr_pipe_v2"
   ],
   "metadata": {
    "id": "vKRwB5In7ZY8"
   },
   "execution_count": null,
   "outputs": []
  },
  {
   "cell_type": "code",
   "source": [
    "param_grid = {\n",
    "    \"lr_en__regressor__alpha\": np.logspace(-6, 6, 6),\n",
    "    \"lr_en__regressor__l1_ratio\": np.logspace(-6, 0, 6),\n",
    "}\n",
    "s_lin_tr_E = GridSearchCV(lin_tr_pipe_v2, param_grid, n_jobs=-1, return_train_score=True)\n",
    "s_lin_tr_E.fit(X_train, Y_E_train)\n",
    "print(\"Best parameter (CV score=%0.3f):\" % s_lin_tr_E.best_score_)\n",
    "print(s_lin_tr_E.best_params_)\n",
    "res = pd.DataFrame(s_lin_tr_E.cv_results_)\n",
    "print(res[[\"mean_train_score\",\"std_train_score\",\"mean_test_score\",\"std_test_score\"]])\n",
    "print(f\"Test score:{s_lin_tr_E.best_estimator_.score(X_test, Y_E_test)}\")"
   ],
   "metadata": {
    "id": "_908-n6W7cus"
   },
   "execution_count": null,
   "outputs": []
  },
  {
   "cell_type": "code",
   "source": [
    "lr = TransformedTargetRegressor(regressor=ElasticNet(),\n",
    "                                func=np.sqrt, \n",
    "                                inverse_func=np.square)\n",
    "\n",
    "lin_tr_pipe_v2 = Pipeline([\n",
    "    ('prep', prep_v2),\n",
    "    ('scaler', StandardScaler()),\n",
    "    ('lr_en', lr_tr),\n",
    "    ])\n",
    "lin_tr_pipe_v2"
   ],
   "metadata": {
    "id": "5PGQgNlHUFBb"
   },
   "execution_count": null,
   "outputs": []
  },
  {
   "cell_type": "code",
   "source": [
    "param_grid = {\n",
    "    \"lr_en__regressor__alpha\": np.logspace(-6, 6, 6),\n",
    "    \"lr_en__regressor__l1_ratio\": np.logspace(-6, 0, 6),\n",
    "}\n",
    "s_lin_tr_E = GridSearchCV(lin_tr_pipe_v2, param_grid, n_jobs=-1, return_train_score=True)\n",
    "s_lin_tr_E.fit(X_train, Y_E_train)\n",
    "print(\"Best parameter (CV score=%0.3f):\" % s_lin_tr_E.best_score_)\n",
    "print(s_lin_tr_E.best_params_)\n",
    "res = pd.DataFrame(s_lin_tr_E.cv_results_)\n",
    "print(res[[\"mean_train_score\",\"std_train_score\",\"mean_test_score\",\"std_test_score\"]])\n",
    "print(f\"Test score:{s_lin_tr_E.best_estimator_.score(X_test, Y_E_test)}\")"
   ],
   "metadata": {
    "id": "9tfr0RneTBBY"
   },
   "execution_count": null,
   "outputs": []
  },
  {
   "cell_type": "markdown",
   "source": [
    "<a name=\"svr-prediction\"></a>\n",
    "### SVR prediction"
   ],
   "metadata": {
    "id": "fJWy4sY9teWU"
   }
  },
  {
   "cell_type": "code",
   "source": [
    "svr = regressor=SVR()\n",
    "\n",
    "svr_pipe_v2 = Pipeline([\n",
    "    ('prep', prep_v2),\n",
    "    ('scaler', MinMaxScaler()),\n",
    "    ('svr', svr),\n",
    "    ])\n",
    "svr_pipe_v2"
   ],
   "metadata": {
    "id": "C2X0EhdRLHhB"
   },
   "execution_count": null,
   "outputs": []
  },
  {
   "cell_type": "code",
   "source": [
    "param_grid = {\n",
    "    \"svr__C\": np.logspace(-4, 4, 5),\n",
    "    \"svr__epsilon\": np.logspace(-4, 4, 5),\n",
    "}\n",
    "s_svr_E = GridSearchCV(svr_pipe_v2, param_grid, n_jobs=-1, return_train_score=True)\n",
    "s_svr_E.fit(X_train, Y_E_train)\n",
    "print(\"Best parameter (CV score=%0.3f):\" % s_svr_E.best_score_)\n",
    "print(s_svr_E.best_params_)\n",
    "res = pd.DataFrame(s_svr_E.cv_results_)\n",
    "print(res[[\"mean_train_score\",\"std_train_score\",\"mean_test_score\",\"std_test_score\"]])\n",
    "print(f\"Test score:{s_svr_E.best_estimator_.score(X_test, Y_E_test)}\")"
   ],
   "metadata": {
    "id": "UOHDEFBdLJcn"
   },
   "execution_count": null,
   "outputs": []
  },
  {
   "cell_type": "code",
   "source": [
    "svr_tr = TransformedTargetRegressor(regressor=SVR(),\n",
    "                                func=np.sqrt, \n",
    "                                inverse_func=np.square)\n",
    "\n",
    "svr_tr_pipe_v2 = Pipeline([\n",
    "    ('prep', prep_v2),\n",
    "    ('scaler', MinMaxScaler()),\n",
    "    ('svr', svr_tr),\n",
    "    ])\n",
    "svr_tr_pipe_v2"
   ],
   "metadata": {
    "id": "vM62LjN0zmYZ"
   },
   "execution_count": null,
   "outputs": []
  },
  {
   "cell_type": "code",
   "source": [
    "param_grid = {\n",
    "    \"svr__regressor__C\": np.logspace(-4, 4, 5),\n",
    "    \"svr__regressor__epsilon\": np.logspace(-4, 4, 5),\n",
    "}\n",
    "s_svr_tr_E = GridSearchCV(svr_tr_pipe_v2, param_grid, n_jobs=-1, return_train_score=True)\n",
    "s_svr_tr_E.fit(X_train, Y_E_train)\n",
    "print(\"Best parameter (CV score=%0.3f):\" % s_svr_tr_E.best_score_)\n",
    "print(s_svr_tr_E.best_params_)\n",
    "res = pd.DataFrame(s_svr_tr_E.cv_results_)\n",
    "print(res[[\"mean_train_score\",\"std_train_score\",\"mean_test_score\",\"std_test_score\"]])\n",
    "print(f\"Test score:{s_svr_tr_E.best_estimator_.score(X_test, Y_E_test)}\")"
   ],
   "metadata": {
    "id": "GERPCP2nz0Hc"
   },
   "execution_count": null,
   "outputs": []
  },
  {
   "cell_type": "markdown",
   "source": [
    "<a name=\"ensemble-prediction\"></a>\n",
    "### Ensemble prediction"
   ],
   "metadata": {
    "id": "N1wVVjFStQIQ"
   }
  },
  {
   "cell_type": "code",
   "source": [
    "rf_pipe_v2 = Pipeline([\n",
    "    ('prep', prep_v2),\n",
    "    ('scaler', StandardScaler()),\n",
    "    ('rf', RandomForestRegressor()),\n",
    "    ])\n",
    "rf_pipe_v2"
   ],
   "metadata": {
    "id": "-BKLTXQFxzIH"
   },
   "execution_count": null,
   "outputs": []
  },
  {
   "cell_type": "code",
   "source": [
    "param_grid = {\n",
    "    \"rf__n_estimators\": [70, 100],\n",
    "    \"rf__max_depth\": [3, 5, 7],\n",
    "    \"rf__min_samples_leaf\": [3, 7],\n",
    "}\n",
    "s_rf_E = GridSearchCV(rf_pipe_v2, param_grid, n_jobs=-1, cv=5, return_train_score=True)\n",
    "s_rf_E.fit(X_train, Y_E_train)\n",
    "print(\"Best parameter (CV score=%0.3f):\" % s_rf_E.best_score_)\n",
    "print(s_rf_E.best_params_)\n",
    "res = pd.DataFrame(s_rf_E.cv_results_)\n",
    "print(res[[\"mean_train_score\",\"std_train_score\",\"mean_test_score\",\"std_test_score\"]])\n",
    "print(f\"Test score:{s_rf_E.best_estimator_.score(X_test, Y_E_test)}\")"
   ],
   "metadata": {
    "id": "yzTKcNm9x01N"
   },
   "execution_count": null,
   "outputs": []
  },
  {
   "cell_type": "code",
   "source": [
    "rf_tr = TransformedTargetRegressor(regressor=RandomForestRegressor(),\n",
    "                                func=np.sqrt, \n",
    "                                inverse_func=np.square)\n",
    "\n",
    "rf_tr_pipe_v2 = Pipeline([\n",
    "    ('prep', prep_v2),\n",
    "    ('scaler', StandardScaler()),\n",
    "    ('rf', rf_tr),\n",
    "    ])\n",
    "rf_tr_pipe_v2"
   ],
   "metadata": {
    "id": "GoAfWBaRtXnp"
   },
   "execution_count": null,
   "outputs": []
  },
  {
   "cell_type": "code",
   "source": [
    "param_grid = {\n",
    "    \"rf__regressor__n_estimators\": [70, 100, 150],\n",
    "    \"rf__regressor__max_depth\": [3, 5, 7],\n",
    "    \"rf__regressor__min_samples_leaf\": [2, 3],\n",
    "}\n",
    "s_rf_tr_E = GridSearchCV(rf_tr_pipe_v2, param_grid, n_jobs=-1, return_train_score=True)\n",
    "s_rf_tr_E.fit(X_train, Y_E_train)\n",
    "print(\"Best parameter (CV score=%0.3f):\" % s_rf_tr_E.best_score_)\n",
    "print(s_rf_tr_E.best_params_)\n",
    "res = pd.DataFrame(s_rf_tr_E.cv_results_)\n",
    "print(res[[\"mean_train_score\",\"std_train_score\",\"mean_test_score\",\"std_test_score\"]])\n",
    "print(f\"Test score:{s_rf_tr_E.best_estimator_.score(X_test, Y_E_test)}\")"
   ],
   "metadata": {
    "id": "GLLQN7jp0xED"
   },
   "execution_count": null,
   "outputs": []
  },
  {
   "cell_type": "markdown",
   "source": [
    "### XGBoost"
   ],
   "metadata": {
    "id": "Wf-mn25o8xvZ"
   }
  },
  {
   "cell_type": "code",
   "source": [
    "xgb = XGBRegressor()\n",
    "\n",
    "xgb_pipe_v2 = Pipeline([\n",
    "    ('prep', prep_v2),\n",
    "    ('scaler', StandardScaler()),\n",
    "    ('reg', xgb),\n",
    "    ])\n",
    "xgb_pipe_v2"
   ],
   "metadata": {
    "id": "V3OFYoQBHK-z"
   },
   "execution_count": null,
   "outputs": []
  },
  {
   "cell_type": "code",
   "source": [
    "param_grid = {\n",
    "    \"reg__n_estimators\": [150, 200],\n",
    "    \"reg__max_depth\": [3, 5],\n",
    "    \"reg__gamma\": np.logspace(-4, -1, 4),\n",
    "}\n",
    "s_xgb_E = GridSearchCV(xgb_pipe_v2, param_grid, n_jobs=-1, cv=5, return_train_score=True)\n",
    "s_xgb_E.fit(X_train, Y_E_train)\n",
    "print(\"Best parameter (CV score=%0.3f):\" % s_xgb_E.best_score_)\n",
    "print(s_xgb_E.best_params_)\n",
    "res = pd.DataFrame(s_xgb_E.cv_results_)\n",
    "print(res[[\"mean_train_score\",\"std_train_score\",\"mean_test_score\",\"std_test_score\"]])\n",
    "print(f\"Test score:{s_xgb_E.best_estimator_.score(X_test, Y_E_test)}\")"
   ],
   "metadata": {
    "id": "BZ2E2EFNHMp8"
   },
   "execution_count": null,
   "outputs": []
  },
  {
   "cell_type": "code",
   "source": [
    "xgb_tr = TransformedTargetRegressor(regressor=XGBRegressor(),\n",
    "                                func=np.sqrt, \n",
    "                                inverse_func=np.square)\n",
    "\n",
    "xgb_tr_pipe_v2 = Pipeline([\n",
    "    ('prep', prep_v2),\n",
    "    ('scaler', StandardScaler()),\n",
    "    ('reg', xgb_tr),\n",
    "    ])\n",
    "xgb_pipe_v2"
   ],
   "metadata": {
    "id": "TdVWB5PT80wa"
   },
   "execution_count": null,
   "outputs": []
  },
  {
   "cell_type": "code",
   "source": [
    "param_grid = {\n",
    "    \"reg__regressor__n_estimators\": [150, 200],\n",
    "    \"reg__regressor__max_depth\": [3, 5],\n",
    "    \"reg__regressor__gamma\": np.logspace(-4, -1, 4),\n",
    "}\n",
    "s_xgb_tr_E = GridSearchCV(xgb_tr_pipe_v2, param_grid, n_jobs=-1, cv=5, return_train_score=True)\n",
    "s_xgb_tr_E.fit(X_train, Y_E_train)\n",
    "print(\"Best parameter (CV score=%0.3f):\" % s_xgb_tr_E.best_score_)\n",
    "print(s_xgb_tr_E.best_params_)\n",
    "res = pd.DataFrame(s_xgb_tr_E.cv_results_)\n",
    "print(res[[\"mean_train_score\",\"std_train_score\",\"mean_test_score\",\"std_test_score\"]])\n",
    "print(f\"Test score:{s_xgb_tr_E.best_estimator_.score(X_test, Y_E_test)}\")"
   ],
   "metadata": {
    "id": "YE3_QXy3W2vN"
   },
   "execution_count": null,
   "outputs": []
  },
  {
   "cell_type": "markdown",
   "source": [
    "<a name=\"evaluation\"></a>\n",
    "## Evaluation"
   ],
   "metadata": {
    "id": "F4gVJSYuG1QR"
   }
  },
  {
   "cell_type": "markdown",
   "source": [
    "<a name=\"evaluation\"></a>\n",
    "### Evaluation"
   ],
   "metadata": {
    "id": "4Yv3ELtVHDDO"
   }
  },
  {
   "cell_type": "code",
   "source": [
    "metrics = {\n",
    "    \"r2\": r2_score,\n",
    "    \"d2\": d2_absolute_error_score,\n",
    "    \"exp_va\": explained_variance_score,\n",
    "    \"mse\": mean_squared_error,\n",
    "    \"rmse\": lambda *arg,**kwarg: mean_squared_error(*arg,**kwarg)**0.5,\n",
    "    \"mae\": mean_absolute_error\n",
    "    }\n",
    "models = [\"lin\", \"lin_tr\", \"svr\", \"svr_tr\", \"rf\", \"rf_tr\", \"xgb\", \"xgb_tr\"]\n",
    "\n",
    "E_res = []\n",
    "for model in models:\n",
    "    E_res.append([eval(f\"m(Y_E_test, s_{model}_E.best_estimator_.predict(X_test))\") for m in metrics.values()])"
   ],
   "metadata": {
    "id": "-hxIkDbFFx5e"
   },
   "execution_count": null,
   "outputs": []
  },
  {
   "cell_type": "code",
   "source": [
    "pd.DataFrame(E_res, columns=metrics.keys(), index=models)"
   ],
   "metadata": {
    "id": "_HajgZfu95nH"
   },
   "execution_count": null,
   "outputs": []
  },
  {
   "cell_type": "markdown",
   "source": [
    "<a name=\"feature-importance\"></a>\n",
    "### Feature Importance"
   ],
   "metadata": {
    "id": "urEfuo2UL665"
   }
  },
  {
   "cell_type": "code",
   "source": [
    "forest = s_rf_E.best_estimator_[\"rf\"]\n",
    "importances = forest.feature_importances_\n",
    "std = np.std([tree.feature_importances_ for tree in forest.estimators_], axis=0)"
   ],
   "metadata": {
    "id": "HY8ln0UYJCfT"
   },
   "execution_count": null,
   "outputs": []
  },
  {
   "cell_type": "code",
   "source": [
    "forest_importances = pd.Series(importances, index=num_cols+[f\"pca {i}\" for i in range(len(num_cols),len(importances))])\n",
    "\n",
    "fig, ax = plt.subplots()\n",
    "forest_importances.plot.bar(yerr=std, ax=ax)\n",
    "ax.set_title(\"Feature importances using MDI\")\n",
    "ax.set_ylabel(\"Mean decrease in impurity\")\n",
    "fig.tight_layout()"
   ],
   "metadata": {
    "id": "3bBFyqzsOdq-"
   },
   "execution_count": null,
   "outputs": []
  }
 ]
}
