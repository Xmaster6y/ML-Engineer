{
 "nbformat": 4,
 "nbformat_minor": 0,
 "metadata": {
  "colab": {
   "provenance": []
  },
  "kernelspec": {
   "name": "",
   "display_name": ""
  },
  "language_info": {
   "name": "python"
  }
 },
 "cells": [
  {
   "cell_type": "markdown",
   "source": [
    "# Exploration notebook\n",
    "\n",
    "* [Imports](#imports)\n",
    "* [Data loading](#data-loading)\n",
    "* [Missing values](#missing-values)\n",
    "    * [Quantification](#quantification)\n",
    "    * [Imputation v1](#imputation-v1)\n",
    "* [Data filtering](#data-filtering)\n",
    "    * [Row filter v1](#row-filter-v1)\n",
    "    * [Column filter v1](#column-filter-v1)\n",
    "* [Distributions](#distributions)\n",
    "    * [Numerical features](#numerical-features)\n",
    "    * [Categorical features](#categorical-features)\n",
    "* [Correlations](#correlations)\n",
    "* [Feature engineering](#feature-engineering)\n",
    "    * [Feature engineering v1](#feature-engineering-v1)\n",
    "* [Exports](#exports)\n"
   ],
   "metadata": {
    "id": "PMS5zROvdkX0"
   }
  },
  {
   "cell_type": "markdown",
   "source": [
    "<a name=\"imports\"></a>\n",
    "## Imports"
   ],
   "metadata": {
    "id": "PDnI01DPfMsd"
   }
  },
  {
   "cell_type": "code",
   "source": [
    "import os\n",
    "import pandas as pd\n",
    "import numpy as np\n",
    "import missingno as msno\n",
    "\n",
    "import seaborn as sns\n",
    "import matplotlib.pyplot as plt\n",
    "\n",
    "import statsmodels.api as sm\n",
    "from scipy import stats"
   ],
   "metadata": {
    "id": "qXMYER4PfMSI"
   },
   "execution_count": null,
   "outputs": []
  },
  {
   "cell_type": "markdown",
   "source": [
    "<a name=\"data-loading\"></a>\n",
    "## Data loading"
   ],
   "metadata": {
    "id": "J86p6G-sfkpv"
   }
  },
  {
   "cell_type": "code",
   "source": [
    "file_name = \"data.csv\"\n",
    "if not os.path.exists(file_name):\n",
    "    !wget https://s3.eu-west-1.amazonaws.com/course.oc-static.com/projects/Data_Scientist_P4/2016_Building_Energy_Benchmarking.csv -q --show-progress -O $file_name\n",
    "!head -2 $file_name"
   ],
   "metadata": {
    "id": "IOsr_QFaftdx"
   },
   "execution_count": null,
   "outputs": []
  },
  {
   "cell_type": "code",
   "source": [
    "df = pd.read_csv(file_name)\n",
    "print(df.columns)\n",
    "df.head()"
   ],
   "metadata": {
    "id": "G0-Fol3ZhNbf"
   },
   "execution_count": null,
   "outputs": []
  },
  {
   "cell_type": "markdown",
   "source": [
    "<a name=\"missing-values\"></a>\n",
    "## Missing values"
   ],
   "metadata": {
    "id": "TO1PQzqhhrLG"
   }
  },
  {
   "cell_type": "markdown",
   "source": [
    "<a name=\"quantification\"></a>\n",
    "### Quantification "
   ],
   "metadata": {
    "id": "pvV6Oho_pdys"
   }
  },
  {
   "cell_type": "code",
   "source": [
    "df.isna().sum()"
   ],
   "metadata": {
    "id": "C_zWCk8EhW9w"
   },
   "execution_count": null,
   "outputs": []
  },
  {
   "cell_type": "code",
   "source": [
    "msno.heatmap(df)"
   ],
   "metadata": {
    "id": "RlMKXnuqhxwl"
   },
   "execution_count": null,
   "outputs": []
  },
  {
   "cell_type": "markdown",
   "source": [
    "<a name=\"imputation-v1\"></a>\n",
    "### Imputation v1"
   ],
   "metadata": {
    "id": "BGz-XYmipmH_"
   }
  },
  {
   "cell_type": "code",
   "source": [
    "df_v1 = msno.nullity_filter(df, 'top', 0.5)"
   ],
   "metadata": {
    "id": "0P7cjnFIpUAy"
   },
   "execution_count": null,
   "outputs": []
  },
  {
   "cell_type": "code",
   "source": [
    "df_v1['ENERGYSTARScore'].describe()"
   ],
   "metadata": {
    "id": "l8i1GFRAsIoo"
   },
   "execution_count": null,
   "outputs": []
  },
  {
   "cell_type": "code",
   "source": [
    "df_v1.loc[df_v1['ENERGYSTARScore'].isna(),'ENERGYSTARScore'] = 0"
   ],
   "metadata": {
    "id": "Q1nWev51sdbD"
   },
   "execution_count": null,
   "outputs": []
  },
  {
   "cell_type": "code",
   "source": [
    "df_v1 = df_v1.dropna()"
   ],
   "metadata": {
    "id": "u8-PIMlpq8XL"
   },
   "execution_count": null,
   "outputs": []
  },
  {
   "cell_type": "markdown",
   "source": [
    "<a name=\"data-filtering\"></a>\n",
    "## Data filtering"
   ],
   "metadata": {
    "id": "NB8WGNWItmLz"
   }
  },
  {
   "cell_type": "markdown",
   "source": [
    "<a name=\"row-filter-v1\"></a>\n",
    "### Row filter v1\n",
    "\n",
    "Drop the \"multifamily\" building type to only keep the non-resedential buildings."
   ],
   "metadata": {
    "id": "gLSQ1ut4v0h1"
   }
  },
  {
   "cell_type": "code",
   "source": [
    "to_drop = [val for val in df_v1['BuildingType'].unique() if 'Multifamily' in val]\n",
    "for val in to_drop:\n",
    "    df_v1 = df_v1[df_v1['BuildingType'] != val]"
   ],
   "metadata": {
    "id": "rE2nVFXstrIv"
   },
   "execution_count": null,
   "outputs": []
  },
  {
   "cell_type": "markdown",
   "source": [
    "<a name=\"column-filter-v1\"></a>\n",
    "### Column filter v1"
   ],
   "metadata": {
    "id": "USfw20LkyLQD"
   }
  },
  {
   "cell_type": "code",
   "source": [
    "df_v1.info()"
   ],
   "metadata": {
    "id": "t5DOP_3DyQC-"
   },
   "execution_count": null,
   "outputs": []
  },
  {
   "cell_type": "code",
   "source": [
    "df_v1 = df_v1.drop(columns=['OSEBuildingID',\n",
    "                            'DataYear', \n",
    "                            'BuildingType',\n",
    "                            'PropertyName', \n",
    "                            'Address', \n",
    "                            'City', \n",
    "                            'State', \n",
    "                            'ZipCode',\n",
    "                            'TaxParcelIdentificationNumber', \n",
    "                            'CouncilDistrictCode', \n",
    "                            'Neighborhood',\n",
    "                            'ComplianceStatus',\n",
    "                            'DefaultData'])"
   ],
   "metadata": {
    "id": "IDoWMuKuynkr"
   },
   "execution_count": null,
   "outputs": []
  },
  {
   "cell_type": "code",
   "source": [
    "print(len(df_v1['PrimaryPropertyType'].unique()))\n",
    "print(len(df_v1['ListOfAllPropertyUseTypes'].unique()))\n",
    "print(len(df_v1['LargestPropertyUseType'].unique()))"
   ],
   "metadata": {
    "id": "D5CQOGVW0isc"
   },
   "execution_count": null,
   "outputs": []
  },
  {
   "cell_type": "code",
   "source": [
    "df_v1 = df_v1.drop('ListOfAllPropertyUseTypes', axis=1)"
   ],
   "metadata": {
    "id": "bMh3mmnX36VA"
   },
   "execution_count": null,
   "outputs": []
  },
  {
   "cell_type": "markdown",
   "source": [
    "<a name=\"distributions\"></a>\n",
    "## Distributions"
   ],
   "metadata": {
    "id": "zzH-qIwfqh6N"
   }
  },
  {
   "cell_type": "markdown",
   "source": [
    "<a name=\"numerical-features\"></a>\n",
    "### Numerical features"
   ],
   "metadata": {
    "id": "SFm8hvZbrM_X"
   }
  },
  {
   "cell_type": "code",
   "source": [
    "df_num = df_v1._get_numeric_data()"
   ],
   "metadata": {
    "id": "MhWiI7mArkx8"
   },
   "execution_count": null,
   "outputs": []
  },
  {
   "cell_type": "code",
   "source": [
    "df_desc = df_num.describe()\n",
    "df_desc.loc['var'] = df_num.var().tolist()\n",
    "df_desc.loc['skew'] = df_num.skew().tolist()\n",
    "df_desc.loc['kurt'] = df_num.kurtosis().tolist()\n",
    "df_desc"
   ],
   "metadata": {
    "id": "iisedYQ5qhXr"
   },
   "execution_count": null,
   "outputs": []
  },
  {
   "cell_type": "code",
   "source": [
    "sns.displot(x=df_v1.loc[df_v1[\"TotalGHGEmissions\"]>0,\"TotalGHGEmissions\"], kind=\"kde\", log_scale=True)"
   ],
   "metadata": {
    "id": "Lq7le0-j7K76"
   },
   "execution_count": null,
   "outputs": []
  },
  {
   "cell_type": "code",
   "source": [
    "sm.qqplot(df_v1[\"TotalGHGEmissions\"], stats.lognorm, fit=True, line=\"45\")\n",
    "plt.show()"
   ],
   "metadata": {
    "id": "1ROYsAtf6ZuD"
   },
   "execution_count": null,
   "outputs": []
  },
  {
   "cell_type": "markdown",
   "source": [
    "<a name=\"categorical-features\"></a>\n",
    "### Categorical features"
   ],
   "metadata": {
    "id": "oKSI_alG1Dkj"
   }
  },
  {
   "cell_type": "code",
   "source": [
    "df_grp = df_v1.groupby('PrimaryPropertyType').size()\n",
    "per_lim =0.03\n",
    "df_grp = df_grp[df_grp > per_lim*len(df_v1)]\n",
    "df_grp.plot(kind='pie', autopct='%.2f')"
   ],
   "metadata": {
    "id": "-4gyMwde1HI_"
   },
   "execution_count": null,
   "outputs": []
  },
  {
   "cell_type": "markdown",
   "source": [
    "<a name=\"correlations\"></a>\n",
    "## Correlations"
   ],
   "metadata": {
    "id": "IN2DdzCZqmtj"
   }
  },
  {
   "cell_type": "code",
   "source": [
    "corr = df_v1.corr()\n",
    "\n",
    "# Generate a mask for the upper triangle\n",
    "mask = np.triu(np.ones_like(corr, dtype=bool))\n",
    "# Set up the matplotlib figure\n",
    "f, ax = plt.subplots(figsize=(11, 9))\n",
    "# Generate a custom diverging colormap\n",
    "cmap = sns.diverging_palette(230, 20, as_cmap=True)\n",
    "# Draw the heatmap with the mask and correct aspect ratio\n",
    "sns.heatmap(corr, mask=mask, cmap=cmap, vmax=.3, center=0,\n",
    "            square=True, linewidths=.5, cbar_kws={\"shrink\": .5})"
   ],
   "metadata": {
    "id": "cmhdY0cGAYjk"
   },
   "execution_count": null,
   "outputs": []
  },
  {
   "cell_type": "code",
   "source": [
    "df_v1.info()"
   ],
   "metadata": {
    "id": "l_WJQ2UviIAc"
   },
   "execution_count": null,
   "outputs": []
  },
  {
   "cell_type": "code",
   "source": [
    "sns.lineplot(data=df_v1, x=\"YearBuilt\", y=\"TotalGHGEmissions\")"
   ],
   "metadata": {
    "id": "q6ZcwyXT4z2x"
   },
   "execution_count": null,
   "outputs": []
  },
  {
   "cell_type": "code",
   "source": [
    "e_sum = df_v1[\"Electricity(kBtu)\"] \\\n",
    "        + df_v1[\"NaturalGas(kBtu)\"] \\\n",
    "        + df_v1[\"SteamUse(kBtu)\"] \n",
    "sns.scatterplot(data=df_v1, x=\"SiteEnergyUseWN(kBtu)\", y=e_sum)"
   ],
   "metadata": {
    "id": "KYe3asMDGOBL"
   },
   "execution_count": null,
   "outputs": []
  },
  {
   "cell_type": "code",
   "source": [
    "res = stats.linregress(df_v1[\"SiteEnergyUse(kBtu)\"], e_sum)\n",
    "res"
   ],
   "metadata": {
    "id": "vk_kk0r0IZdz"
   },
   "execution_count": null,
   "outputs": []
  },
  {
   "cell_type": "code",
   "source": [
    "sns.scatterplot(data=df_v1, x=\"TotalGHGEmissions\", y=e_sum)"
   ],
   "metadata": {
    "id": "i1stlqMqIB0L"
   },
   "execution_count": null,
   "outputs": []
  },
  {
   "cell_type": "code",
   "source": [
    "res = stats.linregress(df_v1[\"TotalGHGEmissions\"], e_sum)\n",
    "res"
   ],
   "metadata": {
    "id": "GrIGfc1yIe3e"
   },
   "execution_count": null,
   "outputs": []
  },
  {
   "cell_type": "code",
   "source": [
    "gfa_sum = df_v1[\"PropertyGFAParking\"] \\\n",
    "        + df_v1[\"PropertyGFABuilding(s)\"]\n",
    "sns.scatterplot(data=df_v1, x=\"PropertyGFATotal\", y=gfa_sum)"
   ],
   "metadata": {
    "id": "21_Xm8VF-0wR"
   },
   "execution_count": null,
   "outputs": []
  },
  {
   "cell_type": "code",
   "source": [
    "res = stats.linregress(df_v1[\"PropertyGFATotal\"], gfa_sum)\n",
    "res"
   ],
   "metadata": {
    "id": "4vjkNpP_BNn6"
   },
   "execution_count": null,
   "outputs": []
  },
  {
   "cell_type": "code",
   "source": [
    "df_v1.drop(columns=[\"PropertyGFATotal\"])"
   ],
   "metadata": {
    "id": "t_RCGHGQE-u9"
   },
   "execution_count": null,
   "outputs": []
  },
  {
   "cell_type": "markdown",
   "source": [
    "<a name=\"feature-engineering\"></a>\n",
    "## Feature engineering"
   ],
   "metadata": {
    "id": "eXOJTFPBCF1O"
   }
  },
  {
   "cell_type": "markdown",
   "source": [
    "<a name=\"feature-engineering-v1\"></a>\n",
    "### Feature engineering v1"
   ],
   "metadata": {
    "id": "SQpWWAnlDocY"
   }
  },
  {
   "cell_type": "code",
   "source": [
    "df_v1[\"ENERGYSTARScore_isna\"] = df_v1[\"ENERGYSTARScore\"] > 0"
   ],
   "metadata": {
    "id": "xXtIGbGODns4"
   },
   "execution_count": null,
   "outputs": []
  },
  {
   "cell_type": "code",
   "source": [
    "df_v1.groupby(\"ENERGYSTARScore_isna\")[\"ENERGYSTARScore_isna\"].count()"
   ],
   "metadata": {
    "id": "lBwM9Na5JUcV"
   },
   "execution_count": null,
   "outputs": []
  },
  {
   "cell_type": "markdown",
   "source": [
    "<a name=\"exports\"></a>\n",
    "### Exports"
   ],
   "metadata": {
    "id": "qntNxs-65EWM"
   }
  },
  {
   "cell_type": "code",
   "source": [
    "df_v1.to_csv(\"data_cleaned_v1.csv\", index=False)"
   ],
   "metadata": {
    "id": "zxXF0bUN5JpE"
   },
   "execution_count": null,
   "outputs": []
  }
 ]
}
