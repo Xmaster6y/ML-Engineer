{
 "cells": [
  {
   "cell_type": "markdown",
   "metadata": {
    "id": "PMS5zROvdkX0"
   },
   "source": [
    "# Exploration notebook\n",
    "\n",
    "* [Imports](#imports)\n",
    "* [Data loading](#data-loading)\n",
    "* [Missing values](#missing-values)\n",
    "    * [Quantification](#quantification)\n",
    "    * [Imputation](#imputation)\n",
    "* [Data filtering](#data-filtering)\n",
    "    * [Row filter](#row-filter)\n",
    "    * [Column filter](#column-filter)\n",
    "* [Distributions](#distributions)\n",
    "    * [Numerical features](#numerical-features)\n",
    "    * [Categorical features](#categorical-features)\n",
    "* [Correlations](#correlations)\n",
    "* [Feature engineering](#feature-engineering)\n",
    "    * [Feature engineering](#feature-engineering)\n",
    "* [Exports](#exports)\n"
   ]
  },
  {
   "cell_type": "markdown",
   "metadata": {
    "id": "PDnI01DPfMsd"
   },
   "source": [
    "<a name=\"imports\"></a>\n",
    "## Imports"
   ]
  },
  {
   "cell_type": "code",
   "execution_count": null,
   "metadata": {
    "id": "qXMYER4PfMSI"
   },
   "outputs": [],
   "source": [
    "import os\n",
    "import pandas as pd\n",
    "import numpy as np\n",
    "import missingno as msno\n",
    "\n",
    "import seaborn as sns\n",
    "import matplotlib.pyplot as plt\n",
    "\n",
    "import statsmodels.api as sm\n",
    "from scipy import stats"
   ]
  },
  {
   "cell_type": "markdown",
   "metadata": {
    "id": "J86p6G-sfkpv"
   },
   "source": [
    "<a name=\"data-loading\"></a>\n",
    "## Data loading"
   ]
  },
  {
   "cell_type": "code",
   "execution_count": null,
   "metadata": {
    "id": "IOsr_QFaftdx"
   },
   "outputs": [],
   "source": [
    "file_name = \"data.csv\"\n",
    "if not os.path.exists(file_name):\n",
    "    !wget https://s3.eu-west-1.amazonaws.com/course.oc-static.com/projects/Data_Scientist_P4/2016_Building_Energy_Benchmarking.csv -q --show-progress -O $file_name\n",
    "!head -2 $file_name"
   ]
  },
  {
   "cell_type": "code",
   "execution_count": null,
   "metadata": {
    "id": "G0-Fol3ZhNbf"
   },
   "outputs": [],
   "source": [
    "df = pd.read_csv(file_name)\n",
    "print(df.columns)\n",
    "df.head()"
   ]
  },
  {
   "cell_type": "markdown",
   "metadata": {
    "id": "TO1PQzqhhrLG"
   },
   "source": [
    "<a name=\"missing-values\"></a>\n",
    "## Missing values"
   ]
  },
  {
   "cell_type": "markdown",
   "metadata": {
    "id": "pvV6Oho_pdys"
   },
   "source": [
    "<a name=\"quantification\"></a>\n",
    "### Quantification "
   ]
  },
  {
   "cell_type": "code",
   "execution_count": null,
   "metadata": {
    "id": "C_zWCk8EhW9w"
   },
   "outputs": [],
   "source": [
    "df.isna().sum()"
   ]
  },
  {
   "cell_type": "code",
   "execution_count": null,
   "metadata": {
    "id": "RlMKXnuqhxwl"
   },
   "outputs": [],
   "source": [
    "msno.heatmap(df)"
   ]
  },
  {
   "cell_type": "markdown",
   "metadata": {
    "id": "BGz-XYmipmH_"
   },
   "source": [
    "<a name=\"imputation\"></a>\n",
    "### Imputation"
   ]
  },
  {
   "cell_type": "code",
   "execution_count": null,
   "metadata": {
    "id": "0P7cjnFIpUAy"
   },
   "outputs": [],
   "source": [
    "df_v2 = msno.nullity_filter(df, 'top', 0.5)"
   ]
  },
  {
   "cell_type": "code",
   "execution_count": null,
   "metadata": {
    "id": "l8i1GFRAsIoo"
   },
   "outputs": [],
   "source": [
    "df_v2['ENERGYSTARScore'].describe().round(2)"
   ]
  },
  {
   "cell_type": "markdown",
   "metadata": {
    "id": "NB8WGNWItmLz"
   },
   "source": [
    "<a name=\"data-filtering\"></a>\n",
    "## Data filtering"
   ]
  },
  {
   "cell_type": "markdown",
   "metadata": {
    "id": "gLSQ1ut4v0h1"
   },
   "source": [
    "<a name=\"row-filter\"></a>\n",
    "### Row filter\n",
    "\n",
    "Drop the \"multifamily\" building type to only keep the non-resedential buildings."
   ]
  },
  {
   "cell_type": "code",
   "execution_count": null,
   "metadata": {
    "id": "rE2nVFXstrIv"
   },
   "outputs": [],
   "source": [
    "to_drop = [val for val in df_v2['BuildingType'].unique() if 'Multifamily' in val]\n",
    "for val in to_drop:\n",
    "    df_v2 = df_v2[df_v2['BuildingType'] != val]"
   ]
  },
  {
   "cell_type": "markdown",
   "metadata": {
    "id": "DkYiJe0TwqAJ"
   },
   "source": [
    "Drop the negative energy building (energy production)."
   ]
  },
  {
   "cell_type": "code",
   "execution_count": null,
   "metadata": {
    "id": "VGcsa5YLu78b"
   },
   "outputs": [],
   "source": [
    "print((df_v2[\"TotalGHGEmissions\"]<=0).sum())"
   ]
  },
  {
   "cell_type": "code",
   "execution_count": null,
   "metadata": {
    "id": "0vNXebmqvJ9P"
   },
   "outputs": [],
   "source": [
    "print((df_v2[\"SiteEnergyUseWN(kBtu)\"]<=0).sum())"
   ]
  },
  {
   "cell_type": "code",
   "execution_count": null,
   "metadata": {
    "id": "6-kV3bIswFGI"
   },
   "outputs": [],
   "source": [
    "print(((df_v2[\"SiteEnergyUseWN(kBtu)\"]<=0)|(df_v2[\"TotalGHGEmissions\"]<=0)).sum())"
   ]
  },
  {
   "cell_type": "code",
   "execution_count": null,
   "metadata": {
    "id": "eUeZ0voSvVTm"
   },
   "outputs": [],
   "source": [
    "print((df_v2[\"SteamUse(kBtu)\"]<0).sum())"
   ]
  },
  {
   "cell_type": "code",
   "execution_count": null,
   "metadata": {
    "id": "S9Bv_gjwvVro"
   },
   "outputs": [],
   "source": [
    "print((df_v2[\"Electricity(kBtu)\"]<=0).sum())"
   ]
  },
  {
   "cell_type": "code",
   "execution_count": null,
   "metadata": {
    "id": "TuhNROh3wB25"
   },
   "outputs": [],
   "source": [
    "print(((df_v2[\"SiteEnergyUseWN(kBtu)\"]<=0)|(df_v2[\"TotalGHGEmissions\"]<=0)|(df_v2[\"Electricity(kBtu)\"]<0)).sum())"
   ]
  },
  {
   "cell_type": "code",
   "execution_count": null,
   "metadata": {
    "id": "k75GTbrpvWGH"
   },
   "outputs": [],
   "source": [
    "print((df_v2[\"NaturalGas(kBtu)\"]<0).sum())"
   ]
  },
  {
   "cell_type": "code",
   "execution_count": null,
   "metadata": {
    "id": "HrMl4Rmjvjaa"
   },
   "outputs": [],
   "source": [
    "df_v2 = df_v2[(df_v2[\"TotalGHGEmissions\"] > 0) & (df_v2[\"SiteEnergyUseWN(kBtu)\"]>0) & (df_v2[\"Electricity(kBtu)\"]>0)]"
   ]
  },
  {
   "cell_type": "markdown",
   "metadata": {
    "id": "USfw20LkyLQD"
   },
   "source": [
    "<a name=\"column-filter\"></a>\n",
    "### Column filter"
   ]
  },
  {
   "cell_type": "code",
   "execution_count": null,
   "metadata": {
    "id": "t5DOP_3DyQC-"
   },
   "outputs": [],
   "source": [
    "df_v2.info()"
   ]
  },
  {
   "cell_type": "code",
   "execution_count": null,
   "metadata": {
    "id": "IDoWMuKuynkr"
   },
   "outputs": [],
   "source": [
    "df_v2 = df_v2.drop(columns=['OSEBuildingID',\n",
    "                            'DataYear', \n",
    "                            'PropertyName', \n",
    "                            'Address', \n",
    "                            'City', \n",
    "                            'State', \n",
    "                            'ZipCode',\n",
    "                            'TaxParcelIdentificationNumber', \n",
    "                            'CouncilDistrictCode', \n",
    "                            'Neighborhood',\n",
    "                            'ComplianceStatus',\n",
    "                            'DefaultData'])"
   ]
  },
  {
   "cell_type": "code",
   "execution_count": null,
   "metadata": {
    "id": "D5CQOGVW0isc"
   },
   "outputs": [],
   "source": [
    "print(len(df_v2['BuildingType'].unique()))\n",
    "print(len(df_v2['PrimaryPropertyType'].unique()))\n",
    "print(len(df_v2['ListOfAllPropertyUseTypes'].unique()))\n",
    "print(len(df_v2['LargestPropertyUseType'].unique()))"
   ]
  },
  {
   "cell_type": "code",
   "execution_count": null,
   "metadata": {
    "id": "bMh3mmnX36VA"
   },
   "outputs": [],
   "source": [
    "df_v2 = df_v2.drop('ListOfAllPropertyUseTypes', axis=1)"
   ]
  },
  {
   "cell_type": "markdown",
   "metadata": {
    "id": "zzH-qIwfqh6N"
   },
   "source": [
    "<a name=\"distributions\"></a>\n",
    "## Distributions"
   ]
  },
  {
   "cell_type": "markdown",
   "metadata": {
    "id": "SFm8hvZbrM_X"
   },
   "source": [
    "<a name=\"numerical-features\"></a>\n",
    "### Numerical features"
   ]
  },
  {
   "cell_type": "code",
   "execution_count": null,
   "metadata": {
    "id": "MhWiI7mArkx8"
   },
   "outputs": [],
   "source": [
    "df_num = df_v2._get_numeric_data()"
   ]
  },
  {
   "cell_type": "code",
   "execution_count": null,
   "metadata": {
    "id": "iisedYQ5qhXr"
   },
   "outputs": [],
   "source": [
    "df_desc = df_num.describe()\n",
    "df_desc.loc['var'] = df_num.var().tolist()\n",
    "df_desc.loc['skew'] = df_num.skew().tolist()\n",
    "df_desc.loc['kurt'] = df_num.kurtosis().tolist()\n",
    "df_desc.round(2)"
   ]
  },
  {
   "cell_type": "code",
   "execution_count": null,
   "metadata": {
    "id": "fROv6Jvc1_Ii"
   },
   "outputs": [],
   "source": [
    "sns.pairplot(df_v2.sample(frac=0.1), corner=True)"
   ]
  },
  {
   "cell_type": "code",
   "execution_count": null,
   "metadata": {
    "id": "Lq7le0-j7K76"
   },
   "outputs": [],
   "source": [
    "sns.displot(x=df_v2.loc[df_v2[\"TotalGHGEmissions\"]>0,\"TotalGHGEmissions\"], kind=\"kde\", log_scale=True)"
   ]
  },
  {
   "cell_type": "code",
   "execution_count": null,
   "metadata": {
    "id": "1ROYsAtf6ZuD"
   },
   "outputs": [],
   "source": [
    "sm.qqplot(df_v2[\"TotalGHGEmissions\"].dropna(), stats.lognorm, fit=True, line=\"45\")\n",
    "plt.show()"
   ]
  },
  {
   "cell_type": "markdown",
   "metadata": {
    "id": "oKSI_alG1Dkj"
   },
   "source": [
    "<a name=\"categorical-features\"></a>\n",
    "### Categorical features"
   ]
  },
  {
   "cell_type": "code",
   "execution_count": null,
   "metadata": {
    "id": "-4gyMwde1HI_"
   },
   "outputs": [],
   "source": [
    "df_grp = df_v2.groupby('PrimaryPropertyType').size()\n",
    "per_lim =0.03\n",
    "df_grp = df_grp[df_grp > per_lim*len(df_v2)]\n",
    "df_grp.plot(kind='pie', autopct='%.2f')"
   ]
  },
  {
   "cell_type": "markdown",
   "metadata": {
    "id": "IN2DdzCZqmtj"
   },
   "source": [
    "<a name=\"correlations\"></a>\n",
    "## Correlations"
   ]
  },
  {
   "cell_type": "code",
   "execution_count": null,
   "metadata": {
    "id": "cmhdY0cGAYjk"
   },
   "outputs": [],
   "source": [
    "corr = df_v2.corr()\n",
    "\n",
    "# Generate a mask for the upper triangle\n",
    "mask = np.triu(np.ones_like(corr, dtype=bool))\n",
    "# Set up the matplotlib figure\n",
    "f, ax = plt.subplots(figsize=(11, 9))\n",
    "# Generate a custom diverging colormap\n",
    "cmap = sns.diverging_palette(230, 20, as_cmap=True)\n",
    "# Draw the heatmap with the mask and correct aspect ratio\n",
    "sns.heatmap(corr, mask=mask, cmap=cmap, vmax=1, vmin=-1, center=0,\n",
    "            square=True, linewidths=.5, cbar_kws={\"shrink\": .5})"
   ]
  },
  {
   "cell_type": "code",
   "execution_count": null,
   "metadata": {
    "id": "l_WJQ2UviIAc"
   },
   "outputs": [],
   "source": [
    "df_v2.info()"
   ]
  },
  {
   "cell_type": "code",
   "execution_count": null,
   "metadata": {
    "id": "q6ZcwyXT4z2x"
   },
   "outputs": [],
   "source": [
    "sns.lineplot(data=df_v2, x=\"YearBuilt\", y=\"TotalGHGEmissions\")"
   ]
  },
  {
   "cell_type": "code",
   "execution_count": null,
   "metadata": {
    "id": "KYe3asMDGOBL"
   },
   "outputs": [],
   "source": [
    "e_sum = df_v2[\"Electricity(kBtu)\"] \\\n",
    "        + df_v2[\"NaturalGas(kBtu)\"] \\\n",
    "        + df_v2[\"SteamUse(kBtu)\"] \n",
    "sns.scatterplot(data=df_v2, x=\"SiteEnergyUseWN(kBtu)\", y=e_sum)"
   ]
  },
  {
   "cell_type": "code",
   "execution_count": null,
   "metadata": {
    "id": "vk_kk0r0IZdz"
   },
   "outputs": [],
   "source": [
    "res = stats.linregress(df_v2[\"SiteEnergyUse(kBtu)\"], e_sum)\n",
    "res"
   ]
  },
  {
   "cell_type": "code",
   "execution_count": null,
   "metadata": {
    "id": "i1stlqMqIB0L"
   },
   "outputs": [],
   "source": [
    "sns.scatterplot(data=df_v2, x=\"TotalGHGEmissions\", y=e_sum)"
   ]
  },
  {
   "cell_type": "code",
   "execution_count": null,
   "metadata": {
    "id": "GrIGfc1yIe3e"
   },
   "outputs": [],
   "source": [
    "res = stats.linregress(df_v2[\"TotalGHGEmissions\"], e_sum)\n",
    "res"
   ]
  },
  {
   "cell_type": "code",
   "execution_count": null,
   "metadata": {
    "id": "21_Xm8VF-0wR"
   },
   "outputs": [],
   "source": [
    "gfa_sum = df_v2[\"PropertyGFAParking\"] \\\n",
    "        + df_v2[\"PropertyGFABuilding(s)\"]\n",
    "sns.scatterplot(data=df_v2, x=\"PropertyGFATotal\", y=gfa_sum)"
   ]
  },
  {
   "cell_type": "code",
   "execution_count": null,
   "metadata": {
    "id": "4vjkNpP_BNn6"
   },
   "outputs": [],
   "source": [
    "res = stats.linregress(df_v2[\"PropertyGFATotal\"], gfa_sum)\n",
    "res"
   ]
  },
  {
   "cell_type": "code",
   "execution_count": null,
   "metadata": {
    "id": "t_RCGHGQE-u9"
   },
   "outputs": [],
   "source": [
    "df_v2 = df_v2.drop(columns=[\"PropertyGFATotal\"])"
   ]
  },
  {
   "cell_type": "code",
   "execution_count": null,
   "metadata": {
    "id": "o7QE9UiRxt_W"
   },
   "outputs": [],
   "source": [
    "sns.scatterplot(data=df_v2, x=\"PropertyGFAParking\", y=\"PropertyGFABuilding(s)\")"
   ]
  },
  {
   "cell_type": "code",
   "execution_count": null,
   "metadata": {
    "id": "SyjuNfDp1JYn"
   },
   "outputs": [],
   "source": [
    "sns.scatterplot(data=df_v2, x=\"PropertyGFABuilding(s)\", y=\"TotalGHGEmissions\")"
   ]
  },
  {
   "cell_type": "code",
   "execution_count": null,
   "metadata": {
    "id": "2uUQ4G3u1UUY"
   },
   "outputs": [],
   "source": [
    "sns.scatterplot(data=df_v2, x=\"PropertyGFABuilding(s)\", y=\"SiteEnergyUse(kBtu)\")"
   ]
  },
  {
   "cell_type": "markdown",
   "metadata": {
    "id": "eXOJTFPBCF1O"
   },
   "source": [
    "<a name=\"feature-engineering\"></a>\n",
    "## Feature engineering"
   ]
  },
  {
   "cell_type": "markdown",
   "metadata": {
    "id": "SQpWWAnlDocY"
   },
   "source": [
    "<a name=\"feature-engineering\"></a>\n",
    "### Feature engineering"
   ]
  },
  {
   "cell_type": "code",
   "execution_count": null,
   "metadata": {
    "id": "xXtIGbGODns4"
   },
   "outputs": [],
   "source": [
    "df_v2[\"is_ENERGYSTARScore\"] = df_v2[\"ENERGYSTARScore\"].isna()"
   ]
  },
  {
   "cell_type": "code",
   "execution_count": null,
   "metadata": {
    "id": "lBwM9Na5JUcV"
   },
   "outputs": [],
   "source": [
    "df_v2.groupby(\"is_ENERGYSTARScore\")[\"is_ENERGYSTARScore\"].count()"
   ]
  },
  {
   "cell_type": "code",
   "execution_count": null,
   "metadata": {
    "id": "ztz_PZN_zeK1"
   },
   "outputs": [],
   "source": [
    "df_v2[\"is_SteamUse\"] = df_v2[\"SteamUse(kBtu)\"] > 0"
   ]
  },
  {
   "cell_type": "code",
   "execution_count": null,
   "metadata": {
    "id": "jAVM1IwRz0WK"
   },
   "outputs": [],
   "source": [
    "df_v2.groupby(\"is_SteamUse\")[\"is_SteamUse\"].count()"
   ]
  },
  {
   "cell_type": "code",
   "execution_count": null,
   "metadata": {
    "id": "L7MyjKspzrTJ"
   },
   "outputs": [],
   "source": [
    "df_v2[\"is_NaturalGas\"] = df_v2[\"NaturalGas(kBtu)\"] > 0"
   ]
  },
  {
   "cell_type": "code",
   "execution_count": null,
   "metadata": {
    "id": "JacHYIvTz506"
   },
   "outputs": [],
   "source": [
    "df_v2.groupby(\"is_NaturalGas\")[\"is_NaturalGas\"].count()"
   ]
  },
  {
   "cell_type": "code",
   "execution_count": null,
   "metadata": {
    "id": "4l1XSMjg3uhS"
   },
   "outputs": [],
   "source": [
    "df_v2[\"is_PropertyGFAParking\"] = df_v2[\"PropertyGFAParking\"] > 0"
   ]
  },
  {
   "cell_type": "code",
   "execution_count": null,
   "metadata": {
    "id": "jY7ynHT_33R5"
   },
   "outputs": [],
   "source": [
    "df_v2.groupby(\"is_PropertyGFAParking\")[\"is_PropertyGFAParking\"].count()"
   ]
  },
  {
   "cell_type": "code",
   "execution_count": null,
   "metadata": {
    "id": "F-XDima_tqqV"
   },
   "outputs": [],
   "source": [
    "df_v2[\"ratio_SteamUse\"] = (df_v2[\"SteamUse(kBtu)\"]/(df_v2[\"SteamUse(kBtu)\"]+df_v2[\"NaturalGas(kBtu)\"]+df_v2[\"Electricity(kBtu)\"])).round(1)"
   ]
  },
  {
   "cell_type": "code",
   "execution_count": null,
   "metadata": {
    "id": "I6mHEcIQuzU8"
   },
   "outputs": [],
   "source": [
    "df_v2[\"ratio_NaturalGas\"] = (df_v2[\"NaturalGas(kBtu)\"]/(df_v2[\"SteamUse(kBtu)\"]+df_v2[\"NaturalGas(kBtu)\"]+df_v2[\"Electricity(kBtu)\"])).round(1)"
   ]
  },
  {
   "cell_type": "markdown",
   "metadata": {
    "id": "qntNxs-65EWM"
   },
   "source": [
    "<a name=\"exports\"></a>\n",
    "### Exports"
   ]
  },
  {
   "cell_type": "code",
   "execution_count": null,
   "metadata": {
    "id": "zxXF0bUN5JpE"
   },
   "outputs": [],
   "source": [
    "df_v2.to_csv(\"data_cleaned_v2.csv\", index=False)"
   ]
  }
 ],
 "metadata": {
  "colab": {
   "provenance": []
  },
  "kernelspec": {
   "display_name": "",
   "language": "python",
   "name": ""
  },
  "language_info": {
   "codemirror_mode": {
    "name": "ipython",
    "version": 3
   },
   "file_extension": ".py",
   "mimetype": "text/x-python",
   "name": "python",
   "nbconvert_exporter": "python",
   "pygments_lexer": "ipython3",
   "version": "3.9.16"
  },
  "vscode": {
   "interpreter": {
    "hash": "b399b0354c96c158caac6f7dfc72b765d340c5617dfeca5157e0976b9d57316f"
   }
  }
 },
 "nbformat": 4,
 "nbformat_minor": 0
}
