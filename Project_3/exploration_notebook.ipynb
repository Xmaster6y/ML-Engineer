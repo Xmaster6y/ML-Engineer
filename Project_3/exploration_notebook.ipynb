{
 "cells": [
  {
   "cell_type": "markdown",
   "metadata": {
    "id": "PMS5zROvdkX0"
   },
   "source": [
    "# Exploration notebook\n",
    "\n",
    "* [Imports](#imports)\n",
    "* [Data loading](#data-loading)\n",
    "* [Missing values](#missing-values)\n",
    "    * [Quantification](#quantification)\n",
    "    * [Imputation](#imputation)\n",
    "* [Data filtering](#data-filtering)\n",
    "    * [Row filter](#row-filter)\n",
    "    * [Column filter](#column-filter)\n",
    "* [Distributions](#distributions)\n",
    "    * [Numerical features](#numerical-features)\n",
    "    * [Categorical features](#categorical-features)\n",
    "* [Correlations](#correlations)\n",
    "* [Feature engineering](#feature-engineering)\n",
    "    * [Feature engineering](#feature-engineering)\n",
    "* [Exports](#exports)\n"
   ]
  },
  {
   "cell_type": "markdown",
   "metadata": {
    "id": "PDnI01DPfMsd"
   },
   "source": [
    "<a name=\"imports\"></a>\n",
    "## Imports"
   ]
  },
  {
   "cell_type": "code",
   "execution_count": null,
   "metadata": {
    "id": "qXMYER4PfMSI"
   },
   "outputs": [],
   "source": [
    "import os\n",
    "import pandas as pd\n",
    "import numpy as np\n",
    "import missingno as msno\n",
    "\n",
    "import seaborn as sns\n",
    "import matplotlib.pyplot as plt\n",
    "\n",
    "import statsmodels.api as sm\n",
    "from scipy import stats"
   ]
  },
  {
   "cell_type": "markdown",
   "metadata": {
    "id": "J86p6G-sfkpv"
   },
   "source": [
    "<a name=\"data-loading\"></a>\n",
    "## Data loading"
   ]
  },
  {
   "cell_type": "code",
   "execution_count": null,
   "metadata": {
    "colab": {
     "base_uri": "https://localhost:8080/"
    },
    "id": "IOsr_QFaftdx",
    "outputId": "422a966a-5fa7-4d35-d049-d1f6a36354a9"
   },
   "outputs": [],
   "source": [
    "file_name_2016 = \"data_2016.csv\"\n",
    "if not os.path.exists(file_name_2016):\n",
    "    !wget https://data.seattle.gov/api/views/2bpz-gwpy/rows.csv?accessType=DOWNLOAD -q --show-progress -O $file_name_2016\n",
    "!head -2 $file_name_2016"
   ]
  },
  {
   "cell_type": "code",
   "execution_count": null,
   "metadata": {
    "colab": {
     "base_uri": "https://localhost:8080/"
    },
    "id": "N8blhVT1WvCn",
    "outputId": "40773ba6-06e9-4acd-c6dc-8f7e06ee4ec1"
   },
   "outputs": [],
   "source": [
    "file_name_2015 = \"data_2015.csv\"\n",
    "if not os.path.exists(file_name_2015):\n",
    "    !wget https://data.seattle.gov/api/views/h7rm-fz6m/rows.csv?accessType=DOWNLOAD -q --show-progress -O $file_name_2015\n",
    "!head -2 $file_name_2015"
   ]
  },
  {
   "cell_type": "code",
   "execution_count": null,
   "metadata": {
    "colab": {
     "base_uri": "https://localhost:8080/",
     "height": 767
    },
    "id": "G0-Fol3ZhNbf",
    "outputId": "a80bab13-5aee-47f0-a1bb-738e7567bf3a"
   },
   "outputs": [],
   "source": [
    "df_2015 = pd.read_csv(file_name_2015)\n",
    "df_2016 = pd.read_csv(file_name_2016)\n",
    "print(df_2016.columns)\n",
    "print([col for col in df_2015.columns if col not in df_2016.columns])\n",
    "print([col for col in df_2016.columns if col not in df_2015.columns])\n",
    "df_2016.head()"
   ]
  },
  {
   "cell_type": "code",
   "execution_count": null,
   "metadata": {
    "id": "OXWKSzOqb1UX"
   },
   "outputs": [],
   "source": [
    "df_2015 = df_2015.rename(columns={'GHGEmissions(MetricTonsCO2e)': 'TotalGHGEmissions', 'GHGEmissionsIntensity(kgCO2e/ft2)': 'GHGEmissionsIntensity'})"
   ]
  },
  {
   "cell_type": "code",
   "execution_count": null,
   "metadata": {
    "colab": {
     "base_uri": "https://localhost:8080/"
    },
    "id": "nvIldCdabFeI",
    "outputId": "49add5db-1ed0-41d0-ef45-e8ba761bb2d2"
   },
   "outputs": [],
   "source": [
    "print([col for col in df_2015.columns if col not in df_2016.columns])\n",
    "print([col for col in df_2016.columns if col not in df_2015.columns])"
   ]
  },
  {
   "cell_type": "code",
   "execution_count": null,
   "metadata": {
    "colab": {
     "base_uri": "https://localhost:8080/"
    },
    "id": "4iD7EMFXcTnI",
    "outputId": "f058600b-f8c8-404a-9966-644acc70abec"
   },
   "outputs": [],
   "source": [
    "df_2015['TotalGHGEmissions'].describe()"
   ]
  },
  {
   "cell_type": "code",
   "execution_count": null,
   "metadata": {
    "colab": {
     "base_uri": "https://localhost:8080/"
    },
    "id": "zKIPcb2bcazE",
    "outputId": "db2995f0-4901-4c79-a0bf-e1b634d3bc43"
   },
   "outputs": [],
   "source": [
    "df_2016['TotalGHGEmissions'].describe()"
   ]
  },
  {
   "cell_type": "code",
   "execution_count": null,
   "metadata": {
    "colab": {
     "base_uri": "https://localhost:8080/"
    },
    "id": "Q9bWG-0Lchaw",
    "outputId": "2f60b788-569d-42d1-e715-9e68591e7a56"
   },
   "outputs": [],
   "source": [
    "pd.unique(pd.concat([df_2016['OSEBuildingID'],df_2015['OSEBuildingID']])).shape"
   ]
  },
  {
   "cell_type": "code",
   "execution_count": null,
   "metadata": {
    "colab": {
     "base_uri": "https://localhost:8080/"
    },
    "id": "o9Vm5JYWnc91",
    "outputId": "ca52fbea-22ab-4275-eded-5076f84310d9"
   },
   "outputs": [],
   "source": [
    "len(set(pd.unique(df_2015['OSEBuildingID'])) - set(pd.unique(df_2016['OSEBuildingID'])))"
   ]
  },
  {
   "cell_type": "markdown",
   "metadata": {
    "id": "wgedi80BjPpQ"
   },
   "source": [
    "Moyenne entre 2015 et 2016"
   ]
  },
  {
   "cell_type": "code",
   "execution_count": null,
   "metadata": {
    "id": "OjLQB2cFjYtA"
   },
   "outputs": [],
   "source": [
    "df_2016['mean_TotalGHGEmissions'] = df_2016['TotalGHGEmissions']\n",
    "df_2016['mean_SiteEnergyUseWN(kBtu)'] = df_2016['SiteEnergyUseWN(kBtu)']"
   ]
  },
  {
   "cell_type": "code",
   "execution_count": null,
   "metadata": {
    "id": "BPOGWXKiifYZ"
   },
   "outputs": [],
   "source": [
    "for ose in df_2016['OSEBuildingID']:\n",
    "    if ose in df_2015['OSEBuildingID'].values:\n",
    "        row_2016 = df_2016[df_2016['OSEBuildingID'] == ose]\n",
    "        ghg_2016 = row_2016['TotalGHGEmissions'].to_numpy()\n",
    "        elec_2016 = row_2016['SiteEnergyUseWN(kBtu)'].to_numpy()\n",
    "        row_2015 = df_2015[df_2015['OSEBuildingID'] == ose]\n",
    "        ghg_2015 = row_2015['TotalGHGEmissions'].to_numpy()\n",
    "        elec_2015 = row_2015['SiteEnergyUseWN(kBtu)'].to_numpy()\n",
    "        df_2016.loc[df_2016['OSEBuildingID'] == ose, 'mean_TotalGHGEmissions'] = (ghg_2016+ghg_2015)/2\n",
    "        df_2016.loc[df_2016['OSEBuildingID'] == ose, 'mean_SiteEnergyUseWN(kBtu)'] = (elec_2016+elec_2015)/2\n"
   ]
  },
  {
   "cell_type": "code",
   "execution_count": null,
   "metadata": {
    "id": "_jatpUsudmDs"
   },
   "outputs": [],
   "source": [
    "df = df_2016"
   ]
  },
  {
   "cell_type": "code",
   "execution_count": null,
   "metadata": {
    "colab": {
     "base_uri": "https://localhost:8080/"
    },
    "id": "0O6cwgw7rbYq",
    "outputId": "70e32b34-eeb8-429a-b550-b49e6e32d0c8"
   },
   "outputs": [],
   "source": [
    "df.info()"
   ]
  },
  {
   "cell_type": "markdown",
   "metadata": {
    "id": "TO1PQzqhhrLG"
   },
   "source": [
    "<a name=\"missing-values\"></a>\n",
    "## Missing values"
   ]
  },
  {
   "cell_type": "markdown",
   "metadata": {
    "id": "pvV6Oho_pdys"
   },
   "source": [
    "<a name=\"quantification\"></a>\n",
    "### Quantification "
   ]
  },
  {
   "cell_type": "code",
   "execution_count": null,
   "metadata": {
    "colab": {
     "base_uri": "https://localhost:8080/"
    },
    "id": "C_zWCk8EhW9w",
    "outputId": "3a9d8804-d9aa-4215-fcf0-d3f30b756dad"
   },
   "outputs": [],
   "source": [
    "df.isna().sum()"
   ]
  },
  {
   "cell_type": "code",
   "execution_count": null,
   "metadata": {
    "colab": {
     "base_uri": "https://localhost:8080/",
     "height": 1000
    },
    "id": "RlMKXnuqhxwl",
    "outputId": "a8abeeca-ccc3-4f3c-812a-1dbba31b84b3"
   },
   "outputs": [],
   "source": [
    "msno.heatmap(df)"
   ]
  },
  {
   "cell_type": "markdown",
   "metadata": {
    "id": "BGz-XYmipmH_"
   },
   "source": [
    "<a name=\"imputation\"></a>\n",
    "### Imputation"
   ]
  },
  {
   "cell_type": "code",
   "execution_count": null,
   "metadata": {
    "id": "0P7cjnFIpUAy"
   },
   "outputs": [],
   "source": [
    "df_v3 = msno.nullity_filter(df, 'top', 0.5)"
   ]
  },
  {
   "cell_type": "code",
   "execution_count": null,
   "metadata": {
    "colab": {
     "base_uri": "https://localhost:8080/"
    },
    "id": "l8i1GFRAsIoo",
    "outputId": "214e840c-6c1b-4158-8e48-97915c40c9bd"
   },
   "outputs": [],
   "source": [
    "df_v3['ENERGYSTARScore'].describe().round(2)"
   ]
  },
  {
   "cell_type": "markdown",
   "metadata": {
    "id": "NB8WGNWItmLz"
   },
   "source": [
    "<a name=\"data-filtering\"></a>\n",
    "## Data filtering"
   ]
  },
  {
   "cell_type": "markdown",
   "metadata": {
    "id": "gLSQ1ut4v0h1"
   },
   "source": [
    "<a name=\"row-filter\"></a>\n",
    "### Row filter\n",
    "\n",
    "Drop the \"multifamily\" building type to only keep the non-resedential buildings."
   ]
  },
  {
   "cell_type": "code",
   "execution_count": null,
   "metadata": {
    "id": "rE2nVFXstrIv"
   },
   "outputs": [],
   "source": [
    "to_drop = [val for val in df_v3['BuildingType'].unique() if 'Multifamily' in val]\n",
    "for val in to_drop:\n",
    "    df_v3 = df_v3[df_v3['BuildingType'] != val]"
   ]
  },
  {
   "cell_type": "markdown",
   "metadata": {
    "id": "DkYiJe0TwqAJ"
   },
   "source": [
    "Drop the negative energy building (energy production)."
   ]
  },
  {
   "cell_type": "code",
   "execution_count": null,
   "metadata": {
    "colab": {
     "base_uri": "https://localhost:8080/"
    },
    "id": "VGcsa5YLu78b",
    "outputId": "90d5e8e2-a295-4a01-ce39-0d8b5d1f248b"
   },
   "outputs": [],
   "source": [
    "print((df_v3[\"TotalGHGEmissions\"]<=0).sum())"
   ]
  },
  {
   "cell_type": "code",
   "execution_count": null,
   "metadata": {
    "colab": {
     "base_uri": "https://localhost:8080/"
    },
    "id": "0vNXebmqvJ9P",
    "outputId": "f1d21283-ac34-4f50-a158-2b94f6061b5a"
   },
   "outputs": [],
   "source": [
    "print((df_v3[\"SiteEnergyUseWN(kBtu)\"]<=0).sum())"
   ]
  },
  {
   "cell_type": "code",
   "execution_count": null,
   "metadata": {
    "colab": {
     "base_uri": "https://localhost:8080/"
    },
    "id": "6-kV3bIswFGI",
    "outputId": "9972989e-e2d6-43e5-e5f4-4a99405557cd"
   },
   "outputs": [],
   "source": [
    "print(((df_v3[\"SiteEnergyUseWN(kBtu)\"]<=0)|(df_v3[\"TotalGHGEmissions\"]<=0)).sum())"
   ]
  },
  {
   "cell_type": "code",
   "execution_count": null,
   "metadata": {
    "colab": {
     "base_uri": "https://localhost:8080/"
    },
    "id": "eUeZ0voSvVTm",
    "outputId": "3fc80d0a-cdd8-4a4c-d935-1bf5ceb57411"
   },
   "outputs": [],
   "source": [
    "print((df_v3[\"SteamUse(kBtu)\"]<0).sum())"
   ]
  },
  {
   "cell_type": "code",
   "execution_count": null,
   "metadata": {
    "colab": {
     "base_uri": "https://localhost:8080/"
    },
    "id": "S9Bv_gjwvVro",
    "outputId": "24d27925-6461-452a-a64f-27e0e01eea01"
   },
   "outputs": [],
   "source": [
    "print((df_v3[\"Electricity(kBtu)\"]<=0).sum())"
   ]
  },
  {
   "cell_type": "code",
   "execution_count": null,
   "metadata": {
    "colab": {
     "base_uri": "https://localhost:8080/"
    },
    "id": "TuhNROh3wB25",
    "outputId": "1d7d347e-ccc2-4610-dbb1-6ea0435059de"
   },
   "outputs": [],
   "source": [
    "print(((df_v3[\"SiteEnergyUseWN(kBtu)\"]<=0)|(df_v3[\"TotalGHGEmissions\"]<=0)|(df_v3[\"Electricity(kBtu)\"]<0)).sum())"
   ]
  },
  {
   "cell_type": "code",
   "execution_count": null,
   "metadata": {
    "colab": {
     "base_uri": "https://localhost:8080/"
    },
    "id": "k75GTbrpvWGH",
    "outputId": "3b67193d-45b4-4b05-d7e4-38c4dc5ea8f8"
   },
   "outputs": [],
   "source": [
    "print((df_v3[\"NaturalGas(kBtu)\"]<0).sum())"
   ]
  },
  {
   "cell_type": "code",
   "execution_count": null,
   "metadata": {
    "id": "HrMl4Rmjvjaa"
   },
   "outputs": [],
   "source": [
    "df_v3 = df_v3[(df_v3[\"TotalGHGEmissions\"] > 0) & (df_v3[\"SiteEnergyUseWN(kBtu)\"]>0) & (df_v3[\"Electricity(kBtu)\"]>0)]"
   ]
  },
  {
   "cell_type": "markdown",
   "metadata": {
    "id": "USfw20LkyLQD"
   },
   "source": [
    "<a name=\"column-filter\"></a>\n",
    "### Column filter"
   ]
  },
  {
   "cell_type": "code",
   "execution_count": null,
   "metadata": {
    "colab": {
     "base_uri": "https://localhost:8080/"
    },
    "id": "t5DOP_3DyQC-",
    "outputId": "851bc68d-17b7-465b-e7e2-6191ff796ee1"
   },
   "outputs": [],
   "source": [
    "df_v3.info()"
   ]
  },
  {
   "cell_type": "code",
   "execution_count": null,
   "metadata": {
    "id": "IDoWMuKuynkr"
   },
   "outputs": [],
   "source": [
    "df_v3 = df_v3.drop(columns=['OSEBuildingID',\n",
    "                            'DataYear', \n",
    "                            'PropertyName', \n",
    "                            'Address', \n",
    "                            'City', \n",
    "                            'State', \n",
    "                            'ZipCode',\n",
    "                            'TaxParcelIdentificationNumber', \n",
    "                            'CouncilDistrictCode', \n",
    "                            'Neighborhood',\n",
    "                            'ComplianceStatus',\n",
    "                            'DefaultData'])"
   ]
  },
  {
   "cell_type": "code",
   "execution_count": null,
   "metadata": {
    "colab": {
     "base_uri": "https://localhost:8080/"
    },
    "id": "D5CQOGVW0isc",
    "outputId": "93eda4e1-f3f5-4d51-86c3-fbed62a8a512"
   },
   "outputs": [],
   "source": [
    "print(len(df_v3['BuildingType'].unique()))\n",
    "print(len(df_v3['PrimaryPropertyType'].unique()))\n",
    "print(len(df_v3['ListOfAllPropertyUseTypes'].unique()))\n",
    "print(len(df_v3['LargestPropertyUseType'].unique()))"
   ]
  },
  {
   "cell_type": "markdown",
   "metadata": {
    "id": "zzH-qIwfqh6N"
   },
   "source": [
    "<a name=\"distributions\"></a>\n",
    "## Distributions"
   ]
  },
  {
   "cell_type": "markdown",
   "metadata": {
    "id": "SFm8hvZbrM_X"
   },
   "source": [
    "<a name=\"numerical-features\"></a>\n",
    "### Numerical features"
   ]
  },
  {
   "cell_type": "code",
   "execution_count": null,
   "metadata": {
    "id": "MhWiI7mArkx8"
   },
   "outputs": [],
   "source": [
    "df_num = df_v3._get_numeric_data()"
   ]
  },
  {
   "cell_type": "code",
   "execution_count": null,
   "metadata": {
    "colab": {
     "base_uri": "https://localhost:8080/",
     "height": 488
    },
    "id": "iisedYQ5qhXr",
    "outputId": "341e90ee-f0ab-4cbe-c156-d07d6367f52a"
   },
   "outputs": [],
   "source": [
    "df_desc = df_num.describe()\n",
    "df_desc.loc['var'] = df_num.var().tolist()\n",
    "df_desc.loc['skew'] = df_num.skew().tolist()\n",
    "df_desc.loc['kurt'] = df_num.kurtosis().tolist()\n",
    "df_desc.round(2)"
   ]
  },
  {
   "cell_type": "code",
   "execution_count": null,
   "metadata": {
    "colab": {
     "base_uri": "https://localhost:8080/",
     "height": 1000
    },
    "id": "fROv6Jvc1_Ii",
    "outputId": "f1a42ebc-61ea-498c-e9af-c66c47a6d7a1"
   },
   "outputs": [],
   "source": [
    "sns.pairplot(df_v3.sample(frac=0.1), corner=True)"
   ]
  },
  {
   "cell_type": "code",
   "execution_count": null,
   "metadata": {
    "colab": {
     "base_uri": "https://localhost:8080/",
     "height": 525
    },
    "id": "Lq7le0-j7K76",
    "outputId": "6c549dee-b195-4523-d2f1-c107470b67c8"
   },
   "outputs": [],
   "source": [
    "sns.displot(x=df_v3.loc[df_v3[\"TotalGHGEmissions\"]>0,\"TotalGHGEmissions\"], kind=\"kde\", log_scale=True)"
   ]
  },
  {
   "cell_type": "code",
   "execution_count": null,
   "metadata": {
    "colab": {
     "base_uri": "https://localhost:8080/",
     "height": 449
    },
    "id": "1ROYsAtf6ZuD",
    "outputId": "6cfb147a-899a-45e1-df7d-12d148484453"
   },
   "outputs": [],
   "source": [
    "sm.qqplot(df_v3[\"TotalGHGEmissions\"].dropna(), stats.lognorm, fit=True, line=\"45\")\n",
    "plt.show()"
   ]
  },
  {
   "cell_type": "code",
   "execution_count": null,
   "metadata": {
    "colab": {
     "base_uri": "https://localhost:8080/",
     "height": 525
    },
    "id": "8TuhfPpj1qP0",
    "outputId": "2c776705-274f-4c2e-b5da-20b8f168f687"
   },
   "outputs": [],
   "source": [
    "sns.displot(x=df_v3.loc[df_v3[\"SiteEnergyUse(kBtu)\"]>0,\"SiteEnergyUse(kBtu)\"], kind=\"kde\", log_scale=True)"
   ]
  },
  {
   "cell_type": "code",
   "execution_count": null,
   "metadata": {
    "colab": {
     "base_uri": "https://localhost:8080/",
     "height": 449
    },
    "id": "WZJ_MAhF2DMW",
    "outputId": "9e5a6d26-fa62-4b57-f052-d8683add3936"
   },
   "outputs": [],
   "source": [
    "sm.qqplot(df_v3[\"SiteEnergyUse(kBtu)\"].dropna(), stats.lognorm, fit=True, line=\"45\")\n",
    "plt.show()"
   ]
  },
  {
   "cell_type": "markdown",
   "metadata": {
    "id": "oKSI_alG1Dkj"
   },
   "source": [
    "<a name=\"categorical-features\"></a>\n",
    "### Categorical features"
   ]
  },
  {
   "cell_type": "code",
   "execution_count": null,
   "metadata": {
    "colab": {
     "base_uri": "https://localhost:8080/",
     "height": 425
    },
    "id": "-4gyMwde1HI_",
    "outputId": "2c5e082b-1400-4a55-fd0c-0e7c678df4bc"
   },
   "outputs": [],
   "source": [
    "df_grp = df_v3.groupby('BuildingType').size()\n",
    "per_lim =0.003\n",
    "df_grp = df_grp[df_grp > per_lim*len(df_v3)]\n",
    "df_grp.plot(kind='pie', autopct='%.2f')"
   ]
  },
  {
   "cell_type": "code",
   "execution_count": null,
   "metadata": {
    "colab": {
     "base_uri": "https://localhost:8080/",
     "height": 425
    },
    "id": "PlMYaWQs2Uhi",
    "outputId": "e5b20803-d777-4cb3-addd-168fbab6af28"
   },
   "outputs": [],
   "source": [
    "df_grp = df_v3.groupby('PrimaryPropertyType').size()\n",
    "per_lim =0.03\n",
    "df_grp = df_grp[df_grp > per_lim*len(df_v3)]\n",
    "df_grp.plot(kind='pie', autopct='%.2f')"
   ]
  },
  {
   "cell_type": "markdown",
   "metadata": {
    "id": "IN2DdzCZqmtj"
   },
   "source": [
    "<a name=\"correlations\"></a>\n",
    "## Correlations"
   ]
  },
  {
   "cell_type": "code",
   "execution_count": null,
   "metadata": {
    "colab": {
     "base_uri": "https://localhost:8080/",
     "height": 962
    },
    "id": "cmhdY0cGAYjk",
    "outputId": "967240f3-999e-4cc9-f394-df0039646282"
   },
   "outputs": [],
   "source": [
    "corr = df_v3.corr()\n",
    "\n",
    "# Generate a mask for the upper triangle\n",
    "mask = np.triu(np.ones_like(corr, dtype=bool))\n",
    "# Set up the matplotlib figure\n",
    "f, ax = plt.subplots(figsize=(11, 9))\n",
    "# Generate a custom diverging colormap\n",
    "cmap = sns.diverging_palette(230, 20, as_cmap=True)\n",
    "# Draw the heatmap with the mask and correct aspect ratio\n",
    "sns.heatmap(corr, mask=mask, cmap=cmap, vmax=1, vmin=-1, center=0,\n",
    "            square=True, linewidths=.5, cbar_kws={\"shrink\": .5})"
   ]
  },
  {
   "cell_type": "code",
   "execution_count": null,
   "metadata": {
    "colab": {
     "base_uri": "https://localhost:8080/"
    },
    "id": "l_WJQ2UviIAc",
    "outputId": "c738fff6-4fe1-4d83-c765-f0e1aa8bfa11"
   },
   "outputs": [],
   "source": [
    "df_v3.info()"
   ]
  },
  {
   "cell_type": "code",
   "execution_count": null,
   "metadata": {
    "colab": {
     "base_uri": "https://localhost:8080/",
     "height": 468
    },
    "id": "q6ZcwyXT4z2x",
    "outputId": "fd4d4504-49af-4447-9869-3f91a89af687"
   },
   "outputs": [],
   "source": [
    "sns.lineplot(data=df_v3, x=\"YearBuilt\", y=\"TotalGHGEmissions\")"
   ]
  },
  {
   "cell_type": "code",
   "execution_count": null,
   "metadata": {
    "colab": {
     "base_uri": "https://localhost:8080/",
     "height": 484
    },
    "id": "KYe3asMDGOBL",
    "outputId": "efd4f9ef-2a20-4fe1-f2ff-5776f1cba98c"
   },
   "outputs": [],
   "source": [
    "e_sum = df_v3[\"Electricity(kBtu)\"] \\\n",
    "        + df_v3[\"NaturalGas(kBtu)\"] \\\n",
    "        + df_v3[\"SteamUse(kBtu)\"] \n",
    "sns.scatterplot(data=df_v3, x=\"SiteEnergyUseWN(kBtu)\", y=e_sum)"
   ]
  },
  {
   "cell_type": "code",
   "execution_count": null,
   "metadata": {
    "colab": {
     "base_uri": "https://localhost:8080/"
    },
    "id": "vk_kk0r0IZdz",
    "outputId": "4f3a3914-3c61-4c36-c59f-1142f58fce39"
   },
   "outputs": [],
   "source": [
    "res = stats.linregress(df_v3[\"SiteEnergyUse(kBtu)\"], e_sum)\n",
    "res"
   ]
  },
  {
   "cell_type": "code",
   "execution_count": null,
   "metadata": {
    "colab": {
     "base_uri": "https://localhost:8080/",
     "height": 484
    },
    "id": "i1stlqMqIB0L",
    "outputId": "f57c99e1-e1d2-431c-bf4e-a4ecfe453869"
   },
   "outputs": [],
   "source": [
    "sns.scatterplot(data=df_v3, x=\"TotalGHGEmissions\", y=e_sum)"
   ]
  },
  {
   "cell_type": "code",
   "execution_count": null,
   "metadata": {
    "colab": {
     "base_uri": "https://localhost:8080/"
    },
    "id": "GrIGfc1yIe3e",
    "outputId": "3fb936fc-548f-42b5-cb6a-d4727b319873"
   },
   "outputs": [],
   "source": [
    "res = stats.linregress(df_v3[\"TotalGHGEmissions\"], e_sum)\n",
    "res"
   ]
  },
  {
   "cell_type": "code",
   "execution_count": null,
   "metadata": {
    "colab": {
     "base_uri": "https://localhost:8080/",
     "height": 484
    },
    "id": "21_Xm8VF-0wR",
    "outputId": "75f7ad02-50fc-449c-b367-32f6fd058948"
   },
   "outputs": [],
   "source": [
    "gfa_sum = df_v3[\"PropertyGFAParking\"] \\\n",
    "        + df_v3[\"PropertyGFABuilding(s)\"]\n",
    "sns.scatterplot(data=df_v3, x=\"PropertyGFATotal\", y=gfa_sum)"
   ]
  },
  {
   "cell_type": "code",
   "execution_count": null,
   "metadata": {
    "colab": {
     "base_uri": "https://localhost:8080/"
    },
    "id": "4vjkNpP_BNn6",
    "outputId": "2c033374-bb07-4c77-92e9-af36fdb436c9"
   },
   "outputs": [],
   "source": [
    "res = stats.linregress(df_v3[\"PropertyGFATotal\"], gfa_sum)\n",
    "res"
   ]
  },
  {
   "cell_type": "code",
   "execution_count": null,
   "metadata": {
    "id": "t_RCGHGQE-u9"
   },
   "outputs": [],
   "source": [
    "df_v3 = df_v3.drop(columns=[\"PropertyGFATotal\"])"
   ]
  },
  {
   "cell_type": "code",
   "execution_count": null,
   "metadata": {
    "colab": {
     "base_uri": "https://localhost:8080/",
     "height": 484
    },
    "id": "o7QE9UiRxt_W",
    "outputId": "18e63c96-9068-4272-9846-83a03424839f"
   },
   "outputs": [],
   "source": [
    "sns.scatterplot(data=df_v3, x=\"PropertyGFAParking\", y=\"PropertyGFABuilding(s)\")"
   ]
  },
  {
   "cell_type": "code",
   "execution_count": null,
   "metadata": {
    "colab": {
     "base_uri": "https://localhost:8080/",
     "height": 470
    },
    "id": "SyjuNfDp1JYn",
    "outputId": "0e64f78c-616c-4845-fc62-1c6e9992023e"
   },
   "outputs": [],
   "source": [
    "sns.scatterplot(data=df_v3, x=\"PropertyGFABuilding(s)\", y=\"TotalGHGEmissions\")"
   ]
  },
  {
   "cell_type": "code",
   "execution_count": null,
   "metadata": {
    "colab": {
     "base_uri": "https://localhost:8080/",
     "height": 484
    },
    "id": "2uUQ4G3u1UUY",
    "outputId": "dc3aa36c-d754-4153-ee07-4c0b304dd1d4"
   },
   "outputs": [],
   "source": [
    "sns.scatterplot(data=df_v3, x=\"PropertyGFABuilding(s)\", y=\"SiteEnergyUse(kBtu)\")"
   ]
  },
  {
   "cell_type": "code",
   "execution_count": null,
   "metadata": {
    "colab": {
     "base_uri": "https://localhost:8080/",
     "height": 484
    },
    "id": "yRxIOHnxuKf1",
    "outputId": "42c8a690-5fac-4290-f1d8-a461d53252a6"
   },
   "outputs": [],
   "source": [
    "sns.scatterplot(data=df_v3, x=\"PropertyGFABuilding(s)\", y=\"mean_SiteEnergyUseWN(kBtu)\")"
   ]
  },
  {
   "cell_type": "markdown",
   "metadata": {
    "id": "eXOJTFPBCF1O"
   },
   "source": [
    "<a name=\"feature-engineering\"></a>\n",
    "## Feature engineering"
   ]
  },
  {
   "cell_type": "markdown",
   "metadata": {
    "id": "SQpWWAnlDocY"
   },
   "source": [
    "<a name=\"feature-engineering\"></a>\n",
    "### Feature engineering"
   ]
  },
  {
   "cell_type": "code",
   "execution_count": null,
   "metadata": {
    "id": "xXtIGbGODns4"
   },
   "outputs": [],
   "source": [
    "df_v3[\"is_ENERGYSTARScore\"] = df_v3[\"ENERGYSTARScore\"].isna()"
   ]
  },
  {
   "cell_type": "code",
   "execution_count": null,
   "metadata": {
    "colab": {
     "base_uri": "https://localhost:8080/"
    },
    "id": "lBwM9Na5JUcV",
    "outputId": "4f9473e9-5bdd-4591-ada0-6afe410b5f81"
   },
   "outputs": [],
   "source": [
    "df_v3.groupby(\"is_ENERGYSTARScore\")[\"is_ENERGYSTARScore\"].count()"
   ]
  },
  {
   "cell_type": "code",
   "execution_count": null,
   "metadata": {
    "id": "ztz_PZN_zeK1"
   },
   "outputs": [],
   "source": [
    "df_v3[\"is_SteamUse\"] = df_v3[\"SteamUse(kBtu)\"] > 0"
   ]
  },
  {
   "cell_type": "code",
   "execution_count": null,
   "metadata": {
    "colab": {
     "base_uri": "https://localhost:8080/"
    },
    "id": "jAVM1IwRz0WK",
    "outputId": "995da489-2f1f-4c9e-b3fc-73006d60cebe"
   },
   "outputs": [],
   "source": [
    "df_v3.groupby(\"is_SteamUse\")[\"is_SteamUse\"].count()"
   ]
  },
  {
   "cell_type": "code",
   "execution_count": null,
   "metadata": {
    "id": "L7MyjKspzrTJ"
   },
   "outputs": [],
   "source": [
    "df_v3[\"is_NaturalGas\"] = df_v3[\"NaturalGas(kBtu)\"] > 0"
   ]
  },
  {
   "cell_type": "code",
   "execution_count": null,
   "metadata": {
    "colab": {
     "base_uri": "https://localhost:8080/"
    },
    "id": "JacHYIvTz506",
    "outputId": "54a7e8a2-8f87-4057-e2dd-319781c83d46"
   },
   "outputs": [],
   "source": [
    "df_v3.groupby(\"is_NaturalGas\")[\"is_NaturalGas\"].count()"
   ]
  },
  {
   "cell_type": "code",
   "execution_count": null,
   "metadata": {
    "id": "4l1XSMjg3uhS"
   },
   "outputs": [],
   "source": [
    "df_v3[\"is_PropertyGFAParking\"] = df_v3[\"PropertyGFAParking\"] > 0"
   ]
  },
  {
   "cell_type": "code",
   "execution_count": null,
   "metadata": {
    "colab": {
     "base_uri": "https://localhost:8080/"
    },
    "id": "jY7ynHT_33R5",
    "outputId": "fa057941-1445-47dc-c1d1-65c91363417a"
   },
   "outputs": [],
   "source": [
    "df_v3.groupby(\"is_PropertyGFAParking\")[\"is_PropertyGFAParking\"].count()"
   ]
  },
  {
   "cell_type": "code",
   "execution_count": null,
   "metadata": {
    "id": "F-XDima_tqqV"
   },
   "outputs": [],
   "source": [
    "df_v3[\"ratio_SteamUse\"] = (df_v3[\"SteamUse(kBtu)\"]/(df_v3[\"SteamUse(kBtu)\"]+df_v3[\"NaturalGas(kBtu)\"]+df_v3[\"Electricity(kBtu)\"])).round(1)"
   ]
  },
  {
   "cell_type": "code",
   "execution_count": null,
   "metadata": {
    "id": "I6mHEcIQuzU8"
   },
   "outputs": [],
   "source": [
    "df_v3[\"ratio_NaturalGas\"] = (df_v3[\"NaturalGas(kBtu)\"]/(df_v3[\"SteamUse(kBtu)\"]+df_v3[\"NaturalGas(kBtu)\"]+df_v3[\"Electricity(kBtu)\"])).round(1)"
   ]
  },
  {
   "cell_type": "code",
   "execution_count": null,
   "metadata": {
    "colab": {
     "base_uri": "https://localhost:8080/"
    },
    "id": "AyOlZmXbgRPm",
    "outputId": "4ee5cf99-e8b2-4131-e5c9-fa503f38832c"
   },
   "outputs": [],
   "source": [
    "print(len(df_v3['BuildingType'].unique()))\n",
    "print(len(df_v3['PrimaryPropertyType'].unique()))\n",
    "print(len(df_v3['ListOfAllPropertyUseTypes'].unique()))\n",
    "print(len(df_v3['LargestPropertyUseType'].unique()))"
   ]
  },
  {
   "cell_type": "code",
   "execution_count": null,
   "metadata": {
    "colab": {
     "base_uri": "https://localhost:8080/"
    },
    "id": "P1Zs4EMrhA00",
    "outputId": "d9e79b3f-89d1-49eb-bf29-b427961a753d"
   },
   "outputs": [],
   "source": [
    "print(df_v3['BuildingType'].unique()[:5])\n",
    "print(df_v3['PrimaryPropertyType'].unique()[:5])\n",
    "print(df_v3['ListOfAllPropertyUseTypes'].unique()[:5])\n",
    "print(df_v3['LargestPropertyUseType'].unique()[:5])"
   ]
  },
  {
   "cell_type": "code",
   "execution_count": null,
   "metadata": {
    "colab": {
     "base_uri": "https://localhost:8080/"
    },
    "id": "WyNA4MSQhyjF",
    "outputId": "b2da9138-346b-4ecc-9e9f-e08b6dec64ec"
   },
   "outputs": [],
   "source": [
    "print(df_v3[['BuildingType','PrimaryPropertyType','ListOfAllPropertyUseTypes','LargestPropertyUseType']][:10])"
   ]
  },
  {
   "cell_type": "code",
   "execution_count": null,
   "metadata": {
    "colab": {
     "base_uri": "https://localhost:8080/"
    },
    "id": "4a3-4KlJjYTx",
    "outputId": "32178f94-5d7a-47b3-bb31-db9517a4b8de"
   },
   "outputs": [],
   "source": [
    "!pip install -U sentence-transformers"
   ]
  },
  {
   "cell_type": "code",
   "execution_count": null,
   "metadata": {
    "colab": {
     "base_uri": "https://localhost:8080/"
    },
    "id": "q_ytJ8fEiiJm",
    "outputId": "63a4e901-e4fd-4bf4-d69b-497a3294a698"
   },
   "outputs": [],
   "source": [
    "from sentence_transformers import SentenceTransformer\n",
    "sentences = [\"This is an example sentence\", \"Each sentence is converted\"]\n",
    "\n",
    "model = SentenceTransformer('sentence-transformers/all-MiniLM-L6-v2')\n",
    "embeddings = model.encode(sentences)\n",
    "print(embeddings)\n"
   ]
  },
  {
   "cell_type": "code",
   "execution_count": null,
   "metadata": {
    "colab": {
     "base_uri": "https://localhost:8080/"
    },
    "id": "f4J9qyyljzhz",
    "outputId": "b91007b8-e3f5-40f0-bedc-1636266bd2da"
   },
   "outputs": [],
   "source": [
    "embeddings = model.encode(df_v3['ListOfAllPropertyUseTypes'].tolist())\n",
    "print(len(embeddings))"
   ]
  },
  {
   "cell_type": "code",
   "execution_count": null,
   "metadata": {
    "colab": {
     "base_uri": "https://localhost:8080/"
    },
    "id": "pO6dHLDxkbDt",
    "outputId": "47150b00-be6b-4abc-d67f-c5022512e749"
   },
   "outputs": [],
   "source": [
    "X_embeddings = np.array(embeddings)\n",
    "X_embeddings.shape"
   ]
  },
  {
   "cell_type": "code",
   "execution_count": null,
   "metadata": {
    "id": "qnSIXh-_krW2"
   },
   "outputs": [],
   "source": [
    "from sklearn.decomposition import PCA"
   ]
  },
  {
   "cell_type": "code",
   "execution_count": null,
   "metadata": {
    "id": "QQ54VJ2TkuzY"
   },
   "outputs": [],
   "source": [
    "n_components=30\n",
    "pca = PCA(n_components=n_components)"
   ]
  },
  {
   "cell_type": "code",
   "execution_count": null,
   "metadata": {
    "id": "zbXNEetqlDNT"
   },
   "outputs": [],
   "source": [
    "X_proj = pca.fit_transform(X_embeddings)"
   ]
  },
  {
   "cell_type": "code",
   "execution_count": null,
   "metadata": {
    "colab": {
     "base_uri": "https://localhost:8080/"
    },
    "id": "cXByiWWalOQc",
    "outputId": "6159ed14-9dc5-476d-9a05-6fc947a18e4f"
   },
   "outputs": [],
   "source": [
    "print(X_proj.shape)\n",
    "print(pca.explained_variance_ratio_)"
   ]
  },
  {
   "cell_type": "code",
   "execution_count": null,
   "metadata": {
    "colab": {
     "base_uri": "https://localhost:8080/",
     "height": 472
    },
    "id": "tgWTwS7Alc0o",
    "outputId": "ffd6fff0-1428-4b87-fc7b-8829518a2f16"
   },
   "outputs": [],
   "source": [
    "scree = (pca.explained_variance_ratio_*100)\n",
    "scree_cum = scree.cumsum()\n",
    "x_list = range(1, n_components+1)\n",
    "plt.bar(x_list, scree)\n",
    "plt.plot(x_list, scree_cum,c=\"red\",marker='o')\n",
    "plt.xlabel(\"rang de l'axe d'inertie\")\n",
    "plt.ylabel(\"pourcentage d'inertie\")\n",
    "plt.title(\"Eboulis des valeurs propres\")\n",
    "plt.show(block=False)"
   ]
  },
  {
   "cell_type": "code",
   "execution_count": null,
   "metadata": {
    "id": "nZipwOKqnlEh"
   },
   "outputs": [],
   "source": [
    "def display_factorial_planes(   X_projected, \n",
    "                                x_y, \n",
    "                                pca=None, \n",
    "                                labels = None,\n",
    "                                clusters=None, \n",
    "                                alpha=1,\n",
    "                                figsize=[10,8], \n",
    "                                marker=\".\" ):\n",
    "    \"\"\"\n",
    "    Affiche la projection des individus\n",
    "\n",
    "    Positional arguments : \n",
    "    -------------------------------------\n",
    "    X_projected : np.array, pd.DataFrame, list of list : la matrice des points projetés\n",
    "    x_y : list ou tuple : le couple x,y des plans à afficher, exemple [0,1] pour F1, F2\n",
    "\n",
    "    Optional arguments : \n",
    "    -------------------------------------\n",
    "    pca : sklearn.decomposition.PCA : un objet PCA qui a été fit, cela nous permettra d'afficher la variance de chaque composante, default = None\n",
    "    labels : list ou tuple : les labels des individus à projeter, default = None\n",
    "    clusters : list ou tuple : la liste des clusters auquel appartient chaque individu, default = None\n",
    "    alpha : float in [0,1] : paramètre de transparence, 0=100% transparent, 1=0% transparent, default = 1\n",
    "    figsize : list ou tuple : couple width, height qui définit la taille de la figure en inches, default = [10,8] \n",
    "    marker : str : le type de marker utilisé pour représenter les individus, points croix etc etc, default = \".\"\n",
    "    \"\"\"\n",
    "\n",
    "    # Transforme X_projected en np.array\n",
    "    X_ = np.array(X_projected)\n",
    "\n",
    "    # On définit la forme de la figure si elle n'a pas été donnée\n",
    "    if not figsize: \n",
    "        figsize = (7,6)\n",
    "\n",
    "    # On gère les labels\n",
    "    if  labels is None : \n",
    "        labels = []\n",
    "    try : \n",
    "        len(labels)\n",
    "    except Exception as e : \n",
    "        raise e\n",
    "\n",
    "    # On vérifie la variable axis \n",
    "    if not len(x_y) ==2 : \n",
    "        raise AttributeError(\"2 axes sont demandées\")   \n",
    "    if max(x_y )>= X_.shape[1] : \n",
    "        raise AttributeError(\"la variable axis n'est pas bonne\")   \n",
    "\n",
    "    # on définit x et y \n",
    "    x, y = x_y\n",
    "\n",
    "    # Initialisation de la figure       \n",
    "    fig, ax = plt.subplots(1, 1, figsize=figsize)\n",
    "\n",
    "    # On vérifie s'il y a des clusters ou non\n",
    "    c = None if clusters is None else clusters\n",
    " \n",
    "    # Les points    \n",
    "    # plt.scatter(   X_[:, x], X_[:, y], alpha=alpha, \n",
    "    #                     c=c, cmap=\"Set1\", marker=marker)\n",
    "    sns.scatterplot(data=None, x=X_[:, x], y=X_[:, y], hue=c)\n",
    "\n",
    "    # Si la variable pca a été fournie, on peut calculer le % de variance de chaque axe \n",
    "    if pca : \n",
    "        v1 = str(round(100*pca.explained_variance_ratio_[x]))  + \" %\"\n",
    "        v2 = str(round(100*pca.explained_variance_ratio_[y]))  + \" %\"\n",
    "    else : \n",
    "        v1=v2= ''\n",
    "\n",
    "    # Nom des axes, avec le pourcentage d'inertie expliqué\n",
    "    ax.set_xlabel(f'F{x+1} {v1}')\n",
    "    ax.set_ylabel(f'F{y+1} {v2}')\n",
    "\n",
    "    # Valeur x max et y max\n",
    "    x_max = np.abs(X_[:, x]).max() *1.1\n",
    "    y_max = np.abs(X_[:, y]).max() *1.1\n",
    "\n",
    "    # On borne x et y \n",
    "    ax.set_xlim(left=-x_max, right=x_max)\n",
    "    ax.set_ylim(bottom= -y_max, top=y_max)\n",
    "\n",
    "    # Affichage des lignes horizontales et verticales\n",
    "    plt.plot([-x_max, x_max], [0, 0], color='grey', alpha=0.8)\n",
    "    plt.plot([0,0], [-y_max, y_max], color='grey', alpha=0.8)\n",
    "\n",
    "    # Affichage des labels des points\n",
    "    if len(labels) : \n",
    "        # j'ai copié collé la fonction sans la lire\n",
    "        for i,(_x,_y) in enumerate(X_[:,[x,y]]):\n",
    "            plt.text(_x, _y+0.05, labels[i], fontsize='14', ha='center',va='center') \n",
    "\n",
    "    # Titre et display\n",
    "    plt.title(f\"Projection des individus (sur F{x+1} et F{y+1})\")\n",
    "    plt.show()"
   ]
  },
  {
   "cell_type": "code",
   "execution_count": null,
   "metadata": {
    "colab": {
     "base_uri": "https://localhost:8080/",
     "height": 718
    },
    "id": "pVYccJWJmzsq",
    "outputId": "a0abfa26-0b0f-4095-caac-ee45272ef206"
   },
   "outputs": [],
   "source": [
    "x_y = (0,1)\n",
    "display_factorial_planes(X_proj, x_y, clusters=df_v3['PrimaryPropertyType'])"
   ]
  },
  {
   "cell_type": "code",
   "execution_count": null,
   "metadata": {
    "colab": {
     "base_uri": "https://localhost:8080/",
     "height": 718
    },
    "id": "iWBF0lZnm1i1",
    "outputId": "788d1cea-01fd-4343-eea6-03eb2e33d334"
   },
   "outputs": [],
   "source": [
    "x_y = (2,3)\n",
    "display_factorial_planes(X_proj, x_y, clusters=df_v3['PrimaryPropertyType'])"
   ]
  },
  {
   "cell_type": "code",
   "execution_count": null,
   "metadata": {
    "colab": {
     "base_uri": "https://localhost:8080/",
     "height": 718
    },
    "id": "YAJzpESXohrT",
    "outputId": "db7d5279-3864-4bf6-9252-fa4c37b8cf7b"
   },
   "outputs": [],
   "source": [
    "x_y = (4,5)\n",
    "display_factorial_planes(X_proj, x_y, clusters=df_v3['PrimaryPropertyType'])"
   ]
  },
  {
   "cell_type": "code",
   "execution_count": null,
   "metadata": {
    "id": "U9z-APz8pzex"
   },
   "outputs": [],
   "source": [
    "from sklearn.linear_model import LinearRegression\n",
    "from sklearn.model_selection import train_test_split"
   ]
  },
  {
   "cell_type": "code",
   "execution_count": null,
   "metadata": {
    "id": "58wLh_rkp8HG"
   },
   "outputs": [],
   "source": [
    "Y_E = df_v3[\"SiteEnergyUseWN(kBtu)\"]"
   ]
  },
  {
   "cell_type": "code",
   "execution_count": null,
   "metadata": {
    "colab": {
     "base_uri": "https://localhost:8080/"
    },
    "id": "dfe-AwWeqO_g",
    "outputId": "b6c64621-e4a1-451a-dada-7ae4e1f1aada"
   },
   "outputs": [],
   "source": [
    "X_train, X_test, Y_E_train, Y_E_test = train_test_split(X_proj, Y_E, test_size=0.3, random_state=6)\n",
    "print(f\"[INFO] X_test shape: {X_test.shape}\")\n",
    "print(f\"[INFO] X_train shape: {X_train.shape}\")"
   ]
  },
  {
   "cell_type": "code",
   "execution_count": null,
   "metadata": {
    "colab": {
     "base_uri": "https://localhost:8080/"
    },
    "id": "94wYPzXBsTfI",
    "outputId": "2b50887b-af0a-43d7-b9d1-fccd87ff6ab0"
   },
   "outputs": [],
   "source": [
    "lr_E = LinearRegression()\n",
    "lr_E.fit(X_train, Y_E_train)\n",
    "print(f\"Train score:{lr_E.score(X_train, Y_E_train)}\")\n",
    "print(f\"Test score:{lr_E.score(X_test, Y_E_test)}\")"
   ]
  },
  {
   "cell_type": "code",
   "execution_count": null,
   "metadata": {
    "id": "MEYmE0-3qxq7"
   },
   "outputs": [],
   "source": [
    "N_C = 10"
   ]
  },
  {
   "cell_type": "code",
   "execution_count": null,
   "metadata": {
    "colab": {
     "base_uri": "https://localhost:8080/"
    },
    "id": "vb_TO37VqVzZ",
    "outputId": "e5f82346-8f51-4e5a-aedc-301a2ced1144"
   },
   "outputs": [],
   "source": [
    "lr_E = LinearRegression()\n",
    "lr_E.fit(X_train[:,:N_C ], Y_E_train)\n",
    "print(f\"Train score:{lr_E.score(X_train[:,:N_C ], Y_E_train)}\")\n",
    "print(f\"Test score:{lr_E.score(X_test[:,:N_C ], Y_E_test)}\")"
   ]
  },
  {
   "cell_type": "code",
   "execution_count": null,
   "metadata": {
    "id": "FKKz7MJS8oq6"
   },
   "outputs": [],
   "source": [
    "df_embeddings = pd.DataFrame(X_proj, columns=[f\"PCA - {i}\" for i in range(1,31)])"
   ]
  },
  {
   "cell_type": "code",
   "execution_count": null,
   "metadata": {
    "id": "RdyEgCiK9JrR"
   },
   "outputs": [],
   "source": [
    "df_v3 = pd.concat([df_v3, df_embeddings], axis=1)"
   ]
  },
  {
   "cell_type": "markdown",
   "metadata": {
    "id": "qntNxs-65EWM"
   },
   "source": [
    "<a name=\"exports\"></a>\n",
    "### Exports"
   ]
  },
  {
   "cell_type": "code",
   "execution_count": null,
   "metadata": {
    "colab": {
     "base_uri": "https://localhost:8080/"
    },
    "id": "_9I1hZpvH2ie",
    "outputId": "68edafda-975c-4e1d-f5f4-4577233c9444"
   },
   "outputs": [],
   "source": [
    "df_v3.info()"
   ]
  },
  {
   "cell_type": "code",
   "execution_count": null,
   "metadata": {
    "id": "zxXF0bUN5JpE"
   },
   "outputs": [],
   "source": [
    "df_v3.to_csv(\"data_cleaned_v3.csv\", index=False)"
   ]
  }
 ],
 "metadata": {
  "colab": {
   "provenance": []
  },
  "kernelspec": {
   "display_name": "",
   "language": "python",
   "name": ""
  },
  "language_info": {
   "name": "python",
   "version": "3.9.16"
  },
  "vscode": {
   "interpreter": {
    "hash": "b399b0354c96c158caac6f7dfc72b765d340c5617dfeca5157e0976b9d57316f"
   }
  }
 },
 "nbformat": 4,
 "nbformat_minor": 0
}
