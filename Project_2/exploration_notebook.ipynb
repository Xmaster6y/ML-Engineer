{
  "nbformat": 4,
  "nbformat_minor": 0,
  "metadata": {
    "colab": {
      "provenance": []
    },
    "kernelspec": {
      "name": "python3",
      "display_name": "Python 3"
    },
    "language_info": {
      "name": "python"
    }
  },
  "cells": [
    {
      "cell_type": "markdown",
      "source": [
        "# Exploration notebook"
      ],
      "metadata": {
        "id": "hKTxiSLUuVsC"
      }
    },
    {
      "cell_type": "markdown",
      "source": [
        "## Imports"
      ],
      "metadata": {
        "id": "1v4qs9XgucOI"
      }
    },
    {
      "cell_type": "code",
      "execution_count": 1,
      "metadata": {
        "id": "P2UL34I2ziJh"
      },
      "outputs": [],
      "source": [
        "import pandas as pd"
      ]
    },
    {
      "cell_type": "markdown",
      "source": [
        "## Dataset loading and cleaning"
      ],
      "metadata": {
        "id": "3IngE894uhbI"
      }
    },
    {
      "cell_type": "code",
      "source": [],
      "metadata": {
        "id": "RzsyzDw8ugBh"
      },
      "execution_count": null,
      "outputs": []
    }
  ]
}