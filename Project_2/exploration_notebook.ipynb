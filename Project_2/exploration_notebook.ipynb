{
  "nbformat": 4,
  "nbformat_minor": 0,
  "metadata": {
    "colab": {
      "provenance": []
    },
    "kernelspec": {
      "name": "python3",
      "display_name": "Python 3"
    },
    "language_info": {
      "name": "python"
    }
  },
  "cells": [
    {
      "cell_type": "markdown",
      "source": [
        "# Exploration notebook"
      ],
      "metadata": {
        "id": "hKTxiSLUuVsC"
      }
    },
    {
      "cell_type": "markdown",
      "source": [
        "## Imports"
      ],
      "metadata": {
        "id": "1v4qs9XgucOI"
      }
    },
    {
      "cell_type": "code",
      "execution_count": null,
      "metadata": {
        "id": "P2UL34I2ziJh"
      },
      "outputs": [],
      "source": [
        "import pandas as pd\n",
        "import seaborn as sns"
      ]
    },
    {
      "cell_type": "markdown",
      "source": [
        "## Clean dataset loading"
      ],
      "metadata": {
        "id": "3IngE894uhbI"
      }
    },
    {
      "cell_type": "code",
      "source": [
        "clean_datset_path = './clean_dataset.csv'\n",
        "!wget \"https://drive.google.com/uc?export=download&id=1q6sYl_Xlny4NfeqazT4top6ujtxh2qE3\" -q --show-progress -O \"$clean_datset_path\""
      ],
      "metadata": {
        "id": "RzsyzDw8ugBh"
      },
      "execution_count": null,
      "outputs": []
    },
    {
      "cell_type": "code",
      "source": [
        "df = pd.read_csv(clean_datset_path)"
      ],
      "metadata": {
        "id": "rJ7cGTRT-s5Y"
      },
      "execution_count": null,
      "outputs": []
    },
    {
      "cell_type": "markdown",
      "source": [
        "## First plots"
      ],
      "metadata": {
        "id": "vmBHE9RrZOuT"
      }
    },
    {
      "cell_type": "code",
      "source": [
        "sns.catplot(data=df, x=\"nutrition-score-fr_100g\", y=\"nutrition_grade_fr\", kind=\"box\")"
      ],
      "metadata": {
        "id": "3UlJIIwbZQhH"
      },
      "execution_count": null,
      "outputs": []
    },
    {
      "cell_type": "code",
      "source": [
        "sns.catplot(data=df, x=\"nutrition-score-fr_100g\", y=\"nutrition_grade_fr\", kind=\"violin\", bw=1, split=True)"
      ],
      "metadata": {
        "id": "Gf6ob14CZSWd"
      },
      "execution_count": null,
      "outputs": []
    },
    {
      "cell_type": "code",
      "source": [
        "sns.catplot(data=df, x=\"energy_100g\", y=\"nutrition_grade_fr\", kind=\"box\")"
      ],
      "metadata": {
        "id": "sbcDP-0OH0n2"
      },
      "execution_count": null,
      "outputs": []
    },
    {
      "cell_type": "code",
      "source": [
        "sns.catplot(data=df, x=\"energy_100g\", y=\"nutrition_grade_fr\", kind=\"violin\", bw=1, split=True)"
      ],
      "metadata": {
        "id": "VH84D5FcH0uR"
      },
      "execution_count": null,
      "outputs": []
    }
  ]
}