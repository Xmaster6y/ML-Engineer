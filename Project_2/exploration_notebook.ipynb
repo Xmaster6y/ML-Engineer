{
  "cells": [
    {
      "cell_type": "markdown",
      "metadata": {
        "id": "hKTxiSLUuVsC"
      },
      "source": [
        "# Exploration notebook\n",
        "\n",
        "* [Imports](#imports)\n",
        "* [Clean dataset loading](#clean-dataset-loading)\n",
        "* [Univariate analysis](#univariate-analysis)\n",
        "    * [Numerical features](#numerical-features)\n",
        "    * [Categorical features](#categorical-features)\n",
        "* [Bivariate analysis](#bivariate-analysis)\n",
        "    * [Nutrigrade analysis](#nutrigrade-analysis)\n",
        "    * [Correlations](#correlations)\n",
        "$ $ \n",
        "    * [$\\chi^2$ test](#chi2-test)\n",
        "    * [ANOVA](#anova)\n",
        "* [PCA](#pca)\n",
        "    * [Plot helpers](#plot-helpers)\n",
        "    * [Composition features only](#composition-features-only)\n",
        "    * [All features](#all-features)"
      ]
    },
    {
      "cell_type": "markdown",
      "metadata": {
        "id": "1v4qs9XgucOI"
      },
      "source": [
        "<a name=\"imports\"></a>\n",
        "## Imports"
      ]
    },
    {
      "cell_type": "code",
      "execution_count": null,
      "metadata": {
        "id": "P2UL34I2ziJh"
      },
      "outputs": [],
      "source": [
        "import pandas as pd\n",
        "import numpy as np\n",
        "import seaborn as sns\n",
        "import matplotlib.pyplot as plt\n",
        "import plotly.express as px\n",
        "from typing import List\n",
        "\n",
        "from sklearn.decomposition import PCA\n",
        "from sklearn.preprocessing import StandardScaler\n",
        "from scipy import stats"
      ]
    },
    {
      "cell_type": "markdown",
      "metadata": {
        "id": "3IngE894uhbI"
      },
      "source": [
        "<a name=\"clean-dataset-loading\"></a>\n",
        "## Clean dataset loading"
      ]
    },
    {
      "cell_type": "code",
      "execution_count": null,
      "metadata": {
        "id": "RzsyzDw8ugBh"
      },
      "outputs": [],
      "source": [
        "clean_datset_path = './clean_dataset.csv'\n",
        "!wget \"https://drive.google.com/uc?export=download&id=1q6sYl_Xlny4NfeqazT4top6ujtxh2qE3\" -q --show-progress -O \"$clean_datset_path\""
      ]
    },
    {
      "cell_type": "code",
      "execution_count": null,
      "metadata": {
        "id": "rJ7cGTRT-s5Y"
      },
      "outputs": [],
      "source": [
        "df = pd.read_csv(clean_datset_path)"
      ]
    },
    {
      "cell_type": "code",
      "execution_count": null,
      "metadata": {
        "id": "DystR2ibgUDa"
      },
      "outputs": [],
      "source": [
        "def column_filter(columns: List[str], paterns_to_keep: List[str]=None):\n",
        "    filtered_columns = []\n",
        "    if paterns_to_keep is None:\n",
        "        paterns_to_keep = ['image', 'name', 'category', '_100g', 'grade', 'score', 'group']\n",
        "    for column in columns:\n",
        "        for patern_to_keep in paterns_to_keep:\n",
        "            if patern_to_keep in column:\n",
        "                filtered_columns.append(column)\n",
        "                break\n",
        "    return filtered_columns"
      ]
    },
    {
      "cell_type": "code",
      "execution_count": null,
      "metadata": {
        "id": "9wneVv53OzV6"
      },
      "outputs": [],
      "source": [
        "print(df.columns.values)\n",
        "numerical_columns = column_filter(df.columns.values, ['_100g'])"
      ]
    },
    {
      "cell_type": "markdown",
      "metadata": {
        "id": "FsVqCCMmRuPI"
      },
      "source": [
        "<a name=\"univariate-analysis\"></a>\n",
        "## Univariate analysis"
      ]
    },
    {
      "cell_type": "markdown",
      "metadata": {
        "id": "5ap7e_Olrvvm"
      },
      "source": [
        "<a name=\"numerical-features\"></a>\n",
        "### Numerical features"
      ]
    },
    {
      "cell_type": "code",
      "execution_count": null,
      "metadata": {
        "id": "RLAn4DfqiLIj"
      },
      "outputs": [],
      "source": [
        "df_desc = df[numerical_columns].describe()\n",
        "df_desc.loc['var'] = df[numerical_columns].var().tolist()\n",
        "df_desc.loc['skew'] = df[numerical_columns].skew().tolist()\n",
        "df_desc.loc['kurt'] = df[numerical_columns].kurtosis().tolist()\n",
        "df_desc"
      ]
    },
    {
      "cell_type": "code",
      "execution_count": null,
      "metadata": {
        "id": "Lp1vkUITWBx_"
      },
      "outputs": [],
      "source": [
        "sns.displot(df, x=\"energy_100g\", bins=30)"
      ]
    },
    {
      "cell_type": "code",
      "execution_count": null,
      "metadata": {
        "id": "cx5apUoyrjQf"
      },
      "outputs": [],
      "source": [
        "sns.displot(df[[\"nutrition-score-fr_100g\", \"nutrition-score-uk_100g\"]], bins=30)"
      ]
    },
    {
      "cell_type": "code",
      "execution_count": null,
      "metadata": {
        "id": "2b8jNPHfl13M"
      },
      "outputs": [],
      "source": [
        "fig = plt.figure(figsize=(12,14))\n",
        "ax = plt.gca()\n",
        "sns.boxplot(data=df[numerical_columns[1:-2]], orient=\"h\", ax=ax, showfliers=False)"
      ]
    },
    {
      "cell_type": "code",
      "execution_count": null,
      "metadata": {
        "id": "pL7l_FHHqqyb"
      },
      "outputs": [],
      "source": [
        "fig = plt.figure(figsize=(12,14))\n",
        "ax = plt.gca()\n",
        "sns.violinplot(data=df[numerical_columns[1:-2]], orient=\"h\", ax=ax, showfliers=False, scale=\"count\", cut=0)"
      ]
    },
    {
      "cell_type": "markdown",
      "metadata": {
        "id": "jEk1xLIfrqMm"
      },
      "source": [
        "<a name=\"categorical-features\"></a>\n",
        "### Categorial features"
      ]
    },
    {
      "cell_type": "code",
      "execution_count": null,
      "metadata": {
        "id": "YS5Jla4Eutug"
      },
      "outputs": [],
      "source": [
        "def circular_plot(values, labels=None):\n",
        "    # Reorder the dataframe\n",
        "    if labels is None:\n",
        "        labels = [str(i) for i in range(len(values))]\n",
        "    sorted_values, sorted_labels = zip(*sorted(zip(values, labels)))\n",
        "    sorted_values = np.array(sorted_values)\n",
        "\n",
        "    # initialize the figure\n",
        "    plt.figure(figsize=(20,10))\n",
        "    ax = plt.subplot(111, polar=True)\n",
        "    plt.axis('off')\n",
        "\n",
        "    # Constants = parameters controling the plot layout:\n",
        "    upper_limit = 100\n",
        "    lower_limit = 30\n",
        "    label_padding = 4\n",
        "    value_padding = 1000\n",
        "\n",
        "    # Compute max and min in the dataset\n",
        "    max = sorted_values.max()\n",
        "    total = sorted_values.sum()\n",
        "\n",
        "    # Let's compute heights: they are a conversion of each item value in those new coordinates\n",
        "    # In our example, 0 in the dataset will be converted to the lowerLimit (10)\n",
        "    # The maximum will be converted to the upperLimit (100)\n",
        "    slope = (max - lower_limit) / max\n",
        "    heights = slope * sorted_values + lower_limit\n",
        "\n",
        "    # Compute the width of each bar. In total we have 2*Pi = 360°\n",
        "    width = 2*np.pi / len(sorted_values)\n",
        "\n",
        "    # Compute the angle each bar is centered on:\n",
        "    indexes = list(range(1, len(sorted_values)+1))\n",
        "    angles = [element * width for element in indexes]\n",
        "    angles\n",
        "\n",
        "    # Draw bars\n",
        "    bars = ax.bar(\n",
        "        x=angles, \n",
        "        height=heights, \n",
        "        width=width, \n",
        "        bottom=lower_limit,\n",
        "        linewidth=2, \n",
        "        edgecolor=\"white\",\n",
        "        color=\"#61a4b2\",\n",
        "        label=heights,\n",
        "    )\n",
        "\n",
        "    # Add labels\n",
        "    for bar, angle, height, label, value in zip(bars, angles, heights, sorted_labels, sorted_values):\n",
        "\n",
        "        # Labels are rotated. Rotation must be specified in degrees :(\n",
        "        rotation = np.rad2deg(angle)\n",
        "\n",
        "        # Flip some labels upside down\n",
        "        alignment = \"\"\n",
        "        if angle >= np.pi/2 and angle < 3*np.pi/2:\n",
        "            alignment = \"right\"\n",
        "            rotation = rotation + 180\n",
        "        else: \n",
        "            alignment = \"left\"\n",
        "\n",
        "        # Finally add the labels\n",
        "        ax.text(\n",
        "            x=angle, \n",
        "            y=lower_limit + bar.get_height() + label_padding, \n",
        "            s=label + f\" ({value/total*100:.0f}%)\", \n",
        "            ha=alignment, \n",
        "            va='center', \n",
        "            rotation=rotation, \n",
        "            rotation_mode=\"anchor\") "
      ]
    },
    {
      "cell_type": "code",
      "execution_count": null,
      "metadata": {
        "id": "QlknwVFjx0kG"
      },
      "outputs": [],
      "source": [
        "col_name = 'pnns_groups_2'\n",
        "mask = df[col_name] != \"unknown\"\n",
        "df_count = df[mask].groupby([col_name])[col_name].count()\n",
        "circular_plot(df_count.values, df_count.index.values)"
      ]
    },
    {
      "cell_type": "code",
      "execution_count": null,
      "metadata": {
        "id": "esXf0x6Yeb29"
      },
      "outputs": [],
      "source": [
        "col_name = 'nutrition_grade_fr'\n",
        "df_count = df.groupby([col_name])[col_name].count()\n",
        "circular_plot(df_count.values, df_count.index.values)"
      ]
    },
    {
      "cell_type": "markdown",
      "metadata": {
        "id": "Sa3CziuDut-t"
      },
      "source": [
        "<a name=\"bivariate-analysis\"></a>\n",
        "## Bivariate analysis"
      ]
    },
    {
      "cell_type": "markdown",
      "metadata": {
        "id": "HLWRKQNikoEL"
      },
      "source": [
        "<a name=\"nutrigrade-analysis\"></a>\n",
        "### Nutrigrade analysis"
      ]
    },
    {
      "cell_type": "code",
      "execution_count": null,
      "metadata": {
        "id": "3UlJIIwbZQhH"
      },
      "outputs": [],
      "source": [
        "sns.catplot(data=df, x=\"nutrition-score-fr_100g\", y=\"nutrition_grade_fr\", kind=\"box\", order=['a','b','c','d','e'])"
      ]
    },
    {
      "cell_type": "code",
      "execution_count": null,
      "metadata": {
        "id": "sbcDP-0OH0n2"
      },
      "outputs": [],
      "source": [
        "sns.catplot(data=df, x=\"energy_100g\", y=\"nutrition_grade_fr\", kind=\"box\", order=['a','b','c','d','e'])"
      ]
    },
    {
      "cell_type": "code",
      "execution_count": null,
      "metadata": {
        "id": "VH84D5FcH0uR"
      },
      "outputs": [],
      "source": [
        "sns.catplot(data=df, x=\"energy_100g\", y=\"nutrition_grade_fr\", kind=\"violin\", cut=0, scale=\"area\", order=['a','b','c','d','e'])"
      ]
    },
    {
      "cell_type": "code",
      "execution_count": null,
      "metadata": {
        "id": "aPKPv5zps-Zc"
      },
      "outputs": [],
      "source": [
        "sns.catplot(data=df, x=\"fat_100g\", y=\"nutrition_grade_fr\", kind=\"box\", order=['a','b','c','d','e'], showfliers=False)"
      ]
    },
    {
      "cell_type": "code",
      "execution_count": null,
      "metadata": {
        "id": "VWSuhOBhtDpO"
      },
      "outputs": [],
      "source": [
        "sns.catplot(data=df, x=\"sugars_100g\", y=\"nutrition_grade_fr\", kind=\"box\", order=['a','b','c','d','e'], showfliers=False)"
      ]
    },
    {
      "cell_type": "code",
      "execution_count": null,
      "metadata": {
        "id": "ZB9BYqhBvEYC"
      },
      "outputs": [],
      "source": [
        "sns.catplot(data=df, x=\"fiber_100g\", y=\"nutrition_grade_fr\", kind=\"box\", order=['a','b','c','d','e'], showfliers=False)"
      ]
    },
    {
      "cell_type": "code",
      "execution_count": null,
      "metadata": {
        "id": "ai7lIBNmvKS6"
      },
      "outputs": [],
      "source": [
        "sns.catplot(data=df, x=\"proteins_100g\", y=\"nutrition_grade_fr\", kind=\"box\", order=['a','b','c','d','e'], showfliers=False)"
      ]
    },
    {
      "cell_type": "markdown",
      "metadata": {
        "id": "YYvnziIDkjAE"
      },
      "source": [
        "<a name=\"correlations\"></a>\n",
        "### Correlations"
      ]
    },
    {
      "cell_type": "code",
      "execution_count": null,
      "metadata": {
        "id": "-drQxMgVjjHf"
      },
      "outputs": [],
      "source": [
        "corr = df[numerical_columns].corr()\n",
        "mask = np.triu(np.ones_like(corr, dtype=bool))\n",
        "f, ax = plt.subplots(figsize=(11, 9))\n",
        "cmap = sns.diverging_palette(230, 20, as_cmap=True)\n",
        "sns.heatmap(corr, mask=mask, cmap=cmap, vmax=1, center=0,\n",
        "            square=True, linewidths=.5, cbar_kws={\"shrink\": .5});"
      ]
    },
    {
      "cell_type": "code",
      "source": [
        "sns.relplot(data=df, x=\"energy_100g\", y=\"nutrition-score-fr_100g\")"
      ],
      "metadata": {
        "id": "wGllGcOvOxMG"
      },
      "execution_count": null,
      "outputs": []
    },
    {
      "cell_type": "code",
      "source": [
        "res = stats.linregress(df['energy_100g'],df['nutrition-score-fr_100g']+df['nutrition-score-uk_100g'])\n",
        "res"
      ],
      "metadata": {
        "id": "oiyLOlZ4M0LH"
      },
      "execution_count": null,
      "outputs": []
    },
    {
      "cell_type": "code",
      "source": [
        "res = stats.linregress(df['nutrition-score-fr_100g'], df['nutrition-score-uk_100g'])\n",
        "res"
      ],
      "metadata": {
        "id": "wQrK5TLaMryl"
      },
      "execution_count": null,
      "outputs": []
    },
    {
      "cell_type": "markdown",
      "source": [
        "<a name=\"chi2-test\"></a>\n",
        "### $\\chi^2$ test "
      ],
      "metadata": {
        "id": "fLeftHug-GfA"
      }
    },
    {
      "cell_type": "code",
      "source": [
        "ct_table_ind = pd.crosstab(df['nutrition_grade_fr'],df['pnns_groups_2'])"
      ],
      "metadata": {
        "id": "e8lTnRgkOIAT"
      },
      "execution_count": null,
      "outputs": []
    },
    {
      "cell_type": "code",
      "source": [
        "stat, p, dof, expected = stats.chi2_contingency(ct_table_ind)\n",
        "\n",
        "print('dof=%d' % dof)\n",
        "prob = 0.95\n",
        "critical = stats.chi2.ppf(prob, dof)\n",
        "print('probability=%.3f, critical=%.3f, stat=%.3f' % (prob, critical, stat))\n",
        "if abs(stat) >= critical:\n",
        " print('Dependent (reject H0)')\n",
        "else:\n",
        " print('Independent (fail to reject H0)')\n",
        "alpha = 1.0 - prob\n",
        "print('significance=%.3f, p=%.3f' % (alpha, p))\n",
        "if p <= alpha:\n",
        " print('Dependent (reject H0)')\n",
        "else:\n",
        " print('Independent (fail to reject H0)')"
      ],
      "metadata": {
        "id": "pTBImGjOR_JB"
      },
      "execution_count": null,
      "outputs": []
    },
    {
      "cell_type": "markdown",
      "source": [
        "<a name=\"anova\"></a>\n",
        "### ANOVA"
      ],
      "metadata": {
        "id": "-XMd_pjZ-NZR"
      }
    },
    {
      "cell_type": "code",
      "source": [
        "def eta_squared(x,y):\n",
        "    moyenne_y = y.mean()\n",
        "    classes = []\n",
        "    for classe in x.unique():\n",
        "        yi_classe = y[x==classe]\n",
        "        classes.append({'ni': len(yi_classe),\n",
        "                        'moyenne_classe': yi_classe.mean()})\n",
        "    SCT = sum([(yj-moyenne_y)**2 for yj in y])\n",
        "    SCE = sum([c['ni']*(c['moyenne_classe']-moyenne_y)**2 for c in classes])\n",
        "    return SCE/SCT"
      ],
      "metadata": {
        "id": "owio4EyGM8GS"
      },
      "execution_count": null,
      "outputs": []
    },
    {
      "cell_type": "code",
      "source": [
        "k2, p = stats.normaltest(df['nutrition-score-fr_100g'])\n",
        "p"
      ],
      "metadata": {
        "id": "y09Up78KPtPh"
      },
      "execution_count": null,
      "outputs": []
    },
    {
      "cell_type": "code",
      "source": [
        "k2, p = stats.normaltest(df['energy_100g'])\n",
        "p"
      ],
      "metadata": {
        "id": "wK2Cr38PP1Pt"
      },
      "execution_count": null,
      "outputs": []
    },
    {
      "cell_type": "code",
      "source": [
        "eta_squared(df['nutrition_grade_fr'],df['nutrition-score-fr_100g'])"
      ],
      "metadata": {
        "id": "q2TqUblZNFGr"
      },
      "execution_count": null,
      "outputs": []
    },
    {
      "cell_type": "code",
      "source": [
        "eta_squared(df['pnns_groups_2'],df['nutrition-score-fr_100g'])"
      ],
      "metadata": {
        "id": "36SY8bEANPOE"
      },
      "execution_count": null,
      "outputs": []
    },
    {
      "cell_type": "markdown",
      "metadata": {
        "id": "jx6Lw6icR3jD"
      },
      "source": [
        "<a name=\"pca\"></a>\n",
        "## PCA"
      ]
    },
    {
      "cell_type": "markdown",
      "source": [
        "<a name=\"plot-helpers\"></a>\n",
        "### Plot helpers"
      ],
      "metadata": {
        "id": "rVsb4Zi0kW9d"
      }
    },
    {
      "cell_type": "code",
      "execution_count": null,
      "metadata": {
        "id": "8xZcoSRRpZKu"
      },
      "outputs": [],
      "source": [
        "def correlation_graph(pca, \n",
        "                      x_y, \n",
        "                      features) : \n",
        "    \"\"\"Affiche le graphe des correlations\n",
        "\n",
        "    Positional arguments : \n",
        "    -----------------------------------\n",
        "    pca : sklearn.decomposition.PCA : notre objet PCA qui a été fit\n",
        "    x_y : list ou tuple : le couple x,y des plans à afficher, exemple [0,1] pour F1, F2\n",
        "    features : list ou tuple : la liste des features (ie des dimensions) à représenter\n",
        "    \"\"\"\n",
        "\n",
        "    # Extrait x et y \n",
        "    x,y=x_y\n",
        "\n",
        "    # Taille de l'image (en inches)\n",
        "    fig, ax = plt.subplots(figsize=(10, 9))\n",
        "\n",
        "    # Pour chaque composante : \n",
        "    for i in range(0, pca.components_.shape[1]):\n",
        "\n",
        "        # Les flèches\n",
        "        ax.arrow(0,0, \n",
        "                pca.components_[x, i],  \n",
        "                pca.components_[y, i],  \n",
        "                head_width=0.07,\n",
        "                head_length=0.07, \n",
        "                width=0.02, )\n",
        "\n",
        "        # Les labels\n",
        "        plt.text(pca.components_[x, i] + 0.05,\n",
        "                pca.components_[y, i] + 0.05,\n",
        "                features[i])\n",
        "        \n",
        "    # Affichage des lignes horizontales et verticales\n",
        "    plt.plot([-1, 1], [0, 0], color='grey', ls='--')\n",
        "    plt.plot([0, 0], [-1, 1], color='grey', ls='--')\n",
        "\n",
        "    # Nom des axes, avec le pourcentage d'inertie expliqué\n",
        "    plt.xlabel('F{} ({}%)'.format(x+1, round(100*pca.explained_variance_ratio_[x],1)))\n",
        "    plt.ylabel('F{} ({}%)'.format(y+1, round(100*pca.explained_variance_ratio_[y],1)))\n",
        "\n",
        "    # J'ai copié collé le code sans le lire\n",
        "    plt.title(\"Cercle des corrélations (F{} et F{})\".format(x+1, y+1))\n",
        "\n",
        "    # Le cercle \n",
        "    an = np.linspace(0, 2 * np.pi, 100)\n",
        "    plt.plot(np.cos(an), np.sin(an))  # Add a unit circle for scale\n",
        "\n",
        "    # Axes et display\n",
        "    plt.axis('equal')\n",
        "    plt.show(block=False)"
      ]
    },
    {
      "cell_type": "code",
      "execution_count": null,
      "metadata": {
        "id": "nVbrMP4dqZcb"
      },
      "outputs": [],
      "source": [
        "def display_factorial_planes(   X_projected, \n",
        "                                x_y, \n",
        "                                pca=None, \n",
        "                                labels = None,\n",
        "                                clusters=None, \n",
        "                                alpha=1,\n",
        "                                figsize=[10,8], \n",
        "                                marker=\".\" ):\n",
        "    \"\"\"\n",
        "    Affiche la projection des individus\n",
        "\n",
        "    Positional arguments : \n",
        "    -------------------------------------\n",
        "    X_projected : np.array, pd.DataFrame, list of list : la matrice des points projetés\n",
        "    x_y : list ou tuple : le couple x,y des plans à afficher, exemple [0,1] pour F1, F2\n",
        "\n",
        "    Optional arguments : \n",
        "    -------------------------------------\n",
        "    pca : sklearn.decomposition.PCA : un objet PCA qui a été fit, cela nous permettra d'afficher la variance de chaque composante, default = None\n",
        "    labels : list ou tuple : les labels des individus à projeter, default = None\n",
        "    clusters : list ou tuple : la liste des clusters auquel appartient chaque individu, default = None\n",
        "    alpha : float in [0,1] : paramètre de transparence, 0=100% transparent, 1=0% transparent, default = 1\n",
        "    figsize : list ou tuple : couple width, height qui définit la taille de la figure en inches, default = [10,8] \n",
        "    marker : str : le type de marker utilisé pour représenter les individus, points croix etc etc, default = \".\"\n",
        "    \"\"\"\n",
        "\n",
        "    # Transforme X_projected en np.array\n",
        "    X_ = np.array(X_projected)\n",
        "\n",
        "    # On définit la forme de la figure si elle n'a pas été donnée\n",
        "    if not figsize: \n",
        "        figsize = (7,6)\n",
        "\n",
        "    # On gère les labels\n",
        "    if  labels is None : \n",
        "        labels = []\n",
        "    try : \n",
        "        len(labels)\n",
        "    except Exception as e : \n",
        "        raise e\n",
        "\n",
        "    # On vérifie la variable axis \n",
        "    if not len(x_y) ==2 : \n",
        "        raise AttributeError(\"2 axes sont demandées\")   \n",
        "    if max(x_y )>= X_.shape[1] : \n",
        "        raise AttributeError(\"la variable axis n'est pas bonne\")   \n",
        "\n",
        "    # on définit x et y \n",
        "    x, y = x_y\n",
        "\n",
        "    # Initialisation de la figure       \n",
        "    fig, ax = plt.subplots(1, 1, figsize=figsize)\n",
        "\n",
        "    # On vérifie s'il y a des clusters ou non\n",
        "    c = None if clusters is None else clusters\n",
        " \n",
        "    # Les points    \n",
        "    # plt.scatter(   X_[:, x], X_[:, y], alpha=alpha, \n",
        "    #                     c=c, cmap=\"Set1\", marker=marker)\n",
        "    sns.scatterplot(data=None, x=X_[:, x], y=X_[:, y], hue=c)\n",
        "\n",
        "    # Si la variable pca a été fournie, on peut calculer le % de variance de chaque axe \n",
        "    if pca : \n",
        "        v1 = str(round(100*pca.explained_variance_ratio_[x]))  + \" %\"\n",
        "        v2 = str(round(100*pca.explained_variance_ratio_[y]))  + \" %\"\n",
        "    else : \n",
        "        v1=v2= ''\n",
        "\n",
        "    # Nom des axes, avec le pourcentage d'inertie expliqué\n",
        "    ax.set_xlabel(f'F{x+1} {v1}')\n",
        "    ax.set_ylabel(f'F{y+1} {v2}')\n",
        "\n",
        "    # Valeur x max et y max\n",
        "    x_max = np.abs(X_[:, x]).max() *1.1\n",
        "    y_max = np.abs(X_[:, y]).max() *1.1\n",
        "\n",
        "    # On borne x et y \n",
        "    ax.set_xlim(left=-x_max, right=x_max)\n",
        "    ax.set_ylim(bottom= -y_max, top=y_max)\n",
        "\n",
        "    # Affichage des lignes horizontales et verticales\n",
        "    plt.plot([-x_max, x_max], [0, 0], color='grey', alpha=0.8)\n",
        "    plt.plot([0,0], [-y_max, y_max], color='grey', alpha=0.8)\n",
        "\n",
        "    # Affichage des labels des points\n",
        "    if len(labels) : \n",
        "        # j'ai copié collé la fonction sans la lire\n",
        "        for i,(_x,_y) in enumerate(X_[:,[x,y]]):\n",
        "            plt.text(_x, _y+0.05, labels[i], fontsize='14', ha='center',va='center') \n",
        "\n",
        "    # Titre et display\n",
        "    plt.title(f\"Projection des individus (sur F{x+1} et F{y+1})\")\n",
        "    plt.show()"
      ]
    },
    {
      "cell_type": "code",
      "source": [
        "def display_factorial_planes_3D(X_proj, \n",
        "                             pca=None, \n",
        "                             labels = None,\n",
        "                             clusters=None, \n",
        "                             alpha=1,\n",
        "                             figsize=[10,8], \n",
        "                             title=\"\"\n",
        "                             ):\n",
        "    fig = plt.figure(figsize=figsize)\n",
        "    ax = fig.add_subplot(111, projection = '3d')\n",
        "\n",
        "    x = X_proj[:,0]\n",
        "    y = X_proj[:,1]\n",
        "    z = X_proj[:,2]\n",
        "    if clusters is None:\n",
        "        clusters = np.array([\"samples\"]*len(X_proj))\n",
        "    labels = sorted(clusters.unique())\n",
        "\n",
        "    ax.set_xlabel(\"F1\")\n",
        "    ax.set_ylabel(\"F2\")\n",
        "    ax.set_zlabel(\"F3\")\n",
        "    for i, label in enumerate(labels):\n",
        "        mask = clusters == label\n",
        "        ax.scatter(x[mask], y[mask], z[mask], label=label, s=40, marker='o')\n",
        "    plt.legend(loc=\"best\")\n",
        "    plt.title(title)\n",
        "    plt.show()"
      ],
      "metadata": {
        "id": "SUT3NwK6n5r2"
      },
      "execution_count": null,
      "outputs": []
    },
    {
      "cell_type": "markdown",
      "source": [
        "<a name=\"composition-features-only\"></a>\n",
        "### Composition features only"
      ],
      "metadata": {
        "id": "CBWjb1RGkyZS"
      }
    },
    {
      "cell_type": "code",
      "execution_count": null,
      "metadata": {
        "id": "mOolqWsVrKZT"
      },
      "outputs": [],
      "source": [
        "features = numerical_columns[1:-2]\n",
        "X = df[features]\n",
        "scaler = StandardScaler()\n",
        "X_scaled = scaler.fit_transform(X)"
      ]
    },
    {
      "cell_type": "code",
      "execution_count": null,
      "metadata": {
        "id": "NV6qJd9kR5Yj"
      },
      "outputs": [],
      "source": [
        "n_components = 10\n",
        "pca = PCA(n_components=n_components)\n",
        "X_proj = pca.fit_transform(X_scaled)\n",
        "pca.explained_variance_ratio_"
      ]
    },
    {
      "cell_type": "code",
      "execution_count": null,
      "metadata": {
        "id": "JG-FccS4l2GY"
      },
      "outputs": [],
      "source": [
        "scree = (pca.explained_variance_ratio_*100)\n",
        "scree_cum = scree.cumsum()\n",
        "x_list = range(1, n_components+1)\n",
        "plt.bar(x_list, scree)\n",
        "plt.plot(x_list, scree_cum,c=\"red\",marker='o')\n",
        "plt.xlabel(\"rang de l'axe d'inertie\")\n",
        "plt.ylabel(\"pourcentage d'inertie\")\n",
        "plt.title(\"Eboulis des valeurs propres\")\n",
        "plt.show(block=False)"
      ]
    },
    {
      "cell_type": "code",
      "execution_count": null,
      "metadata": {
        "id": "JOOseYyWmdf9"
      },
      "outputs": [],
      "source": [
        "pcs = pca.components_\n",
        "pcs = pd.DataFrame(pcs)\n",
        "pcs.columns = features\n",
        "pcs.index = [f\"F{i}\" for i in x_list]"
      ]
    },
    {
      "cell_type": "code",
      "execution_count": null,
      "metadata": {
        "id": "o-ZZIXi4mpit"
      },
      "outputs": [],
      "source": [
        "fig, ax = plt.subplots(figsize=(20, 6))\n",
        "sns.heatmap(pcs.T, vmin=-1, vmax=1, annot=True, cmap=\"coolwarm\", fmt=\"0.2f\")"
      ]
    },
    {
      "cell_type": "code",
      "execution_count": null,
      "metadata": {
        "id": "r5dnvzkmpdmv"
      },
      "outputs": [],
      "source": [
        "x_y = (0,1)\n",
        "correlation_graph(pca, x_y, features)"
      ]
    },
    {
      "cell_type": "code",
      "execution_count": null,
      "metadata": {
        "id": "gd-c1NmWsaR0"
      },
      "outputs": [],
      "source": [
        "x_y = (2,3)\n",
        "correlation_graph(pca, x_y, features)"
      ]
    },
    {
      "cell_type": "code",
      "execution_count": null,
      "metadata": {
        "id": "01EJ3eqXubQG"
      },
      "outputs": [],
      "source": [
        "x_y = (0,1)\n",
        "N = 1000\n",
        "display_factorial_planes(X_proj[:N], x_y, clusters=df.loc[:N-1,'nutrition_grade_fr'])"
      ]
    },
    {
      "cell_type": "code",
      "execution_count": null,
      "metadata": {
        "id": "IwoTZywLpqKM"
      },
      "outputs": [],
      "source": [
        "x_y = (2,3)\n",
        "display_factorial_planes(X_proj[:N], x_y, clusters=df.loc[:N-1,'nutrition_grade_fr'])"
      ]
    },
    {
      "cell_type": "code",
      "execution_count": null,
      "metadata": {
        "id": "ChpRCCSXrXim"
      },
      "outputs": [],
      "source": [
        "total_var = pca.explained_variance_ratio_[:3].sum() * 100\n",
        "\n",
        "fig = px.scatter_3d(\n",
        "    X_proj[:N], x=0, y=1, z=2, color=df.loc[:N-1,'nutrition_grade_fr'],\n",
        "    title=f'Total Explained Variance: {total_var:.2f}%',\n",
        "    labels={'0': 'PC 1', '1': 'PC 2', '2': 'PC 3'},\n",
        ")\n",
        "fig.show()"
      ]
    },
    {
      "cell_type": "code",
      "execution_count": null,
      "metadata": {
        "id": "UoJUHlzPzUOE"
      },
      "outputs": [],
      "source": [
        "clusters = df.loc[:N-1,'nutrition_grade_fr']\n",
        "display_factorial_planes_3D(\n",
        "    X_proj[:N], \n",
        "    clusters=clusters, \n",
        "    title=f'Total Explained Variance: {total_var:.2f}%',\n",
        "    )"
      ]
    },
    {
      "cell_type": "markdown",
      "source": [
        "<a name=\"all-features\"></a>\n",
        "### All features"
      ],
      "metadata": {
        "id": "jUjvNdHYpY8d"
      }
    },
    {
      "cell_type": "code",
      "execution_count": null,
      "metadata": {
        "id": "gvp_B8PTpY8f"
      },
      "outputs": [],
      "source": [
        "features = numerical_columns\n",
        "X = df[features]\n",
        "scaler = StandardScaler()\n",
        "X_scaled = scaler.fit_transform(X)"
      ]
    },
    {
      "cell_type": "code",
      "execution_count": null,
      "metadata": {
        "id": "hSTmG7lCpY8g"
      },
      "outputs": [],
      "source": [
        "n_components = 10\n",
        "pca = PCA(n_components=n_components)\n",
        "X_proj = pca.fit_transform(X_scaled)\n",
        "pca.explained_variance_ratio_"
      ]
    },
    {
      "cell_type": "code",
      "execution_count": null,
      "metadata": {
        "id": "kUKmi4uipY8h"
      },
      "outputs": [],
      "source": [
        "scree = (pca.explained_variance_ratio_*100)\n",
        "scree_cum = scree.cumsum()\n",
        "x_list = range(1, n_components+1)\n",
        "plt.bar(x_list, scree)\n",
        "plt.plot(x_list, scree_cum,c=\"red\",marker='o')\n",
        "plt.xlabel(\"rang de l'axe d'inertie\")\n",
        "plt.ylabel(\"pourcentage d'inertie\")\n",
        "plt.title(\"Eboulis des valeurs propres\")\n",
        "plt.show(block=False)"
      ]
    },
    {
      "cell_type": "code",
      "execution_count": null,
      "metadata": {
        "id": "or_lu1J7pY8j"
      },
      "outputs": [],
      "source": [
        "pcs = pca.components_\n",
        "pcs = pd.DataFrame(pcs)\n",
        "pcs.columns = features\n",
        "pcs.index = [f\"F{i}\" for i in x_list]"
      ]
    },
    {
      "cell_type": "code",
      "execution_count": null,
      "metadata": {
        "id": "QY4Yz0fSpY8k"
      },
      "outputs": [],
      "source": [
        "fig, ax = plt.subplots(figsize=(20, 6))\n",
        "sns.heatmap(pcs.T, vmin=-1, vmax=1, annot=True, cmap=\"coolwarm\", fmt=\"0.2f\")"
      ]
    },
    {
      "cell_type": "code",
      "execution_count": null,
      "metadata": {
        "id": "lIOtn5RqpY8l"
      },
      "outputs": [],
      "source": [
        "x_y = (0,1)\n",
        "N = 1000\n",
        "correlation_graph(pca, x_y, features)"
      ]
    },
    {
      "cell_type": "code",
      "execution_count": null,
      "metadata": {
        "id": "hfNfAmEWpY8m"
      },
      "outputs": [],
      "source": [
        "x_y = (2,3)\n",
        "correlation_graph(pca, x_y, features)"
      ]
    },
    {
      "cell_type": "code",
      "execution_count": null,
      "metadata": {
        "id": "lJz4OOpvpY8o"
      },
      "outputs": [],
      "source": [
        "x_y = (0,1)\n",
        "display_factorial_planes(X_proj[:N], x_y, clusters=df.loc[:N-1,'nutrition_grade_fr'])"
      ]
    },
    {
      "cell_type": "code",
      "execution_count": null,
      "metadata": {
        "id": "MUVHgt7YpY8p"
      },
      "outputs": [],
      "source": [
        "x_y = (2,3)\n",
        "display_factorial_planes(X_proj[:N], x_y, clusters=df.loc[:N-1,'nutrition_grade_fr'])"
      ]
    },
    {
      "cell_type": "code",
      "execution_count": null,
      "metadata": {
        "id": "DFvy7PwcpY8p"
      },
      "outputs": [],
      "source": [
        "total_var = pca.explained_variance_ratio_[:3].sum() * 100\n",
        "\n",
        "fig = px.scatter_3d(\n",
        "    X_proj[:N], x=0, y=1, z=2, color=df.loc[:N-1,'nutrition_grade_fr'],\n",
        "    title=f'Total Explained Variance: {total_var:.2f}%',\n",
        "    labels={'0': 'PC 1', '1': 'PC 2', '2': 'PC 3'},\n",
        ")\n",
        "fig.show()"
      ]
    },
    {
      "cell_type": "code",
      "execution_count": null,
      "metadata": {
        "id": "Q8hGMkXGpY8q"
      },
      "outputs": [],
      "source": [
        "clusters = df.loc[:N-1,'nutrition_grade_fr']\n",
        "display_factorial_planes_3D(\n",
        "    X_proj[:N], \n",
        "    clusters=clusters, \n",
        "    title=f'Total Explained Variance: {total_var:.2f}%',\n",
        "    )"
      ]
    },
    {
      "cell_type": "code",
      "source": [],
      "metadata": {
        "id": "5XoyzrPOqgTZ"
      },
      "execution_count": null,
      "outputs": []
    }
  ],
  "metadata": {
    "colab": {
      "provenance": []
    },
    "kernelspec": {
      "display_name": "Python 3",
      "name": "python3"
    },
    "language_info": {
      "name": "python"
    }
  },
  "nbformat": 4,
  "nbformat_minor": 0
}