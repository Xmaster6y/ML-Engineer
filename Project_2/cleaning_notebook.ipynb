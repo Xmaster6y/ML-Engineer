{
 "nbformat": 4,
 "nbformat_minor": 0,
 "metadata": {
  "colab": {
   "provenance": []
  },
  "kernelspec": {
   "name": "",
   "display_name": ""
  },
  "language_info": {
   "name": "python"
  }
 },
 "cells": [
  {
   "cell_type": "markdown",
   "source": [
    "# Cleaning notebook\n",
    "\n",
    "* [Imports](#imports)\n",
    "* [Dataset loading](#dataset-loading)\n",
    "* [Features filtering](#feature-filtering)\n",
    "    * [FR and threshold filtering](#fr-and-threshold-filtering)\n",
    "    * [Amount of missing values](#amount-of-missing-values)\n",
    "    * [Correlations between missing values](#correlations-between-missing-values)\n",
    "    * [Correlations between features](#correlations-between-features)\n",
    "* [Row filtering](#row-filtering)\n",
    "    * [Empty rows](#empty-rows)\n",
    "    * [Wrong values](#wrong-values)\n",
    "    * [Duplicated rows](#duplicated-rows)\n",
    "* [Missing values](#missing-values)\n",
    "    * [Zero Imputation](#zero-imputation)\n",
    "    * [Label Fusion](#label-fusion)\n",
    "* [ML imputation](#ml-imputation)\n",
    "    * [KKN imputation](#knn-imputation)\n",
    "    * [RandomForest Regressor](#randomforest-regressor)\n",
    "    * [Classifier imputation](#classifier-imputation)\n",
    "    * [Actual imputation](#actual-imputation)\n",
    "* [Outliers](#outliers)\n",
    "* [Saving](#saving)"
   ],
   "metadata": {
    "id": "hdGRuaN6RUhY"
   }
  },
  {
   "cell_type": "markdown",
   "source": [
    "<a name=\"imports\"></a>\n",
    "## Imports"
   ],
   "metadata": {
    "id": "7DLiM59jRZRA"
   }
  },
  {
   "cell_type": "code",
   "execution_count": null,
   "metadata": {
    "id": "INguoRI1zLIQ"
   },
   "outputs": [],
   "source": [
    "import os\n",
    "import re\n",
    "from typing import List\n",
    "\n",
    "import pandas as pd\n",
    "import numpy as np\n",
    "import missingno as msno\n",
    "import matplotlib.pyplot as plt\n",
    "import seaborn as sns\n",
    "\n",
    "from sklearn.model_selection import train_test_split\n",
    "from sklearn.metrics import mean_squared_error, mean_absolute_error, r2_score\n",
    "from sklearn.metrics import accuracy_score, balanced_accuracy_score, f1_score, precision_score, recall_score\n",
    "from sklearn.impute import KNNImputer\n",
    "from sklearn.ensemble import RandomForestRegressor, RandomForestClassifier"
   ]
  },
  {
   "cell_type": "markdown",
   "source": [
    "<a name=\"dataset-loading\"></a>\n",
    "## Dataset loading"
   ],
   "metadata": {
    "id": "S7umhVNpXB7m"
   }
  },
  {
   "cell_type": "code",
   "source": [
    "if not os.path.exists('fr.openfoodfacts.org.products.csv.zip'):\n",
    "    !wget https://s3-eu-west-1.amazonaws.com/static.oc-static.com/prod/courses/files/parcours-data-scientist/P2/fr.openfoodfacts.org.products.csv.zip"
   ],
   "metadata": {
    "id": "R_5kcNrKXEaC"
   },
   "execution_count": null,
   "outputs": []
  },
  {
   "cell_type": "code",
   "source": [
    "if not os.path.exists('dataset.csv'):\n",
    "    !unzip fr.openfoodfacts.org.products.csv.zip\n",
    "    !mv fr.openfoodfacts.org.products.csv dataset.csv\n",
    "!head -n 3 dataset.csv"
   ],
   "metadata": {
    "id": "yvhic7VaXYCa"
   },
   "execution_count": null,
   "outputs": []
  },
  {
   "cell_type": "code",
   "source": [
    "if 'df' not in locals():\n",
    "    df = pd.read_csv('./dataset.csv', sep='\\t')\n",
    "print(df.info(verbose=True))\n",
    "df.head()"
   ],
   "metadata": {
    "id": "rm8agN80X6q_"
   },
   "execution_count": null,
   "outputs": []
  },
  {
   "cell_type": "markdown",
   "source": [
    "<a name=\"features-filtering\"></a>\n",
    "## Features filtering"
   ],
   "metadata": {
    "id": "xOcEXqtEyq6S"
   }
  },
  {
   "cell_type": "markdown",
   "source": [
    "<a name=\"fr-and-threshold-filtering\"></a>\n",
    "### FR and threshold filtering\n",
    "\n",
    "* Keep only the products sold in France\n",
    "* Keep certain columns (the interesting and not empty ones)"
   ],
   "metadata": {
    "id": "HH-WTUvrSi6V"
   }
  },
  {
   "cell_type": "code",
   "source": [
    "def fr_filter(s: str) -> bool:\n",
    "    try:\n",
    "        s_part = re.split('; |, | :', s.lower())\n",
    "        return 'fr' in s_part or 'france' in s_part\n",
    "    except:\n",
    "        return False\n",
    "        \n",
    "def column_filter(columns: List[str], paterns_to_keep: List[str]=None):\n",
    "    filtered_columns = []\n",
    "    if paterns_to_keep is None:\n",
    "        paterns_to_keep = ['image', 'name', 'category', '_100g', 'grade', 'score', 'group']\n",
    "    for column in columns:\n",
    "        for patern_to_keep in paterns_to_keep:\n",
    "            if patern_to_keep in column:\n",
    "                filtered_columns.append(column)\n",
    "                break\n",
    "    return filtered_columns"
   ],
   "metadata": {
    "id": "CqKzUazTkgTE"
   },
   "execution_count": null,
   "outputs": []
  },
  {
   "cell_type": "code",
   "source": [
    "df_fr = df[df[\"countries\"].apply(fr_filter)]\n",
    "del df\n",
    "\n",
    "df_fr = msno.nullity_filter(df_fr, 'top', 0.01)\n",
    "df_fr_filtered = df_fr[['code'] + column_filter(df_fr.columns.values)]\n",
    "del df_fr\n",
    "\n",
    "df_fr_filtered.head()"
   ],
   "metadata": {
    "id": "lGL88dCTrip6"
   },
   "execution_count": null,
   "outputs": []
  },
  {
   "cell_type": "markdown",
   "source": [
    "<a name=\"amount-of-missing-values\"></a>\n",
    "### Amount of missing values"
   ],
   "metadata": {
    "id": "Zl-ZryWOR7KP"
   }
  },
  {
   "cell_type": "code",
   "source": [
    "msno.matrix(df_fr_filtered)"
   ],
   "metadata": {
    "id": "6YfDTjLPPYNS"
   },
   "execution_count": null,
   "outputs": []
  },
  {
   "cell_type": "code",
   "source": [
    "msno.bar(df_fr_filtered)"
   ],
   "metadata": {
    "id": "-HSYlo1TqR26"
   },
   "execution_count": null,
   "outputs": []
  },
  {
   "cell_type": "markdown",
   "source": [
    "<a name=\"correlations-between-missing-values\"></a>\n",
    "### Correlations between missing values"
   ],
   "metadata": {
    "id": "RXjfRpHXRxSn"
   }
  },
  {
   "cell_type": "code",
   "source": [
    "msno.heatmap(df_fr_filtered)"
   ],
   "metadata": {
    "id": "YaFtaYQxQbhn"
   },
   "execution_count": null,
   "outputs": []
  },
  {
   "cell_type": "code",
   "source": [
    "msno.dendrogram(df_fr_filtered)"
   ],
   "metadata": {
    "id": "C6SIwHz7QxoY"
   },
   "execution_count": null,
   "outputs": []
  },
  {
   "cell_type": "code",
   "source": [
    "df_fr_filtered.isna().sum()"
   ],
   "metadata": {
    "id": "TeFVURofpd9E"
   },
   "execution_count": null,
   "outputs": []
  },
  {
   "cell_type": "markdown",
   "source": [
    "<a name=\"correlations-between-features\"></a>\n",
    "### Correlations between features"
   ],
   "metadata": {
    "id": "7ZBE6eXkSMHe"
   }
  },
  {
   "cell_type": "code",
   "source": [
    "print((df_fr_filtered['nutrition-score-fr_100g'] != df_fr_filtered['nutrition-score-uk_100g']).sum())\n",
    "print((df_fr_filtered['nutrition-score-fr_100g'].isna() != df_fr_filtered['nutrition-score-uk_100g'].isna()).sum())"
   ],
   "metadata": {
    "id": "8SEUUSJgwj8l"
   },
   "execution_count": null,
   "outputs": []
  },
  {
   "cell_type": "code",
   "source": [
    "sns.relplot(data=df_fr_filtered, x=\"nutrition-score-fr_100g\", y=\"nutrition-score-uk_100g\")"
   ],
   "metadata": {
    "id": "Vkh9cpaVfnVD"
   },
   "execution_count": null,
   "outputs": []
  },
  {
   "cell_type": "code",
   "source": [
    "print((df_fr_filtered['nutrition-score-fr_100g'].isna() != df_fr_filtered['nutrition_grade_fr'].isna()).sum())\n",
    "print((df_fr_filtered['nutrition-score-fr_100g'].isna() != df_fr_filtered['energy_100g'].isna()).sum())"
   ],
   "metadata": {
    "id": "qUQXosxcfJXS"
   },
   "execution_count": null,
   "outputs": []
  },
  {
   "cell_type": "code",
   "source": [
    "sns.catplot(data=df_fr_filtered, x=\"nutrition-score-fr_100g\", y=\"nutrition_grade_fr\", kind=\"box\")"
   ],
   "metadata": {
    "id": "oJY24_dxZG5P"
   },
   "execution_count": null,
   "outputs": []
  },
  {
   "cell_type": "markdown",
   "source": [
    "<a name=\"row-filtering\"></a>\n",
    "## Row filtering"
   ],
   "metadata": {
    "id": "UsAvzCi70tRF"
   }
  },
  {
   "cell_type": "markdown",
   "source": [
    "<a name=\"empty-rows\"></a>\n",
    "### Empty rows\n",
    "\n",
    "* Based on numerical features"
   ],
   "metadata": {
    "id": "BJp0YOEfTGl7"
   }
  },
  {
   "cell_type": "code",
   "source": [
    "numerical_columns = column_filter(df_fr_filtered.columns.values, paterns_to_keep=['_100g'])\n",
    "print(df_fr_filtered[numerical_columns].isna().all(axis='columns').sum())\n",
    "print(df_fr_filtered[numerical_columns[:-2]].isna().all(axis='columns').sum())\n",
    "print(df_fr_filtered[numerical_columns[1:-2]].isna().all(axis='columns').sum())\n",
    "mask = df_fr_filtered[numerical_columns[1:-2]].isna().all(axis='columns')"
   ],
   "metadata": {
    "id": "LAjQT4xizPuc"
   },
   "execution_count": null,
   "outputs": []
  },
  {
   "cell_type": "code",
   "source": [
    "df_fr_filtered = df_fr_filtered[~mask]"
   ],
   "metadata": {
    "id": "Yd3awglR0G2d"
   },
   "execution_count": null,
   "outputs": []
  },
  {
   "cell_type": "markdown",
   "source": [
    "<a name=\"wrong-values\"></a>\n",
    "### Wrong values\n",
    "\n",
    "* Based on numerical features"
   ],
   "metadata": {
    "id": "pD5B3ysLTLiV"
   }
  },
  {
   "cell_type": "code",
   "source": [
    "print((df_fr_filtered[numerical_columns[:-2]] < 0).any(axis='columns').sum())\n",
    "mask = (df_fr_filtered[numerical_columns[:-2]] < 0).any(axis='columns')"
   ],
   "metadata": {
    "id": "Gz-ciu6Uh2uF"
   },
   "execution_count": null,
   "outputs": []
  },
  {
   "cell_type": "code",
   "source": [
    "df_fr_filtered = df_fr_filtered[~mask]"
   ],
   "metadata": {
    "id": "i22JUR22ioKR"
   },
   "execution_count": null,
   "outputs": []
  },
  {
   "cell_type": "code",
   "source": [
    "print((df_fr_filtered[numerical_columns[1:-2]] > 100).any(axis='columns').sum())\n",
    "mask = (df_fr_filtered[numerical_columns[1:-2]] > 100).any(axis='columns')\n",
    "df_fr_filtered.loc[mask, [\"product_name\"]+numerical_columns]"
   ],
   "metadata": {
    "id": "3nBZBkQKlOsu"
   },
   "execution_count": null,
   "outputs": []
  },
  {
   "cell_type": "code",
   "source": [
    "df_fr_filtered = df_fr_filtered[~mask]"
   ],
   "metadata": {
    "id": "0qkZgjtgnqQE"
   },
   "execution_count": null,
   "outputs": []
  },
  {
   "cell_type": "code",
   "source": [
    "print((df_fr_filtered['energy_100g'] > 3765.6).sum())#900 Kcal/100g = 3765.6kj/100g\n",
    "mask = df_fr_filtered['energy_100g'] > 3765.6"
   ],
   "metadata": {
    "id": "Bar5zddK6S8b"
   },
   "execution_count": null,
   "outputs": []
  },
  {
   "cell_type": "code",
   "source": [
    "df_fr_filtered = df_fr_filtered[~mask]"
   ],
   "metadata": {
    "id": "4rophLhx7G6B"
   },
   "execution_count": null,
   "outputs": []
  },
  {
   "cell_type": "markdown",
   "source": [
    "* Included columns"
   ],
   "metadata": {
    "id": "JxHRDom9Wrg0"
   }
  },
  {
   "cell_type": "code",
   "source": [
    "print((df_fr_filtered['carbohydrates_100g']<df_fr_filtered['sugars_100g']).sum())\n",
    "sub_fat = df_fr_filtered[column_filter(df_fr_filtered.columns.values, paterns_to_keep=['ed_fat_100g'])].sum(axis='columns')\n",
    "print((df_fr_filtered['fat_100g']<sub_fat).sum())\n",
    "mask = (df_fr_filtered['carbohydrates_100g']<df_fr_filtered['sugars_100g'])"
   ],
   "metadata": {
    "id": "nsEEEZ3jxyV_"
   },
   "execution_count": null,
   "outputs": []
  },
  {
   "cell_type": "code",
   "source": [
    "df_fr_filtered = df_fr_filtered[~mask]"
   ],
   "metadata": {
    "id": "RdCmPbd12rDf"
   },
   "execution_count": null,
   "outputs": []
  },
  {
   "cell_type": "markdown",
   "source": [
    "<a name=\"duplicated-rows\"></a>\n",
    "### Duplicated rows"
   ],
   "metadata": {
    "id": "6Ia4yCDEV3fg"
   }
  },
  {
   "cell_type": "code",
   "source": [
    "print(df_fr_filtered[\"code\"].duplicated().sum())\n",
    "print(df_fr_filtered[df_fr_filtered.columns.values[1:]].duplicated().sum())\n",
    "mask = df_fr_filtered[df_fr_filtered.columns.values[1:]].duplicated()"
   ],
   "metadata": {
    "id": "nS0H3vnT2s8U"
   },
   "execution_count": null,
   "outputs": []
  },
  {
   "cell_type": "code",
   "source": [
    "df_fr_filtered = df_fr_filtered[~mask]"
   ],
   "metadata": {
    "id": "-yK2fvZmyLHO"
   },
   "execution_count": null,
   "outputs": []
  },
  {
   "cell_type": "markdown",
   "source": [
    "<a name=\"missing-values\"></a>\n",
    "## Missing values"
   ],
   "metadata": {
    "id": "usdNDsDuSzeP"
   }
  },
  {
   "cell_type": "markdown",
   "source": [
    "<a name=\"zero-imputation\"></a>\n",
    "### Zero Imputation\n",
    "\n",
    "* Composition missing elements are replaced by 0"
   ],
   "metadata": {
    "id": "plq66i2o5tb5"
   }
  },
  {
   "cell_type": "code",
   "source": [
    "imputed_columns = [c for c in numerical_columns if 'nutrition-score' not in c and 'energy' not in c]\n",
    "df_fr_filtered.loc[:, imputed_columns] = df_fr_filtered[imputed_columns].fillna(0)\n",
    "df_fr_filtered.isna().sum() "
   ],
   "metadata": {
    "id": "xKf_Ipxh5sfl"
   },
   "execution_count": null,
   "outputs": []
  },
  {
   "cell_type": "code",
   "source": [
    "df_desc = df_fr_filtered.describe()\n",
    "df_desc"
   ],
   "metadata": {
    "id": "wH7j3IJI9a_A"
   },
   "execution_count": null,
   "outputs": []
  },
  {
   "cell_type": "markdown",
   "source": [
    "<a name=\"feature-fusion\"></a>\n",
    "### Features Fusion\n",
    "\n",
    "* Fusion of the similar features\n",
    "* Name imputation (by the group)"
   ],
   "metadata": {
    "id": "9r0Mw-lB5xDA"
   }
  },
  {
   "cell_type": "code",
   "source": [
    "print((df_fr_filtered['product_name'].isna() & ~df_fr_filtered['generic_name'].isna()).sum())\n",
    "mask = df_fr_filtered['product_name'].isna() & ~df_fr_filtered['generic_name'].isna()"
   ],
   "metadata": {
    "id": "qKRSdeZnS1vU"
   },
   "execution_count": null,
   "outputs": []
  },
  {
   "cell_type": "code",
   "source": [
    "df_fr_filtered.loc[mask, 'product_name'] = df_fr_filtered.loc[mask, 'generic_name']\n",
    "df_fr_filtered.drop(columns=['generic_name'], inplace=True)"
   ],
   "metadata": {
    "id": "wipqOmfq7-KH"
   },
   "execution_count": null,
   "outputs": []
  },
  {
   "cell_type": "code",
   "source": [
    "(df_fr_filtered['main_category'].isna() & ~df_fr_filtered['main_category_fr'].isna()).sum()"
   ],
   "metadata": {
    "id": "hZOtzi2BAqML"
   },
   "execution_count": null,
   "outputs": []
  },
  {
   "cell_type": "code",
   "source": [
    "df_fr_filtered.drop(columns=['main_category_fr'], inplace=True)"
   ],
   "metadata": {
    "id": "lHMwbisa84z0"
   },
   "execution_count": null,
   "outputs": []
  },
  {
   "cell_type": "code",
   "source": [
    "(df_fr_filtered['image_url'].isna() & ~df_fr_filtered['image_small_url'].isna()).sum()"
   ],
   "metadata": {
    "id": "KJxVWlJT9WKX"
   },
   "execution_count": null,
   "outputs": []
  },
  {
   "cell_type": "code",
   "source": [
    "df_fr_filtered.drop(columns=['image_small_url'], inplace=True)"
   ],
   "metadata": {
    "id": "HxCH_Hsi9b3p"
   },
   "execution_count": null,
   "outputs": []
  },
  {
   "cell_type": "code",
   "source": [
    "print(df_fr_filtered[['pnns_groups_1','pnns_groups_2','main_category']].isna().sum())\n",
    "print(df_fr_filtered[['pnns_groups_1','pnns_groups_2','main_category']].nunique())\n",
    "print((df_fr_filtered['pnns_groups_2']==\"unknown\").sum())"
   ],
   "metadata": {
    "id": "3gED3x4R911Q"
   },
   "execution_count": null,
   "outputs": []
  },
  {
   "cell_type": "code",
   "source": [
    "print((df_fr_filtered['pnns_groups_1']==\"unknown\").sum())\n",
    "print((df_fr_filtered['pnns_groups_2']==\"unknown\").sum())\n",
    "print(((df_fr_filtered['pnns_groups_2']==\"unknown\") & (df_fr_filtered['pnns_groups_1']!=\"unknown\")).sum())"
   ],
   "metadata": {
    "id": "Umod63RlAVPd"
   },
   "execution_count": null,
   "outputs": []
  },
  {
   "cell_type": "code",
   "source": [
    "df_fr_filtered['pnns_groups_2'] = df_fr_filtered['pnns_groups_2'].fillna(value=\"unknown\")"
   ],
   "metadata": {
    "id": "XcaZNlQ6__tA"
   },
   "execution_count": null,
   "outputs": []
  },
  {
   "cell_type": "code",
   "source": [
    "print((df_fr_filtered['pnns_groups_2'].isna() & ~df_fr_filtered['pnns_groups_1'].isna()).sum())\n",
    "print((df_fr_filtered['pnns_groups_2'].isna() & ~df_fr_filtered['main_category'].isna()).sum())"
   ],
   "metadata": {
    "id": "qtVdH0z29pau"
   },
   "execution_count": null,
   "outputs": []
  },
  {
   "cell_type": "code",
   "source": [
    "df_fr_filtered.drop(columns=['pnns_groups_1','main_category'], inplace=True)"
   ],
   "metadata": {
    "id": "uXakrApP-9nV"
   },
   "execution_count": null,
   "outputs": []
  },
  {
   "cell_type": "code",
   "source": [
    "print((df_fr_filtered['product_name'].isna() & ~df_fr_filtered['pnns_groups_2'].isna() & (df_fr_filtered['pnns_groups_2']!=\"unknown\")).sum())\n",
    "mask = df_fr_filtered['product_name'].isna() & ~df_fr_filtered['pnns_groups_2'].isna() & (df_fr_filtered['pnns_groups_2']!=\"unknown\")"
   ],
   "metadata": {
    "id": "cW9YzMAK--_T"
   },
   "execution_count": null,
   "outputs": []
  },
  {
   "cell_type": "code",
   "source": [
    "df_fr_filtered.loc[mask, 'product_name'] = df_fr_filtered.loc[mask, 'pnns_groups_2']"
   ],
   "metadata": {
    "id": "a49z_ceC_EaF"
   },
   "execution_count": null,
   "outputs": []
  },
  {
   "cell_type": "markdown",
   "source": [
    "<a name=\"ml-imputation\"></a>\n",
    "## ML imputation\n",
    "\n",
    "* Recover the nutrition scores (numerical) and the nutrition grade (categorical)\n",
    "\n",
    "The two features are linked but not directly. The numerical feature needs a regression and the categorical needs a classification"
   ],
   "metadata": {
    "id": "EuJtUrcyS6il"
   }
  },
  {
   "cell_type": "code",
   "source": [
    "bool_index = (df_fr_filtered['nutrition-score-fr_100g'].notna() & df_fr_filtered['energy_100g'].notna())\n",
    "\n",
    "X_num = np.array(df_fr_filtered.loc[bool_index, numerical_columns])\n",
    "y_clf = np.array(df_fr_filtered.loc[bool_index, 'nutrition_grade_fr'])\n",
    "\n",
    "X_num_train, X_num_test, y_clf_train, y_clf_test = train_test_split(X_num, y_clf, test_size=0.2, random_state=42)"
   ],
   "metadata": {
    "id": "X9_nGIClS56k"
   },
   "execution_count": null,
   "outputs": []
  },
  {
   "cell_type": "code",
   "source": [
    "def reg_metrics(y_true, y_pred):\n",
    "    metric_list = ['mean_squared_error', 'mean_absolute_error', 'r2_score']\n",
    "    for metric_name in metric_list:\n",
    "        score = eval(f\"{metric_name}(y_true, y_pred)\")\n",
    "        print(f\"{metric_name}: {score:.3f}\")"
   ],
   "metadata": {
    "id": "yfmIcrBCkJR9"
   },
   "execution_count": null,
   "outputs": []
  },
  {
   "cell_type": "code",
   "source": [
    "def clf_metrics(y_true, y_pred):\n",
    "    metric_list = ['accuracy', 'balanced_accuracy', 'f1', 'precision', 'recall']\n",
    "    kwargs = {'accuracy':{}, 'balanced_accuracy':{}, 'f1':{'average':'macro'}, 'precision':{'average':'macro'}, 'recall':{'average':'macro'}}\n",
    "    for metric_name in metric_list:\n",
    "        score = eval(f\"{metric_name}_score(y_true, y_pred, **kwargs[metric_name])\")\n",
    "        print(f\"{metric_name}: {score:.3f}\")"
   ],
   "metadata": {
    "id": "YXoiChJ6npSK"
   },
   "execution_count": null,
   "outputs": []
  },
  {
   "cell_type": "markdown",
   "source": [
    "<a name=\"knn-imputation\"></a>\n",
    "### KKN imputation\n",
    "\n",
    "Imputer based on a KNN imputer."
   ],
   "metadata": {
    "id": "8cGX1zNhZi_O"
   }
  },
  {
   "cell_type": "code",
   "source": [
    "%%time\n",
    "imputer = KNNImputer(n_neighbors=3, weights='distance')\n",
    "imputer.fit(X_num_train)"
   ],
   "metadata": {
    "id": "1Yklxm-ltv1z"
   },
   "execution_count": null,
   "outputs": []
  },
  {
   "cell_type": "code",
   "source": [
    "%%time\n",
    "X_num_test_knn = np.copy(X_num_test)\n",
    "X_num_test_knn[:,(0,-2,-1)] = np.nan\n",
    "y_pred_knn = imputer.transform(X_num_test_knn)[:,(0,-2,-1)]"
   ],
   "metadata": {
    "id": "UvksR8o6uXDS"
   },
   "execution_count": null,
   "outputs": []
  },
  {
   "cell_type": "code",
   "source": [
    "reg_metrics(X_num_test[:,(0,-2,-1)], y_pred_knn)"
   ],
   "metadata": {
    "id": "EwrpS9j00Nc2"
   },
   "execution_count": null,
   "outputs": []
  },
  {
   "cell_type": "markdown",
   "source": [
    "<a name=\"randomforest-regressor\"></a>\n",
    "### RandomForest Regressor"
   ],
   "metadata": {
    "id": "PrPvzuIIkUsC"
   }
  },
  {
   "cell_type": "code",
   "source": [
    "%%time\n",
    "regr = RandomForestRegressor(n_estimators=20, max_depth=20, random_state=0)\n",
    "regr.fit(X_num_train[:,1:-2], X_num_train[:,(0,-2,-1)])"
   ],
   "metadata": {
    "id": "j59ADTYtkkTp"
   },
   "execution_count": null,
   "outputs": []
  },
  {
   "cell_type": "code",
   "source": [
    "reg_metrics(X_num_train[:,(0,-2,-1)], regr.predict(X_num_train[:,1:-2]))"
   ],
   "metadata": {
    "id": "LliK_gcc-T5Z"
   },
   "execution_count": null,
   "outputs": []
  },
  {
   "cell_type": "code",
   "source": [
    "importances = regr.feature_importances_\n",
    "std = np.std([tree.feature_importances_ for tree in regr.estimators_], axis=0)\n",
    "forest_importances = pd.Series(importances, index=numerical_columns[1:-2])\n",
    "fig, ax = plt.subplots()\n",
    "forest_importances.plot.bar(yerr=std, ax=ax)\n",
    "ax.set_title(\"Feature importances using MDI\")\n",
    "ax.set_ylabel(\"Mean decrease in impurity\")\n",
    "fig.tight_layout()"
   ],
   "metadata": {
    "id": "A5z0LExsvYfl"
   },
   "execution_count": null,
   "outputs": []
  },
  {
   "cell_type": "code",
   "source": [
    "%%time\n",
    "y_pred_rfg = regr.predict(X_num_test[:,1:-2])"
   ],
   "metadata": {
    "id": "K8adsBL78ZbW"
   },
   "execution_count": null,
   "outputs": []
  },
  {
   "cell_type": "code",
   "source": [
    "reg_metrics(X_num_test[:,(0,-2,-1)], y_pred_rfg)"
   ],
   "metadata": {
    "id": "mR_UvId3n9GP"
   },
   "execution_count": null,
   "outputs": []
  },
  {
   "cell_type": "markdown",
   "source": [
    "<a name=\"classifier-imputationn\"></a>\n",
    "### Classifier imputation"
   ],
   "metadata": {
    "id": "5ve0XwmpZp4t"
   }
  },
  {
   "cell_type": "code",
   "source": [
    "%%time\n",
    "clf = RandomForestClassifier(n_estimators=20, max_depth=20, random_state=0, class_weight='balanced')\n",
    "clf.fit(X_num_train[:,1:-2], y_clf_train)"
   ],
   "metadata": {
    "id": "l13DNAmgZpOc"
   },
   "execution_count": null,
   "outputs": []
  },
  {
   "cell_type": "code",
   "source": [
    "clf_metrics(y_clf_train, clf.predict(X_num_train[:,1:-2]))"
   ],
   "metadata": {
    "id": "Lx_IOmDV-_Rg"
   },
   "execution_count": null,
   "outputs": []
  },
  {
   "cell_type": "code",
   "source": [
    "importances = clf.feature_importances_\n",
    "std = np.std([tree.feature_importances_ for tree in clf.estimators_], axis=0)\n",
    "forest_importances = pd.Series(importances, index=numerical_columns[1:-2])\n",
    "fig, ax = plt.subplots()\n",
    "forest_importances.plot.bar(yerr=std, ax=ax)\n",
    "ax.set_title(\"Feature importances using MDI\")\n",
    "ax.set_ylabel(\"Mean decrease in impurity\")\n",
    "fig.tight_layout()"
   ],
   "metadata": {
    "id": "qAi4kLNNwFN2"
   },
   "execution_count": null,
   "outputs": []
  },
  {
   "cell_type": "code",
   "source": [
    "%%time\n",
    "y_pred_rfc = clf.predict(X_num_test[:,1:-2])"
   ],
   "metadata": {
    "id": "j7VG3SQrmVCC"
   },
   "execution_count": null,
   "outputs": []
  },
  {
   "cell_type": "code",
   "source": [
    "clf_metrics(y_clf_test, y_pred_rfc)"
   ],
   "metadata": {
    "id": "qgB2yWd4oJWR"
   },
   "execution_count": null,
   "outputs": []
  },
  {
   "cell_type": "code",
   "source": [
    "%%time\n",
    "clf_full = RandomForestClassifier(n_estimators=20, max_depth=20, random_state=0, class_weight='balanced')\n",
    "clf_full.fit(X_num_train, y_clf_train)"
   ],
   "metadata": {
    "id": "P9qbQS4y-jva"
   },
   "execution_count": null,
   "outputs": []
  },
  {
   "cell_type": "code",
   "source": [
    "clf_metrics(y_clf_train, clf_full.predict(X_num_train))"
   ],
   "metadata": {
    "id": "9K1GAyhU_JTF"
   },
   "execution_count": null,
   "outputs": []
  },
  {
   "cell_type": "code",
   "source": [
    "importances = clf_full.feature_importances_\n",
    "std = np.std([tree.feature_importances_ for tree in clf_full.estimators_], axis=0)\n",
    "forest_importances = pd.Series(importances, index=numerical_columns)\n",
    "fig, ax = plt.subplots()\n",
    "forest_importances.plot.bar(yerr=std, ax=ax)\n",
    "ax.set_title(\"Feature importances using MDI\")\n",
    "ax.set_ylabel(\"Mean decrease in impurity\")\n",
    "fig.tight_layout()"
   ],
   "metadata": {
    "id": "gU6f1FBXwMKW"
   },
   "execution_count": null,
   "outputs": []
  },
  {
   "cell_type": "code",
   "source": [
    "%%time\n",
    "y_pred_rfc_full = clf_full.predict(X_num_test)"
   ],
   "metadata": {
    "id": "bo7pbUgS-kK-"
   },
   "execution_count": null,
   "outputs": []
  },
  {
   "cell_type": "code",
   "source": [
    "clf_metrics(y_clf_test, y_pred_rfc_full)"
   ],
   "metadata": {
    "id": "ZHi9b2JL-kU0"
   },
   "execution_count": null,
   "outputs": []
  },
  {
   "cell_type": "code",
   "source": [
    "df_fr_filtered['nutrition_grade_fr'].isna().sum()"
   ],
   "metadata": {
    "id": "aIKHSkF7Hxmf"
   },
   "execution_count": null,
   "outputs": []
  },
  {
   "cell_type": "markdown",
   "source": [
    "<a name=\"actual-imputation\"></a>\n",
    "### Actual imputation"
   ],
   "metadata": {
    "id": "TIksPo6rk9lK"
   }
  },
  {
   "cell_type": "code",
   "source": [
    "bool_index = (df_fr_filtered['nutrition-score-fr_100g'].isna() | df_fr_filtered['energy_100g'].isna())\n",
    "df_fr_filtered.loc[bool_index, ['energy_100g','nutrition-score-fr_100g', 'nutrition-score-uk_100g']] = regr.predict(np.array(df_fr_filtered.loc[bool_index, numerical_columns])[:,1:-2])"
   ],
   "metadata": {
    "id": "FJsqGjpG5W47"
   },
   "execution_count": null,
   "outputs": []
  },
  {
   "cell_type": "code",
   "source": [
    "bool_index = df_fr_filtered['nutrition_grade_fr'].isna()\n",
    "df_fr_filtered.loc[bool_index, 'nutrition_grade_fr'] = clf_full.predict(np.array(df_fr_filtered.loc[bool_index, numerical_columns]))"
   ],
   "metadata": {
    "id": "-8PnIKsmGOq2"
   },
   "execution_count": null,
   "outputs": []
  },
  {
   "cell_type": "code",
   "source": [
    "df_imputed_desc = df_fr_filtered.describe()\n",
    "df_imputed_desc"
   ],
   "metadata": {
    "id": "Og4Gr9QXDxXO"
   },
   "execution_count": null,
   "outputs": []
  },
  {
   "cell_type": "code",
   "source": [
    "diff_desc = df_imputed_desc - df_desc\n",
    "diff_desc[['energy_100g','nutrition-score-fr_100g', 'nutrition-score-uk_100g']]/df_desc.loc['std',['energy_100g','nutrition-score-fr_100g', 'nutrition-score-uk_100g']]"
   ],
   "metadata": {
    "id": "pj5cKvqJDyPN"
   },
   "execution_count": null,
   "outputs": []
  },
  {
   "cell_type": "markdown",
   "source": [
    "<a name=\"outliers\"></a>\n",
    "## Outliers"
   ],
   "metadata": {
    "id": "I2wNyyoyS2rm"
   }
  },
  {
   "cell_type": "code",
   "source": [
    "tau = 5\n",
    "upper_bound = df_imputed_desc.loc['mean',:] + tau * df_imputed_desc.loc['std',:]\n",
    "lower_bound = df_imputed_desc.loc['mean',:] - tau * df_imputed_desc.loc['std',:]"
   ],
   "metadata": {
    "id": "l7jnDORujWPL"
   },
   "execution_count": null,
   "outputs": []
  },
  {
   "cell_type": "code",
   "source": [
    "print((df_fr_filtered < lower_bound).any(axis='columns').sum())\n",
    "print((df_fr_filtered > upper_bound).any(axis='columns').sum())"
   ],
   "metadata": {
    "id": "-LvnYWvtkDb5"
   },
   "execution_count": null,
   "outputs": []
  },
  {
   "cell_type": "code",
   "source": [
    "test_feature = 'fiber_100g'\n",
    "\n",
    "upper_bound_en = df_imputed_desc.loc['mean', test_feature] + tau * df_imputed_desc.loc['std', test_feature]\n",
    "lower_bound_en = df_imputed_desc.loc['mean', test_feature] - tau * df_imputed_desc.loc['std', test_feature]"
   ],
   "metadata": {
    "id": "HzgcAPk-n8dS"
   },
   "execution_count": null,
   "outputs": []
  },
  {
   "cell_type": "code",
   "source": [
    "print((df_fr_filtered[test_feature] < lower_bound_en).sum())\n",
    "print((df_fr_filtered[test_feature] > upper_bound_en).sum())"
   ],
   "metadata": {
    "id": "Tdoi5VRxoH47"
   },
   "execution_count": null,
   "outputs": []
  },
  {
   "cell_type": "markdown",
   "source": [
    "<a name=\"saving\"></a>\n",
    "## Saving"
   ],
   "metadata": {
    "id": "MswOrMf74YRb"
   }
  },
  {
   "cell_type": "code",
   "source": [
    "print(df_fr_filtered['product_name'].isna().sum())\n",
    "df_fr_filtered = df_fr_filtered[df_fr_filtered['product_name'].notna()]"
   ],
   "metadata": {
    "id": "5pm9bmbHEXBO"
   },
   "execution_count": null,
   "outputs": []
  },
  {
   "cell_type": "code",
   "source": [
    "df_fr_filtered.to_csv('cleaned_dataset.csv', index=False)"
   ],
   "metadata": {
    "id": "tiRb8OMc4Z-K"
   },
   "execution_count": null,
   "outputs": []
  }
 ]
}
