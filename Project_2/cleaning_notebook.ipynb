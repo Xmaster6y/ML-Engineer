{
  "nbformat": 4,
  "nbformat_minor": 0,
  "metadata": {
    "colab": {
      "provenance": []
    },
    "kernelspec": {
      "name": "python3",
      "display_name": "Python 3"
    },
    "language_info": {
      "name": "python"
    }
  },
  "cells": [
    {
      "cell_type": "markdown",
      "source": [
        "# Cleaning notebook"
      ],
      "metadata": {
        "id": "hdGRuaN6RUhY"
      }
    },
    {
      "cell_type": "markdown",
      "source": [
        "## Imports"
      ],
      "metadata": {
        "id": "7DLiM59jRZRA"
      }
    },
    {
      "cell_type": "code",
      "execution_count": null,
      "metadata": {
        "id": "INguoRI1zLIQ"
      },
      "outputs": [],
      "source": [
        "import os\n",
        "import re\n",
        "from typing import List\n",
        "\n",
        "import pandas as pd\n",
        "import numpy as np\n",
        "import missingno as msno\n",
        "import matplotlib.pyplot as plt\n",
        "import seaborn as sns\n",
        "\n",
        "from sklearn.model_selection import train_test_split\n",
        "from sklearn.metrics import mean_squared_error, mean_absolute_error, r2_score\n",
        "from sklearn.metrics import accuracy_score, balanced_accuracy_score, f1_score, precision_score, recall_score\n",
        "from sklearn.impute import KNNImputer\n",
        "from sklearn.ensemble import RandomForestRegressor, RandomForestClassifier"
      ]
    },
    {
      "cell_type": "markdown",
      "source": [
        "## Dataset loading and printing"
      ],
      "metadata": {
        "id": "S7umhVNpXB7m"
      }
    },
    {
      "cell_type": "code",
      "source": [
        "if not os.path.exists('fr.openfoodfacts.org.products.csv.zip'):\n",
        "    !wget https://s3-eu-west-1.amazonaws.com/static.oc-static.com/prod/courses/files/parcours-data-scientist/P2/fr.openfoodfacts.org.products.csv.zip"
      ],
      "metadata": {
        "id": "R_5kcNrKXEaC"
      },
      "execution_count": null,
      "outputs": []
    },
    {
      "cell_type": "code",
      "source": [
        "if not os.path.exists('dataset.csv'):\n",
        "    !unzip fr.openfoodfacts.org.products.csv.zip\n",
        "    !mv fr.openfoodfacts.org.products.csv dataset.csv\n",
        "!head -n 3 dataset.csv"
      ],
      "metadata": {
        "id": "yvhic7VaXYCa"
      },
      "execution_count": null,
      "outputs": []
    },
    {
      "cell_type": "code",
      "source": [
        "if 'df' not in locals():\n",
        "    df = pd.read_csv('./dataset.csv', sep='\\t')\n",
        "print(df.info(verbose=True))\n",
        "df.head()"
      ],
      "metadata": {
        "id": "rm8agN80X6q_"
      },
      "execution_count": null,
      "outputs": []
    },
    {
      "cell_type": "markdown",
      "source": [
        "## Features filtering\n",
        "\n",
        "* Keep only the products sold in France\n",
        "* Keep certain columns"
      ],
      "metadata": {
        "id": "xOcEXqtEyq6S"
      }
    },
    {
      "cell_type": "code",
      "source": [
        "def fr_filter(s: str) -> bool:\n",
        "    try:\n",
        "        s_part = re.split('; |, | :', s.lower())\n",
        "        return 'fr' in s_part or 'france' in s_part\n",
        "    except:\n",
        "        return False\n",
        "        \n",
        "def column_filter(columns: List[str], to_keep: List[str]=None):\n",
        "    filtered_columns = []\n",
        "    if to_keep is None:\n",
        "        to_keep = ['image', 'name', 'category', '_100g', 'grade', 'score']\n",
        "    for column in columns:\n",
        "        for to_keep_frag in to_keep:\n",
        "            if to_keep_frag in column:\n",
        "                filtered_columns.append(column)\n",
        "                break\n",
        "    return filtered_columns"
      ],
      "metadata": {
        "id": "CqKzUazTkgTE"
      },
      "execution_count": null,
      "outputs": []
    },
    {
      "cell_type": "code",
      "source": [
        "df_fr = df[df[\"countries\"].apply(fr_filter)]\n",
        "del df\n",
        "\n",
        "df_fr = msno.nullity_filter(df_fr, 'top', 0.01)\n",
        "df_fr_filtered = df_fr[column_filter(df_fr.columns.values)]\n",
        "del df_fr\n",
        "\n",
        "df_fr_filtered.head()"
      ],
      "metadata": {
        "id": "lGL88dCTrip6"
      },
      "execution_count": null,
      "outputs": []
    },
    {
      "cell_type": "code",
      "source": [
        "msno.matrix(df_fr_filtered)"
      ],
      "metadata": {
        "id": "6YfDTjLPPYNS"
      },
      "execution_count": null,
      "outputs": []
    },
    {
      "cell_type": "code",
      "source": [
        "msno.bar(df_fr_filtered)"
      ],
      "metadata": {
        "id": "-HSYlo1TqR26"
      },
      "execution_count": null,
      "outputs": []
    },
    {
      "cell_type": "code",
      "source": [
        "msno.heatmap(df_fr_filtered)"
      ],
      "metadata": {
        "id": "YaFtaYQxQbhn"
      },
      "execution_count": null,
      "outputs": []
    },
    {
      "cell_type": "code",
      "source": [
        "msno.dendrogram(df_fr_filtered)"
      ],
      "metadata": {
        "id": "C6SIwHz7QxoY"
      },
      "execution_count": null,
      "outputs": []
    },
    {
      "cell_type": "code",
      "source": [
        "df_fr_filtered.isna().sum()"
      ],
      "metadata": {
        "id": "TeFVURofpd9E"
      },
      "execution_count": null,
      "outputs": []
    },
    {
      "cell_type": "code",
      "source": [
        "print((df_fr_filtered['nutrition-score-fr_100g'] != df_fr_filtered['nutrition-score-uk_100g']).sum())\n",
        "print((df_fr_filtered['nutrition-score-fr_100g'].isna() != df_fr_filtered['nutrition-score-uk_100g'].isna()).sum())"
      ],
      "metadata": {
        "id": "8SEUUSJgwj8l"
      },
      "execution_count": null,
      "outputs": []
    },
    {
      "cell_type": "code",
      "source": [
        "sns.relplot(data=df_fr_filtered, x=\"nutrition-score-fr_100g\", y=\"nutrition-score-uk_100g\")"
      ],
      "metadata": {
        "id": "Vkh9cpaVfnVD"
      },
      "execution_count": null,
      "outputs": []
    },
    {
      "cell_type": "code",
      "source": [
        "print((df_fr_filtered['nutrition-score-fr_100g'].isna() != df_fr_filtered['nutrition_grade_fr'].isna()).sum())\n",
        "print((df_fr_filtered['nutrition-score-fr_100g'].isna() != df_fr_filtered['energy_100g'].isna()).sum())"
      ],
      "metadata": {
        "id": "qUQXosxcfJXS"
      },
      "execution_count": null,
      "outputs": []
    },
    {
      "cell_type": "code",
      "source": [
        "sns.catplot(data=df_fr_filtered, x=\"nutrition-score-fr_100g\", y=\"nutrition_grade_fr\", kind=\"box\")"
      ],
      "metadata": {
        "id": "oJY24_dxZG5P"
      },
      "execution_count": null,
      "outputs": []
    },
    {
      "cell_type": "markdown",
      "source": [
        "## Row filtering\n",
        "\n",
        "* Based on numerical features"
      ],
      "metadata": {
        "id": "UsAvzCi70tRF"
      }
    },
    {
      "cell_type": "code",
      "source": [
        "numerical_columns = column_filter(df_fr_filtered.columns.values, to_keep=['_100g'])\n",
        "print(df_fr_filtered[numerical_columns].isna().all(axis='columns').sum())\n",
        "print(df_fr_filtered[numerical_columns[:-2]].isna().all(axis='columns').sum())\n",
        "print(df_fr_filtered[numerical_columns[1:-2]].isna().all(axis='columns').sum())\n",
        "mask = df_fr_filtered[numerical_columns[1:-2]].isna().all(axis='columns')"
      ],
      "metadata": {
        "id": "LAjQT4xizPuc"
      },
      "execution_count": null,
      "outputs": []
    },
    {
      "cell_type": "code",
      "source": [
        "df_fr_filtered = df_fr_filtered[~mask]"
      ],
      "metadata": {
        "id": "Yd3awglR0G2d"
      },
      "execution_count": null,
      "outputs": []
    },
    {
      "cell_type": "code",
      "source": [
        "print((df_fr_filtered[numerical_columns[:-2]] < 0).any(axis='columns').sum())\n",
        "mask = (df_fr_filtered[numerical_columns[:-2]] < 0).any(axis='columns')"
      ],
      "metadata": {
        "id": "Gz-ciu6Uh2uF"
      },
      "execution_count": null,
      "outputs": []
    },
    {
      "cell_type": "code",
      "source": [
        "df_fr_filtered = df_fr_filtered[~mask]"
      ],
      "metadata": {
        "id": "i22JUR22ioKR"
      },
      "execution_count": null,
      "outputs": []
    },
    {
      "cell_type": "code",
      "source": [
        "print((df_fr_filtered[numerical_columns[1:-2]] > 100).any(axis='columns').sum())\n",
        "mask = (df_fr_filtered[numerical_columns[1:-2]] > 100).any(axis='columns')\n",
        "df_fr_filtered.loc[mask, [\"product_name\"]+numerical_columns]"
      ],
      "metadata": {
        "id": "3nBZBkQKlOsu"
      },
      "execution_count": null,
      "outputs": []
    },
    {
      "cell_type": "code",
      "source": [
        "df_fr_filtered = df_fr_filtered[~mask]"
      ],
      "metadata": {
        "id": "0qkZgjtgnqQE"
      },
      "execution_count": null,
      "outputs": []
    },
    {
      "cell_type": "markdown",
      "source": [
        "## Missing values"
      ],
      "metadata": {
        "id": "usdNDsDuSzeP"
      }
    },
    {
      "cell_type": "markdown",
      "source": [
        "### Zero Imputation\n",
        "\n",
        "* Composition missing elements are replaced by 0"
      ],
      "metadata": {
        "id": "plq66i2o5tb5"
      }
    },
    {
      "cell_type": "code",
      "source": [
        "imputed_columns = [c for c in numerical_columns if 'nutrition-score' not in c and 'energy' not in c]\n",
        "df_fr_filtered.loc[:, imputed_columns] = df_fr_filtered[imputed_columns].fillna(0)\n",
        "df_fr_filtered.isna().sum() "
      ],
      "metadata": {
        "id": "xKf_Ipxh5sfl"
      },
      "execution_count": null,
      "outputs": []
    },
    {
      "cell_type": "code",
      "source": [
        "df_desc = df_fr_filtered.describe()\n",
        "df_desc"
      ],
      "metadata": {
        "id": "wH7j3IJI9a_A"
      },
      "execution_count": null,
      "outputs": []
    },
    {
      "cell_type": "markdown",
      "source": [
        "### Label Fusion\n",
        "\n",
        "* Fusion the different labels\n",
        "* Fusion the image urls"
      ],
      "metadata": {
        "id": "9r0Mw-lB5xDA"
      }
    },
    {
      "cell_type": "code",
      "source": [
        "(df_fr_filtered['product_name'].isna() & ~df_fr_filtered['generic_name'].isna()).sum()"
      ],
      "metadata": {
        "id": "qKRSdeZnS1vU"
      },
      "execution_count": null,
      "outputs": []
    },
    {
      "cell_type": "code",
      "source": [
        "(df_fr_filtered['main_category_fr'].isna() & ~df_fr_filtered['main_category'].isna()).sum()"
      ],
      "metadata": {
        "id": "hZOtzi2BAqML"
      },
      "execution_count": null,
      "outputs": []
    },
    {
      "cell_type": "markdown",
      "source": [
        "## ML imputation\n",
        "\n",
        "* Recover the nutrition scores (numerical) and the nutrition grade (categorical)\n",
        "\n",
        "The two features are linked but not directly. The numerical feature needs a regression and the categorical needs a classification"
      ],
      "metadata": {
        "id": "EuJtUrcyS6il"
      }
    },
    {
      "cell_type": "code",
      "source": [
        "bool_index = (df_fr_filtered['nutrition-score-fr_100g'].notna() & df_fr_filtered['energy_100g'].notna())\n",
        "\n",
        "X_num = np.array(df_fr_filtered.loc[bool_index, numerical_columns])\n",
        "y_clf = np.array(df_fr_filtered.loc[bool_index, 'nutrition_grade_fr'])\n",
        "\n",
        "X_num_train, X_num_test, y_clf_train, y_clf_test = train_test_split(X_num, y_clf, test_size=0.2, random_state=42)"
      ],
      "metadata": {
        "id": "X9_nGIClS56k"
      },
      "execution_count": null,
      "outputs": []
    },
    {
      "cell_type": "code",
      "source": [
        "def reg_metrics(y_true, y_pred):\n",
        "    metric_list = ['mean_squared_error', 'mean_absolute_error', 'r2_score']\n",
        "    for metric_name in metric_list:\n",
        "        score = eval(f\"{metric_name}(y_true, y_pred)\")\n",
        "        print(f\"{metric_name}: {score:.2f}\")"
      ],
      "metadata": {
        "id": "yfmIcrBCkJR9"
      },
      "execution_count": null,
      "outputs": []
    },
    {
      "cell_type": "code",
      "source": [
        "def clf_metrics(y_true, y_pred):\n",
        "    metric_list = ['accuracy', 'balanced_accuracy', 'f1', 'precision', 'recall']\n",
        "    kwargs = {'accuracy':{}, 'balanced_accuracy':{}, 'f1':{'average':'weighted'}, 'precision':{'average':'weighted'}, 'recall':{'average':'weighted'}}\n",
        "    for metric_name in metric_list:\n",
        "        score = eval(f\"{metric_name}_score(y_true, y_pred, **kwargs[metric_name])\")\n",
        "        print(f\"{metric_name}: {score:.2f}\")"
      ],
      "metadata": {
        "id": "YXoiChJ6npSK"
      },
      "execution_count": null,
      "outputs": []
    },
    {
      "cell_type": "markdown",
      "source": [
        "### KKN imputation\n",
        "\n",
        "Imputer based on a KNN regressor."
      ],
      "metadata": {
        "id": "8cGX1zNhZi_O"
      }
    },
    {
      "cell_type": "code",
      "source": [
        "%%time\n",
        "imputer = KNNImputer(n_neighbors=3, weights='distance')\n",
        "imputer.fit(X_num_train)"
      ],
      "metadata": {
        "id": "1Yklxm-ltv1z"
      },
      "execution_count": null,
      "outputs": []
    },
    {
      "cell_type": "code",
      "source": [
        "%%time\n",
        "X_num_test_knn = np.copy(X_num_test)\n",
        "X_num_test_knn[:,(0,-2,-1)] = np.nan\n",
        "y_pred_knn = imputer.transform(X_num_test_knn)[:,(0,-2,-1)]"
      ],
      "metadata": {
        "id": "UvksR8o6uXDS"
      },
      "execution_count": null,
      "outputs": []
    },
    {
      "cell_type": "code",
      "source": [
        "reg_metrics(X_num_test[:,(0,-2,-1)], y_pred_knn)"
      ],
      "metadata": {
        "id": "EwrpS9j00Nc2"
      },
      "execution_count": null,
      "outputs": []
    },
    {
      "cell_type": "markdown",
      "source": [
        "### RandomForest Regressor"
      ],
      "metadata": {
        "id": "PrPvzuIIkUsC"
      }
    },
    {
      "cell_type": "code",
      "source": [
        "%%time\n",
        "regr = RandomForestRegressor(max_depth=50, random_state=0)\n",
        "regr.fit(X_num_train[:,1:-2], X_num_train[:,(0,-2,-1)])"
      ],
      "metadata": {
        "id": "j59ADTYtkkTp"
      },
      "execution_count": null,
      "outputs": []
    },
    {
      "cell_type": "code",
      "source": [
        "%%time\n",
        "y_pred_rfg = regr.predict(X_num_test[:,1:-2])"
      ],
      "metadata": {
        "id": "K8adsBL78ZbW"
      },
      "execution_count": null,
      "outputs": []
    },
    {
      "cell_type": "code",
      "source": [
        "reg_metrics(X_num_test[:,(0,-2,-1)], y_pred_rfg)"
      ],
      "metadata": {
        "id": "mR_UvId3n9GP"
      },
      "execution_count": null,
      "outputs": []
    },
    {
      "cell_type": "markdown",
      "source": [
        "### Classifier imputation"
      ],
      "metadata": {
        "id": "5ve0XwmpZp4t"
      }
    },
    {
      "cell_type": "code",
      "source": [
        "%%time\n",
        "clf = RandomForestClassifier(max_depth=50, random_state=0, class_weight='balanced')\n",
        "clf.fit(X_num_train[:,1:-2], y_clf_train)"
      ],
      "metadata": {
        "id": "l13DNAmgZpOc"
      },
      "execution_count": null,
      "outputs": []
    },
    {
      "cell_type": "code",
      "source": [
        "%%time\n",
        "y_pred_rfc = clf.predict(X_num_test[:,1:-2])"
      ],
      "metadata": {
        "id": "j7VG3SQrmVCC"
      },
      "execution_count": null,
      "outputs": []
    },
    {
      "cell_type": "code",
      "source": [
        "clf_metrics(y_clf_test, y_pred_rfc)"
      ],
      "metadata": {
        "id": "qgB2yWd4oJWR"
      },
      "execution_count": null,
      "outputs": []
    },
    {
      "cell_type": "code",
      "source": [
        "%%time\n",
        "clf_full = RandomForestClassifier(max_depth=50, random_state=0, class_weight='balanced')\n",
        "clf_full.fit(X_num_train, y_clf_train)"
      ],
      "metadata": {
        "id": "P9qbQS4y-jva"
      },
      "execution_count": null,
      "outputs": []
    },
    {
      "cell_type": "code",
      "source": [
        "%%time\n",
        "y_pred_rfc_full = clf_full.predict(X_num_test)"
      ],
      "metadata": {
        "id": "bo7pbUgS-kK-"
      },
      "execution_count": null,
      "outputs": []
    },
    {
      "cell_type": "code",
      "source": [
        "clf_metrics(y_clf_test, y_pred_rfc_full)"
      ],
      "metadata": {
        "id": "ZHi9b2JL-kU0"
      },
      "execution_count": null,
      "outputs": []
    },
    {
      "cell_type": "markdown",
      "source": [
        "### Actual imputation"
      ],
      "metadata": {
        "id": "TIksPo6rk9lK"
      }
    },
    {
      "cell_type": "code",
      "source": [
        "bool_index = (df_fr_filtered['nutrition-score-fr_100g'].isna() | df_fr_filtered['energy_100g'].isna())\n",
        "df_fr_filtered.loc[bool_index, numerical_columns] = imputer.transform(df_fr_filtered.loc[bool_index, numerical_columns])"
      ],
      "metadata": {
        "id": "FJsqGjpG5W47"
      },
      "execution_count": null,
      "outputs": []
    },
    {
      "cell_type": "code",
      "source": [
        "bool_index = df_fr_filtered['nutrition_grade_fr'].isna()\n",
        "df_fr_filtered.loc[bool_index, 'nutrition_grade_fr'] = clf_full.predict(df_fr_filtered.loc[bool_index, numerical_columns])"
      ],
      "metadata": {
        "id": "-8PnIKsmGOq2"
      },
      "execution_count": null,
      "outputs": []
    },
    {
      "cell_type": "markdown",
      "source": [
        "## Outliers"
      ],
      "metadata": {
        "id": "I2wNyyoyS2rm"
      }
    },
    {
      "cell_type": "code",
      "source": [
        "df_imputed_desc = df_fr_filtered.describe()\n",
        "df_imputed_desc"
      ],
      "metadata": {
        "id": "CYVImTLAS9wK"
      },
      "execution_count": null,
      "outputs": []
    },
    {
      "cell_type": "code",
      "source": [
        "tau = 5\n",
        "upper_bound = df_imputed_desc.loc['mean',:] + tau * df_imputed_desc.loc['std',:]\n",
        "lower_bound = df_imputed_desc.loc['mean',:] - tau * df_imputed_desc.loc['std',:]"
      ],
      "metadata": {
        "id": "l7jnDORujWPL"
      },
      "execution_count": null,
      "outputs": []
    },
    {
      "cell_type": "code",
      "source": [
        "print((df_fr_filtered < lower_bound).any(axis='columns').sum())\n",
        "print((df_fr_filtered > upper_bound).any(axis='columns').sum())"
      ],
      "metadata": {
        "id": "-LvnYWvtkDb5"
      },
      "execution_count": null,
      "outputs": []
    },
    {
      "cell_type": "code",
      "source": [
        "test_feature = 'fiber_100g'\n",
        "\n",
        "upper_bound_en = df_imputed_desc.loc['mean', test_feature] + tau * df_imputed_desc.loc['std', test_feature]\n",
        "lower_bound_en = df_imputed_desc.loc['mean', test_feature] - tau * df_imputed_desc.loc['std', test_feature]"
      ],
      "metadata": {
        "id": "HzgcAPk-n8dS"
      },
      "execution_count": null,
      "outputs": []
    },
    {
      "cell_type": "code",
      "source": [
        "print((df_fr_filtered[test_feature] < lower_bound_en).sum())\n",
        "print((df_fr_filtered[test_feature] > upper_bound_en).sum())"
      ],
      "metadata": {
        "id": "Tdoi5VRxoH47"
      },
      "execution_count": null,
      "outputs": []
    },
    {
      "cell_type": "markdown",
      "source": [
        "## Saving"
      ],
      "metadata": {
        "id": "MswOrMf74YRb"
      }
    },
    {
      "cell_type": "code",
      "source": [
        "df_fr_filtered.to_csv('cleaned_dataset.csv')"
      ],
      "metadata": {
        "id": "tiRb8OMc4Z-K"
      },
      "execution_count": null,
      "outputs": []
    }
  ]
}