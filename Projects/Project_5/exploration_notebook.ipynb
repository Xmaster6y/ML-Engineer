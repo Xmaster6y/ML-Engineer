{
 "cells": [
  {
   "cell_type": "markdown",
   "metadata": {
    "id": "PMS5zROvdkX0"
   },
   "source": [
    "# Exploration notebook\n",
    "\n",
    "This notebook aims at first collecting a dataset of StackOverflow questions before doing a first exploratory analysis."
   ]
  },
  {
   "cell_type": "markdown",
   "metadata": {
    "id": "PDnI01DPfMsd"
   },
   "source": [
    "## Imports"
   ]
  },
  {
   "cell_type": "code",
   "execution_count": null,
   "metadata": {
    "colab": {
     "base_uri": "https://localhost:8080/"
    },
    "id": "xz4arjQQXNOj",
    "outputId": "e549446c-9aa4-461e-c478-d27db93cc672"
   },
   "outputs": [],
   "source": [
    "!pip uninstall helpers -y"
   ]
  },
  {
   "cell_type": "code",
   "execution_count": null,
   "metadata": {
    "colab": {
     "base_uri": "https://localhost:8080/"
    },
    "id": "cfzu6fKhm-j2",
    "outputId": "4f09b1fc-e9e8-433c-bf15-fb9f28d28355"
   },
   "outputs": [],
   "source": [
    "!pip install git+https://github.com/Xmaster6y/ML-Engineer@package"
   ]
  },
  {
   "cell_type": "code",
   "execution_count": null,
   "metadata": {
    "colab": {
     "base_uri": "https://localhost:8080/"
    },
    "id": "xxyGcDqNDTcQ",
    "outputId": "3b4a1ea3-178f-4304-c9bc-f37adbf49783"
   },
   "outputs": [],
   "source": [
    "!pip install sentence_transformers"
   ]
  },
  {
   "cell_type": "code",
   "execution_count": null,
   "metadata": {
    "colab": {
     "base_uri": "https://localhost:8080/"
    },
    "id": "vKeLAL_zCHB4",
    "outputId": "f3b0bf2e-85e6-407c-8c26-2edc2795c2e0"
   },
   "outputs": [],
   "source": [
    "!pip install spacy"
   ]
  },
  {
   "cell_type": "code",
   "execution_count": null,
   "metadata": {
    "id": "qXMYER4PfMSI"
   },
   "outputs": [],
   "source": [
    "import os\n",
    "import re\n",
    "import pickle\n",
    "\n",
    "import pandas as pd\n",
    "import numpy as np\n",
    "import spacy\n",
    "import seaborn as sns\n",
    "import matplotlib\n",
    "import matplotlib.pyplot as plt\n",
    "import plotly.express as px\n",
    "from numpy.random import default_rng\n",
    "\n",
    "from bs4 import BeautifulSoup\n",
    "from sklearn.feature_extraction.text import CountVectorizer\n",
    "from wordcloud import WordCloud\n",
    "\n",
    "from sklearn.decomposition import PCA, TruncatedSVD\n",
    "from sklearn.manifold import TSNE\n",
    "\n",
    "from sklearn.preprocessing import MultiLabelBinarizer\n",
    "\n",
    "from sentence_transformers import SentenceTransformer"
   ]
  },
  {
   "cell_type": "code",
   "execution_count": null,
   "metadata": {
    "id": "7TGn0hXBnGVP"
   },
   "outputs": [],
   "source": [
    "import helpers"
   ]
  },
  {
   "cell_type": "code",
   "execution_count": null,
   "metadata": {
    "id": "41KfIcGrDr-Q"
   },
   "outputs": [],
   "source": [
    "spacy.prefer_gpu()\n",
    "nlp = spacy.load(\"en_core_web_sm\")"
   ]
  },
  {
   "cell_type": "markdown",
   "metadata": {
    "id": "J86p6G-sfkpv"
   },
   "source": [
    "## Data loading\n",
    "\n",
    "The dataset was generated using the stackoverflow API.\n",
    "\n",
    "- Dataset `raw_data_50k` :\n",
    "\n",
    "```sql\n",
    "SELECT TOP 50000 Title, Body, Tags, Id, Score, ViewCount, AnswerCount\n",
    "FROM Posts\n",
    "WHERE (\n",
    "  PostTypeId = 1 AND AcceptedAnswerId IS NOT NULL\n",
    "  AND (LEN(Tags) - LEN(REPLACE(Tags, '<','')) >= 4)\n",
    "  ) AND (\n",
    "  Score > 20 AND ViewCount > 1000\n",
    "  )\n",
    "ORDER BY Score DESC\n",
    "```"
   ]
  },
  {
   "cell_type": "code",
   "execution_count": null,
   "metadata": {
    "id": "IOsr_QFaftdx"
   },
   "outputs": [],
   "source": [
    "file_name = \"raw_data_50k.csv\"\n",
    "drive_file_id = \"1F_-hp4ERdnr7GrCAVSDn_M-NWUOCb_be\"\n",
    "if not os.path.exists(file_name):\n",
    "    !wget --load-cookies /tmp/cookies.txt \"https://docs.google.com/uc?export=download&confirm=$(wget --quiet --save-cookies /tmp/cookies.txt --keep-session-cookies --no-check-certificate 'https://docs.google.com/uc?export=download&id=FILEID' -O- | sed -rn 's/.*confirm=([0-9A-Za-z_]+).*/\\1\\n/p')&id=$drive_file_id\" -O $file_name  && rm -rf /tmp/cookies.txt"
   ]
  },
  {
   "cell_type": "code",
   "execution_count": null,
   "metadata": {
    "id": "yQQhUHHfFvht"
   },
   "outputs": [],
   "source": [
    "df_50k = pd.read_csv(file_name)"
   ]
  },
  {
   "cell_type": "code",
   "execution_count": null,
   "metadata": {
    "colab": {
     "base_uri": "https://localhost:8080/"
    },
    "id": "oIDn-thHHeFa",
    "outputId": "ec6ca432-efaa-4e07-eedd-ac83b81b6e43"
   },
   "outputs": [],
   "source": [
    "df_50k.info()"
   ]
  },
  {
   "cell_type": "code",
   "execution_count": null,
   "metadata": {
    "colab": {
     "base_uri": "https://localhost:8080/",
     "height": 206
    },
    "id": "UDkotMIbHj7-",
    "outputId": "1b45c299-a242-42f4-930e-a062bdb9c3c5"
   },
   "outputs": [],
   "source": [
    "df_50k.head()"
   ]
  },
  {
   "cell_type": "markdown",
   "metadata": {
    "id": "JH9-o46vHTy6"
   },
   "source": [
    "## Tags Analysis"
   ]
  },
  {
   "cell_type": "code",
   "execution_count": null,
   "metadata": {
    "id": "QHAU0BDBHWD8"
   },
   "outputs": [],
   "source": [
    "tags_s = df_50k[\"Tags\"].to_list()"
   ]
  },
  {
   "cell_type": "code",
   "execution_count": null,
   "metadata": {
    "id": "TgfvGBGyIJLd"
   },
   "outputs": [],
   "source": [
    "def tag_str_to_list(tag_s:str):\n",
    "    return tag_s[1:-1].split('><')\n",
    "tags_l = list(map(tag_str_to_list, tags_s))"
   ]
  },
  {
   "cell_type": "code",
   "execution_count": null,
   "metadata": {
    "colab": {
     "base_uri": "https://localhost:8080/"
    },
    "id": "sgxpeMAgJ9SE",
    "outputId": "29fe1c8e-6297-4643-dad8-0cb4708b191c"
   },
   "outputs": [],
   "source": [
    "tags_l[:10]"
   ]
  },
  {
   "cell_type": "code",
   "execution_count": null,
   "metadata": {
    "id": "AcX9B1U3KBXA"
   },
   "outputs": [],
   "source": [
    "all_tags = sum(tags_l, start=[])"
   ]
  },
  {
   "cell_type": "code",
   "execution_count": null,
   "metadata": {
    "id": "ZlXiehbNKX77"
   },
   "outputs": [],
   "source": [
    "occ_tags = {}\n",
    "for tag in all_tags:\n",
    "    if tag not in occ_tags:\n",
    "        occ_tags[tag] = 1\n",
    "    else:\n",
    "        occ_tags[tag] += 1\n",
    "N = len(all_tags)\n",
    "freq_tags = {t:o/N for t,o in occ_tags.items()}"
   ]
  },
  {
   "cell_type": "code",
   "execution_count": null,
   "metadata": {
    "colab": {
     "base_uri": "https://localhost:8080/"
    },
    "id": "itTQt0caK9Ci",
    "outputId": "e8d32f8e-1f09-4e78-9838-128b573a6ee3"
   },
   "outputs": [],
   "source": [
    "sorted_tags = sorted([(f,t) for t,f in freq_tags.items()], reverse=True)\n",
    "sorted_tags[:10]"
   ]
  },
  {
   "cell_type": "code",
   "execution_count": null,
   "metadata": {
    "colab": {
     "base_uri": "https://localhost:8080/"
    },
    "id": "zzPt5gK-OUe-",
    "outputId": "817bfa98-a652-4308-b6fb-9e5bacb6614e"
   },
   "outputs": [],
   "source": [
    "len(sorted_tags)"
   ]
  },
  {
   "cell_type": "code",
   "execution_count": null,
   "metadata": {
    "colab": {
     "base_uri": "https://localhost:8080/"
    },
    "id": "PE9005OlOhSC",
    "outputId": "3bc900a4-32f4-4690-f795-ed98ce835439"
   },
   "outputs": [],
   "source": [
    "sorted_tags[40:50]"
   ]
  },
  {
   "cell_type": "code",
   "execution_count": null,
   "metadata": {
    "colab": {
     "base_uri": "https://localhost:8080/"
    },
    "id": "ixn8gpVlPIgg",
    "outputId": "81d69807-1e68-4c77-bb31-c6de205fd1ae"
   },
   "outputs": [],
   "source": [
    "sorted_tags[50:100]"
   ]
  },
  {
   "cell_type": "code",
   "execution_count": null,
   "metadata": {
    "id": "dDnleOv_MVup"
   },
   "outputs": [],
   "source": [
    "_, popular_tags = zip(*sorted_tags[:500])"
   ]
  },
  {
   "cell_type": "code",
   "execution_count": null,
   "metadata": {
    "colab": {
     "base_uri": "https://localhost:8080/"
    },
    "id": "AACiENA-MiS_",
    "outputId": "2988c9d9-e104-4bef-ce7f-2c5ebedd60ce"
   },
   "outputs": [],
   "source": [
    "cleaned_tags_l = [\n",
    "    [t for t in tag_l if t in popular_tags ] for tag_l in tags_l\n",
    "]\n",
    "cleaned_tags_l[:10]"
   ]
  },
  {
   "cell_type": "markdown",
   "metadata": {
    "id": "ufu2ENqWOyzG"
   },
   "source": [
    "## Tags Encoding"
   ]
  },
  {
   "cell_type": "code",
   "execution_count": null,
   "metadata": {
    "colab": {
     "base_uri": "https://localhost:8080/"
    },
    "id": "jM7Xb9WiPBOI",
    "outputId": "1671b556-6fe8-4d56-8b5e-46dbf0f390ea"
   },
   "outputs": [],
   "source": [
    "encoder = MultiLabelBinarizer(classes=popular_tags)\n",
    "encoded_tags = encoder.fit_transform(cleaned_tags_l)\n",
    "encoded_tags.shape"
   ]
  },
  {
   "cell_type": "code",
   "execution_count": null,
   "metadata": {
    "colab": {
     "base_uri": "https://localhost:8080/"
    },
    "id": "tSl2fPxDPmXh",
    "outputId": "45ae52cb-4d59-4d83-b03e-c3553acc2aac"
   },
   "outputs": [],
   "source": [
    "encoded_tags[:10]"
   ]
  },
  {
   "cell_type": "markdown",
   "metadata": {
    "id": "1pJGCRCvyO3G"
   },
   "source": [
    "## Tags correlation"
   ]
  },
  {
   "cell_type": "code",
   "source": [
    "corr = np.corrcoef(encoded_tags, rowvar=False)\n",
    "mask = np.triu(np.ones_like(corr, dtype=bool))"
   ],
   "metadata": {
    "id": "BZUvS16NZvXz"
   },
   "execution_count": null,
   "outputs": []
  },
  {
   "cell_type": "code",
   "source": [
    "sns.heatmap(corr, mask=mask)"
   ],
   "metadata": {
    "colab": {
     "base_uri": "https://localhost:8080/",
     "height": 466
    },
    "id": "SHoNgZ-WaYya",
    "outputId": "b49bd681-6a19-46ef-9fa0-a7b8378d9b09"
   },
   "execution_count": null,
   "outputs": []
  },
  {
   "cell_type": "code",
   "source": [
    "np.triu([[1,2,3],[4,5,6],[7,8,9],[10,11,12]], 0)"
   ],
   "metadata": {
    "colab": {
     "base_uri": "https://localhost:8080/"
    },
    "id": "5CjFN7i0bfp-",
    "outputId": "4187f3a7-6299-4fd1-8ced-a5d6210fa3df"
   },
   "execution_count": null,
   "outputs": []
  },
  {
   "cell_type": "code",
   "source": [
    "len(np.argwhere(corr*(1-mask) > 0.62))"
   ],
   "metadata": {
    "colab": {
     "base_uri": "https://localhost:8080/"
    },
    "id": "J8OCokzFatos",
    "outputId": "65ea2878-0088-4db4-9647-7b836d006ea5"
   },
   "execution_count": null,
   "outputs": []
  },
  {
   "cell_type": "code",
   "source": [
    "len(np.argwhere(corr*(1-mask) < -0.1))"
   ],
   "metadata": {
    "colab": {
     "base_uri": "https://localhost:8080/"
    },
    "id": "sKRr8qiXqpIm",
    "outputId": "2f3e8888-caac-4fc2-e2f3-c6bfb81d75c9"
   },
   "execution_count": null,
   "outputs": []
  },
  {
   "cell_type": "code",
   "source": [
    "indices = np.argwhere((corr*(1-mask) > 0.62) | (corr*(1-mask) < -0.1))\n",
    "corr_tags = []\n",
    "for x, y in indices:\n",
    "    corr_tags.append((\n",
    "        corr[x,y],\n",
    "        popular_tags[x],\n",
    "        popular_tags[y]\n",
    "    ))\n",
    "corr_tags.sort(reverse=True)\n",
    "corr_tags"
   ],
   "metadata": {
    "colab": {
     "base_uri": "https://localhost:8080/"
    },
    "id": "eO76hlnOcq0m",
    "outputId": "af4bf1b6-8f55-4798-9e1a-99866b244b4e"
   },
   "execution_count": null,
   "outputs": []
  },
  {
   "cell_type": "code",
   "source": [
    "fig, ax = plt.subplots()\n",
    "n=12\n",
    "N=1000\n",
    "cmap = plt.get_cmap('plasma_r', N,)\n",
    "norm = matplotlib.colors.Normalize(vmin=-1, vmax=1)\n",
    "\n",
    "\n",
    "for i in range(n//2):\n",
    "    ax.text(0.2, (n-i+0.4)/(n+1), f'{corr_tags[i][0]:.2f}', color='k', verticalalignment ='center', horizontalalignment ='left')\n",
    "    ax.text(0.35, (n-i+0.4)/(n+1), f'{corr_tags[i][1:]}', color=cmap(norm(corr_tags[i][0])), verticalalignment ='center', horizontalalignment ='left',\n",
    "            bbox=dict(facecolor='none', edgecolor=cmap(norm(corr_tags[i][0])), boxstyle='round'))\n",
    "ax.text(0.35, 0.48, '°°°', color='k', verticalalignment ='center', horizontalalignment ='left', fontsize=\"xx-large\")\n",
    "for i in range(n//2, n):\n",
    "    ax.text(0.2, (n-i-0.4)/(n+1), f'{corr_tags[i][0]:.2f}', color='k', verticalalignment ='center', horizontalalignment ='left')\n",
    "    ax.text(0.35, (n-i-0.4)/(n+1), f'{corr_tags[i][1:]}', color=cmap(norm(corr_tags[i][0])), verticalalignment ='center', horizontalalignment ='left',\n",
    "            bbox=dict(facecolor='none', edgecolor=cmap(norm(corr_tags[i][0])), boxstyle='round'))\n",
    "plt.axis('off')\n",
    "\n",
    "\n",
    "sm = plt.cm.ScalarMappable(cmap=cmap, norm=norm)\n",
    "plt.colorbar(sm, location='right')\n",
    "\n",
    "plt.show()"
   ],
   "metadata": {
    "colab": {
     "base_uri": "https://localhost:8080/",
     "height": 475
    },
    "id": "VFGV1leWXC21",
    "outputId": "155adfc4-5428-4c1a-a552-bd7c81202e2c"
   },
   "execution_count": null,
   "outputs": []
  },
  {
   "cell_type": "markdown",
   "metadata": {
    "id": "R_aNEySmGHne"
   },
   "source": [
    "## Raw title embedding"
   ]
  },
  {
   "cell_type": "code",
   "execution_count": null,
   "metadata": {
    "colab": {
     "base_uri": "https://localhost:8080/"
    },
    "id": "7t4GX9IZGJTd",
    "outputId": "1fbf0c24-3773-4891-8831-249b0ef4781b"
   },
   "outputs": [],
   "source": [
    "sentences = [\"This is an example sentence\", \"Each sentence is converted\"]\n",
    "\n",
    "model = SentenceTransformer('sentence-transformers/all-MiniLM-L6-v2')\n",
    "embeddings = model.encode(sentences)\n",
    "embeddings.shape"
   ]
  },
  {
   "cell_type": "code",
   "execution_count": null,
   "metadata": {
    "colab": {
     "base_uri": "https://localhost:8080/"
    },
    "id": "8tE3qUrXGtCY",
    "outputId": "bb304e76-89df-4c5c-8bfb-23a56508d2ee"
   },
   "outputs": [],
   "source": [
    "titles = df_50k[\"Title\"].to_list()\n",
    "titles[:10]"
   ]
  },
  {
   "cell_type": "code",
   "execution_count": null,
   "metadata": {
    "colab": {
     "base_uri": "https://localhost:8080/"
    },
    "id": "5CbW5lV6H3bP",
    "outputId": "ba4ee2ce-c984-4deb-e42a-1e5e023198d9"
   },
   "outputs": [],
   "source": [
    "title_embeddings = model.encode(titles)\n",
    "title_embeddings.shape"
   ]
  },
  {
   "cell_type": "markdown",
   "metadata": {
    "id": "cFgfzxx_GuaW"
   },
   "source": [
    "## Text processing and analysis"
   ]
  },
  {
   "cell_type": "markdown",
   "source": [
    "### Processing"
   ],
   "metadata": {
    "id": "pkU46t43XpEH"
   }
  },
  {
   "cell_type": "code",
   "execution_count": null,
   "metadata": {
    "id": "AFURAEYnKi-5"
   },
   "outputs": [],
   "source": [
    "def extract_text_code(body, max_length=1000):\n",
    "    \"\"\"Extracts the text and code of an html page\n",
    "    \"\"\"\n",
    "    soup_to_txt = lambda s: s.getText()\n",
    "    soup = BeautifulSoup(body)\n",
    "    text_soup_l = soup.find_all(['h1', 'h2', 'h3', 'h4', 'p'])\n",
    "    text_l = list(map(soup_to_txt, text_soup_l))\n",
    "    text = '\\n'.join(text_l).encode('ascii',errors='ignore').decode('ascii')\n",
    "    text_cropped=len(text)>max_length\n",
    "\n",
    "    code_soup_l = soup.find_all('code')\n",
    "    code_l = list(map(soup_to_txt, code_soup_l))\n",
    "    code = '\\n'.join(code_l).encode('ascii',errors='ignore').decode('ascii')\n",
    "    code_cropped=len(code)>max_length\n",
    "    return text[:max_length], text_cropped, code[:max_length], code_cropped"
   ]
  },
  {
   "cell_type": "code",
   "execution_count": null,
   "metadata": {
    "colab": {
     "base_uri": "https://localhost:8080/"
    },
    "id": "wTUMON4gG1hi",
    "outputId": "ace5d131-4ca0-4e0f-fe9f-b764e2ac6955"
   },
   "outputs": [],
   "source": [
    "print(df_50k[\"Body\"][0])"
   ]
  },
  {
   "cell_type": "code",
   "execution_count": null,
   "metadata": {
    "colab": {
     "base_uri": "https://localhost:8080/"
    },
    "id": "GSgWFA3rHwer",
    "outputId": "1fc192d3-e411-4199-d1f7-913630b23fa7"
   },
   "outputs": [],
   "source": [
    "print(extract_text_code(df_50k[\"Body\"][0])[2])"
   ]
  },
  {
   "cell_type": "code",
   "execution_count": null,
   "metadata": {
    "id": "umMTZbGxJxA8"
   },
   "outputs": [],
   "source": [
    "text_codes_l = df_50k[\"Body\"].apply(extract_text_code)"
   ]
  },
  {
   "cell_type": "code",
   "execution_count": null,
   "metadata": {
    "id": "JGx_yKq_MU4c"
   },
   "outputs": [],
   "source": [
    "text_l, text_cropped_l, code_l, code_cropped_l = zip(*text_codes_l)"
   ]
  },
  {
   "cell_type": "code",
   "execution_count": null,
   "metadata": {
    "id": "KNfmxkz0NcNJ"
   },
   "outputs": [],
   "source": [
    "df_final = df_50k\n",
    "df_final = df_final.drop(columns=[\"Body\", \"Id\", \"AcceptedAnswerId\"])\n",
    "df_final[\"BodyText\"]= text_l\n",
    "df_final[\"BodyCode\"]= code_l\n",
    "df_final[\"BodyTextCropped\"]= text_cropped_l\n",
    "df_final[\"BodyCodeCropped\"]= code_cropped_l"
   ]
  },
  {
   "cell_type": "code",
   "source": [
    "df_final.head()"
   ],
   "metadata": {
    "colab": {
     "base_uri": "https://localhost:8080/",
     "height": 293
    },
    "id": "dOkXqs1gtTy9",
    "outputId": "9993b88d-36f2-4600-d372-86872e17f5d8"
   },
   "execution_count": null,
   "outputs": []
  },
  {
   "cell_type": "code",
   "source": [
    "df_final.to_csv(\"df_cleaned.csv\", index=False)"
   ],
   "metadata": {
    "id": "VgbAy2Z8vMf8"
   },
   "execution_count": null,
   "outputs": []
  },
  {
   "cell_type": "markdown",
   "source": [
    "### Vocabulary analysis"
   ],
   "metadata": {
    "id": "ZeBYnvsNXrSX"
   }
  },
  {
   "cell_type": "code",
   "source": [
    "N = 2000\n",
    "rng = default_rng(seed=6)\n",
    "numbers = rng.choice(len(df_final), size=N, replace=False)"
   ],
   "metadata": {
    "id": "MU7XhStLZqQi"
   },
   "execution_count": null,
   "outputs": []
  },
  {
   "cell_type": "code",
   "source": [
    "def lemmatize(text):\n",
    "   doc = nlp(text)\n",
    "   tokens = [token.lemma_ for token in doc if not (token.is_stop or token.is_punct)]\n",
    "   return ' '.join(tokens)"
   ],
   "metadata": {
    "id": "JvCLjM13XviN"
   },
   "execution_count": null,
   "outputs": []
  },
  {
   "cell_type": "code",
   "source": [
    "bow = CountVectorizer(preprocessor = lemmatize)"
   ],
   "metadata": {
    "id": "HRWZiMb5ZNq8"
   },
   "execution_count": null,
   "outputs": []
  },
  {
   "cell_type": "code",
   "source": [
    "bow_title = bow.fit_transform(df_final.loc[numbers,\"Title\"].to_list())\n",
    "bow_title_voc = bow.vocabulary_\n",
    "bow_body_text = bow.fit_transform(df_final.loc[numbers,\"BodyText\"].to_list())\n",
    "bow_body_text_voc = bow.vocabulary_\n",
    "bow_body_code = bow.fit_transform(df_final.loc[numbers,\"BodyCode\"].to_list())\n",
    "bow_body_code_voc = bow.vocabulary_"
   ],
   "metadata": {
    "id": "ZfJXq-CSZfDF"
   },
   "execution_count": null,
   "outputs": []
  },
  {
   "cell_type": "code",
   "source": [
    "print(bow_title.shape)\n",
    "print(bow_body_text.shape)\n",
    "print(bow_body_code.shape)"
   ],
   "metadata": {
    "colab": {
     "base_uri": "https://localhost:8080/"
    },
    "id": "0K8m1unQaa0v",
    "outputId": "0cd1126a-9fc9-4d14-d6c5-274c9423dfe2"
   },
   "execution_count": null,
   "outputs": []
  },
  {
   "cell_type": "code",
   "source": [
    "wordcloud = WordCloud(width= 1000, height = 600, max_words=100,\n",
    "                      random_state=1, background_color='white', colormap='viridis_r',\n",
    "                      collocations=False).generate_from_frequencies(bow_title_voc)\n",
    "plt.figure()\n",
    "plt.imshow(wordcloud)\n",
    "plt.axis(\"off\")\n",
    "plt.show()"
   ],
   "metadata": {
    "colab": {
     "base_uri": "https://localhost:8080/",
     "height": 334
    },
    "id": "diIjtQ9Ze_fB",
    "outputId": "adb14204-4dc2-4847-f3b2-d701dbb086d2"
   },
   "execution_count": null,
   "outputs": []
  },
  {
   "cell_type": "code",
   "source": [
    "wordcloud = WordCloud(width= 1000, height = 600, max_words=100,\n",
    "                      random_state=1, background_color='white', colormap='viridis_r',\n",
    "                      collocations=False).generate_from_frequencies(bow_body_text_voc)\n",
    "plt.figure()\n",
    "plt.imshow(wordcloud)\n",
    "plt.axis(\"off\")\n",
    "plt.show()"
   ],
   "metadata": {
    "colab": {
     "base_uri": "https://localhost:8080/",
     "height": 334
    },
    "id": "UJ1Uky3zingw",
    "outputId": "32d3e438-c0ea-4bc2-cb9f-752faeb153d9"
   },
   "execution_count": null,
   "outputs": []
  },
  {
   "cell_type": "code",
   "source": [
    "wordcloud = WordCloud(width= 1000, height = 600, max_words=100,\n",
    "                      random_state=1, background_color='white', colormap='viridis_r',\n",
    "                      collocations=False).generate_from_frequencies(bow_body_code_voc)\n",
    "plt.figure()\n",
    "plt.imshow(wordcloud)\n",
    "plt.axis(\"off\")\n",
    "plt.show()"
   ],
   "metadata": {
    "colab": {
     "base_uri": "https://localhost:8080/",
     "height": 334
    },
    "id": "Z2vKvlvHiroz",
    "outputId": "66f49a7a-fc78-40b6-fe38-550e2cc85772"
   },
   "execution_count": null,
   "outputs": []
  },
  {
   "cell_type": "markdown",
   "metadata": {
    "id": "n42xQMKKcd77"
   },
   "source": [
    "## Dimension reduction"
   ]
  },
  {
   "cell_type": "code",
   "execution_count": null,
   "metadata": {
    "id": "3A0c7Q8mC-n7"
   },
   "outputs": [],
   "source": [
    "title_embeddings_sub = title_embeddings[numbers]\n",
    "\n",
    "text_embeddings_sub = model.encode(df_final.loc[numbers,\"BodyText\"].to_list())\n",
    "code_embeddings_sub = model.encode(df_final.loc[numbers,\"BodyCode\"].to_list())\n"
   ]
  },
  {
   "cell_type": "code",
   "source": [
    "titlecode_embeddings_sub = model.encode((df_final.loc[numbers,\"Title\"]+\" \"+df_final.loc[numbers,\"BodyCode\"]).to_list())\n",
    "all_embeddings_sub = model.encode((df_final.loc[numbers,\"Title\"]+\" \"+df_final.loc[numbers,\"BodyText\"]+\" \"+df_final.loc[numbers,\"BodyCode\"]).to_list())"
   ],
   "metadata": {
    "id": "45XZrT_zx1j7"
   },
   "execution_count": null,
   "outputs": []
  },
  {
   "cell_type": "code",
   "source": [
    "def to_name(encoded_tag):\n",
    "    for i in range(len(encoded_tag)-1,-1,-1):\n",
    "        if encoded_tag[i]:\n",
    "            return popular_tags[i]\n",
    "    return \"none\"\n",
    "\n",
    "pseudo_labels = list(map(to_name, encoded_tags[numbers,:10]))"
   ],
   "metadata": {
    "id": "rBS3dGRPzngE"
   },
   "execution_count": null,
   "outputs": []
  },
  {
   "cell_type": "markdown",
   "metadata": {
    "id": "gn69ruNMcgjj"
   },
   "source": [
    "### PCA"
   ]
  },
  {
   "cell_type": "code",
   "execution_count": null,
   "metadata": {
    "id": "H13nIXmMO-j1"
   },
   "outputs": [],
   "source": [
    "n_components=title_embeddings_sub.shape[1]\n",
    "title_pca = PCA(n_components=n_components)\n",
    "text_pca = PCA(n_components=n_components)\n",
    "code_pca = PCA(n_components=n_components)\n",
    "titlecode_pca = PCA(n_components=n_components)\n",
    "all_pca = PCA(n_components=n_components)"
   ]
  },
  {
   "cell_type": "code",
   "execution_count": null,
   "metadata": {
    "id": "HCruABRCUFeq"
   },
   "outputs": [],
   "source": [
    "X_title_proj = title_pca.fit_transform(title_embeddings_sub)\n",
    "X_text_proj = text_pca.fit_transform(text_embeddings_sub)\n",
    "X_code_proj = code_pca.fit_transform(code_embeddings_sub)\n",
    "X_titlecode_proj = titlecode_pca.fit_transform(titlecode_embeddings_sub)\n",
    "X_all_proj = all_pca.fit_transform(all_embeddings_sub)"
   ]
  },
  {
   "cell_type": "code",
   "execution_count": null,
   "metadata": {
    "colab": {
     "base_uri": "https://localhost:8080/",
     "height": 472
    },
    "id": "Y1r2JnfGUIOY",
    "outputId": "7cdebd80-f5a2-4138-d800-b300420d3e78"
   },
   "outputs": [],
   "source": [
    "scree = (title_pca.explained_variance_ratio_*100)\n",
    "scree_cum = scree.cumsum()\n",
    "x_list = range(1, n_components+1)\n",
    "plt.bar(x_list, scree)\n",
    "plt.plot(x_list, scree_cum,c=\"red\",marker='o')\n",
    "plt.xlabel(\"Inertia rank\")\n",
    "plt.ylabel(\"Inertia percentage\")\n",
    "plt.title(\"Eigen value cumulative graph\")\n",
    "plt.show(block=False)"
   ]
  },
  {
   "cell_type": "code",
   "source": [
    "scree = (text_pca.explained_variance_ratio_*100)\n",
    "scree_cum = scree.cumsum()\n",
    "x_list = range(1, n_components+1)\n",
    "plt.bar(x_list, scree)\n",
    "plt.plot(x_list, scree_cum,c=\"red\",marker='o')\n",
    "plt.xlabel(\"Inertia rank\")\n",
    "plt.ylabel(\"Inertia percentage\")\n",
    "plt.title(\"Eigen value cumulative graph\")\n",
    "plt.show(block=False)"
   ],
   "metadata": {
    "colab": {
     "base_uri": "https://localhost:8080/",
     "height": 472
    },
    "id": "ZYF1rmelpTbO",
    "outputId": "f6d7d7be-2cd0-4191-b276-6c45d6711dc4"
   },
   "execution_count": null,
   "outputs": []
  },
  {
   "cell_type": "code",
   "source": [
    "scree = (code_pca.explained_variance_ratio_*100)\n",
    "scree_cum = scree.cumsum()\n",
    "x_list = range(1, n_components+1)\n",
    "plt.bar(x_list, scree)\n",
    "plt.plot(x_list, scree_cum,c=\"red\",marker='o')\n",
    "plt.xlabel(\"Inertia rank\")\n",
    "plt.ylabel(\"Inertia percentage\")\n",
    "plt.title(\"Eigen value cumulative graph\")\n",
    "plt.show(block=False)"
   ],
   "metadata": {
    "colab": {
     "base_uri": "https://localhost:8080/",
     "height": 472
    },
    "id": "Fo3OHE7TpVz6",
    "outputId": "0deb1b3f-1a81-4b35-f436-084fec113d97"
   },
   "execution_count": null,
   "outputs": []
  },
  {
   "cell_type": "code",
   "source": [
    "scree = (titlecode_pca.explained_variance_ratio_*100)\n",
    "scree_cum = scree.cumsum()\n",
    "x_list = range(1, n_components+1)\n",
    "plt.bar(x_list, scree)\n",
    "plt.plot(x_list, scree_cum,c=\"red\",marker='o')\n",
    "plt.xlabel(\"Inertia rank\")\n",
    "plt.ylabel(\"Inertia percentage\")\n",
    "plt.title(\"Eigen value cumulative graph\")\n",
    "plt.show(block=False)"
   ],
   "metadata": {
    "colab": {
     "base_uri": "https://localhost:8080/",
     "height": 472
    },
    "id": "JBQb7HOCykaG",
    "outputId": "fedb08c8-85fa-48c0-9309-9832ddd3aa4c"
   },
   "execution_count": null,
   "outputs": []
  },
  {
   "cell_type": "code",
   "source": [
    "scree = (all_pca.explained_variance_ratio_*100)\n",
    "scree_cum = scree.cumsum()\n",
    "x_list = range(1, n_components+1)\n",
    "plt.bar(x_list, scree)\n",
    "plt.plot(x_list, scree_cum,c=\"red\",marker='o')\n",
    "plt.xlabel(\"Inertia rank\")\n",
    "plt.ylabel(\"Inertia percentage\")\n",
    "plt.title(\"Eigen value cumulative graph\")\n",
    "plt.show(block=False)"
   ],
   "metadata": {
    "colab": {
     "base_uri": "https://localhost:8080/",
     "height": 472
    },
    "id": "gDjgP68Nuw9M",
    "outputId": "76a711a8-ddaf-407c-a844-07f00bead84e"
   },
   "execution_count": null,
   "outputs": []
  },
  {
   "cell_type": "code",
   "execution_count": null,
   "metadata": {
    "colab": {
     "base_uri": "https://localhost:8080/",
     "height": 489
    },
    "id": "PomIkD33W3Xl",
    "outputId": "662f8e3d-7386-4b5e-cfe0-8dc49196cc3e"
   },
   "outputs": [],
   "source": [
    "sns.barplot(x=np.arange(n_components),y=code_pca.components_[0,:])\n",
    "ax=plt.gca()\n",
    "ax.set_xticks(np.arange(n_components,step=50))\n",
    "plt.xlabel(\"feature\")\n",
    "plt.ylabel(\"value\")\n",
    "plt.title(\"Component 0 for code embedding\")"
   ]
  },
  {
   "cell_type": "code",
   "execution_count": null,
   "metadata": {
    "colab": {
     "base_uri": "https://localhost:8080/",
     "height": 472
    },
    "id": "uocXDq7JUVoL",
    "outputId": "4701b4c3-a8e3-4dc9-9e2a-c8f67490f6c5"
   },
   "outputs": [],
   "source": [
    "x_y = (0,1)\n",
    "helpers.plot.pca.display_factorial_planes(X_title_proj, x_y, clusters=pseudo_labels)"
   ]
  },
  {
   "cell_type": "code",
   "execution_count": null,
   "metadata": {
    "colab": {
     "base_uri": "https://localhost:8080/",
     "height": 472
    },
    "id": "k0JXfDDEUVuN",
    "outputId": "c957eba4-3306-4e05-c038-da7eb4f54416"
   },
   "outputs": [],
   "source": [
    "x_y = (2,3)\n",
    "helpers.plot.pca.display_factorial_planes(X_title_proj, x_y, clusters=pseudo_labels)"
   ]
  },
  {
   "cell_type": "code",
   "source": [
    "x_y = (1,2)\n",
    "helpers.plot.pca.display_factorial_planes(X_title_proj, x_y, clusters=pseudo_labels)"
   ],
   "metadata": {
    "colab": {
     "base_uri": "https://localhost:8080/",
     "height": 472
    },
    "id": "J7h4UnUzpiUv",
    "outputId": "591e6e7a-9dfc-43b9-c33b-c33ae3dc4eb6"
   },
   "execution_count": null,
   "outputs": []
  },
  {
   "cell_type": "code",
   "source": [
    "x_y = (0,1)\n",
    "helpers.plot.pca.display_factorial_planes(X_text_proj, x_y, clusters=pseudo_labels)"
   ],
   "metadata": {
    "colab": {
     "base_uri": "https://localhost:8080/",
     "height": 472
    },
    "id": "8XmKbBKc0eyK",
    "outputId": "31d919bd-f5c6-4ffc-d078-6bc2c448ce7d"
   },
   "execution_count": null,
   "outputs": []
  },
  {
   "cell_type": "code",
   "source": [
    "x_y = (0,1)\n",
    "helpers.plot.pca.display_factorial_planes(X_code_proj, x_y, clusters=pseudo_labels)"
   ],
   "metadata": {
    "colab": {
     "base_uri": "https://localhost:8080/",
     "height": 472
    },
    "id": "Sq1GjV850hBO",
    "outputId": "d48b1c82-11b1-4014-80a3-9f4d0f23d81b"
   },
   "execution_count": null,
   "outputs": []
  },
  {
   "cell_type": "code",
   "source": [
    "x_y = (2,3)\n",
    "helpers.plot.pca.display_factorial_planes(X_code_proj, x_y, clusters=pseudo_labels)"
   ],
   "metadata": {
    "colab": {
     "base_uri": "https://localhost:8080/",
     "height": 472
    },
    "id": "Cmf1XMtV0uAb",
    "outputId": "5fd47712-6b14-4c59-b346-13e3ea3733f6"
   },
   "execution_count": null,
   "outputs": []
  },
  {
   "cell_type": "code",
   "source": [
    "x_y = (1,2)\n",
    "helpers.plot.pca.display_factorial_planes(X_code_proj, x_y, clusters=pseudo_labels)"
   ],
   "metadata": {
    "colab": {
     "base_uri": "https://localhost:8080/",
     "height": 472
    },
    "id": "CPsefO9H01JY",
    "outputId": "6f0dae4d-23c4-4752-a02b-47693868a2dd"
   },
   "execution_count": null,
   "outputs": []
  },
  {
   "cell_type": "code",
   "source": [
    "x_y = (0,1)\n",
    "helpers.plot.pca.display_factorial_planes(X_all_proj, x_y, clusters=pseudo_labels)"
   ],
   "metadata": {
    "colab": {
     "base_uri": "https://localhost:8080/",
     "height": 472
    },
    "id": "0Y8PSfyTu1EN",
    "outputId": "489946b0-0d8e-4375-f044-0c7d4473de61"
   },
   "execution_count": null,
   "outputs": []
  },
  {
   "cell_type": "code",
   "source": [
    "x_y = (0,1)\n",
    "helpers.plot.pca.display_factorial_planes(X_titlecode_proj, x_y, clusters=pseudo_labels)"
   ],
   "metadata": {
    "colab": {
     "base_uri": "https://localhost:8080/",
     "height": 472
    },
    "id": "J7G03A6XyvEj",
    "outputId": "a1cd1c6c-347b-4438-8085-661c475f54c2"
   },
   "execution_count": null,
   "outputs": []
  },
  {
   "cell_type": "code",
   "source": [
    "x_y = (2,3)\n",
    "helpers.plot.pca.display_factorial_planes(X_titlecode_proj, x_y, clusters=pseudo_labels)"
   ],
   "metadata": {
    "colab": {
     "base_uri": "https://localhost:8080/",
     "height": 472
    },
    "id": "tQWIgeRd0YPA",
    "outputId": "62996ce1-22dc-4a23-e1c4-88ccb00799d7"
   },
   "execution_count": null,
   "outputs": []
  },
  {
   "cell_type": "markdown",
   "metadata": {
    "id": "8imARtaMcivN"
   },
   "source": [
    "### t-SNE"
   ]
  },
  {
   "cell_type": "code",
   "source": [
    "tsne = TSNE(n_components=2, verbose=1, perplexity=40.0, random_state=42)\n",
    "z = tsne.fit_transform(title_embeddings_sub)"
   ],
   "metadata": {
    "colab": {
     "base_uri": "https://localhost:8080/"
    },
    "id": "EPWDZoSI1Wch",
    "outputId": "09b2b246-efab-4332-fb74-de1bf1bbd1c4"
   },
   "execution_count": null,
   "outputs": []
  },
  {
   "cell_type": "code",
   "source": [
    "df = pd.DataFrame()\n",
    "df[\"hue\"] = pseudo_labels\n",
    "df[\"comp-1\"] = z[:,0]\n",
    "df[\"comp-2\"] = z[:,1]\n",
    "\n",
    "sns.scatterplot(x=\"comp-1\", y=\"comp-2\", hue=\"hue\",\n",
    "                palette=sns.color_palette(\"hls\", 11),\n",
    "                data=df).set(title=\"T-SNE projection\")"
   ],
   "metadata": {
    "id": "vEHebeyp1b8f",
    "colab": {
     "base_uri": "https://localhost:8080/",
     "height": 489
    },
    "outputId": "7493a075-10be-49f5-c386-6f1dfd15ced7"
   },
   "execution_count": null,
   "outputs": []
  },
  {
   "cell_type": "code",
   "execution_count": null,
   "metadata": {
    "id": "udY1vbCrEeLS",
    "colab": {
     "base_uri": "https://localhost:8080/"
    },
    "outputId": "01c9cada-78c6-43b4-8d96-b512745c07ce"
   },
   "outputs": [],
   "source": [
    "tsne = TSNE(n_components=2, verbose=1, perplexity=40.0, random_state=42)\n",
    "z = tsne.fit_transform(code_embeddings_sub)"
   ]
  },
  {
   "cell_type": "code",
   "execution_count": null,
   "metadata": {
    "id": "oJcC-WoVEUd4",
    "colab": {
     "base_uri": "https://localhost:8080/",
     "height": 489
    },
    "outputId": "e31a82c9-de9f-4e61-83b9-ba475558258d"
   },
   "outputs": [],
   "source": [
    "df = pd.DataFrame()\n",
    "df[\"hue\"] = pseudo_labels\n",
    "df[\"comp-1\"] = z[:,0]\n",
    "df[\"comp-2\"] = z[:,1]\n",
    "\n",
    "sns.scatterplot(x=\"comp-1\", y=\"comp-2\", hue=\"hue\",\n",
    "                palette=sns.color_palette(\"hls\", 11),\n",
    "                data=df).set(title=\"T-SNE projection\")"
   ]
  },
  {
   "cell_type": "code",
   "source": [
    "tsne = TSNE(n_components=2, verbose=1, perplexity=40.0, random_state=42)\n",
    "z = tsne.fit_transform(all_embeddings_sub)"
   ],
   "metadata": {
    "id": "Ro9YccNdu8cZ",
    "colab": {
     "base_uri": "https://localhost:8080/"
    },
    "outputId": "70c3c143-7e31-4fa0-df4d-e9d781121a27"
   },
   "execution_count": null,
   "outputs": []
  },
  {
   "cell_type": "code",
   "source": [
    "df = pd.DataFrame()\n",
    "df[\"hue\"] = pseudo_labels\n",
    "df[\"comp-1\"] = z[:,0]\n",
    "df[\"comp-2\"] = z[:,1]\n",
    "\n",
    "sns.scatterplot(x=\"comp-1\", y=\"comp-2\", hue=\"hue\",\n",
    "                palette=sns.color_palette(\"hls\", 11),\n",
    "                data=df).set(title=\"T-SNE projection\")"
   ],
   "metadata": {
    "id": "XQa3FcCiu-Du",
    "colab": {
     "base_uri": "https://localhost:8080/",
     "height": 489
    },
    "outputId": "7d371941-2bcd-4d6f-d72a-5173fcad9c84"
   },
   "execution_count": null,
   "outputs": []
  },
  {
   "cell_type": "code",
   "execution_count": null,
   "metadata": {
    "id": "suIZzd7u_gAR",
    "colab": {
     "base_uri": "https://localhost:8080/",
     "height": 1000
    },
    "outputId": "350f8f31-c5cd-4bd9-d5b8-b2895dfc1897"
   },
   "outputs": [],
   "source": [
    "perplexity = np.linspace(5,50,10, dtype=int)\n",
    "divergence = []\n",
    "\n",
    "for i in perplexity:\n",
    "    model = TSNE(n_components=2, init=\"pca\", perplexity=i, verbose=1)\n",
    "    reduced = model.fit_transform(title_embeddings_sub)\n",
    "    divergence.append(model.kl_divergence_)\n",
    "fig = px.line(x=perplexity, y=divergence, markers=True)\n",
    "fig.update_layout(xaxis_title=\"Perplexity Values\", yaxis_title=\"Divergence\")\n",
    "fig.update_traces(line_color=\"red\", line_width=1)\n",
    "fig.show()"
   ]
  },
  {
   "cell_type": "code",
   "execution_count": null,
   "metadata": {
    "id": "HjmKkPv7gk9A",
    "colab": {
     "base_uri": "https://localhost:8080/",
     "height": 449
    },
    "outputId": "247b324e-c599-4ec3-ed36-ded57f2d2c32"
   },
   "outputs": [],
   "source": [
    "plt.plot(perplexity, 2.*np.array(divergence)+np.log(N)*perplexity/N,c=\"red\",marker='o')\n",
    "ymin, ymax = plt.ylim()\n",
    "plt.vlines(40, ymin=ymin, ymax=ymax)\n",
    "plt.ylim(ymin, ymax )\n",
    "plt.xlabel(\"Perplexity\")\n",
    "plt.ylabel(\"S criterion\")\n",
    "plt.show(block=False)"
   ]
  },
  {
   "cell_type": "code",
   "source": [
    "perplexity = np.linspace(5,50,10, dtype=int)\n",
    "divergence = []\n",
    "\n",
    "for i in perplexity:\n",
    "    model = TSNE(n_components=2, init=\"pca\", perplexity=i, verbose=1)\n",
    "    reduced = model.fit_transform(code_embeddings_sub)\n",
    "    divergence.append(model.kl_divergence_)\n",
    "fig = px.line(x=perplexity, y=divergence, markers=True)\n",
    "fig.update_layout(xaxis_title=\"Perplexity Values\", yaxis_title=\"Divergence\")\n",
    "fig.update_traces(line_color=\"red\", line_width=1)\n",
    "fig.show()"
   ],
   "metadata": {
    "id": "npslyBTu6ejf",
    "colab": {
     "base_uri": "https://localhost:8080/",
     "height": 1000
    },
    "outputId": "d951906d-eadc-482a-c0a6-fc8ce8022457"
   },
   "execution_count": null,
   "outputs": []
  },
  {
   "cell_type": "code",
   "source": [
    "plt.plot(perplexity, 2.*np.array(divergence)+np.log(N)*perplexity/N,c=\"red\",marker='o')\n",
    "ymin, ymax = plt.ylim()\n",
    "plt.vlines(40, ymin=ymin, ymax=ymax)\n",
    "plt.ylim(ymin, ymax )\n",
    "plt.xlabel(\"Perplexity\")\n",
    "plt.ylabel(\"S criterion\")\n",
    "plt.show(block=False)"
   ],
   "metadata": {
    "id": "sOnn_kCU6jGb",
    "colab": {
     "base_uri": "https://localhost:8080/",
     "height": 449
    },
    "outputId": "2cf26739-9d76-4881-9105-82c14c0b78b8"
   },
   "execution_count": null,
   "outputs": []
  },
  {
   "cell_type": "code",
   "source": [
    "tsne = TSNE(n_components=2, verbose=1, perplexity=5, random_state=42)\n",
    "z = tsne.fit_transform(code_embeddings_sub)"
   ],
   "metadata": {
    "id": "dIt1vldYN0Bc",
    "colab": {
     "base_uri": "https://localhost:8080/"
    },
    "outputId": "bf7ab808-2e58-4130-ac6f-77b9829cc99c"
   },
   "execution_count": null,
   "outputs": []
  },
  {
   "cell_type": "code",
   "source": [
    "df = pd.DataFrame()\n",
    "df[\"hue\"] = pseudo_labels\n",
    "df[\"comp-1\"] = z[:,0]\n",
    "df[\"comp-2\"] = z[:,1]\n",
    "\n",
    "sns.scatterplot(x=\"comp-1\", y=\"comp-2\", hue=\"hue\",\n",
    "                palette=sns.color_palette(\"hls\", 11),\n",
    "                data=df).set(title=\"T-SNE projection\")"
   ],
   "metadata": {
    "id": "rMAhM1UiNwc8",
    "colab": {
     "base_uri": "https://localhost:8080/",
     "height": 489
    },
    "outputId": "838db084-bd8d-4309-a0fb-b1ba444d5808"
   },
   "execution_count": null,
   "outputs": []
  },
  {
   "cell_type": "code",
   "source": [
    "tsne = TSNE(n_components=2, verbose=1, perplexity=1000, random_state=42)\n",
    "z = tsne.fit_transform(code_embeddings_sub)"
   ],
   "metadata": {
    "id": "vKiENNdvOSZL",
    "colab": {
     "base_uri": "https://localhost:8080/"
    },
    "outputId": "704fc2fb-513b-4195-8c76-0da88919c17c"
   },
   "execution_count": null,
   "outputs": []
  },
  {
   "cell_type": "code",
   "source": [
    "df = pd.DataFrame()\n",
    "df[\"hue\"] = pseudo_labels\n",
    "df[\"comp-1\"] = z[:,0]\n",
    "df[\"comp-2\"] = z[:,1]\n",
    "\n",
    "sns.scatterplot(x=\"comp-1\", y=\"comp-2\", hue=\"hue\",\n",
    "                palette=sns.color_palette(\"hls\", 11),\n",
    "                data=df).set(title=\"T-SNE projection\")"
   ],
   "metadata": {
    "id": "j0iVv22DOYCH",
    "colab": {
     "base_uri": "https://localhost:8080/",
     "height": 489
    },
    "outputId": "d876eb1d-4d86-4f3a-abf8-b1f9a9645959"
   },
   "execution_count": null,
   "outputs": []
  },
  {
   "cell_type": "markdown",
   "metadata": {
    "id": "Wczp9GTtR-57"
   },
   "source": [
    "## Export"
   ]
  },
  {
   "cell_type": "code",
   "execution_count": null,
   "metadata": {
    "id": "Lgo3-k0lSBWR"
   },
   "outputs": [],
   "source": [
    "export_name = \"title_embedding_50k_500t.pkl\""
   ]
  },
  {
   "cell_type": "code",
   "execution_count": null,
   "metadata": {
    "id": "usWW7PWdSPKo"
   },
   "outputs": [],
   "source": [
    "with open(export_name, \"wb\") as f:\n",
    "    pickle.dump((title_embeddings, encoded_tags, popular_tags), f)"
   ]
  }
 ],
 "metadata": {
  "colab": {
   "provenance": []
  },
  "kernelspec": {
   "display_name": "",
   "name": ""
  },
  "language_info": {
   "name": "python"
  }
 },
 "nbformat": 4,
 "nbformat_minor": 0
}
