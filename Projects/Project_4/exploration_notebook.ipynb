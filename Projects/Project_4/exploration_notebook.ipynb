{
 "nbformat": 4,
 "nbformat_minor": 0,
 "metadata": {
  "colab": {
   "provenance": []
  },
  "kernelspec": {
   "name": "",
   "display_name": ""
  },
  "language_info": {
   "name": "python"
  }
 },
 "cells": [
  {
   "cell_type": "markdown",
   "source": [
    "# Exploration notebook\n"
   ],
   "metadata": {
    "id": "PMS5zROvdkX0"
   }
  },
  {
   "cell_type": "markdown",
   "source": [
    "<a name=\"imports\"></a>\n",
    "## Imports"
   ],
   "metadata": {
    "id": "PDnI01DPfMsd"
   }
  },
  {
   "cell_type": "code",
   "source": [
    "!pip uninstall helpers -y"
   ],
   "metadata": {
    "colab": {
     "base_uri": "https://localhost:8080/"
    },
    "id": "xz4arjQQXNOj",
    "outputId": "31181373-2d11-4035-ed41-d200efe1dfdd"
   },
   "execution_count": null,
   "outputs": []
  },
  {
   "cell_type": "code",
   "source": [
    "!pip install git+https://github.com/Xmaster6y/ML-Engineer@develop "
   ],
   "metadata": {
    "colab": {
     "base_uri": "https://localhost:8080/"
    },
    "id": "cfzu6fKhm-j2",
    "outputId": "4f2d5bad-3f35-4ad2-99a8-a01598af6134"
   },
   "execution_count": null,
   "outputs": []
  },
  {
   "cell_type": "code",
   "source": [
    "import os\n",
    "import pandas as pd\n",
    "import numpy as np\n",
    "import missingno as msno\n",
    "\n",
    "import seaborn as sns\n",
    "import matplotlib.pyplot as plt\n",
    "\n",
    "import statsmodels.api as sm\n",
    "from scipy import stats\n",
    "\n",
    "from sklearn.impute import SimpleImputer\n",
    "\n",
    "\n",
    "\n",
    "import os\n",
    "import pandas as pd\n",
    "import numpy as np\n",
    "from numpy.random import default_rng\n",
    "import matplotlib.pyplot as plt\n",
    "import plotly.express as px\n",
    "import seaborn as sns\n",
    "from time import time\n",
    "from copy import deepcopy\n",
    "\n",
    "from sklearn.pipeline import Pipeline\n",
    "from sklearn.compose import ColumnTransformer, TransformedTargetRegressor\n",
    "from sklearn.model_selection import train_test_split\n",
    "from sklearn.model_selection import GridSearchCV, KFold\n",
    "\n",
    "from sklearn.feature_selection import VarianceThreshold\n",
    "from sklearn.feature_selection import SelectPercentile, chi2\n",
    "from sklearn.preprocessing import StandardScaler, OneHotEncoder, RobustScaler, MinMaxScaler\n",
    "from sklearn.impute import KNNImputer\n",
    "\n",
    "from sklearn.dummy import DummyRegressor\n",
    "\n",
    "from sklearn.decomposition import PCA\n",
    "from sklearn.manifold import TSNE\n",
    "\n",
    "from sklearn.cluster import KMeans, DBSCAN, AgglomerativeClustering\n",
    "\n",
    "from yellowbrick.cluster import KElbowVisualizer, SilhouetteVisualizer\n",
    "\n",
    "from sklearn.metrics import r2_score, d2_absolute_error_score"
   ],
   "metadata": {
    "id": "qXMYER4PfMSI"
   },
   "execution_count": null,
   "outputs": []
  },
  {
   "cell_type": "code",
   "source": [
    "import helpers"
   ],
   "metadata": {
    "id": "7TGn0hXBnGVP"
   },
   "execution_count": null,
   "outputs": []
  },
  {
   "cell_type": "markdown",
   "source": [
    "<a name=\"data-loading\"></a>\n",
    "## Data loading"
   ],
   "metadata": {
    "id": "J86p6G-sfkpv"
   }
  },
  {
   "cell_type": "code",
   "source": [
    "file_name = \"olist.zip\"\n",
    "drive_file_id = \"1yuFHvy92dhVZXq-9iLhjhsCHLGJynlI6\"\n",
    "if not os.path.exists(file_name):\n",
    "    !wget --load-cookies /tmp/cookies.txt \"https://docs.google.com/uc?export=download&confirm=$(wget --quiet --save-cookies /tmp/cookies.txt --keep-session-cookies --no-check-certificate 'https://docs.google.com/uc?export=download&id=FILEID' -O- | sed -rn 's/.*confirm=([0-9A-Za-z_]+).*/\\1\\n/p')&id=$drive_file_id\" -O $file_name  && rm -rf /tmp/cookies.txt"
   ],
   "metadata": {
    "id": "IOsr_QFaftdx",
    "colab": {
     "base_uri": "https://localhost:8080/"
    },
    "outputId": "a4b00a8e-f109-46cd-f0df-04d9e1561c92"
   },
   "execution_count": null,
   "outputs": []
  },
  {
   "cell_type": "code",
   "source": [
    "dir_name = \"olist\"\n",
    "if not os.path.exists(dir_name):\n",
    "    !mkdir $dir_name\n",
    "    !unzip olist.zip -d $dir_name"
   ],
   "metadata": {
    "id": "Ayco1xpa8Tq6",
    "colab": {
     "base_uri": "https://localhost:8080/"
    },
    "outputId": "77ce26b0-d8e1-4b6e-e9b7-4cdba6fd0c09"
   },
   "execution_count": null,
   "outputs": []
  },
  {
   "cell_type": "code",
   "source": [
    "df_customers = pd.read_csv(f\"{dir_name}/olist_customers_dataset.csv\")\n",
    "df_geolocation = pd.read_csv(f\"{dir_name}/olist_geolocation_dataset.csv\")\n",
    "df_order_items = pd.read_csv(f\"{dir_name}/olist_order_items_dataset.csv\")\n",
    "df_order_payments = pd.read_csv(f\"{dir_name}/olist_order_payments_dataset.csv\")\n",
    "df_order_reviews = pd.read_csv(f\"{dir_name}/olist_order_reviews_dataset.csv\")\n",
    "df_orders = pd.read_csv(f\"{dir_name}/olist_orders_dataset.csv\")\n",
    "df_products = pd.read_csv(f\"{dir_name}/olist_products_dataset.csv\")\n",
    "df_sellers = pd.read_csv(f\"{dir_name}/olist_sellers_dataset.csv\")\n",
    "df_translation = pd.read_csv(f\"{dir_name}/product_category_name_translation.csv\")\n",
    "\n",
    "dfs = [\n",
    "    df_customers,\n",
    "    df_geolocation,\n",
    "    df_order_items,\n",
    "    df_order_payments,\n",
    "    df_order_reviews,\n",
    "    df_orders,\n",
    "    df_products,\n",
    "    df_sellers,\n",
    "    df_translation,\n",
    "]"
   ],
   "metadata": {
    "id": "G0-Fol3ZhNbf"
   },
   "execution_count": null,
   "outputs": []
  },
  {
   "cell_type": "code",
   "source": [
    "for df in dfs:\n",
    "    print(list(df.columns))"
   ],
   "metadata": {
    "colab": {
     "base_uri": "https://localhost:8080/"
    },
    "id": "4pVYUFSjk_89",
    "outputId": "54815ce2-2cec-47ae-a5d6-bef6884b1d60"
   },
   "execution_count": null,
   "outputs": []
  },
  {
   "cell_type": "markdown",
   "source": [
    "## Tables merge"
   ],
   "metadata": {
    "id": "V0mE_ZL4URTO"
   }
  },
  {
   "cell_type": "markdown",
   "source": [
    "Target dataset:\n",
    "\n",
    "```python\n",
    "[\n",
    "    'customer_unique_id',\n",
    "    'customer_city',\n",
    "    'number_of_orders',\n",
    "    'total_amount_spent',\n",
    "    'mean_amount_spent',\n",
    "    'mean_review_score',\n",
    "    'order_purchase_timestamp',\n",
    "    'order_delivery_date_diff',\n",
    "]\n",
    "```"
   ],
   "metadata": {
    "id": "XVfSxo-F3IIj"
   }
  },
  {
   "cell_type": "code",
   "source": [
    "for df in dfs:\n",
    "    id_cols = [col for col in df.columns if col.endswith(\"_id\")]\n",
    "    print(f\"{id_cols} - {df.shape}\")"
   ],
   "metadata": {
    "id": "OXWKSzOqb1UX",
    "colab": {
     "base_uri": "https://localhost:8080/"
    },
    "outputId": "f9d962f3-dcba-4115-9479-a24b417ed166"
   },
   "execution_count": null,
   "outputs": []
  },
  {
   "cell_type": "code",
   "source": [
    "df_customers = df_customers.drop(columns=['customer_zip_code_prefix', 'customer_state'])\n",
    "df_order_items = df_order_items.drop(columns=['product_id', 'seller_id', 'shipping_limit_date', 'price', 'freight_value'])\n",
    "df_order_payments = df_order_payments.drop(columns=['payment_sequential', 'payment_type', 'payment_installments'])\n",
    "df_order_reviews = df_order_reviews.drop(columns=['review_comment_title', 'review_comment_message', 'review_creation_date', 'review_answer_timestamp'])\n",
    "df_orders = df_orders.drop(columns=['order_approved_at', 'order_delivered_carrier_date'])"
   ],
   "metadata": {
    "id": "Zp5TEZS99wVz"
   },
   "execution_count": null,
   "outputs": []
  },
  {
   "cell_type": "code",
   "source": [
    "target_dfs = [\n",
    "    df_customers,\n",
    "    df_order_items,\n",
    "    df_order_payments,\n",
    "    df_order_reviews,\n",
    "    df_orders,\n",
    "]\n",
    "for df in target_dfs:\n",
    "    id_cols = [col for col in df.columns if col.endswith(\"_id\")]\n",
    "    other_cols = [col for col in df.columns if not col.endswith(\"_id\")]\n",
    "    print(f\"{df.shape} - {id_cols} - {other_cols}\")"
   ],
   "metadata": {
    "colab": {
     "base_uri": "https://localhost:8080/"
    },
    "id": "TD8ML_GJ-FDy",
    "outputId": "829d9fa0-d587-45db-a4be-8695e9b62d43"
   },
   "execution_count": null,
   "outputs": []
  },
  {
   "cell_type": "code",
   "source": [
    "df_order_items = df_order_items.groupby(['order_id'])['order_item_id'].count().reset_index(name='n_items')\n",
    "df_order_amounts = df_order_payments.groupby(['order_id'])['payment_value'].sum().reset_index(name='order_amount')\n",
    "df_order_mean_reviews = df_order_reviews.groupby(['order_id'])['review_score'].mean().reset_index(name='mean_review_score')\n",
    "df_order_min_reviews = df_order_reviews.groupby(['order_id'])['review_score'].min().reset_index(name='min_review_score')"
   ],
   "metadata": {
    "id": "S0KIAR5qIlpq"
   },
   "execution_count": null,
   "outputs": []
  },
  {
   "cell_type": "code",
   "source": [
    "first_order = min(pd.to_datetime(df_orders['order_purchase_timestamp'], format='%Y-%m-%d %H:%M:%S'))"
   ],
   "metadata": {
    "id": "tSkKwwQqqFHl"
   },
   "execution_count": null,
   "outputs": []
  },
  {
   "cell_type": "code",
   "source": [
    "df_orders['order_delivery_delay'] =  (\n",
    "    pd.to_datetime(df_orders['order_delivered_customer_date'], format='%Y-%m-%d %H:%M:%S') -  pd.to_datetime(df_orders['order_estimated_delivery_date'], format='%Y-%m-%d %H:%M:%S')\n",
    ").round('1d').dt.days\n",
    "df_orders['order_purchase_timestamp'] =  (\n",
    "    pd.to_datetime(df_orders['order_purchase_timestamp'], format='%Y-%m-%d %H:%M:%S') - first_order\n",
    ").round('1d').dt.days"
   ],
   "metadata": {
    "id": "GvVGrwkO9kSG"
   },
   "execution_count": null,
   "outputs": []
  },
  {
   "cell_type": "code",
   "source": [
    "df_orders_merged = df_orders.join(df_order_amounts.set_index('order_id'), on='order_id', validate='1:1')\n",
    "df_orders_merged = df_orders_merged.join(df_order_items.set_index('order_id'), on='order_id', validate='1:1')\n",
    "df_orders_merged = df_orders_merged.join(df_order_mean_reviews.set_index('order_id'), on='order_id', validate='1:1')\n",
    "df_orders_merged = df_orders_merged.join(df_order_min_reviews.set_index('order_id'), on='order_id', validate='1:1')\n",
    "df_orders_merged = df_orders_merged.join(df_customers.set_index('customer_id'), on='customer_id', validate='1:1').drop(columns=['customer_id'])"
   ],
   "metadata": {
    "id": "hJYBXXxkKLqg"
   },
   "execution_count": null,
   "outputs": []
  },
  {
   "cell_type": "code",
   "source": [
    "id_cols = [col for col in df_orders_merged.columns if col.endswith(\"_id\")]\n",
    "other_cols = [col for col in df_orders_merged.columns if not col.endswith(\"_id\")]\n",
    "print(f\"{df_orders_merged.shape} - {id_cols} - {other_cols}\")"
   ],
   "metadata": {
    "colab": {
     "base_uri": "https://localhost:8080/"
    },
    "id": "OEpxdETqKs6U",
    "outputId": "e4f8917e-389e-4f67-fa22-c68ae1675de7"
   },
   "execution_count": null,
   "outputs": []
  },
  {
   "cell_type": "code",
   "source": [
    "(df_orders_merged['order_status'] == 'delivered').sum()"
   ],
   "metadata": {
    "colab": {
     "base_uri": "https://localhost:8080/"
    },
    "id": "EZgUJkxBuFcb",
    "outputId": "ad832077-0b07-4c37-fd3b-6131afad4fc5"
   },
   "execution_count": null,
   "outputs": []
  },
  {
   "cell_type": "code",
   "source": [
    "df_orders_merged = df_orders_merged[df_orders_merged['order_status'] == 'delivered']"
   ],
   "metadata": {
    "id": "EEuqupjIt2Pr"
   },
   "execution_count": null,
   "outputs": []
  },
  {
   "cell_type": "markdown",
   "source": [
    "### Full agg"
   ],
   "metadata": {
    "id": "cNS5ARAr-D2J"
   }
  },
  {
   "cell_type": "code",
   "source": [
    "df_agg = df_orders_merged.groupby(['customer_unique_id']).agg(\n",
    "    {\n",
    "        'order_purchase_timestamp':['max'],\n",
    "        'order_id':'count',\n",
    "        'order_amount':['mean'],\n",
    "        'n_items':'mean',\n",
    "        'order_delivery_delay':'max',\n",
    "        'mean_review_score': 'mean',\n",
    "        'min_review_score': 'min',\n",
    "        'customer_city': 'last',\n",
    "    }\n",
    ")\n",
    "df_agg.columns = df_agg.columns.map('_'.join)\n",
    "df_agg = df_agg.reset_index(drop=True)"
   ],
   "metadata": {
    "id": "OfQul7Bj5y_w"
   },
   "execution_count": null,
   "outputs": []
  },
  {
   "cell_type": "code",
   "source": [
    "df_merged = df_agg.rename(columns={\n",
    "    'order_purchase_timestamp_max': 'recency',\n",
    "    'order_id_count': 'frequency',\n",
    "    'order_amount_mean': 'amount',\n",
    "    'n_items_mean': 'quantity',\n",
    "    'order_delivery_delay_max': 'delay',\n",
    "    'mean_review_score_mean': 'mean_satisfaction',\n",
    "    'min_review_score_min': 'least_satisfaction',\n",
    "    'customer_city_last': 'localisation',\n",
    "    \n",
    "})"
   ],
   "metadata": {
    "id": "va8ubl4BBsS-"
   },
   "execution_count": null,
   "outputs": []
  },
  {
   "cell_type": "code",
   "source": [
    "df_merged.head()"
   ],
   "metadata": {
    "colab": {
     "base_uri": "https://localhost:8080/",
     "height": 206
    },
    "id": "zYPjEjwk799a",
    "outputId": "ee141432-1236-4968-fedb-6e84b3bde6d2"
   },
   "execution_count": null,
   "outputs": []
  },
  {
   "cell_type": "markdown",
   "source": [
    "<a name=\"missing-values\"></a>\n",
    "## Missing values"
   ],
   "metadata": {
    "id": "TO1PQzqhhrLG"
   }
  },
  {
   "cell_type": "markdown",
   "source": [
    "<a name=\"quantification\"></a>\n",
    "### Quantification "
   ],
   "metadata": {
    "id": "pvV6Oho_pdys"
   }
  },
  {
   "cell_type": "code",
   "source": [
    "df_merged.isna().sum()"
   ],
   "metadata": {
    "colab": {
     "base_uri": "https://localhost:8080/"
    },
    "id": "LGV05ezcFKhX",
    "outputId": "1cb5923f-31e8-4e0b-884b-cbcdcacac733"
   },
   "execution_count": null,
   "outputs": []
  },
  {
   "cell_type": "markdown",
   "source": [
    "<a name=\"imputation\"></a>\n",
    "### Imputation"
   ],
   "metadata": {
    "id": "BGz-XYmipmH_"
   }
  },
  {
   "cell_type": "code",
   "source": [
    "df_merged.info()"
   ],
   "metadata": {
    "colab": {
     "base_uri": "https://localhost:8080/"
    },
    "id": "RNfWkHDxHAuH",
    "outputId": "33c229c9-7ad3-44ef-a326-79d7367ebd09"
   },
   "execution_count": null,
   "outputs": []
  },
  {
   "cell_type": "code",
   "source": [
    "print(df_orders[df_orders['order_status'] == 'delivered'].info())\n",
    "df_orders[(df_orders['order_status'] == 'delivered')&(df_orders['order_delivered_customer_date'].isna())]"
   ],
   "metadata": {
    "colab": {
     "base_uri": "https://localhost:8080/",
     "height": 586
    },
    "id": "0Du-dnNXyirZ",
    "outputId": "4a8fba44-274c-4d50-8e83-0cc8e1b578c1"
   },
   "execution_count": null,
   "outputs": []
  },
  {
   "cell_type": "code",
   "source": [
    "medians = df_merged.median(numeric_only=True)\n",
    "list(medians.items())"
   ],
   "metadata": {
    "colab": {
     "base_uri": "https://localhost:8080/"
    },
    "id": "DRvZq_NU4gAd",
    "outputId": "4ce978ed-fe1e-42f6-a908-a25e58b8cef4"
   },
   "execution_count": null,
   "outputs": []
  },
  {
   "cell_type": "code",
   "source": [
    "for col, median in medians.items():\n",
    "    df_merged.loc[df_merged[col].isna(), col] = median"
   ],
   "metadata": {
    "id": "XjQrRqmDMDgQ"
   },
   "execution_count": null,
   "outputs": []
  },
  {
   "cell_type": "code",
   "source": [
    "df_merged.info()"
   ],
   "metadata": {
    "colab": {
     "base_uri": "https://localhost:8080/"
    },
    "id": "HF8qEbm8LqDv",
    "outputId": "7cbb48e7-cbd5-4d69-ba87-db676d7ed417"
   },
   "execution_count": null,
   "outputs": []
  },
  {
   "cell_type": "markdown",
   "source": [
    "<a name=\"distributions\"></a>\n",
    "## Distributions"
   ],
   "metadata": {
    "id": "zzH-qIwfqh6N"
   }
  },
  {
   "cell_type": "markdown",
   "source": [
    "<a name=\"numerical-features\"></a>\n",
    "### Numerical features"
   ],
   "metadata": {
    "id": "SFm8hvZbrM_X"
   }
  },
  {
   "cell_type": "code",
   "source": [
    "sns.pairplot(df_merged.sample(frac=0.1), corner=True)"
   ],
   "metadata": {
    "colab": {
     "base_uri": "https://localhost:8080/",
     "height": 1000
    },
    "id": "pFO4frVD5jB5",
    "outputId": "bdb1012e-1088-4068-e40c-f50706b30687"
   },
   "execution_count": null,
   "outputs": []
  },
  {
   "cell_type": "code",
   "source": [
    "df_cust_filtered = df_merged.loc[df_merged['frequency']>1, 'frequency']\n",
    "df_cust_filtered.head()"
   ],
   "metadata": {
    "colab": {
     "base_uri": "https://localhost:8080/"
    },
    "id": "Nkp74co3yCH4",
    "outputId": "9c7cec4c-1581-4f4c-b63c-214796e249a3"
   },
   "execution_count": null,
   "outputs": []
  },
  {
   "cell_type": "code",
   "source": [
    "n_min, n_max = df_cust_filtered.min(), df_cust_filtered.max()\n",
    "df_cust_filtered.hist(bins=np.arange(n_min, n_max+1)-0.5)"
   ],
   "metadata": {
    "colab": {
     "base_uri": "https://localhost:8080/",
     "height": 503
    },
    "id": "4WkNhSObydO5",
    "outputId": "babb0cc7-5da4-4dd5-ee40-462328d263fe"
   },
   "execution_count": null,
   "outputs": []
  },
  {
   "cell_type": "code",
   "source": [
    "sns.displot(x=df_cust_filtered, kind=\"kde\", log_scale=False)"
   ],
   "metadata": {
    "colab": {
     "base_uri": "https://localhost:8080/",
     "height": 519
    },
    "id": "K-vk4uMY7Y9x",
    "outputId": "2dcd1632-c3aa-490a-e56a-d834dd0c5da9"
   },
   "execution_count": null,
   "outputs": []
  },
  {
   "cell_type": "code",
   "source": [
    "sns.displot(x=df_merged.loc[df_merged[\"amount\"]>0,\"amount\"], kind=\"kde\", log_scale=True)"
   ],
   "metadata": {
    "colab": {
     "base_uri": "https://localhost:8080/",
     "height": 520
    },
    "id": "R_nEQfE0501f",
    "outputId": "ca10d3f5-7984-4215-a465-9310ad4d602c"
   },
   "execution_count": null,
   "outputs": []
  },
  {
   "cell_type": "code",
   "source": [
    "sns.displot(x=df_merged[\"recency\"], kind=\"kde\", log_scale=False)"
   ],
   "metadata": {
    "colab": {
     "base_uri": "https://localhost:8080/",
     "height": 519
    },
    "id": "vXAWFD006P6Y",
    "outputId": "91e99d05-23af-44fa-cda3-0e73c6fd846a"
   },
   "execution_count": null,
   "outputs": []
  },
  {
   "cell_type": "code",
   "source": [
    "sns.displot(x=df_merged[\"least_satisfaction\"], kind=\"kde\", log_scale=False)"
   ],
   "metadata": {
    "colab": {
     "base_uri": "https://localhost:8080/",
     "height": 519
    },
    "id": "Yvnk4reJ6Xf4",
    "outputId": "bddf8265-efeb-4945-a5ca-efaf3fd137e6"
   },
   "execution_count": null,
   "outputs": []
  },
  {
   "cell_type": "code",
   "source": [
    "n_min, n_max = 1, 5\n",
    "df_merged[\"least_satisfaction\"].hist(bins=np.arange(n_min, n_max+1)-0.5)"
   ],
   "metadata": {
    "colab": {
     "base_uri": "https://localhost:8080/",
     "height": 503
    },
    "id": "Gi99rTe17LuD",
    "outputId": "31d0e9ea-5bf7-409f-e885-c2e1c2d2eb23"
   },
   "execution_count": null,
   "outputs": []
  },
  {
   "cell_type": "markdown",
   "source": [
    "<a name=\"categorical-features\"></a>\n",
    "### Categorical features"
   ],
   "metadata": {
    "id": "oKSI_alG1Dkj"
   }
  },
  {
   "cell_type": "code",
   "source": [
    "df_merged['localisation'].value_counts()"
   ],
   "metadata": {
    "colab": {
     "base_uri": "https://localhost:8080/"
    },
    "id": "5RoggTK70s7w",
    "outputId": "001decc2-0811-493d-fcbd-ba67b202cc6f"
   },
   "execution_count": null,
   "outputs": []
  },
  {
   "cell_type": "code",
   "source": [
    "df_grp = df_merged.groupby('localisation').size()\n",
    "per_lim_1 = 0.0005\n",
    "to_map_1 = df_grp[df_grp < per_lim_1*len(df_merged)].index\n",
    "\n",
    "per_lim_2 = 0.005\n",
    "to_map_2 = df_grp[(df_grp >= per_lim_1*len(df_merged)) & (df_grp < per_lim_2*len(df_merged))].index\n",
    "\n",
    "per_lim_3 = 0.02\n",
    "to_map_3 = df_grp[(df_grp >= per_lim_2*len(df_merged)) & (df_grp < per_lim_3*len(df_merged))].index\n",
    "\n",
    "to_not_map = df_grp[df_grp >= per_lim_3*len(df_merged)].index\n",
    "\n",
    "mapping = {k:\"dispatched_market\" for k in to_map_1}\n",
    "mapping.update({k:\"small_market\" for k in to_map_2})\n",
    "mapping.update({k:\"medium_market\" for k in to_map_3})\n",
    "mapping.update({k:k for k in to_not_map})\n",
    "df_merged['localisation']=df_merged['localisation'].apply(lambda c: mapping[c])"
   ],
   "metadata": {
    "id": "80rZqCOnUYXh"
   },
   "execution_count": null,
   "outputs": []
  },
  {
   "cell_type": "code",
   "source": [
    "df_grp = df_merged.groupby('localisation').size()\n",
    "df_grp.plot(kind='pie', autopct='%.2f', ylabel=\"\")"
   ],
   "metadata": {
    "colab": {
     "base_uri": "https://localhost:8080/",
     "height": 479
    },
    "id": "R--kkLYUUdPd",
    "outputId": "6d3148e2-97aa-47b1-af78-1a0430d5e36f"
   },
   "execution_count": null,
   "outputs": []
  },
  {
   "cell_type": "markdown",
   "source": [
    "<a name=\"correlations\"></a>\n",
    "## Correlations"
   ],
   "metadata": {
    "id": "IN2DdzCZqmtj"
   }
  },
  {
   "cell_type": "code",
   "source": [
    "num_cols = [\n",
    "    \"recency\",\n",
    "    \"frequency\", \t\n",
    "    \"amount\",\t\n",
    "    \"quantity\", \t\n",
    "    \"delay\", \t\n",
    "    \"mean_satisfaction\", \t\n",
    "    \"least_satisfaction\",\t\n",
    "]\n",
    "\n",
    "\n",
    "corr = df_merged[num_cols].corr()\n",
    "\n",
    "# Generate a mask for the upper triangle\n",
    "mask = np.triu(np.ones_like(corr, dtype=bool))\n",
    "# Set up the matplotlib figure\n",
    "f, ax = plt.subplots(figsize=(11, 9))\n",
    "# Generate a custom diverging colormap\n",
    "cmap = sns.diverging_palette(230, 20, as_cmap=True).reversed()\n",
    "print(cmap)\n",
    "# Draw the heatmap with the mask and correct aspect ratio\n",
    "sns.heatmap(corr, mask=mask, cmap=cmap, vmax=1, vmin=-1, center=0,\n",
    "            square=True, linewidths=.5, cbar_kws={\"shrink\": .5})"
   ],
   "metadata": {
    "colab": {
     "base_uri": "https://localhost:8080/",
     "height": 878
    },
    "id": "AMUAMAzT5t7f",
    "outputId": "fd3b1132-abb5-4e49-afbf-04768245a91a"
   },
   "execution_count": null,
   "outputs": []
  },
  {
   "cell_type": "markdown",
   "source": [
    "## Dimension reduction"
   ],
   "metadata": {
    "id": "n42xQMKKcd77"
   }
  },
  {
   "cell_type": "code",
   "source": [
    "cat_cols = [\n",
    "    \"localisation\",\n",
    "    ]\n",
    "\n",
    "cols = cat_cols + num_cols"
   ],
   "metadata": {
    "id": "yyhDl4noC5Yo"
   },
   "execution_count": null,
   "outputs": []
  },
  {
   "cell_type": "code",
   "source": [
    "num_tr = Pipeline([\n",
    "    #(\"imputer\", KNNImputer()),\n",
    "    (\"scaler\", StandardScaler())\n",
    "    ])\n",
    "cat_tr = Pipeline([\n",
    "    (\"encoder\", OneHotEncoder(handle_unknown=\"ignore\", sparse_output=False)),\n",
    "    ])\n",
    "col_prep_v1 = ColumnTransformer([\n",
    "    (\"num\", num_tr, num_cols),\n",
    "    (\"cat\", cat_tr, cat_cols),\n",
    "    ])"
   ],
   "metadata": {
    "id": "eo-qIPPcC2By"
   },
   "execution_count": null,
   "outputs": []
  },
  {
   "cell_type": "code",
   "source": [
    "X_seg = col_prep_v1.fit_transform(df_merged)\n",
    "X_seg.shape"
   ],
   "metadata": {
    "colab": {
     "base_uri": "https://localhost:8080/"
    },
    "id": "EHLm0mTMC8-A",
    "outputId": "44755e9b-1dcf-4ff6-8375-457e7bde6006"
   },
   "execution_count": null,
   "outputs": []
  },
  {
   "cell_type": "code",
   "source": [
    "N = 8000\n",
    "rng = default_rng(seed=42)\n",
    "numbers = rng.choice(X_seg.shape[0], size=N, replace=False)\n",
    "X_seg_sub = X_seg[numbers]"
   ],
   "metadata": {
    "id": "3A0c7Q8mC-n7"
   },
   "execution_count": null,
   "outputs": []
  },
  {
   "cell_type": "markdown",
   "source": [
    "### PCA"
   ],
   "metadata": {
    "id": "gn69ruNMcgjj"
   }
  },
  {
   "cell_type": "code",
   "source": [
    "n_components=X_seg.shape[1]\n",
    "pca = PCA(n_components=n_components)"
   ],
   "metadata": {
    "id": "H13nIXmMO-j1"
   },
   "execution_count": null,
   "outputs": []
  },
  {
   "cell_type": "code",
   "source": [
    "X_proj = pca.fit_transform(X_seg)"
   ],
   "metadata": {
    "id": "HCruABRCUFeq"
   },
   "execution_count": null,
   "outputs": []
  },
  {
   "cell_type": "code",
   "source": [
    "scree = (pca.explained_variance_ratio_*100)\n",
    "scree_cum = scree.cumsum()\n",
    "x_list = range(1, n_components+1)\n",
    "plt.bar(x_list, scree)\n",
    "plt.plot(x_list, scree_cum,c=\"red\",marker='o')\n",
    "plt.xlabel(\"Inertia rank\")\n",
    "plt.ylabel(\"Inertia percentage\")\n",
    "plt.title(\"Eigen value cumulative graph\")\n",
    "plt.show(block=False)"
   ],
   "metadata": {
    "id": "Y1r2JnfGUIOY",
    "colab": {
     "base_uri": "https://localhost:8080/",
     "height": 524
    },
    "outputId": "956abbc9-5fe8-474c-962b-0672d2d836fd"
   },
   "execution_count": null,
   "outputs": []
  },
  {
   "cell_type": "code",
   "source": [
    "df_ = pd.DataFrame(pca.components_.T)\n",
    "sns.heatmap(df_.round(1))"
   ],
   "metadata": {
    "colab": {
     "base_uri": "https://localhost:8080/",
     "height": 503
    },
    "id": "PomIkD33W3Xl",
    "outputId": "124e0802-0118-47d9-b323-573b6729223d"
   },
   "execution_count": null,
   "outputs": []
  },
  {
   "cell_type": "code",
   "source": [
    "N = 1000\n",
    "rng = default_rng(seed=42)\n",
    "numbers_2 = rng.choice(X_proj.shape[0], size=N, replace=False)\n",
    "x_y = (0,1)\n",
    "helpers.plot.pca.display_factorial_planes(X_proj[numbers_2], x_y, clusters=df_merged.loc[numbers_2,'localisation'])"
   ],
   "metadata": {
    "id": "uocXDq7JUVoL",
    "colab": {
     "base_uri": "https://localhost:8080/",
     "height": 716
    },
    "outputId": "4709a2b3-c9fb-48df-948b-d477b7b37bf2"
   },
   "execution_count": null,
   "outputs": []
  },
  {
   "cell_type": "code",
   "source": [
    "x_y = (2,3)\n",
    "helpers.plot.pca.display_factorial_planes(X_proj[numbers], x_y, clusters=df_merged.loc[numbers,'localisation'])"
   ],
   "metadata": {
    "id": "k0JXfDDEUVuN",
    "colab": {
     "base_uri": "https://localhost:8080/",
     "height": 716
    },
    "outputId": "05743f82-59e2-42ef-feb8-aebd270767b9"
   },
   "execution_count": null,
   "outputs": []
  },
  {
   "cell_type": "code",
   "source": [
    "prep_v1 = Pipeline([\n",
    "    ('col_prep', col_prep_v1),\n",
    "    ('pca', PCA(n_components=5))\n",
    "])\n",
    "prep_v1"
   ],
   "metadata": {
    "colab": {
     "base_uri": "https://localhost:8080/",
     "height": 193
    },
    "id": "uDPvFZdVEY_8",
    "outputId": "0bd0dcb6-ac8b-4a49-dce7-76bddf453404"
   },
   "execution_count": null,
   "outputs": []
  },
  {
   "cell_type": "markdown",
   "source": [
    "### t-SNE"
   ],
   "metadata": {
    "id": "8imARtaMcivN"
   }
  },
  {
   "cell_type": "code",
   "source": [
    "tsne = TSNE(n_components=2, verbose=1, perplexity=32.0, random_state=123)\n",
    "z = tsne.fit_transform(X_seg_sub) "
   ],
   "metadata": {
    "colab": {
     "base_uri": "https://localhost:8080/"
    },
    "id": "udY1vbCrEeLS",
    "outputId": "115d6b6f-9e0b-4f3d-c7b1-39a1a60f472b"
   },
   "execution_count": null,
   "outputs": []
  },
  {
   "cell_type": "code",
   "source": [
    "df = pd.DataFrame()\n",
    "df[\"hue\"] = df_merged.loc[numbers,'localisation'].to_list()\n",
    "df[\"comp-1\"] = z[:,0]\n",
    "df[\"comp-2\"] = z[:,1]\n",
    "\n",
    "sns.scatterplot(x=\"comp-1\", y=\"comp-2\", hue=\"hue\",\n",
    "                palette=sns.color_palette(\"hls\", 7),\n",
    "                data=df).set(title=\"T-SNE projection\")"
   ],
   "metadata": {
    "colab": {
     "base_uri": "https://localhost:8080/",
     "height": 543
    },
    "id": "oJcC-WoVEUd4",
    "outputId": "98f2f4b1-e6bc-4a40-d5aa-6dd8cfd530ed"
   },
   "execution_count": null,
   "outputs": []
  },
  {
   "cell_type": "code",
   "source": [
    "perplexity = np.arange(5, 55, 3)\n",
    "divergence = []\n",
    "\n",
    "for i in perplexity:\n",
    "    model = TSNE(n_components=2, init=\"pca\", perplexity=i, verbose=1)\n",
    "    reduced = model.fit_transform(X_seg_sub)\n",
    "    divergence.append(model.kl_divergence_)\n",
    "fig = px.line(x=perplexity, y=divergence, markers=True)\n",
    "fig.update_layout(xaxis_title=\"Perplexity Values\", yaxis_title=\"Divergence\")\n",
    "fig.update_traces(line_color=\"red\", line_width=1)\n",
    "fig.show()"
   ],
   "metadata": {
    "colab": {
     "base_uri": "https://localhost:8080/",
     "height": 1000
    },
    "id": "suIZzd7u_gAR",
    "outputId": "f580a115-ffbb-41c7-976a-e012f154085b"
   },
   "execution_count": null,
   "outputs": []
  },
  {
   "cell_type": "code",
   "source": [
    "plt.plot(perplexity, 2.*np.array(divergence)+np.log(N)*perplexity/N,c=\"red\",marker='o')\n",
    "ymin, ymax = plt.ylim()\n",
    "plt.vlines(32, ymin=ymin, ymax=ymax)\n",
    "plt.ylim(ymin, ymax )\n",
    "plt.xlabel(\"Perplexity\")\n",
    "plt.ylabel(\"S criterion\")\n",
    "plt.show(block=False)"
   ],
   "metadata": {
    "colab": {
     "base_uri": "https://localhost:8080/",
     "height": 503
    },
    "id": "HjmKkPv7gk9A",
    "outputId": "90c7a4a0-6818-4b04-8342-9ff53010e84f"
   },
   "execution_count": null,
   "outputs": []
  },
  {
   "cell_type": "markdown",
   "source": [
    "<a name=\"exports\"></a>\n",
    "## Exports"
   ],
   "metadata": {
    "id": "qntNxs-65EWM"
   }
  },
  {
   "cell_type": "code",
   "source": [
    "df_merged.to_csv(\"data_cleaned.csv\", index=False)"
   ],
   "metadata": {
    "id": "gEqseXkPN4uV"
   },
   "execution_count": null,
   "outputs": []
  },
  {
   "cell_type": "markdown",
   "source": [
    "## Month filtering"
   ],
   "metadata": {
    "id": "koi3ch4c7AId"
   }
  },
  {
   "cell_type": "markdown",
   "source": [
    "### Merge"
   ],
   "metadata": {
    "id": "kiQcWibl2dzX"
   }
  },
  {
   "cell_type": "code",
   "source": [
    "print(df_orders_merged['order_purchase_timestamp'].min())\n",
    "print(df_orders_merged['order_purchase_timestamp'].max())\n",
    "base = 383\n",
    "print((724-base-11)%30)\n",
    "print((724-base-11)//30)"
   ],
   "metadata": {
    "colab": {
     "base_uri": "https://localhost:8080/"
    },
    "id": "JXSy7WRH7D5g",
    "outputId": "ba06038b-3b5f-40a0-afee-bdd8062c75c1"
   },
   "execution_count": null,
   "outputs": []
  },
  {
   "cell_type": "code",
   "source": [
    "base = 383\n",
    "for i in range(0, 12):\n",
    "    ind_filter = df_orders_merged['order_purchase_timestamp'] <= 11+base+30*i\n",
    "    df_agg = df_orders_merged[ind_filter].groupby(['customer_unique_id']).agg(\n",
    "        {\n",
    "            'order_purchase_timestamp':['max'],\n",
    "            'order_id':'count',\n",
    "            'order_amount':['mean'],\n",
    "            'n_items':'mean',\n",
    "            'order_delivery_delay':'max',\n",
    "            'mean_review_score': 'mean',\n",
    "            'min_review_score': 'min',\n",
    "            'customer_city': 'last',\n",
    "        }\n",
    "    )\n",
    "    df_agg.columns = df_agg.columns.map('_'.join)\n",
    "    df_agg = df_agg.reset_index(drop=True)\n",
    "    df_agg = df_agg.rename(columns={\n",
    "        'order_purchase_timestamp_max': 'recency',\n",
    "        'order_id_count': 'frequency',\n",
    "        'order_amount_mean': 'amount',\n",
    "        'n_items_mean': 'quantity',\n",
    "        'order_delivery_delay_max': 'delay',\n",
    "        'mean_review_score_mean': 'mean_satisfaction',\n",
    "        'min_review_score_min': 'least_satisfaction',\n",
    "        'customer_city_last': 'localisation',\n",
    "        \n",
    "    })\n",
    "\n",
    "    # Missing values\n",
    "    medians = df_agg.median(numeric_only=True)\n",
    "\n",
    "    for col, median in medians.items():\n",
    "        df_agg.loc[df_agg[col].isna(), col] = median\n",
    "\n",
    "    # City mapping\n",
    "    df_agg['localisation']=df_agg['localisation'].apply(lambda c: mapping[c])\n",
    "\n",
    "\n",
    "    df_agg.to_csv(f\"data_sub_{i:02d}.csv\", index=False)"
   ],
   "metadata": {
    "id": "0DtoJhM2-SFc"
   },
   "execution_count": null,
   "outputs": []
  },
  {
   "cell_type": "markdown",
   "source": [
    "### Exports"
   ],
   "metadata": {
    "id": "JHTuuVz82zWa"
   }
  },
  {
   "cell_type": "code",
   "source": [
    "!rm data_sub.zip\n",
    "!zip data_sub.zip data_sub_*.csv"
   ],
   "metadata": {
    "colab": {
     "base_uri": "https://localhost:8080/"
    },
    "id": "egGNsNsGBEv3",
    "outputId": "831303be-8ef5-4588-ad0c-a206e13c877f"
   },
   "execution_count": null,
   "outputs": []
  }
 ]
}
