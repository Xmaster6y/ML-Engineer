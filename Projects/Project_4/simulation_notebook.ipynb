{
 "nbformat": 4,
 "nbformat_minor": 0,
 "metadata": {
  "colab": {
   "provenance": []
  },
  "kernelspec": {
   "name": "",
   "display_name": ""
  },
  "language_info": {
   "name": "python"
  }
 },
 "cells": [
  {
   "cell_type": "markdown",
   "source": [
    "# Second prediction notebook\n",
    "\n",
    "Prediction of the CO2 emissions.\n",
    "\n",
    "* [Imports](#imports)\n",
    "* [Data loading](#data-loading)\n",
    "* [Feature seletion](#feature-seletion)\n",
    "    * [Selection](#selection-pipeline)"
   ],
   "metadata": {
    "id": "alzuis7Fdzti"
   }
  },
  {
   "cell_type": "markdown",
   "source": [
    "<a name=\"imports\"></a>\n",
    "## Imports"
   ],
   "metadata": {
    "id": "vM-0mqSdfWjK"
   }
  },
  {
   "cell_type": "code",
   "source": [
    "!pip install git+https://github.com/Xmaster6y/ML-Engineer@develop "
   ],
   "metadata": {
    "id": "SAU6PiVo_J_z",
    "colab": {
     "base_uri": "https://localhost:8080/"
    },
    "outputId": "ec5f058e-4580-436c-9eeb-fa059a787ee7"
   },
   "execution_count": null,
   "outputs": []
  },
  {
   "cell_type": "code",
   "source": [
    "import os\n",
    "import pandas as pd\n",
    "import numpy as np\n",
    "import scipy as sc\n",
    "import seaborn as sns\n",
    "import matplotlib.pyplot as plt\n",
    "from time import time\n",
    "\n",
    "from sklearn.pipeline import Pipeline\n",
    "from sklearn.compose import ColumnTransformer, TransformedTargetRegressor\n",
    "from sklearn.model_selection import train_test_split\n",
    "from sklearn.model_selection import GridSearchCV, KFold\n",
    "\n",
    "from sklearn.feature_selection import VarianceThreshold\n",
    "from sklearn.feature_selection import SelectPercentile, chi2\n",
    "from sklearn.preprocessing import StandardScaler, OneHotEncoder, RobustScaler, MinMaxScaler\n",
    "from sklearn.impute import KNNImputer\n",
    "\n",
    "from sklearn.dummy import DummyRegressor\n",
    "\n",
    "from sklearn.decomposition import PCA\n",
    "from sklearn.cluster import KMeans\n",
    "\n",
    "from sklearn.metrics import adjusted_rand_score, adjusted_mutual_info_score"
   ],
   "metadata": {
    "id": "ruVCLL9TdySa"
   },
   "execution_count": null,
   "outputs": []
  },
  {
   "cell_type": "code",
   "source": [
    "import helpers"
   ],
   "metadata": {
    "id": "u0VekZS1X29T"
   },
   "execution_count": null,
   "outputs": []
  },
  {
   "cell_type": "code",
   "source": [
    "dir(helpers)"
   ],
   "metadata": {
    "id": "5f_iu0O4X5Gr",
    "outputId": "6218c2e4-2a09-473c-f827-46e7f4171576",
    "colab": {
     "base_uri": "https://localhost:8080/"
    }
   },
   "execution_count": null,
   "outputs": []
  },
  {
   "cell_type": "markdown",
   "source": [
    "<a name=\"data-loading\"></a>\n",
    "## Data loading"
   ],
   "metadata": {
    "id": "vzF2vEugfg5w"
   }
  },
  {
   "cell_type": "code",
   "source": [
    "data_sub_path = 'data_sub.zip'\n",
    "if not os.path.exists(data_sub_path):\n",
    "    !wget \"https://drive.google.com/uc?export=download&id=1iLaCRkLt5VwdkJeIFzuy4ZfjgYqJKpDw\" -q --show-progress -O \"$data_sub_path\"\n",
    "    !unzip $data_sub_path"
   ],
   "metadata": {
    "id": "LdxrDq03fgA8",
    "colab": {
     "base_uri": "https://localhost:8080/"
    },
    "outputId": "12580421-8335-4c24-fa40-4e0f24f56485"
   },
   "execution_count": null,
   "outputs": []
  },
  {
   "cell_type": "code",
   "source": [
    "df = pd.read_csv(f\"data_sub_00.csv\")\n",
    "df.info()"
   ],
   "metadata": {
    "colab": {
     "base_uri": "https://localhost:8080/"
    },
    "id": "YX_IFl149nsx",
    "outputId": "a0b7ab3c-f0a9-4f05-91d2-4f972845dc19"
   },
   "execution_count": null,
   "outputs": []
  },
  {
   "cell_type": "markdown",
   "source": [
    "## Data Drift"
   ],
   "metadata": {
    "id": "IrLrIrs_NQF-"
   }
  },
  {
   "cell_type": "markdown",
   "source": [
    "### Univariate"
   ],
   "metadata": {
    "id": "E-6g0hHBVUfi"
   }
  },
  {
   "cell_type": "code",
   "source": [
    "df_0 = pd.read_csv(\"data_sub_00.csv\")\n",
    "df_0[\"year\"] = \"1 year\"\n",
    "print(df_0.shape)\n",
    "df_5 = pd.read_csv(\"data_sub_05.csv\")\n",
    "df_5[\"year\"] = \"1.5 years\"\n",
    "print(df_5.shape)\n",
    "df_11 = pd.read_csv(\"data_sub_11.csv\")\n",
    "df_11[\"year\"] = \"2 years\"\n",
    "print(df_11.shape)"
   ],
   "metadata": {
    "colab": {
     "base_uri": "https://localhost:8080/"
    },
    "id": "SZjdkXt0NSrI",
    "outputId": "88fc4c7a-38c5-4860-e2be-0944e95e3f9e"
   },
   "execution_count": null,
   "outputs": []
  },
  {
   "cell_type": "code",
   "source": [
    "sns.histplot(df_0[\"recency\"], kde=True,log_scale=True, stat=\"density\", label=\"1 year\")\n",
    "sns.histplot(df_11[\"recency\"], kde=True, log_scale=True, stat=\"density\", label=\"2 years\")\n",
    "plt.legend(loc=\"best\")"
   ],
   "metadata": {
    "colab": {
     "base_uri": "https://localhost:8080/",
     "height": 478
    },
    "id": "NP6Qonl1B2xp",
    "outputId": "d5284e1a-c44a-4973-b78f-47ec272ce8ed"
   },
   "execution_count": null,
   "outputs": []
  },
  {
   "cell_type": "code",
   "source": [
    "sns.histplot(df_0[\"amount\"], kde=True,log_scale=True, stat=\"density\", label=\"1 year\")\n",
    "sns.histplot(df_11[\"amount\"], kde=True, log_scale=True, stat=\"density\", label=\"2 years\")\n",
    "plt.legend(loc=\"best\")"
   ],
   "metadata": {
    "colab": {
     "base_uri": "https://localhost:8080/",
     "height": 473
    },
    "id": "r1IkpnmsQTTY",
    "outputId": "1b747dc7-00db-4afe-f006-1e341c5fab65"
   },
   "execution_count": null,
   "outputs": []
  },
  {
   "cell_type": "code",
   "source": [
    "sns.histplot(df_0[\"delay\"], kde=True, stat=\"density\", label=\"1 year\")\n",
    "sns.histplot(df_11[\"delay\"], kde=True, stat=\"density\", label=\"2 years\")\n",
    "plt.legend(loc=\"best\")"
   ],
   "metadata": {
    "colab": {
     "base_uri": "https://localhost:8080/",
     "height": 468
    },
    "id": "eeZVLmxWS3j3",
    "outputId": "a20f53d4-70b1-4610-8946-fd0a464a4650"
   },
   "execution_count": null,
   "outputs": []
  },
  {
   "cell_type": "code",
   "source": [
    "sns.histplot(df_0[\"quantity\"], stat=\"percent\", label=\"1 year\")\n",
    "sns.histplot(df_11[\"quantity\"], stat=\"percent\", label=\"2 years\")\n",
    "plt.legend(loc=\"best\")"
   ],
   "metadata": {
    "colab": {
     "base_uri": "https://localhost:8080/",
     "height": 468
    },
    "id": "YcEF02BaTcvS",
    "outputId": "d2b224a8-615d-44a2-9b14-6fc27b2656ad"
   },
   "execution_count": null,
   "outputs": []
  },
  {
   "cell_type": "code",
   "source": [
    "sns.histplot(df_0[\"frequency\"], stat=\"percent\", label=\"1 year\")\n",
    "sns.histplot(df_11[\"frequency\"], stat=\"percent\", label=\"2 years\")\n",
    "plt.legend(loc=\"best\")"
   ],
   "metadata": {
    "colab": {
     "base_uri": "https://localhost:8080/",
     "height": 468
    },
    "id": "1FQ3cmNqToPl",
    "outputId": "4f1cf3bf-15fd-42fe-b282-a07c0a37467d"
   },
   "execution_count": null,
   "outputs": []
  },
  {
   "cell_type": "code",
   "source": [
    "sns.histplot(df_0[\"mean_satisfaction\"], stat=\"percent\", label=\"1 year\")\n",
    "sns.histplot(df_11[\"mean_satisfaction\"], stat=\"percent\", label=\"2 years\")\n",
    "plt.legend(loc=\"best\")"
   ],
   "metadata": {
    "colab": {
     "base_uri": "https://localhost:8080/",
     "height": 469
    },
    "id": "3iMQ_eobUVOs",
    "outputId": "d0c51ca6-68a0-480d-ac26-5268ae1834bc"
   },
   "execution_count": null,
   "outputs": []
  },
  {
   "cell_type": "code",
   "source": [
    "sns.histplot(df_0[\"least_satisfaction\"], stat=\"percent\", label=\"1 year\")\n",
    "sns.histplot(df_11[\"least_satisfaction\"], stat=\"percent\", label=\"2 years\")\n",
    "plt.legend(loc=\"best\")"
   ],
   "metadata": {
    "colab": {
     "base_uri": "https://localhost:8080/",
     "height": 469
    },
    "id": "vhkgZgN7Syoj",
    "outputId": "96a0bdbd-0db1-469b-ce07-2d7022db1ff8"
   },
   "execution_count": null,
   "outputs": []
  },
  {
   "cell_type": "code",
   "source": [
    "sns.histplot(df_0[\"localisation\"], stat=\"percent\", label=\"1 year\")\n",
    "sns.histplot(df_11[\"localisation\"], stat=\"percent\", label=\"2 year\")\n",
    "plt.legend(loc=\"best\")\n",
    "plt.xticks(rotation=45)"
   ],
   "metadata": {
    "colab": {
     "base_uri": "https://localhost:8080/",
     "height": 692
    },
    "id": "SvQk-XmhUIQf",
    "outputId": "a82ea129-b468-490b-9d62-74d68b5ecbf4"
   },
   "execution_count": null,
   "outputs": []
  },
  {
   "cell_type": "markdown",
   "source": [
    "### Bi-variate"
   ],
   "metadata": {
    "id": "q3M6UKUgVXiE"
   }
  },
  {
   "cell_type": "code",
   "source": [
    "sns.scatterplot(df_11, x=\"amount\", y=\"delay\", label=\"2 year\")\n",
    "sns.scatterplot(df_0, x=\"amount\", y=\"delay\", label=\"1 year\")\n",
    "plt.legend(loc=\"best\")"
   ],
   "metadata": {
    "colab": {
     "base_uri": "https://localhost:8080/",
     "height": 468
    },
    "id": "nzJ2JPp9Vakr",
    "outputId": "48c7bb25-aa8a-4514-8e46-d04d1a024a1e"
   },
   "execution_count": null,
   "outputs": []
  },
  {
   "cell_type": "code",
   "source": [
    "sns.scatterplot(df_11, x=\"amount\", y=\"least_satisfaction\", label=\"2 year\")\n",
    "sns.scatterplot(df_0, x=\"amount\", y=\"least_satisfaction\", label=\"1 year\")\n",
    "plt.legend(loc=\"best\")"
   ],
   "metadata": {
    "colab": {
     "base_uri": "https://localhost:8080/",
     "height": 468
    },
    "id": "jDgyxjazWJUV",
    "outputId": "95ef8277-c5c8-40e2-adcd-46818f3aa859"
   },
   "execution_count": null,
   "outputs": []
  },
  {
   "cell_type": "markdown",
   "source": [
    "## RFM"
   ],
   "metadata": {
    "id": "TsxoRZzy9I9N"
   }
  },
  {
   "cell_type": "markdown",
   "source": [
    "### Feature selection"
   ],
   "metadata": {
    "id": "v7dOYI6KDKRL"
   }
  },
  {
   "cell_type": "code",
   "source": [
    "rfm_cols = [\n",
    "    \"recency\",\n",
    "    \"frequency\",\n",
    "    \"amount\",\n",
    "]\n",
    "rfm_tr = Pipeline([\n",
    "    (\"scaler\", StandardScaler())\n",
    "    ])\n",
    "\n",
    "rfm_prep = ColumnTransformer([\n",
    "    (\"rfm_tr\", rfm_tr, rfm_cols),\n",
    "    ])\n",
    "N_C=3"
   ],
   "metadata": {
    "id": "YqrTl68YDNjp"
   },
   "execution_count": null,
   "outputs": []
  },
  {
   "cell_type": "markdown",
   "source": [
    "### Different models"
   ],
   "metadata": {
    "id": "sd7aBDBsGa94"
   }
  },
  {
   "cell_type": "code",
   "source": [
    "to_plot = []\n",
    "rates = [2, 4, 9, 12]\n",
    "for j in rates:\n",
    "    df = pd.read_csv(f\"data_sub_00.csv\")\n",
    "    X_rfm_0 = rfm_prep.fit_transform(df)\n",
    "    base_model = KMeans(n_clusters=N_C, random_state=42, n_init=3)\n",
    "    base_model.fit(X_rfm_0)\n",
    "    scores = []\n",
    "    for i in range(0, 12):\n",
    "        df = pd.read_csv(f\"data_sub_{i:02d}.csv\")\n",
    "        if i%j == 0:\n",
    "            X_rfm_0 = rfm_prep.fit_transform(df)\n",
    "            base_model = KMeans(n_clusters=N_C, random_state=42, n_init=3)\n",
    "            base_model.fit(X_rfm_0)\n",
    "        X_rfm = rfm_prep.transform(df)\n",
    "        model = KMeans(n_clusters=N_C, random_state=42, n_init=3)\n",
    "        y_model = model.fit_predict(X_rfm)\n",
    "        y_base = base_model.predict(X_rfm)\n",
    "        scores.append(adjusted_rand_score(y_model, y_base))\n",
    "\n",
    "    to_plot.append(scores)\n",
    "\n",
    "    "
   ],
   "metadata": {
    "id": "o90intTEIAuP"
   },
   "execution_count": null,
   "outputs": []
  },
  {
   "cell_type": "code",
   "source": [
    "for j, r in enumerate(rates):\n",
    "    s = to_plot[j]\n",
    "    plt.plot(s, label=f\"maintenance rate {r} months\")\n",
    "plt.legend(loc=\"best\")\n",
    "plt.plot()"
   ],
   "metadata": {
    "id": "Y0VLwuwGRuIx",
    "colab": {
     "base_uri": "https://localhost:8080/",
     "height": 449
    },
    "outputId": "61a2192c-07a8-420d-e085-27f45cc8bba8"
   },
   "execution_count": null,
   "outputs": []
  },
  {
   "cell_type": "code",
   "source": [
    "df = pd.read_csv(f\"data_sub_00.csv\")\n",
    "X_rfm_0 = rfm_prep.fit_transform(df)\n",
    "base_model = KMeans(n_clusters=N_C, random_state=42, n_init=3)\n",
    "base_model.fit(X_rfm_0)\n",
    "mean_scores = []\n",
    "std_scores = []\n",
    "seeds = [1, 2, 3, 4, 5]\n",
    "for i in range(0, 12):\n",
    "    df = pd.read_csv(f\"data_sub_{i:02d}.csv\")\n",
    "    X_rfm = rfm_prep.transform(df)\n",
    "    y_base = base_model.predict(X_rfm)\n",
    "    local_scores = []\n",
    "    for seed in seeds:\n",
    "        model = KMeans(n_clusters=N_C, random_state=seed, n_init=3)\n",
    "        y_model = model.fit_predict(X_rfm)\n",
    "        s1 = adjusted_rand_score(y_model, y_base)\n",
    "        s2 = adjusted_mutual_info_score(y_model, y_base)\n",
    "        local_scores.append((s1,s2))\n",
    "    mean_scores.append(tuple(map(np.mean, zip(*local_scores))))\n",
    "    std_scores.append(tuple(map(np.std, zip(*local_scores))))"
   ],
   "metadata": {
    "id": "47bz3A5Gmpdt"
   },
   "execution_count": null,
   "outputs": []
  },
  {
   "cell_type": "code",
   "source": [
    "ars, amis= zip(*mean_scores)\n",
    "std_ars, std_amis = zip(*std_scores)"
   ],
   "metadata": {
    "id": "bovYzVE8o2kR"
   },
   "execution_count": null,
   "outputs": []
  },
  {
   "cell_type": "code",
   "source": [
    "x=list(range(0, 12))\n",
    "plt.errorbar(x=x, y=ars, yerr=std_ars, label=f\"ARS\")\n",
    "plt.errorbar(x=x, y=amis, yerr=std_amis, label=f\"AMIS\")\n",
    "plt.legend(loc=\"best\")\n",
    "plt.plot()"
   ],
   "metadata": {
    "colab": {
     "base_uri": "https://localhost:8080/",
     "height": 449
    },
    "id": "dCNksJQf-j5W",
    "outputId": "fc74f09c-e667-41b5-e872-8239ffff0449"
   },
   "execution_count": null,
   "outputs": []
  },
  {
   "cell_type": "markdown",
   "source": [
    "## MSDQ"
   ],
   "metadata": {
    "id": "QiS6v7mHx_nj"
   }
  },
  {
   "cell_type": "markdown",
   "source": [
    "### Feature selection"
   ],
   "metadata": {
    "id": "fPFeeEZix_nk"
   }
  },
  {
   "cell_type": "code",
   "source": [
    "rdq_cols = [\n",
    "    \"amount\",\n",
    "    \"least_satisfaction\",\n",
    "    \"delay\",\n",
    "    \"quantity\"\n",
    "]\n",
    "rdq_tr = Pipeline([\n",
    "    (\"scaler\", StandardScaler())\n",
    "    ])\n",
    "\n",
    "rdq_prep = ColumnTransformer([\n",
    "    (\"rdq_tr\", rdq_tr, rdq_cols),\n",
    "    ])\n",
    "N_C=4"
   ],
   "metadata": {
    "id": "qW37ynEkx_nk"
   },
   "execution_count": null,
   "outputs": []
  },
  {
   "cell_type": "markdown",
   "source": [
    "### Different models"
   ],
   "metadata": {
    "id": "I7G4LI3tx_nl"
   }
  },
  {
   "cell_type": "code",
   "source": [
    "to_plot = []\n",
    "rates = [2, 4, 9, 12]\n",
    "for j in rates:\n",
    "    df = pd.read_csv(f\"data_sub_00.csv\")\n",
    "    X_rdq_0 = rdq_prep.fit_transform(df)\n",
    "    base_model = KMeans(n_clusters=N_C, random_state=42, n_init='auto')\n",
    "    base_model.fit(X_rdq_0)\n",
    "    scores = []\n",
    "    for i in range(0, 12):\n",
    "        df = pd.read_csv(f\"data_sub_{i:02d}.csv\")\n",
    "        if i%j == 0:\n",
    "            X_rdq_0 = rdq_prep.fit_transform(df)\n",
    "            base_model = KMeans(n_clusters=N_C, random_state=42, n_init='auto')\n",
    "            base_model.fit(X_rdq_0)\n",
    "        X_rdq = rdq_prep.transform(df)\n",
    "        model = KMeans(n_clusters=N_C, random_state=42, n_init='auto')\n",
    "        y_model = model.fit_predict(X_rdq)\n",
    "        y_base = base_model.predict(X_rdq)\n",
    "        scores.append(adjusted_rand_score(y_model, y_base))\n",
    "\n",
    "    to_plot.append(scores)\n",
    "\n",
    "    "
   ],
   "metadata": {
    "id": "jmjm_pYnx_nl"
   },
   "execution_count": null,
   "outputs": []
  },
  {
   "cell_type": "code",
   "source": [
    "for j, r in enumerate(rates):\n",
    "    s = to_plot[j]\n",
    "    plt.plot(s, label=f\"maintenance rate {r} months\")\n",
    "plt.legend(loc=\"best\")\n",
    "plt.plot()"
   ],
   "metadata": {
    "colab": {
     "base_uri": "https://localhost:8080/",
     "height": 449
    },
    "outputId": "778e1168-9f7c-4609-b5e8-35d4601c5e3f",
    "id": "PqeQD9FIx_nm"
   },
   "execution_count": null,
   "outputs": []
  },
  {
   "cell_type": "code",
   "source": [
    "df = pd.read_csv(f\"data_sub_00.csv\")\n",
    "X_rdq_0 = rdq_prep.fit_transform(df)\n",
    "base_model = KMeans(n_clusters=N_C, random_state=42, n_init=3)\n",
    "base_model.fit(X_rdq_0)\n",
    "mean_scores = []\n",
    "std_scores = []\n",
    "seeds = [1, 2, 3, 4, 5]\n",
    "for i in range(0, 12):\n",
    "    df = pd.read_csv(f\"data_sub_{i:02d}.csv\")\n",
    "    X_rdq = rdq_prep.transform(df)\n",
    "    y_base = base_model.predict(X_rdq)\n",
    "    local_scores = []\n",
    "    for seed in seeds:\n",
    "        model = KMeans(n_clusters=N_C, random_state=seed, n_init=3)\n",
    "        y_model = model.fit_predict(X_rdq)\n",
    "        s1 = adjusted_rand_score(y_model, y_base)\n",
    "        s2 = adjusted_mutual_info_score(y_model, y_base)\n",
    "        local_scores.append((s1,s2))\n",
    "    mean_scores.append(tuple(map(np.mean, zip(*local_scores))))\n",
    "    std_scores.append(tuple(map(np.std, zip(*local_scores))))"
   ],
   "metadata": {
    "id": "AfzIWkEUx_nm"
   },
   "execution_count": null,
   "outputs": []
  },
  {
   "cell_type": "code",
   "source": [
    "ars, amis = zip(*mean_scores)\n",
    "std_ars, std_amis = zip(*std_scores)"
   ],
   "metadata": {
    "id": "KeUe3jbBx_nn"
   },
   "execution_count": null,
   "outputs": []
  },
  {
   "cell_type": "code",
   "source": [
    "x=list(range(0, 12))\n",
    "plt.errorbar(x=x, y=ars, yerr=std_ars, label=f\"ARS\")\n",
    "plt.errorbar(x=x, y=amis, yerr=std_amis, label=f\"AMIS\")\n",
    "ymin, ymax = plt.ylim()\n",
    "plt.vlines(3, ymin, ymax, color='k', linestyles=\"--\",label=\"Advised\")\n",
    "plt.ylim(ymin, ymax)\n",
    "plt.legend(loc=\"best\")\n",
    "plt.ylabel(\"Score\")\n",
    "plt.xlabel(\"Month\")\n",
    "plt.plot()"
   ],
   "metadata": {
    "colab": {
     "base_uri": "https://localhost:8080/",
     "height": 468
    },
    "outputId": "2d7d5b26-6079-455b-902f-ecc92012a001",
    "id": "3xjhVd_2x_nn"
   },
   "execution_count": null,
   "outputs": []
  },
  {
   "cell_type": "markdown",
   "source": [
    "## MSDQ - loc"
   ],
   "metadata": {
    "id": "pqIHVb1n9Q5w"
   }
  },
  {
   "cell_type": "markdown",
   "source": [
    "### Feature selection"
   ],
   "metadata": {
    "id": "PBbL_QwQ9Q5x"
   }
  },
  {
   "cell_type": "code",
   "source": [
    "loc_cat_cols = [\n",
    "    \"localisation\"\n",
    "]\n",
    "\n",
    "loc_num_cols = [\n",
    "    \"amount\",\n",
    "    \"least_satisfaction\",\n",
    "    \"delay\",\n",
    "    \"quantity\"\n",
    "    ]\n",
    "\n",
    "loc_cols = loc_num_cols + loc_cat_cols\n",
    "\n",
    "num_tr = Pipeline([\n",
    "    (\"scaler\", StandardScaler())\n",
    "    ])\n",
    "cat_tr = Pipeline([\n",
    "    (\"encoder\", OneHotEncoder())\n",
    "    ])\n",
    "loc_prep = ColumnTransformer([\n",
    "    (\"num\", num_tr, loc_num_cols),\n",
    "    (\"cat\", cat_tr, loc_cat_cols),\n",
    "    ])\n",
    "N_C=4"
   ],
   "metadata": {
    "id": "v4FOQQcW9Q5y"
   },
   "execution_count": null,
   "outputs": []
  },
  {
   "cell_type": "markdown",
   "source": [
    "### Different models"
   ],
   "metadata": {
    "id": "dunnZGor9Q5z"
   }
  },
  {
   "cell_type": "code",
   "source": [
    "to_plot = []\n",
    "rates = [2, 4, 9, 12]\n",
    "for j in rates:\n",
    "    df = pd.read_csv(f\"data_sub_00.csv\")\n",
    "    X_rdq_0 = loc_prep.fit_transform(df)\n",
    "    base_model = KMeans(n_clusters=N_C, random_state=42, n_init=3)\n",
    "    base_model.fit(X_rdq_0)\n",
    "    scores = []\n",
    "    for i in range(0, 12):\n",
    "        df = pd.read_csv(f\"data_sub_{i:02d}.csv\")\n",
    "        if i%j == 0:\n",
    "            X_rdq_0 = loc_prep.fit_transform(df)\n",
    "            base_model = KMeans(n_clusters=N_C, random_state=42, n_init=3)\n",
    "            base_model.fit(X_rdq_0)\n",
    "        X_rdq = loc_prep.transform(df)\n",
    "        model = KMeans(n_clusters=N_C, random_state=42, n_init=3)\n",
    "        y_model = model.fit_predict(X_rdq)\n",
    "        y_base = base_model.predict(X_rdq)\n",
    "        scores.append(adjusted_rand_score(y_model, y_base))\n",
    "\n",
    "    to_plot.append(scores)\n",
    "\n",
    "    "
   ],
   "metadata": {
    "id": "9zpVQrCr9Q5z"
   },
   "execution_count": null,
   "outputs": []
  },
  {
   "cell_type": "code",
   "source": [
    "for j, r in enumerate(rates):\n",
    "    s = to_plot[j]\n",
    "    plt.plot(s, label=f\"maintenance rate {r} months\")\n",
    "plt.legend(loc=\"best\")\n",
    "plt.plot()"
   ],
   "metadata": {
    "colab": {
     "base_uri": "https://localhost:8080/",
     "height": 449
    },
    "outputId": "7956a577-1eae-4a00-efe0-1dfab3c14e80",
    "id": "UIDSZU5c9Q50"
   },
   "execution_count": null,
   "outputs": []
  },
  {
   "cell_type": "code",
   "source": [
    "df = pd.read_csv(f\"data_sub_00.csv\")\n",
    "X_rdq_0 = loc_prep.fit_transform(df)\n",
    "base_model = KMeans(n_clusters=N_C, random_state=42, n_init=3)\n",
    "base_model.fit(X_rdq_0)\n",
    "mean_scores = []\n",
    "std_scores = []\n",
    "seeds = [1, 2, 3, 4, 5]\n",
    "for i in range(0, 12):\n",
    "    df = pd.read_csv(f\"data_sub_{i:02d}.csv\")\n",
    "    X_rdq = loc_prep.transform(df)\n",
    "    y_base = base_model.predict(X_rdq)\n",
    "    local_scores = []\n",
    "    for seed in seeds:\n",
    "        model = KMeans(n_clusters=N_C, random_state=seed, n_init=3)\n",
    "        y_model = model.fit_predict(X_rdq)\n",
    "        s1 = adjusted_rand_score(y_model, y_base)\n",
    "        s2 = adjusted_mutual_info_score(y_model, y_base)\n",
    "        local_scores.append((s1,s2))\n",
    "    mean_scores.append(tuple(map(np.mean, zip(*local_scores))))\n",
    "    std_scores.append(tuple(map(np.std, zip(*local_scores))))"
   ],
   "metadata": {
    "id": "1SldnsHj9Q51"
   },
   "execution_count": null,
   "outputs": []
  },
  {
   "cell_type": "code",
   "source": [
    "ars, amis = zip(*mean_scores)\n",
    "std_ars, std_amis = zip(*std_scores)"
   ],
   "metadata": {
    "id": "FwftMiIL9Q51"
   },
   "execution_count": null,
   "outputs": []
  },
  {
   "cell_type": "code",
   "source": [
    "x=list(range(0, 12))\n",
    "plt.errorbar(x=x, y=ars, yerr=std_ars, label=f\"ARS\")\n",
    "plt.errorbar(x=x, y=amis, yerr=std_amis, label=f\"AMIS\")\n",
    "ymin, ymax = plt.ylim()\n",
    "plt.vlines(3, ymin, ymax, color='k', linestyles=\"--\",label=\"Advised\")\n",
    "plt.ylim(ymin, ymax)\n",
    "plt.legend(loc=\"best\")\n",
    "plt.ylabel(\"Score\")\n",
    "plt.xlabel(\"Month\")\n",
    "plt.plot()"
   ],
   "metadata": {
    "colab": {
     "base_uri": "https://localhost:8080/",
     "height": 468
    },
    "id": "IKDFAJw_9Q52",
    "outputId": "ba7a83af-c939-4df2-ca28-9f8f0cbb4375"
   },
   "execution_count": null,
   "outputs": []
  },
  {
   "cell_type": "code",
   "source": [],
   "metadata": {
    "id": "S3C8ZIF0znxr"
   },
   "execution_count": null,
   "outputs": []
  }
 ]
}
