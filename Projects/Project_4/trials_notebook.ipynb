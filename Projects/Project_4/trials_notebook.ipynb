{
 "cells": [
  {
   "cell_type": "markdown",
   "metadata": {
    "id": "alzuis7Fdzti"
   },
   "source": [
    "# Trials notebook\n",
    "\n",
    "First trials consumption."
   ]
  },
  {
   "cell_type": "markdown",
   "metadata": {
    "id": "vM-0mqSdfWjK"
   },
   "source": [
    "<a name=\"installs\"></a>\n",
    "## Installs"
   ]
  },
  {
   "cell_type": "code",
   "execution_count": null,
   "metadata": {
    "colab": {
     "base_uri": "https://localhost:8080/"
    },
    "id": "-RsYVzZMLbk4",
    "outputId": "625162bf-a431-472f-b8cb-b7860146021e"
   },
   "outputs": [],
   "source": [
    "!pip uninstall helpers -y"
   ]
  },
  {
   "cell_type": "code",
   "execution_count": null,
   "metadata": {
    "colab": {
     "base_uri": "https://localhost:8080/"
    },
    "id": "Aj2fTbi1KAmx",
    "outputId": "cbc33734-452e-4e4b-d70f-7a78fe677a2b"
   },
   "outputs": [],
   "source": [
    "!pip install git+https://github.com/Xmaster6y/ML-Engineer@develop "
   ]
  },
  {
   "cell_type": "code",
   "execution_count": null,
   "metadata": {
    "colab": {
     "base_uri": "https://localhost:8080/"
    },
    "id": "kk6dIb0yLMNz",
    "outputId": "7fb460fa-a875-4fd6-b666-2e2faa06716b"
   },
   "outputs": [],
   "source": [
    "!pip install kneed"
   ]
  },
  {
   "cell_type": "markdown",
   "metadata": {
    "id": "5rv0MDs974dc"
   },
   "source": [
    "<a name=\"imports\"></a>\n",
    "## Imports"
   ]
  },
  {
   "cell_type": "code",
   "execution_count": null,
   "metadata": {
    "id": "ruVCLL9TdySa"
   },
   "outputs": [],
   "source": [
    "import os\n",
    "import pandas as pd\n",
    "import numpy as np\n",
    "from numpy.random import default_rng\n",
    "import matplotlib.pyplot as plt\n",
    "import plotly.express as px\n",
    "import seaborn as sns\n",
    "from time import time\n",
    "from copy import deepcopy\n",
    "\n",
    "from sklearn.pipeline import Pipeline\n",
    "from sklearn.compose import ColumnTransformer, TransformedTargetRegressor\n",
    "from sklearn.model_selection import train_test_split\n",
    "from sklearn.model_selection import GridSearchCV, KFold\n",
    "\n",
    "from sklearn.feature_selection import VarianceThreshold\n",
    "from sklearn.feature_selection import SelectPercentile, chi2\n",
    "from sklearn.preprocessing import StandardScaler, OneHotEncoder, RobustScaler, MinMaxScaler\n",
    "from sklearn.impute import KNNImputer\n",
    "\n",
    "from sklearn.dummy import DummyRegressor\n",
    "\n",
    "from sklearn.decomposition import PCA\n",
    "from sklearn.manifold import TSNE\n",
    "\n",
    "from sklearn.cluster import KMeans, DBSCAN, AgglomerativeClustering, BisectingKMeans, Birch\n",
    "\n",
    "from yellowbrick.cluster import KElbowVisualizer, SilhouetteVisualizer\n",
    "\n",
    "from sklearn.metrics import r2_score, d2_absolute_error_score"
   ]
  },
  {
   "cell_type": "code",
   "execution_count": null,
   "metadata": {
    "id": "7WZKvjPbK7YD"
   },
   "outputs": [],
   "source": [
    "import helpers"
   ]
  },
  {
   "cell_type": "code",
   "execution_count": null,
   "metadata": {
    "colab": {
     "base_uri": "https://localhost:8080/"
    },
    "id": "QUfGeMpHKV8n",
    "outputId": "624069a9-6d98-4fa1-f780-192bbacb120f"
   },
   "outputs": [],
   "source": [
    "dir(helpers)"
   ]
  },
  {
   "cell_type": "markdown",
   "metadata": {
    "id": "vzF2vEugfg5w"
   },
   "source": [
    "<a name=\"data-loading\"></a>\n",
    "## Data loading"
   ]
  },
  {
   "cell_type": "code",
   "execution_count": null,
   "metadata": {
    "colab": {
     "base_uri": "https://localhost:8080/"
    },
    "id": "LdxrDq03fgA8",
    "outputId": "b668f013-ca4d-4ea4-df0d-b383edfc6393"
   },
   "outputs": [],
   "source": [
    "cleaned_dataset_path = 'data_cleaned.csv'\n",
    "if not os.path.exists(cleaned_dataset_path):\n",
    "    !wget \"https://drive.google.com/uc?export=download&id=14ehoYTN8BvRPCK-fOEc08CfBcms0gjFr\" -q --show-progress -O \"$cleaned_dataset_path\"\n",
    "!head -2 $cleaned_dataset_path"
   ]
  },
  {
   "cell_type": "code",
   "execution_count": null,
   "metadata": {
    "colab": {
     "base_uri": "https://localhost:8080/"
    },
    "id": "BfxXmBJpqdvc",
    "outputId": "a04065a7-fb4c-42a1-afbf-dd53a3e7c4f1"
   },
   "outputs": [],
   "source": [
    "df_cleaned = pd.read_csv(cleaned_dataset_path)\n",
    "df_cleaned.info()"
   ]
  },
  {
   "cell_type": "markdown",
   "metadata": {
    "id": "SpFV6C42rU0H"
   },
   "source": [
    "## Initial comparison"
   ]
  },
  {
   "cell_type": "code",
   "execution_count": null,
   "metadata": {
    "colab": {
     "base_uri": "https://localhost:8080/",
     "height": 1000
    },
    "id": "PD2l0fI5rX7V",
    "outputId": "ca2fbded-4081-420d-9c58-057b60792b0b"
   },
   "outputs": [],
   "source": [
    "algorithms_to_take = [\n",
    "    \"KMeans\",\n",
    "    \"Bisecting\\nKMeans\",\n",
    "    \"Agglomerative\\nClustering\",\n",
    "    \"DBSCAN\",\n",
    "    \"BIRCH\",\n",
    "]\n",
    "datasets_to_take = [True, False, True, True, False, True]\n",
    "\n",
    "helpers.plot.clustering.sklearn_comparison(\n",
    "    algorithms_to_take=algorithms_to_take,\n",
    "    datasets_to_take=datasets_to_take\n",
    ")\n"
   ]
  },
  {
   "cell_type": "markdown",
   "metadata": {
    "id": "cgCsl1L_Dl9b"
   },
   "source": [
    "## RFM"
   ]
  },
  {
   "cell_type": "markdown",
   "metadata": {
    "id": "UM8MzUvH9olA"
   },
   "source": [
    "### Preprocessing"
   ]
  },
  {
   "cell_type": "code",
   "execution_count": null,
   "metadata": {
    "id": "DAxjzbzCEEFI"
   },
   "outputs": [],
   "source": [
    "rfm_cols = [\n",
    "    \"recency\",\n",
    "    \"frequency\",\n",
    "    \"amount\",\n",
    "]\n",
    "rfm_tr = Pipeline([\n",
    "    (\"scaler\", StandardScaler())\n",
    "    ])\n",
    "\n",
    "rfm_prep = ColumnTransformer([\n",
    "    (\"rfm_tr\", rfm_tr, rfm_cols),\n",
    "    ])"
   ]
  },
  {
   "cell_type": "code",
   "execution_count": null,
   "metadata": {
    "id": "Z71xLgXSPXl8"
   },
   "outputs": [],
   "source": [
    "X_rfm = rfm_prep.fit_transform(df_cleaned)"
   ]
  },
  {
   "cell_type": "code",
   "execution_count": null,
   "metadata": {
    "id": "ukXX4bcI7CTq"
   },
   "outputs": [],
   "source": [
    "N = 8000\n",
    "rng = default_rng(seed=42)\n",
    "numbers = rng.choice(df_cleaned.shape[0], size=N, replace=False)\n",
    "df_cleaned_sub = df_cleaned.loc[numbers].reset_index()\n",
    "X_rfm_sub = rfm_prep.fit_transform(df_cleaned_sub)"
   ]
  },
  {
   "cell_type": "markdown",
   "metadata": {
    "id": "7jKdaz5Jcohv"
   },
   "source": [
    "### Agglomerative Clustering"
   ]
  },
  {
   "cell_type": "markdown",
   "metadata": {
    "id": "geeBW21D4Gmx"
   },
   "source": [
    "#### Clustering"
   ]
  },
  {
   "cell_type": "code",
   "execution_count": null,
   "metadata": {
    "colab": {
     "base_uri": "https://localhost:8080/",
     "height": 543
    },
    "id": "sryvwWlB4Gm0",
    "outputId": "85ac7187-921c-4778-856a-c108e8f16c52"
   },
   "outputs": [],
   "source": [
    "model = AgglomerativeClustering()\n",
    "visualizer = KElbowVisualizer(model, k=(2,11), timings=False)\n",
    "\n",
    "visualizer.fit(X_rfm_sub)\n",
    "visualizer.poof()"
   ]
  },
  {
   "cell_type": "code",
   "execution_count": null,
   "metadata": {
    "colab": {
     "base_uri": "https://localhost:8080/",
     "height": 543
    },
    "id": "ufPV_g9N4Gm1",
    "outputId": "c3694b4f-4a50-4035-fe21-2c9fc7b48c6a"
   },
   "outputs": [],
   "source": [
    "model = AgglomerativeClustering()\n",
    "visualizer = KElbowVisualizer(model, k=(2,11), metric='calinski_harabasz', timings=False)\n",
    "\n",
    "visualizer.fit(X_rfm_sub)\n",
    "visualizer.poof()"
   ]
  },
  {
   "cell_type": "markdown",
   "metadata": {
    "id": "SD4bWz2I4Gm3"
   },
   "source": [
    "#### Cluster Analysis"
   ]
  },
  {
   "cell_type": "code",
   "execution_count": null,
   "metadata": {
    "colab": {
     "base_uri": "https://localhost:8080/",
     "height": 1000
    },
    "id": "KxgLDTt-Iy9u",
    "outputId": "892b7055-e33a-43ad-f90f-34baf14e324a"
   },
   "outputs": [],
   "source": [
    "N_C = 2\n",
    "model = AgglomerativeClustering(n_clusters=N_C)\n",
    "pipe = Pipeline([\n",
    "    (\"prep\", rfm_prep),\n",
    "    (\"clustering\", model)\n",
    "])\n",
    "helpers.plot.clustering.cluster_analysis(df_cleaned_sub, pipe, N_C, rfm_cols)"
   ]
  },
  {
   "cell_type": "code",
   "execution_count": null,
   "metadata": {
    "colab": {
     "base_uri": "https://localhost:8080/",
     "height": 1000
    },
    "id": "O5oBQ_kH4Gm4",
    "outputId": "57061837-4add-4fcc-e515-416bb6915935"
   },
   "outputs": [],
   "source": [
    "N_C = 5\n",
    "model = AgglomerativeClustering(n_clusters=N_C)\n",
    "helpers.plot.clustering.cluster_analysis(X_rfm_sub, model, N_C, rfm_cols)"
   ]
  },
  {
   "cell_type": "markdown",
   "metadata": {
    "id": "VJtvhptcKoO6"
   },
   "source": [
    "### KMeans"
   ]
  },
  {
   "cell_type": "markdown",
   "metadata": {
    "id": "rHg9G_m5J7R0"
   },
   "source": [
    "#### Clustering"
   ]
  },
  {
   "cell_type": "code",
   "execution_count": null,
   "metadata": {
    "colab": {
     "base_uri": "https://localhost:8080/",
     "height": 601
    },
    "id": "d31nFCbkJ9Uk",
    "outputId": "f80f123c-1fc1-4558-87eb-4f6ca1d9e44f"
   },
   "outputs": [],
   "source": [
    "n_cluster = range(2, 11, 1)\n",
    "inertia_value = []\n",
    "\n",
    "\n",
    "for i in n_cluster:\n",
    "    model = KMeans(n_clusters=i, n_init='auto')\n",
    "    model.fit(X_rfm)\n",
    "    inertia_value.append(model.inertia_)\n",
    "    \n",
    "fig = plt.figure(figsize=(8, 6))\n",
    "ax = fig.add_subplot(1,1,1)\n",
    "ax.plot(n_cluster, inertia_value, marker=\"o\")\n",
    "\n",
    "ax.set_xlabel(\"Number of Segments\")\n",
    "ax.set_ylabel(\"Inertia Value\")\n",
    "\n",
    "fig.tight_layout()"
   ]
  },
  {
   "cell_type": "code",
   "execution_count": null,
   "metadata": {
    "colab": {
     "base_uri": "https://localhost:8080/",
     "height": 543
    },
    "id": "HN4FzbUsWPW3",
    "outputId": "61707e2c-21f7-411c-d72c-b751256965c8"
   },
   "outputs": [],
   "source": [
    "model = KMeans(n_init='auto')\n",
    "visualizer = KElbowVisualizer(model, k=(2,11), timings=False)\n",
    "\n",
    "visualizer.fit(X_rfm)\n",
    "visualizer.poof()"
   ]
  },
  {
   "cell_type": "code",
   "execution_count": null,
   "metadata": {
    "colab": {
     "base_uri": "https://localhost:8080/",
     "height": 543
    },
    "id": "q7_5fsBtWjdV",
    "outputId": "d3de5c78-d548-4cd9-e43e-5b9b8db53cac"
   },
   "outputs": [],
   "source": [
    "model = KMeans(n_init='auto')\n",
    "visualizer = KElbowVisualizer(model, k=(2,11), metric='calinski_harabasz', timings=False)\n",
    "\n",
    "visualizer.fit(X_rfm)\n",
    "visualizer.poof()"
   ]
  },
  {
   "cell_type": "code",
   "execution_count": null,
   "metadata": {
    "colab": {
     "base_uri": "https://localhost:8080/",
     "height": 543
    },
    "id": "CRVp84SoWwpA",
    "outputId": "16f74fcb-6318-4442-8e3b-aeb0b92d5aa6"
   },
   "outputs": [],
   "source": [
    "model = KMeans(4, n_init='auto')\n",
    "visualizer = SilhouetteVisualizer(model)\n",
    "\n",
    "visualizer.fit(X_rfm)  \n",
    "visualizer.poof()    "
   ]
  },
  {
   "cell_type": "markdown",
   "metadata": {
    "id": "wRd15YvdKidm"
   },
   "source": [
    "#### Cluster Analysis"
   ]
  },
  {
   "cell_type": "code",
   "execution_count": null,
   "metadata": {
    "colab": {
     "base_uri": "https://localhost:8080/",
     "height": 1000
    },
    "id": "Py6B039rIcrM",
    "outputId": "d9423133-5656-481c-a4ee-4d6a1a0c7aa8"
   },
   "outputs": [],
   "source": [
    "N_C = 4\n",
    "model = KMeans(N_C, n_init='auto')\n",
    "helpers.plot.clustering.cluster_analysis(X_rfm_sub, model, N_C, rfm_cols)"
   ]
  },
  {
   "cell_type": "code",
   "execution_count": null,
   "metadata": {
    "colab": {
     "base_uri": "https://localhost:8080/",
     "height": 1000
    },
    "id": "vhPWZhSpaNtj",
    "outputId": "67c5e544-ca1b-4cf5-bafb-6cd1faf66674"
   },
   "outputs": [],
   "source": [
    "N_C = 3\n",
    "model = KMeans(N_C, n_init='auto')\n",
    "helpers.plot.clustering.cluster_analysis(X_rfm_sub, model, N_C, rfm_cols)"
   ]
  },
  {
   "cell_type": "markdown",
   "metadata": {
    "id": "-CNQ66IaLo1w"
   },
   "source": [
    "### Biscecting Kmeans"
   ]
  },
  {
   "cell_type": "markdown",
   "metadata": {
    "id": "T8l1x6wgL3MY"
   },
   "source": [
    "#### Clustering"
   ]
  },
  {
   "cell_type": "code",
   "execution_count": null,
   "metadata": {
    "colab": {
     "base_uri": "https://localhost:8080/",
     "height": 543
    },
    "id": "7omsT6SsL3Mb",
    "outputId": "f6cb753d-1620-4b82-c58c-581e1563aa8e"
   },
   "outputs": [],
   "source": [
    "model = BisectingKMeans()\n",
    "visualizer = KElbowVisualizer(model, k=(2,11), timings=False)\n",
    "\n",
    "visualizer.fit(X_rfm)\n",
    "visualizer.poof()"
   ]
  },
  {
   "cell_type": "code",
   "execution_count": null,
   "metadata": {
    "colab": {
     "base_uri": "https://localhost:8080/",
     "height": 543
    },
    "id": "auFFaQodL3Md",
    "outputId": "5f3f0422-b0b8-4959-86e1-63a3b4347e5e"
   },
   "outputs": [],
   "source": [
    "model = BisectingKMeans()\n",
    "visualizer = KElbowVisualizer(model, k=(2,11), metric='calinski_harabasz', timings=False)\n",
    "\n",
    "visualizer.fit(X_rfm)\n",
    "visualizer.poof()"
   ]
  },
  {
   "cell_type": "markdown",
   "metadata": {
    "id": "OFBo7OzOL3Mf"
   },
   "source": [
    "#### Cluster Analysis"
   ]
  },
  {
   "cell_type": "code",
   "execution_count": null,
   "metadata": {
    "colab": {
     "base_uri": "https://localhost:8080/",
     "height": 1000
    },
    "id": "8tREIQR2L3Mg",
    "outputId": "0d7344ad-c7e4-4960-bdab-36b039ae5891"
   },
   "outputs": [],
   "source": [
    "N_C = 3\n",
    "model = BisectingKMeans(N_C)\n",
    "pipe = Pipeline([\n",
    "    (\"prep\", rfm_prep),\n",
    "    (\"clustering\", model)\n",
    "])\n",
    "helpers.plot.clustering.cluster_analysis(df_cleaned, pipe, N_C, rfm_cols, frac=0.1)"
   ]
  },
  {
   "cell_type": "code",
   "execution_count": null,
   "metadata": {
    "colab": {
     "base_uri": "https://localhost:8080/",
     "height": 1000
    },
    "id": "o4bhc65jNQqP",
    "outputId": "8a36878c-b5c7-4f7a-bf27-e9371ff17801"
   },
   "outputs": [],
   "source": [
    "N_C = 4\n",
    "model = BisectingKMeans(N_C)\n",
    "pipe = Pipeline([\n",
    "    (\"prep\", rfm_prep),\n",
    "    (\"clustering\", model)\n",
    "])\n",
    "helpers.plot.clustering.cluster_analysis(df_cleaned, pipe, N_C, rfm_cols, frac=0.1)"
   ]
  },
  {
   "cell_type": "markdown",
   "metadata": {
    "id": "Kk57IRx_VZHo"
   },
   "source": [
    "### Birch"
   ]
  },
  {
   "cell_type": "markdown",
   "metadata": {
    "id": "5JpkyJoxVZHs"
   },
   "source": [
    "#### Clustering"
   ]
  },
  {
   "cell_type": "code",
   "execution_count": null,
   "metadata": {
    "colab": {
     "base_uri": "https://localhost:8080/",
     "height": 543
    },
    "id": "mx9wkJMTVZHu",
    "outputId": "e57e3f2d-d27d-4374-9060-51f5d60ecc6f"
   },
   "outputs": [],
   "source": [
    "model = Birch()\n",
    "visualizer = KElbowVisualizer(model, k=(2,11), timings=False)\n",
    "\n",
    "visualizer.fit(X_rfm)\n",
    "visualizer.poof()"
   ]
  },
  {
   "cell_type": "code",
   "execution_count": null,
   "metadata": {
    "colab": {
     "base_uri": "https://localhost:8080/",
     "height": 543
    },
    "id": "_zNhAbWQVZHw",
    "outputId": "10fe3349-025a-4fe0-8bb5-ee3a878fa10c"
   },
   "outputs": [],
   "source": [
    "model = Birch()\n",
    "visualizer = KElbowVisualizer(model, k=(2,11), metric='calinski_harabasz', timings=False)\n",
    "\n",
    "visualizer.fit(X_rfm)\n",
    "visualizer.poof()"
   ]
  },
  {
   "cell_type": "markdown",
   "metadata": {
    "id": "8fPV0U65VZHx"
   },
   "source": [
    "#### Cluster Analysis"
   ]
  },
  {
   "cell_type": "code",
   "execution_count": null,
   "metadata": {
    "colab": {
     "base_uri": "https://localhost:8080/",
     "height": 1000
    },
    "id": "JuPY_S-gVZHy",
    "outputId": "a7489df2-b150-4e1f-e2d8-7a2a62ad624e"
   },
   "outputs": [],
   "source": [
    "N_C = 3\n",
    "model = Birch(n_clusters=N_C)\n",
    "pipe = Pipeline([\n",
    "    (\"prep\", rfm_prep),\n",
    "    (\"clustering\", model)\n",
    "])\n",
    "helpers.plot.clustering.cluster_analysis(df_cleaned, pipe, N_C, rfm_cols, frac=0.1)"
   ]
  },
  {
   "cell_type": "code",
   "execution_count": null,
   "metadata": {
    "colab": {
     "base_uri": "https://localhost:8080/",
     "height": 1000
    },
    "id": "4WL_fNxZVZHz",
    "outputId": "f8a2c30b-d1c2-4286-a694-4d4fb5c501b8"
   },
   "outputs": [],
   "source": [
    "N_C = 4\n",
    "model = Birch(n_clusters=N_C)\n",
    "pipe = Pipeline([\n",
    "    (\"prep\", rfm_prep),\n",
    "    (\"clustering\", model)\n",
    "])\n",
    "helpers.plot.clustering.cluster_analysis(df_cleaned, pipe, N_C, rfm_cols, frac=0.1)"
   ]
  },
  {
   "cell_type": "markdown",
   "metadata": {
    "id": "aDIU8-03ZT3F"
   },
   "source": [
    "### DBSCAN"
   ]
  },
  {
   "cell_type": "markdown",
   "metadata": {
    "id": "gpx_wKuYZT3H"
   },
   "source": [
    "#### Clustering"
   ]
  },
  {
   "cell_type": "code",
   "execution_count": null,
   "metadata": {
    "colab": {
     "base_uri": "https://localhost:8080/",
     "height": 600
    },
    "id": "1mR8oGR_Kzf2",
    "outputId": "2f2dd726-b4ce-45cf-f7f3-76fd6cd99bb8"
   },
   "outputs": [],
   "source": [
    "# parameter tuning for eps\n",
    "from sklearn.neighbors import NearestNeighbors\n",
    "nearest_neighbors = NearestNeighbors(n_neighbors=11)\n",
    "neighbors = nearest_neighbors.fit(X_rfm_sub)\n",
    "distances, indices = neighbors.kneighbors(X_rfm_sub)\n",
    "distances = np.sort(distances[:,10], axis=0)\n",
    "\n",
    "from kneed import KneeLocator\n",
    "i = np.arange(len(distances))\n",
    "knee = KneeLocator(i, distances, S=1, curve='convex', direction='increasing', interp_method='polynomial')\n",
    "fig = plt.figure(figsize=(5, 5))\n",
    "knee.plot_knee()\n",
    "plt.xlabel(\"Points\")\n",
    "plt.ylabel(\"Distance\")\n",
    "print(distances[knee.knee])"
   ]
  },
  {
   "cell_type": "code",
   "execution_count": null,
   "metadata": {
    "colab": {
     "base_uri": "https://localhost:8080/",
     "height": 600
    },
    "id": "8iZ_pkXRLWJ8",
    "outputId": "46859b78-0ade-4fdf-a4b5-2f69fb70d1bf"
   },
   "outputs": [],
   "source": [
    "# parameter tuning for eps\n",
    "from sklearn.neighbors import NearestNeighbors\n",
    "nearest_neighbors = NearestNeighbors(n_neighbors=11)\n",
    "neighbors = nearest_neighbors.fit(X_rfm)\n",
    "distances, indices = neighbors.kneighbors(X_rfm)\n",
    "distances = np.sort(distances[:,10], axis=0)\n",
    "\n",
    "from kneed import KneeLocator\n",
    "i = np.arange(len(distances))\n",
    "knee = KneeLocator(i, distances, S=1, curve='convex', direction='increasing', interp_method='polynomial')\n",
    "fig = plt.figure(figsize=(5, 5))\n",
    "knee.plot_knee()\n",
    "plt.xlabel(\"Points\")\n",
    "plt.ylabel(\"Distance\")\n",
    "print(distances[knee.knee])"
   ]
  },
  {
   "cell_type": "code",
   "execution_count": null,
   "metadata": {
    "id": "b3B5lxYSZT3Q"
   },
   "outputs": [],
   "source": [
    "min_samples = 20\n",
    "model = DBSCAN(eps=0.05, min_samples=min_samples)\n",
    "y = model.fit_predict(X_rfm)"
   ]
  },
  {
   "cell_type": "code",
   "execution_count": null,
   "metadata": {
    "colab": {
     "base_uri": "https://localhost:8080/",
     "height": 206
    },
    "id": "kf2s06y3ZT3X",
    "outputId": "90e19906-a72e-4f66-d5a1-cd6e2dee3ace"
   },
   "outputs": [],
   "source": [
    "N = 1000\n",
    "rng = default_rng(seed=42)\n",
    "numbers = rng.choice(X_rfm.shape[0], size=N, replace=False)\n",
    "\n",
    "df_seg = pd.DataFrame(X_rfm[numbers], columns=rfm_cols)\n",
    "df_seg[\"cluster\"] = y[numbers]\n",
    "df_seg.head()"
   ]
  },
  {
   "cell_type": "code",
   "execution_count": null,
   "metadata": {
    "colab": {
     "base_uri": "https://localhost:8080/"
    },
    "id": "5bjixbEtZT3Z",
    "outputId": "08d7d1ff-1edd-4ad9-921f-7af5d919f805"
   },
   "outputs": [],
   "source": [
    "df_seg[\"cluster\"].value_counts()"
   ]
  },
  {
   "cell_type": "code",
   "execution_count": null,
   "metadata": {
    "id": "r-pN5Tu2fMBR"
   },
   "outputs": [],
   "source": [
    "df_seg.loc[df_seg[\"cluster\"]>0,\"cluster\"] = 1"
   ]
  },
  {
   "cell_type": "markdown",
   "metadata": {
    "id": "W2RvWaJAZT3Q"
   },
   "source": [
    "#### Cluster Analysis"
   ]
  },
  {
   "cell_type": "code",
   "execution_count": null,
   "metadata": {
    "colab": {
     "base_uri": "https://localhost:8080/",
     "height": 774
    },
    "id": "UYoo0cUvZT3a",
    "outputId": "5f8010dc-0497-4bcc-da08-6ebddb181321"
   },
   "outputs": [],
   "source": [
    "sns.pairplot(df_seg, hue=\"cluster\")"
   ]
  },
  {
   "cell_type": "markdown",
   "metadata": {
    "id": "_GklLZNH-hqh"
   },
   "source": [
    "## Review"
   ]
  },
  {
   "cell_type": "markdown",
   "metadata": {
    "id": "qXxyuf0Kqvyq"
   },
   "source": [
    "### Preprocessing"
   ]
  },
  {
   "cell_type": "code",
   "execution_count": null,
   "metadata": {
    "id": "t4E1FBtc9oEI"
   },
   "outputs": [],
   "source": [
    "rev_cols = [\n",
    "    \"recency\",\n",
    "    \"frequency\",\n",
    "    \"amount\",\n",
    "    \"least_satisfaction\",\n",
    "    ]"
   ]
  },
  {
   "cell_type": "code",
   "execution_count": null,
   "metadata": {
    "id": "lSAOAf-V-1v0"
   },
   "outputs": [],
   "source": [
    "num_tr = Pipeline([\n",
    "    (\"scaler\", StandardScaler())\n",
    "    ])\n",
    "rev_prep = ColumnTransformer([\n",
    "    (\"num\", num_tr, rev_cols),\n",
    "    ])"
   ]
  },
  {
   "cell_type": "code",
   "execution_count": null,
   "metadata": {
    "id": "bHD7JP9wY0xt"
   },
   "outputs": [],
   "source": [
    "X_rev = rev_prep.fit_transform(df_cleaned)"
   ]
  },
  {
   "cell_type": "markdown",
   "metadata": {
    "id": "ExsIRlbNJOyF"
   },
   "source": [
    "### KMeans"
   ]
  },
  {
   "cell_type": "markdown",
   "metadata": {
    "id": "nzOvhsy2JOyG"
   },
   "source": [
    "#### Clustering"
   ]
  },
  {
   "cell_type": "code",
   "execution_count": null,
   "metadata": {
    "colab": {
     "base_uri": "https://localhost:8080/",
     "height": 543
    },
    "id": "CagiKjkoJOyI",
    "outputId": "25c1443d-c83f-411b-93a0-adaf40bac46d"
   },
   "outputs": [],
   "source": [
    "model = KMeans(n_init=3)\n",
    "visualizer = KElbowVisualizer(model, k=(2,11), timings=False)\n",
    "\n",
    "visualizer.fit(X_rev)\n",
    "visualizer.poof()"
   ]
  },
  {
   "cell_type": "code",
   "execution_count": null,
   "metadata": {
    "colab": {
     "base_uri": "https://localhost:8080/",
     "height": 543
    },
    "id": "PtGqRMXZJOyJ",
    "outputId": "fd57872f-980a-41ce-ee64-2b9edd836a13"
   },
   "outputs": [],
   "source": [
    "model = KMeans(n_init=3)\n",
    "visualizer = KElbowVisualizer(model, k=(2,11), metric='calinski_harabasz', timings=False)\n",
    "\n",
    "visualizer.fit(X_rev)\n",
    "visualizer.poof()"
   ]
  },
  {
   "cell_type": "markdown",
   "metadata": {
    "id": "yPBjwaS6JOyM"
   },
   "source": [
    "#### Cluster Analysis"
   ]
  },
  {
   "cell_type": "code",
   "execution_count": null,
   "metadata": {
    "colab": {
     "base_uri": "https://localhost:8080/",
     "height": 1000
    },
    "id": "z_1yNW-uWOWa",
    "outputId": "78390f58-af24-4952-a789-d5136f3324b3"
   },
   "outputs": [],
   "source": [
    "N_C = 5\n",
    "model = KMeans(n_clusters=N_C, n_init=3)\n",
    "pipe = Pipeline([\n",
    "    (\"prep\", rev_prep),\n",
    "    (\"clustering\", model)\n",
    "])\n",
    "helpers.plot.clustering.cluster_analysis(df_cleaned, pipe, N_C, rev_cols, frac=0.1)"
   ]
  },
  {
   "cell_type": "code",
   "execution_count": null,
   "metadata": {
    "colab": {
     "base_uri": "https://localhost:8080/",
     "height": 1000
    },
    "id": "rCg6LB80ZpyL",
    "outputId": "a2405156-4787-43fe-e29a-1f0e7c773214"
   },
   "outputs": [],
   "source": [
    "N_C = 4\n",
    "model = KMeans(n_clusters=N_C, n_init=3)\n",
    "pipe = Pipeline([\n",
    "    (\"prep\", rev_prep),\n",
    "    (\"clustering\", model)\n",
    "])\n",
    "helpers.plot.clustering.cluster_analysis(df_cleaned, pipe, N_C, rev_cols, frac=0.1)"
   ]
  },
  {
   "cell_type": "code",
   "execution_count": null,
   "metadata": {
    "colab": {
     "base_uri": "https://localhost:8080/",
     "height": 1000
    },
    "id": "FCSwQ4Y6ZtGq",
    "outputId": "ecaaa4aa-e22f-46ef-e515-312df55060b4"
   },
   "outputs": [],
   "source": [
    "N_C = 3\n",
    "model = KMeans(n_clusters=N_C, n_init=3)\n",
    "pipe = Pipeline([\n",
    "    (\"prep\", rev_prep),\n",
    "    (\"clustering\", model)\n",
    "])\n",
    "helpers.plot.clustering.cluster_analysis(df_cleaned, pipe, N_C, rev_cols, frac=0.1)"
   ]
  },
  {
   "cell_type": "markdown",
   "metadata": {
    "id": "d8o5p_88pC4c"
   },
   "source": [
    "### Bisecting KMeans"
   ]
  },
  {
   "cell_type": "markdown",
   "metadata": {
    "id": "joyvBtedpC4e"
   },
   "source": [
    "#### Clustering"
   ]
  },
  {
   "cell_type": "code",
   "execution_count": null,
   "metadata": {
    "colab": {
     "base_uri": "https://localhost:8080/",
     "height": 543
    },
    "id": "DaslyLGcpC4f",
    "outputId": "26ed7c0e-c022-4db4-ecbb-fed2c2f1d420"
   },
   "outputs": [],
   "source": [
    "model = BisectingKMeans(n_init=3)\n",
    "visualizer = KElbowVisualizer(model, k=(2,11), timings=False)\n",
    "\n",
    "visualizer.fit(X_rev)\n",
    "visualizer.poof()"
   ]
  },
  {
   "cell_type": "code",
   "execution_count": null,
   "metadata": {
    "colab": {
     "base_uri": "https://localhost:8080/",
     "height": 543
    },
    "id": "qlV1Rk98pC4h",
    "outputId": "03e05741-250e-4b25-c970-7ec516d4bc30"
   },
   "outputs": [],
   "source": [
    "model = BisectingKMeans(n_init=3)\n",
    "visualizer = KElbowVisualizer(model, k=(2,11), metric='calinski_harabasz', timings=False)\n",
    "\n",
    "visualizer.fit(X_rev)\n",
    "visualizer.poof()"
   ]
  },
  {
   "cell_type": "markdown",
   "metadata": {
    "id": "bXh85EwApC4i"
   },
   "source": [
    "#### Cluster Analysis"
   ]
  },
  {
   "cell_type": "code",
   "execution_count": null,
   "metadata": {
    "colab": {
     "base_uri": "https://localhost:8080/",
     "height": 1000
    },
    "id": "FPlk2H4cpC4i",
    "outputId": "a81b3e56-9ea6-4bc5-d7f1-cd33aa5ea8f9"
   },
   "outputs": [],
   "source": [
    "N_C = 5\n",
    "model = BisectingKMeans(n_clusters=N_C, n_init=3)\n",
    "pipe = Pipeline([\n",
    "    (\"prep\", rev_prep),\n",
    "    (\"clustering\", model)\n",
    "])\n",
    "helpers.plot.clustering.cluster_analysis(df_cleaned, pipe, N_C, rev_cols, frac=0.1)"
   ]
  },
  {
   "cell_type": "code",
   "execution_count": null,
   "metadata": {
    "colab": {
     "base_uri": "https://localhost:8080/",
     "height": 1000
    },
    "id": "UJnfqubSpC4k",
    "outputId": "6a9ddf3c-b52e-4e3a-dd24-2799e3260708"
   },
   "outputs": [],
   "source": [
    "N_C = 4\n",
    "model = BisectingKMeans(n_clusters=N_C, n_init=3)\n",
    "pipe = Pipeline([\n",
    "    (\"prep\", rev_prep),\n",
    "    (\"clustering\", model)\n",
    "])\n",
    "helpers.plot.clustering.cluster_analysis(df_cleaned, pipe, N_C, rev_cols, frac=0.1)"
   ]
  },
  {
   "cell_type": "code",
   "execution_count": null,
   "metadata": {
    "colab": {
     "base_uri": "https://localhost:8080/",
     "height": 1000
    },
    "id": "I84xrHZrpC4l",
    "outputId": "8f5efb0b-bda4-410a-efaa-3a0d72a437fb"
   },
   "outputs": [],
   "source": [
    "N_C = 3\n",
    "model = BisectingKMeans(n_clusters=N_C, n_init=3)\n",
    "pipe = Pipeline([\n",
    "    (\"prep\", rev_prep),\n",
    "    (\"clustering\", model)\n",
    "])\n",
    "helpers.plot.clustering.cluster_analysis(df_cleaned, pipe, N_C, rev_cols, frac=0.1)"
   ]
  },
  {
   "cell_type": "markdown",
   "metadata": {
    "id": "UePJfDy2NuIu"
   },
   "source": [
    "## Review + delay"
   ]
  },
  {
   "cell_type": "markdown",
   "metadata": {
    "id": "fVGhbGU5NuIv"
   },
   "source": [
    "### Preprocessing"
   ]
  },
  {
   "cell_type": "code",
   "execution_count": null,
   "metadata": {
    "id": "dRQFPtWKNuIx"
   },
   "outputs": [],
   "source": [
    "rd_cols = [\n",
    "    \"recency\",\n",
    "    \"amount\",\n",
    "    \"least_satisfaction\",\n",
    "    \"delay\"\n",
    "    ]"
   ]
  },
  {
   "cell_type": "code",
   "execution_count": null,
   "metadata": {
    "id": "cBqgLxy5NuIx"
   },
   "outputs": [],
   "source": [
    "num_tr = Pipeline([\n",
    "    (\"scaler\", StandardScaler())\n",
    "    ])\n",
    "rd_prep = ColumnTransformer([\n",
    "    (\"num\", num_tr, rd_cols),\n",
    "    ])"
   ]
  },
  {
   "cell_type": "code",
   "execution_count": null,
   "metadata": {
    "id": "vDRfN-NrNuIy"
   },
   "outputs": [],
   "source": [
    "X_rd = rd_prep.fit_transform(df_cleaned)"
   ]
  },
  {
   "cell_type": "markdown",
   "metadata": {
    "id": "m-x5L4tPNuIy"
   },
   "source": [
    "### KMeans"
   ]
  },
  {
   "cell_type": "markdown",
   "metadata": {
    "id": "2lR57C2RNuIz"
   },
   "source": [
    "#### Clustering"
   ]
  },
  {
   "cell_type": "code",
   "execution_count": null,
   "metadata": {
    "colab": {
     "base_uri": "https://localhost:8080/",
     "height": 543
    },
    "id": "xTW98gWuNuI1",
    "outputId": "e538b1b8-c68f-47b0-a549-d631f14ce659"
   },
   "outputs": [],
   "source": [
    "model = KMeans(n_init=3)\n",
    "visualizer = KElbowVisualizer(model, k=(2,11), timings=False)\n",
    "\n",
    "visualizer.fit(X_rd)\n",
    "visualizer.poof()"
   ]
  },
  {
   "cell_type": "code",
   "execution_count": null,
   "metadata": {
    "colab": {
     "base_uri": "https://localhost:8080/",
     "height": 543
    },
    "id": "A9Jmr8VvNuI1",
    "outputId": "a72aea36-82f1-4555-9616-7f20e40aa631"
   },
   "outputs": [],
   "source": [
    "model = KMeans(n_init=3)\n",
    "visualizer = KElbowVisualizer(model, k=(2,11), metric='calinski_harabasz', timings=False)\n",
    "\n",
    "visualizer.fit(X_rd)\n",
    "visualizer.poof()"
   ]
  },
  {
   "cell_type": "markdown",
   "metadata": {
    "id": "s8NyhEJcNuI1"
   },
   "source": [
    "#### Cluster Analysis"
   ]
  },
  {
   "cell_type": "code",
   "execution_count": null,
   "metadata": {
    "colab": {
     "base_uri": "https://localhost:8080/",
     "height": 1000
    },
    "id": "pVB2zMFONuI3",
    "outputId": "5a5d5ed6-3a1e-4750-9c05-1adee73343a6"
   },
   "outputs": [],
   "source": [
    "N_C = 4\n",
    "model = KMeans(n_clusters=N_C, n_init=3)\n",
    "pipe = Pipeline([\n",
    "    (\"prep\", rd_prep),\n",
    "    (\"clustering\", model)\n",
    "])\n",
    "helpers.plot.clustering.cluster_analysis(df_cleaned, pipe, N_C, rd_cols, frac=0.1)"
   ]
  },
  {
   "cell_type": "code",
   "execution_count": null,
   "metadata": {
    "colab": {
     "base_uri": "https://localhost:8080/",
     "height": 1000
    },
    "id": "wHcSLS_cNuI4",
    "outputId": "15b020b5-3152-4090-cbfe-f6bd12060307"
   },
   "outputs": [],
   "source": [
    "N_C = 3\n",
    "model = KMeans(n_clusters=N_C, n_init=3)\n",
    "pipe = Pipeline([\n",
    "    (\"prep\", rd_prep),\n",
    "    (\"clustering\", model)\n",
    "])\n",
    "helpers.plot.clustering.cluster_analysis(df_cleaned, pipe, N_C, rd_cols, frac=0.1)"
   ]
  },
  {
   "cell_type": "markdown",
   "metadata": {
    "id": "D9Pd5RccPMvj"
   },
   "source": [
    "## MSDQ"
   ]
  },
  {
   "cell_type": "markdown",
   "metadata": {
    "id": "fCUG1mySPMvl"
   },
   "source": [
    "### Preprocessing"
   ]
  },
  {
   "cell_type": "code",
   "execution_count": null,
   "metadata": {
    "id": "fcxcxEmAPMvn"
   },
   "outputs": [],
   "source": [
    "rdq_cols = [\n",
    "    \"amount\",\n",
    "    \"least_satisfaction\",\n",
    "    \"delay\",\n",
    "    \"quantity\"\n",
    "    ]"
   ]
  },
  {
   "cell_type": "code",
   "execution_count": null,
   "metadata": {
    "id": "dTlqMIrnPMvp"
   },
   "outputs": [],
   "source": [
    "num_tr = Pipeline([\n",
    "    (\"scaler\", StandardScaler())\n",
    "    ])\n",
    "rdq_prep = ColumnTransformer([\n",
    "    (\"num\", num_tr, rdq_cols),\n",
    "    ])"
   ]
  },
  {
   "cell_type": "code",
   "execution_count": null,
   "metadata": {
    "id": "QuWIa-JQPMvs"
   },
   "outputs": [],
   "source": [
    "X_rdq = rdq_prep.fit_transform(df_cleaned)"
   ]
  },
  {
   "cell_type": "markdown",
   "metadata": {
    "id": "S8DvVwroPMvt"
   },
   "source": [
    "### KMeans"
   ]
  },
  {
   "cell_type": "markdown",
   "metadata": {
    "id": "A-PHCPaiPMvu"
   },
   "source": [
    "#### Clustering"
   ]
  },
  {
   "cell_type": "code",
   "execution_count": null,
   "metadata": {
    "colab": {
     "base_uri": "https://localhost:8080/",
     "height": 543
    },
    "id": "IZcnUILqPMvw",
    "outputId": "fc83b143-34ea-42e8-a245-68e4d35aa8d2"
   },
   "outputs": [],
   "source": [
    "model = KMeans(n_init=3)\n",
    "visualizer = KElbowVisualizer(model, k=(2,11), timings=False)\n",
    "\n",
    "visualizer.fit(X_rdq)\n",
    "visualizer.poof()"
   ]
  },
  {
   "cell_type": "code",
   "execution_count": null,
   "metadata": {
    "colab": {
     "base_uri": "https://localhost:8080/",
     "height": 543
    },
    "id": "72OQ-2GQPMvx",
    "outputId": "ae50b15f-64d0-4cb8-a9b2-6fb390964e30"
   },
   "outputs": [],
   "source": [
    "model = KMeans(n_init=3)\n",
    "visualizer = KElbowVisualizer(model, k=(2,11), metric='calinski_harabasz', timings=False)\n",
    "\n",
    "visualizer.fit(X_rdq)\n",
    "visualizer.poof()"
   ]
  },
  {
   "cell_type": "markdown",
   "metadata": {
    "id": "6KTDBy4KPMvy"
   },
   "source": [
    "#### Cluster Analysis"
   ]
  },
  {
   "cell_type": "code",
   "execution_count": null,
   "metadata": {
    "colab": {
     "base_uri": "https://localhost:8080/",
     "height": 1000
    },
    "id": "q2JFUQtBPMvz",
    "outputId": "c721ad44-ff86-48fb-9a52-bd18ec3b6690"
   },
   "outputs": [],
   "source": [
    "N_C = 5\n",
    "model = KMeans(n_clusters=N_C, n_init=3)\n",
    "pipe = Pipeline([\n",
    "    (\"prep\", rdq_prep),\n",
    "    (\"clustering\", model)\n",
    "])\n",
    "helpers.plot.clustering.cluster_analysis(df_cleaned, pipe, N_C, rdq_cols, frac=0.1)"
   ]
  },
  {
   "cell_type": "code",
   "execution_count": null,
   "metadata": {
    "colab": {
     "base_uri": "https://localhost:8080/",
     "height": 1000
    },
    "id": "DA0h7CLdPMv2",
    "outputId": "c042fae4-3d60-4be7-836f-c59d89af7db4"
   },
   "outputs": [],
   "source": [
    "N_C = 4\n",
    "model = KMeans(n_clusters=N_C, n_init=3)\n",
    "pipe = Pipeline([\n",
    "    (\"prep\", rdq_prep),\n",
    "    (\"clustering\", model)\n",
    "])\n",
    "helpers.plot.clustering.cluster_analysis(df_cleaned, pipe, N_C, rdq_cols, frac=0.1)"
   ]
  },
  {
   "cell_type": "markdown",
   "metadata": {
    "id": "5tH2hEJ00Z_s"
   },
   "source": [
    "## RFM - Localisation"
   ]
  },
  {
   "cell_type": "markdown",
   "metadata": {
    "id": "iY7kwQ-t0Z_v"
   },
   "source": [
    "### Preprocessing"
   ]
  },
  {
   "cell_type": "code",
   "execution_count": null,
   "metadata": {
    "id": "CWMgkZRC0Z_w"
   },
   "outputs": [],
   "source": [
    "rfm_loc_cat_cols = [\n",
    "    \"localisation\"\n",
    "]\n",
    "\n",
    "rfm_loc_num_cols = [\n",
    "    \"recency\",\n",
    "    \"frequency\",\n",
    "    \"amount\",\n",
    "    ]\n",
    "\n",
    "rfm_loc_cols = rfm_loc_num_cols + rfm_loc_cat_cols"
   ]
  },
  {
   "cell_type": "code",
   "execution_count": null,
   "metadata": {
    "id": "cDH8REl70Z_x"
   },
   "outputs": [],
   "source": [
    "num_tr = Pipeline([\n",
    "    (\"scaler\", StandardScaler())\n",
    "    ])\n",
    "cat_tr = Pipeline([\n",
    "    (\"encoder\", OneHotEncoder())\n",
    "    ])\n",
    "rfm_loc_prep = ColumnTransformer([\n",
    "    (\"num\", num_tr, rfm_loc_num_cols),\n",
    "    (\"cat\", cat_tr, rfm_loc_cat_cols),\n",
    "    ])"
   ]
  },
  {
   "cell_type": "code",
   "execution_count": null,
   "metadata": {
    "id": "Sm-pYyBz0Z_z"
   },
   "outputs": [],
   "source": [
    "X_rfm_loc = rfm_loc_prep.fit_transform(df_cleaned)"
   ]
  },
  {
   "cell_type": "markdown",
   "metadata": {
    "id": "QNlawwDp0Z_0"
   },
   "source": [
    "### KMeans"
   ]
  },
  {
   "cell_type": "markdown",
   "metadata": {
    "id": "55GfOGfg0Z_0"
   },
   "source": [
    "#### Clustering"
   ]
  },
  {
   "cell_type": "code",
   "execution_count": null,
   "metadata": {
    "colab": {
     "base_uri": "https://localhost:8080/",
     "height": 543
    },
    "id": "OoVfTfGA0Z_1",
    "outputId": "e95c59c6-7a1e-4f3d-902c-d7ec37b818ab"
   },
   "outputs": [],
   "source": [
    "model = KMeans(n_init=3)\n",
    "visualizer = KElbowVisualizer(model, k=(2,11), timings=False)\n",
    "\n",
    "visualizer.fit(X_rfm_loc)\n",
    "visualizer.poof()"
   ]
  },
  {
   "cell_type": "code",
   "execution_count": null,
   "metadata": {
    "colab": {
     "base_uri": "https://localhost:8080/",
     "height": 543
    },
    "id": "hXVPnxc50Z_3",
    "outputId": "ccb37df4-5908-4631-fe6c-aba25a874e8b"
   },
   "outputs": [],
   "source": [
    "model = KMeans(n_init=3)\n",
    "visualizer = KElbowVisualizer(model, k=(2,11), metric='calinski_harabasz', timings=False)\n",
    "\n",
    "visualizer.fit(X_rfm_loc)\n",
    "visualizer.poof()"
   ]
  },
  {
   "cell_type": "markdown",
   "metadata": {
    "id": "dzLPxoGM0Z_3"
   },
   "source": [
    "#### Cluster Analysis"
   ]
  },
  {
   "cell_type": "code",
   "execution_count": null,
   "metadata": {
    "colab": {
     "base_uri": "https://localhost:8080/",
     "height": 1000
    },
    "id": "-mlZThd8680K",
    "outputId": "60afabf0-6b78-408e-d554-55f4d77cca0e"
   },
   "outputs": [],
   "source": [
    "N_C = 3\n",
    "model = KMeans(n_clusters=N_C, n_init=3)\n",
    "pipe = Pipeline([\n",
    "    (\"prep\", rfm_loc_prep),\n",
    "    (\"clustering\", model)\n",
    "])\n",
    "np.random.seed(0)\n",
    "helpers.plot.clustering.cluster_analysis(df_cleaned, pipe, N_C, rfm_loc_num_cols, frac=0.1, cat_plot=True, cat_col=\"localisation\")"
   ]
  },
  {
   "cell_type": "code",
   "execution_count": null,
   "metadata": {
    "colab": {
     "base_uri": "https://localhost:8080/",
     "height": 1000
    },
    "id": "bOinWKs20Z_4",
    "outputId": "1d11386e-74cb-4e17-f19d-075606d69d78"
   },
   "outputs": [],
   "source": [
    "N_C = 5\n",
    "model = KMeans(n_clusters=N_C, n_init=3)\n",
    "pipe = Pipeline([\n",
    "    (\"prep\", rfm_loc_prep),\n",
    "    (\"clustering\", model)\n",
    "])\n",
    "np.random.seed(0)\n",
    "helpers.plot.clustering.cluster_analysis(df_cleaned, pipe, N_C, rfm_loc_num_cols, frac=0.1, cat_plot=True, cat_col=\"localisation\")"
   ]
  },
  {
   "cell_type": "code",
   "execution_count": null,
   "metadata": {
    "colab": {
     "base_uri": "https://localhost:8080/",
     "height": 1000
    },
    "id": "Iz7kdX6B0Z_4",
    "outputId": "8a85c951-1a3a-40ce-863e-fdd9c6ee7412"
   },
   "outputs": [],
   "source": [
    "N_C = 4\n",
    "model = KMeans(n_clusters=N_C, n_init=3)\n",
    "pipe = Pipeline([\n",
    "    (\"prep\", rfm_loc_prep),\n",
    "    (\"clustering\", model)\n",
    "])\n",
    "helpers.plot.clustering.cluster_analysis(df_cleaned, pipe, N_C, rfm_loc_num_cols, frac=0.1, cat_plot=True, cat_col=\"localisation\")"
   ]
  },
  {
   "cell_type": "markdown",
   "metadata": {
    "id": "QZkx8jfbXpvt"
   },
   "source": [
    "## MSDQ - Localisation"
   ]
  },
  {
   "cell_type": "markdown",
   "metadata": {
    "id": "--c9vshYXpvw"
   },
   "source": [
    "### Preprocessing"
   ]
  },
  {
   "cell_type": "code",
   "execution_count": null,
   "metadata": {
    "id": "0fwLguFMXpvy"
   },
   "outputs": [],
   "source": [
    "msdq_loc_cat_cols = [\n",
    "    \"localisation\"\n",
    "]\n",
    "\n",
    "msdq_loc_num_cols = [\n",
    "    \"amount\",\n",
    "    \"least_satisfaction\",\n",
    "    \"delay\",\n",
    "    \"quantity\"\n",
    "    ]\n",
    "\n",
    "msdq_loc_cols = msdq_loc_num_cols + msdq_loc_cat_cols"
   ]
  },
  {
   "cell_type": "code",
   "execution_count": null,
   "metadata": {
    "id": "_-ceE_4dXpv0"
   },
   "outputs": [],
   "source": [
    "num_tr = Pipeline([\n",
    "    (\"scaler\", StandardScaler())\n",
    "    ])\n",
    "cat_tr = Pipeline([\n",
    "    (\"encoder\", OneHotEncoder())\n",
    "    ])\n",
    "msdq_loc_prep = ColumnTransformer([\n",
    "    (\"num\", num_tr, msdq_loc_num_cols),\n",
    "    (\"cat\", cat_tr, msdq_loc_cat_cols),\n",
    "    ])"
   ]
  },
  {
   "cell_type": "code",
   "execution_count": null,
   "metadata": {
    "id": "l0NGGxb0Xpv2"
   },
   "outputs": [],
   "source": [
    "X_msdq_loc = msdq_loc_prep.fit_transform(df_cleaned)"
   ]
  },
  {
   "cell_type": "markdown",
   "metadata": {
    "id": "eg67GoPuXpv3"
   },
   "source": [
    "### KMeans"
   ]
  },
  {
   "cell_type": "markdown",
   "metadata": {
    "id": "y8nz9pmJXpv4"
   },
   "source": [
    "#### Clustering"
   ]
  },
  {
   "cell_type": "code",
   "execution_count": null,
   "metadata": {
    "colab": {
     "base_uri": "https://localhost:8080/",
     "height": 543
    },
    "id": "8QUVCPbeXpv6",
    "outputId": "8b89eb6a-098f-4d8a-9599-95160a06eeb5"
   },
   "outputs": [],
   "source": [
    "model = KMeans(n_init=3)\n",
    "visualizer = KElbowVisualizer(model, k=(2,11), timings=False)\n",
    "\n",
    "visualizer.fit(X_msdq_loc)\n",
    "visualizer.poof()"
   ]
  },
  {
   "cell_type": "code",
   "execution_count": null,
   "metadata": {
    "colab": {
     "base_uri": "https://localhost:8080/",
     "height": 543
    },
    "id": "zCYtwolqXpv7",
    "outputId": "95098515-7457-45c3-a708-7130ab9edf33"
   },
   "outputs": [],
   "source": [
    "model = KMeans(n_init=3)\n",
    "visualizer = KElbowVisualizer(model, k=(2,11), metric='calinski_harabasz', timings=False)\n",
    "\n",
    "visualizer.fit(X_msdq_loc)\n",
    "visualizer.poof()"
   ]
  },
  {
   "cell_type": "markdown",
   "metadata": {
    "id": "PJ6cFxRrXpv7"
   },
   "source": [
    "#### Cluster Analysis"
   ]
  },
  {
   "cell_type": "code",
   "execution_count": null,
   "metadata": {
    "colab": {
     "base_uri": "https://localhost:8080/",
     "height": 1000
    },
    "id": "qOFSImagXpv8",
    "outputId": "d1791083-3032-417d-a135-348bceb2c495"
   },
   "outputs": [],
   "source": [
    "N_C = 5\n",
    "model = KMeans(n_clusters=N_C, n_init=3)\n",
    "pipe = Pipeline([\n",
    "    (\"prep\", msdq_loc_prep),\n",
    "    (\"clustering\", model)\n",
    "])\n",
    "helpers.plot.clustering.cluster_analysis(df_cleaned, pipe, N_C, msdq_loc_num_cols, frac=0.1, cat_plot=True, cat_col=\"localisation\")"
   ]
  },
  {
   "cell_type": "code",
   "execution_count": null,
   "metadata": {
    "colab": {
     "base_uri": "https://localhost:8080/",
     "height": 1000
    },
    "id": "2k-gXAL_Xpv-",
    "outputId": "c260afa7-f93d-462e-929e-733f2dc4da89"
   },
   "outputs": [],
   "source": [
    "N_C = 4\n",
    "model = KMeans(n_clusters=N_C, n_init=3)\n",
    "pipe = Pipeline([\n",
    "    (\"prep\", msdq_loc_prep),\n",
    "    (\"clustering\", model)\n",
    "])\n",
    "helpers.plot.clustering.cluster_analysis(df_cleaned, pipe, N_C, msdq_loc_num_cols, frac=0.1, cat_plot=True, cat_col=\"localisation\")"
   ]
  },
  {
   "cell_type": "code",
   "execution_count": null,
   "metadata": {
    "colab": {
     "base_uri": "https://localhost:8080/",
     "height": 1000
    },
    "id": "scsg8RabXpv-",
    "outputId": "d9d1579e-4a0f-4ba7-f18c-391d76db0214"
   },
   "outputs": [],
   "source": [
    "N_C = 3\n",
    "model = KMeans(n_clusters=N_C, n_init=3)\n",
    "pipe = Pipeline([\n",
    "    (\"prep\", msdq_loc_prep),\n",
    "    (\"clustering\", model)\n",
    "])\n",
    "helpers.plot.clustering.cluster_analysis(df_cleaned, pipe, N_C, msdq_loc_num_cols, frac=0.1, cat_plot=True, cat_col=\"localisation\")"
   ]
  },
  {
   "cell_type": "code",
   "execution_count": null,
   "metadata": {
    "colab": {
     "base_uri": "https://localhost:8080/",
     "height": 1000
    },
    "id": "73PXEkgltLGz",
    "outputId": "f85daf8b-06c1-4108-ea6f-922c3e4b0ecd"
   },
   "outputs": [],
   "source": [
    "N_C = 6\n",
    "model = KMeans(n_clusters=N_C, n_init=3)\n",
    "pipe = Pipeline([\n",
    "    (\"prep\", msdq_loc_prep),\n",
    "    (\"clustering\", model)\n",
    "])\n",
    "helpers.plot.clustering.cluster_analysis(df_cleaned, pipe, N_C, msdq_loc_num_cols, frac=0.1, cat_plot=True, cat_col=\"localisation\")"
   ]
  },
  {
   "cell_type": "code",
   "execution_count": null,
   "metadata": {
    "id": "X0AB3HVf90Qd"
   },
   "outputs": [],
   "source": []
  }
 ],
 "metadata": {
  "colab": {
   "provenance": []
  },
  "kernelspec": {
   "display_name": "",
   "language": "python",
   "name": ""
  },
  "language_info": {
   "name": "python",
   "version": "3.9.16"
  },
  "vscode": {
   "interpreter": {
    "hash": "6c51aac0a9ecebcf03b976029dbdff52d1d1f323cacbea0b0a17e76dd62efed1"
   }
  }
 },
 "nbformat": 4,
 "nbformat_minor": 0
}
